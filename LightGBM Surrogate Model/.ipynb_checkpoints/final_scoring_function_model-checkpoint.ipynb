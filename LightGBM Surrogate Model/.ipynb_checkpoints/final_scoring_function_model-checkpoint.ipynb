{
 "cells": [
  {
   "cell_type": "code",
   "execution_count": 1,
   "metadata": {},
   "outputs": [],
   "source": [
    "from IPython.core.interactiveshell import InteractiveShell\n",
    "InteractiveShell.ast_node_interactivity = \"all\""
   ]
  },
  {
   "cell_type": "code",
   "execution_count": 2,
   "metadata": {},
   "outputs": [
    {
     "name": "stderr",
     "output_type": "stream",
     "text": [
      "/Users/divyanori/miniconda3/envs/my-rdkit-env/lib/python3.9/site-packages/tqdm/auto.py:22: TqdmWarning: IProgress not found. Please update jupyter and ipywidgets. See https://ipywidgets.readthedocs.io/en/stable/user_install.html\n",
      "  from .autonotebook import tqdm as notebook_tqdm\n"
     ]
    },
    {
     "data": {
      "text/plain": [
       "'3.2.1'"
      ]
     },
     "execution_count": 2,
     "metadata": {},
     "output_type": "execute_result"
    }
   ],
   "source": [
    "from IPython.display import display_html\n",
    "\n",
    "from rdkit import Chem\n",
    "from rdkit.Chem import AllChem, DataStructs\n",
    "import re\n",
    "\n",
    "from datetime import date\n",
    "import gzip\n",
    "import numpy as np\n",
    "import pandas as pd\n",
    "pd.set_option(\"display.max_columns\",100, \"display.width\",2000, \"display.max_colwidth\",100)\n",
    "import pickle\n",
    "from scipy.sparse import csr_matrix, vstack\n",
    "from sklearn.metrics import classification_report, confusion_matrix, f1_score, roc_auc_score\n",
    "from sklearn.utils import class_weight\n",
    "from termcolor import colored\n",
    "from sklearn.model_selection import train_test_split\n",
    "\n",
    "import optuna\n",
    "optuna.logging.set_verbosity(optuna.logging.WARN) #INFO, WARN\n",
    "import lightgbm as lgb; lgb.__version__\n",
    "\n",
    "import pickle"
   ]
  },
  {
   "cell_type": "markdown",
   "metadata": {},
   "source": [
    "Parameters"
   ]
  },
  {
   "cell_type": "code",
   "execution_count": 3,
   "metadata": {},
   "outputs": [
    {
     "name": "stdout",
     "output_type": "stream",
     "text": [
      "Parameters\n",
      "NTRIALS: 100\n",
      " NBOOST: 50\n",
      " NCLASS: 3\n"
     ]
    }
   ],
   "source": [
    "prm = dict(\n",
    "  #number of Optuna trials\n",
    "  NTRIALS = 100,\n",
    "  \n",
    "  #number of boosted trees to be created\n",
    "  NBOOST = 50,\n",
    "\n",
    "  #number of classes in response variable\n",
    "  NCLASS = 3\n",
    ")\n",
    "\n",
    "offs = max(map(len,prm.keys()))\n",
    "print(\"Parameters\")\n",
    "for k,v in prm.items():\n",
    "  print(f\"{k:>{offs}}: {v}\")\n",
    "\n",
    "del k, v, offs"
   ]
  },
  {
   "cell_type": "markdown",
   "metadata": {},
   "source": [
    "Reading Data"
   ]
  },
  {
   "cell_type": "code",
   "execution_count": 4,
   "metadata": {},
   "outputs": [
    {
     "name": "stdout",
     "output_type": "stream",
     "text": [
      "input_df: 3,939 x 84 (input df) \n",
      "\n",
      "Counts of distinct values in columns\n",
      "col:Target  (#unique:289)\n",
      "         0     1     2    3     4    5    6        7     8     9       10    11    12     13     14    15          16                17   18    19\n",
      "Target   ER  BRD4  CDK4   AR  CDK6  BTK  ALK  BCR-ABL  BRD3  BRD2  BCL-xL  MEK1  CDK2  PARP1  HDAC6  BRD9  BRAF V600E  EGFR L858R/T790M  FAK  CDK9\n",
      "size    182   164   143  141   139  106   97       96    77    77      77    76    70     63     60    53          53                52   52    52 \n",
      "\n",
      "col:E3ligase  (#unique:12)\n",
      "            0     1      2     3     4    5    6       7       8       9       10    11\n",
      "E3ligase  CRBN   VHL  cIAP1  XIAP  MDM2  AhR  IAP  DCAF15  DCAF16  RNF114  DCAF11  RNF4\n",
      "size      2571  1152    122    34    30    9    5       4       4       4       3     1 \n",
      "\n"
     ]
    }
   ],
   "source": [
    "input_df = pd.read_csv(\"protac.csv\").reset_index(drop=True)\n",
    "input_df = input_df.rename(columns={\"E3 ligase\":\"E3ligase\"})\n",
    "print(\"input_df: {:,} x {:,}\".format(*input_df.shape), \"(input df) \\n\")\n",
    "\n",
    "print(\"Counts of distinct values in columns\")\n",
    "for x in [\"Target\",\"E3ligase\"]:\n",
    "  tmp = input_df.groupby(x, as_index=False).size().sort_values(\"size\", ascending=False, ignore_index=True)\n",
    "  print(f\"col:{x}  (#unique:{tmp.shape[0]:,})\")\n",
    "  print(tmp.head(20).T, \"\\n\")\n",
    "\n",
    "del tmp"
   ]
  },
  {
   "cell_type": "markdown",
   "metadata": {},
   "source": [
    "Creating E3 Ligase Classes"
   ]
  },
  {
   "cell_type": "code",
   "execution_count": 5,
   "metadata": {},
   "outputs": [
    {
     "name": "stdout",
     "output_type": "stream",
     "text": [
      "col:E3ligase  (#unique:7)\n",
      "             0     1    2     3     4    5    6\n",
      "E3ligase  CRBN   VHL  IAP  MDM2  DCAF  AhR  RNF\n",
      "size      2571  1152  161    30    11    9    5 \n",
      "\n"
     ]
    }
   ],
   "source": [
    "for i in range(len(input_df[\"E3ligase\"])):\n",
    "    if 'IAP' in str(input_df.loc[i].at[\"E3ligase\"]):\n",
    "        input_df.at[i,'E3ligase']='IAP'\n",
    "    elif 'DCAF' in str(input_df.loc[i].at[\"E3ligase\"]):\n",
    "        input_df.at[i,'E3ligase']='DCAF'\n",
    "    elif 'RNF' in str(input_df.loc[i].at[\"E3ligase\"]):\n",
    "        input_df.at[i,'E3ligase']='RNF'\n",
    "\n",
    "tmp = input_df.groupby('E3ligase', as_index=False).size().sort_values(\"size\", ascending=False, ignore_index=True)\n",
    "print(f\"col:{'E3ligase'}  (#unique:{tmp.shape[0]:,})\")\n",
    "print(tmp.head(20).T, \"\\n\")\n",
    "del tmp"
   ]
  },
  {
   "cell_type": "code",
   "execution_count": 6,
   "metadata": {},
   "outputs": [
    {
     "name": "stdout",
     "output_type": "stream",
     "text": [
      "Number of Rows with explicit DC50: 638\n",
      "input_df: 638 x 84 (input df) \n",
      "\n"
     ]
    }
   ],
   "source": [
    "print('Number of Rows with explicit DC50: ' + str((input_df.shape[0] - input_df['DC50 (nM)'].isna().sum())))\n",
    "#input_df = input_df.dropna(subset=['DC50 (nM)',\"Percent degradation (%)\"],how='all')\n",
    "input_df = input_df.dropna(subset=['DC50 (nM)'])\n",
    "print(\"input_df: {:,} x {:,}\".format(*input_df.shape), \"(input df) \\n\")"
   ]
  },
  {
   "cell_type": "markdown",
   "metadata": {},
   "source": [
    "Preparing Features"
   ]
  },
  {
   "cell_type": "markdown",
   "metadata": {},
   "source": [
    "Target and E3 Ligase"
   ]
  },
  {
   "cell_type": "code",
   "execution_count": 7,
   "metadata": {},
   "outputs": [
    {
     "name": "stdout",
     "output_type": "stream",
     "text": [
      "model_df: 638 x 89 (target and E3ligase OHE features)\n"
     ]
    }
   ],
   "source": [
    "model_df = pd.concat([\n",
    "    pd.get_dummies(input_df[\"Target\"], prefix=\"tgt\"),\n",
    "    pd.get_dummies(input_df[\"E3ligase\"], prefix=\"e3\")\n",
    "  ], axis=1).reset_index(drop=True)\n",
    "\n",
    "print(\"model_df: {:,} x {:,}\".format(*model_df.shape), \"(target and E3ligase OHE features)\")"
   ]
  },
  {
   "cell_type": "markdown",
   "metadata": {},
   "source": [
    "Molecular Fingerprint"
   ]
  },
  {
   "cell_type": "code",
   "execution_count": 8,
   "metadata": {},
   "outputs": [
    {
     "name": "stdout",
     "output_type": "stream",
     "text": [
      "model_df: 638 x 89\n",
      "fp_df: 638 x 256\n",
      "model_df: 638 x 345 (added fingerprint features)\n"
     ]
    }
   ],
   "source": [
    "bits = 256\n",
    "\n",
    "def get_morgan_fp(smiles:str, nbits:int=bits):\n",
    "  m = Chem.MolFromSmiles(smiles)\n",
    "  fingerprint = AllChem.GetMorganFingerprintAsBitVect(m, 2, nBits=nbits)\n",
    "  array = np.zeros((0,), dtype=np.int8)\n",
    "  DataStructs.ConvertToNumpyArray(fingerprint, array)\n",
    "  return array\n",
    "\n",
    "fingerprints = [get_morgan_fp(x).tolist() for x in input_df[\"Smiles\"]]\n",
    "fp_df = pd.DataFrame(fingerprints, columns=[\"sm\"+str(n) for n in range(1,bits+1)])\n",
    "print(\"model_df: {:,} x {:,}\".format(*model_df.shape))\n",
    "\n",
    "#assert model_df.columns == smiles_df.columns\n",
    "\n",
    "model_df = pd.concat([model_df,fp_df],axis=1)\n",
    "print(\"fp_df: {:,} x {:,}\".format(*fp_df.shape))\n",
    "print(\"model_df: {:,} x {:,}\".format(*model_df.shape), \"(added fingerprint features)\")\n",
    "\n",
    "del fingerprints, fp_df"
   ]
  },
  {
   "cell_type": "markdown",
   "metadata": {},
   "source": [
    "Cell Type"
   ]
  },
  {
   "cell_type": "code",
   "execution_count": 9,
   "metadata": {},
   "outputs": [
    {
     "name": "stdout",
     "output_type": "stream",
     "text": [
      "Most Common Cell Type: K562\n",
      "Cell Types: {'Tu-I', 'Ramos', 'A375', 'HCC-827', 'XLA', 'A431', 'Pfeiffer/DOHH2/K562', 'Ramos/THP-1', '205', 'MV4-11', 'MOLT-4/platelets', 'SW480', 'PC-3/LNCaP/MDA-MB-231', 'Sk-Mel-28', 'WI38', 'MDA-MB-231', 'K562', '293T', '22Rv1', 'MV4;11', 'SK-MEL-246', 'Jurkat/MOLT-4/U937', 'LNCaP/VCaP', 'MM1S', 'MCF-7/T47D', 'PC3', 'MDA-MB-468', 'Jurkat', '22Rv1/VCaP/LnCaP95', 'SW620', 'Kasumi-1/NB4/MV-4-11', 'OCI-AML2/OCI-AML3/Ramos', 'HeLa/HEK293', 'Unknown', 'NCI-H2030/MIAPaCa-2/SW1573', 'Molm-16', 'MV-4-11/NCI-H1568', 'HeLa/DB', 'Molm-16/SU-DHL-1', 'SUM149', 'MCF-7', 'H1666/CAL-12T', 'NCI-H2030', 'MDA-MB-436/Capan-1/SW620', 'hPBMC', 'KYSE-270', 'EOL-1', 'HCC827/H3255', '11', 'HeLa', 'LNCaP', 'HLF/SNU-398/HUCCT1', 'NCI-H23/NCI-H358', 'MM.1S/MV-4-11/MDA-MB-468', 'SRD15', 'T47D/MB-MDA-231', 'MOLT-4', 'HLE/HuH-7/SNU-423', 'TM3/PA1/MDA-MB-436', 'A549/Hep3B2.1-7/SNU-387', 'LNCaP/Ramos', 'LNCaP/VCaP/22Rv1', '4935', 'PC9', 'MV-4-11', 'HEK293', 'MM.1S/MDA-MB-231', 'SK-MEL-28', 'NAMALWA/XLA', 'Huh7.5', 'THP1', 'HCC1937/22RV1/MDA-MB-468', 'PC-3', 'PC3-S1', 'HEK293T', 'SR', 'H3255', 'KM12/HEL', 'MOLM-14', 'MM', 'EOL-1/A-204', 'H3122/Karpas299/Kelly', 'THP-1', 'Namalwa/CA-46', 'MCF7', 'KYSE520/MV4;11', 'Hs578t', 'HCT116', 'OVCAR8/HeLa', 'HCC827', 'PBMC', '22RV1', 'Z138/HBL-1/Mino', '264.7', 'H1975', 'SW1573', 'MCF7/MDA-MB-231', 'VCaP', 'MM.1S', 'A549', 'NCI-H661/NCI-H838', 'Sertoli/germ', 'U251', 'NAMALWA', 'Mino', 'HT-29/SK-MEL-28', 'HUH-1/HepG2/SK-Hep-1', 'RI-1', 'SU-DHL-1/NCI-H2228'}\n"
     ]
    },
    {
     "data": {
      "text/plain": [
       "109"
      ]
     },
     "execution_count": 9,
     "metadata": {},
     "output_type": "execute_result"
    },
    {
     "data": {
      "text/html": [
       "<div>\n",
       "<style scoped>\n",
       "    .dataframe tbody tr th:only-of-type {\n",
       "        vertical-align: middle;\n",
       "    }\n",
       "\n",
       "    .dataframe tbody tr th {\n",
       "        vertical-align: top;\n",
       "    }\n",
       "\n",
       "    .dataframe thead th {\n",
       "        text-align: right;\n",
       "    }\n",
       "</style>\n",
       "<table border=\"1\" class=\"dataframe\">\n",
       "  <thead>\n",
       "    <tr style=\"text-align: right;\">\n",
       "      <th></th>\n",
       "      <th>tgt_ABL1</th>\n",
       "      <th>tgt_ADRA1A</th>\n",
       "      <th>tgt_AKT1</th>\n",
       "      <th>tgt_AKT2</th>\n",
       "      <th>tgt_AKT3</th>\n",
       "      <th>tgt_ALK</th>\n",
       "      <th>tgt_ALK G1202R</th>\n",
       "      <th>tgt_AR</th>\n",
       "      <th>tgt_AR-V7</th>\n",
       "      <th>tgt_AURKA</th>\n",
       "      <th>tgt_BCL-xL</th>\n",
       "      <th>tgt_BCL2</th>\n",
       "      <th>tgt_BCR-ABL</th>\n",
       "      <th>tgt_BLK</th>\n",
       "      <th>tgt_BRAF G466V</th>\n",
       "      <th>tgt_BRAF G469A</th>\n",
       "      <th>tgt_BRAF V600E</th>\n",
       "      <th>tgt_BRD2</th>\n",
       "      <th>tgt_BRD3</th>\n",
       "      <th>tgt_BRD4</th>\n",
       "      <th>tgt_BRD4 BD1</th>\n",
       "      <th>tgt_BRD7</th>\n",
       "      <th>tgt_BRD9</th>\n",
       "      <th>tgt_BTK</th>\n",
       "      <th>tgt_BTK C481S</th>\n",
       "      <th>tgt_CD147</th>\n",
       "      <th>tgt_CDK19</th>\n",
       "      <th>tgt_CDK2</th>\n",
       "      <th>tgt_CDK4</th>\n",
       "      <th>tgt_CDK6</th>\n",
       "      <th>tgt_CDK8</th>\n",
       "      <th>tgt_CDK9</th>\n",
       "      <th>tgt_CRBN</th>\n",
       "      <th>tgt_Cdc20</th>\n",
       "      <th>tgt_EED</th>\n",
       "      <th>tgt_EGFR</th>\n",
       "      <th>tgt_EGFR L858R</th>\n",
       "      <th>tgt_EGFR L858R/T790M</th>\n",
       "      <th>tgt_EGFR e19d</th>\n",
       "      <th>tgt_ER</th>\n",
       "      <th>tgt_ERRalpha</th>\n",
       "      <th>tgt_EZH2</th>\n",
       "      <th>tgt_FAK</th>\n",
       "      <th>tgt_FKBP12</th>\n",
       "      <th>tgt_GCN5</th>\n",
       "      <th>tgt_GSK-3beta</th>\n",
       "      <th>tgt_GSK3A</th>\n",
       "      <th>tgt_HDAC3</th>\n",
       "      <th>tgt_HDAC6</th>\n",
       "      <th>tgt_HMGCR</th>\n",
       "      <th>...</th>\n",
       "      <th>ct_MOLT-4/platelets</th>\n",
       "      <th>ct_MV-4-11</th>\n",
       "      <th>ct_MV-4-11/NCI-H1568</th>\n",
       "      <th>ct_MV4-11</th>\n",
       "      <th>ct_MV4;11</th>\n",
       "      <th>ct_Mino</th>\n",
       "      <th>ct_Molm-16</th>\n",
       "      <th>ct_Molm-16/SU-DHL-1</th>\n",
       "      <th>ct_NAMALWA</th>\n",
       "      <th>ct_NAMALWA/XLA</th>\n",
       "      <th>ct_NCI-H2030</th>\n",
       "      <th>ct_NCI-H2030/MIAPaCa-2/SW1573</th>\n",
       "      <th>ct_NCI-H23/NCI-H358</th>\n",
       "      <th>ct_NCI-H661/NCI-H838</th>\n",
       "      <th>ct_Namalwa/CA-46</th>\n",
       "      <th>ct_OCI-AML2/OCI-AML3/Ramos</th>\n",
       "      <th>ct_OVCAR8/HeLa</th>\n",
       "      <th>ct_PBMC</th>\n",
       "      <th>ct_PC-3</th>\n",
       "      <th>ct_PC-3/LNCaP/MDA-MB-231</th>\n",
       "      <th>ct_PC3</th>\n",
       "      <th>ct_PC3-S1</th>\n",
       "      <th>ct_PC9</th>\n",
       "      <th>ct_Pfeiffer/DOHH2/K562</th>\n",
       "      <th>ct_RI-1</th>\n",
       "      <th>ct_Ramos</th>\n",
       "      <th>ct_Ramos/THP-1</th>\n",
       "      <th>ct_SK-MEL-246</th>\n",
       "      <th>ct_SK-MEL-28</th>\n",
       "      <th>ct_SR</th>\n",
       "      <th>ct_SRD15</th>\n",
       "      <th>ct_SU-DHL-1/NCI-H2228</th>\n",
       "      <th>ct_SUM149</th>\n",
       "      <th>ct_SW1573</th>\n",
       "      <th>ct_SW480</th>\n",
       "      <th>ct_SW620</th>\n",
       "      <th>ct_Sertoli/germ</th>\n",
       "      <th>ct_Sk-Mel-28</th>\n",
       "      <th>ct_T47D/MB-MDA-231</th>\n",
       "      <th>ct_THP-1</th>\n",
       "      <th>ct_THP1</th>\n",
       "      <th>ct_TM3/PA1/MDA-MB-436</th>\n",
       "      <th>ct_Tu-I</th>\n",
       "      <th>ct_U251</th>\n",
       "      <th>ct_Unknown</th>\n",
       "      <th>ct_VCaP</th>\n",
       "      <th>ct_WI38</th>\n",
       "      <th>ct_XLA</th>\n",
       "      <th>ct_Z138/HBL-1/Mino</th>\n",
       "      <th>ct_hPBMC</th>\n",
       "    </tr>\n",
       "  </thead>\n",
       "  <tbody>\n",
       "    <tr>\n",
       "      <th>0</th>\n",
       "      <td>0</td>\n",
       "      <td>0</td>\n",
       "      <td>0</td>\n",
       "      <td>0</td>\n",
       "      <td>0</td>\n",
       "      <td>0</td>\n",
       "      <td>0</td>\n",
       "      <td>0</td>\n",
       "      <td>0</td>\n",
       "      <td>0</td>\n",
       "      <td>0</td>\n",
       "      <td>0</td>\n",
       "      <td>0</td>\n",
       "      <td>0</td>\n",
       "      <td>0</td>\n",
       "      <td>0</td>\n",
       "      <td>0</td>\n",
       "      <td>0</td>\n",
       "      <td>0</td>\n",
       "      <td>0</td>\n",
       "      <td>0</td>\n",
       "      <td>0</td>\n",
       "      <td>1</td>\n",
       "      <td>0</td>\n",
       "      <td>0</td>\n",
       "      <td>0</td>\n",
       "      <td>0</td>\n",
       "      <td>0</td>\n",
       "      <td>0</td>\n",
       "      <td>0</td>\n",
       "      <td>0</td>\n",
       "      <td>0</td>\n",
       "      <td>0</td>\n",
       "      <td>0</td>\n",
       "      <td>0</td>\n",
       "      <td>0</td>\n",
       "      <td>0</td>\n",
       "      <td>0</td>\n",
       "      <td>0</td>\n",
       "      <td>0</td>\n",
       "      <td>0</td>\n",
       "      <td>0</td>\n",
       "      <td>0</td>\n",
       "      <td>0</td>\n",
       "      <td>0</td>\n",
       "      <td>0</td>\n",
       "      <td>0</td>\n",
       "      <td>0</td>\n",
       "      <td>0</td>\n",
       "      <td>0</td>\n",
       "      <td>...</td>\n",
       "      <td>0</td>\n",
       "      <td>0</td>\n",
       "      <td>0</td>\n",
       "      <td>0</td>\n",
       "      <td>0</td>\n",
       "      <td>0</td>\n",
       "      <td>0</td>\n",
       "      <td>0</td>\n",
       "      <td>0</td>\n",
       "      <td>0</td>\n",
       "      <td>0</td>\n",
       "      <td>0</td>\n",
       "      <td>0</td>\n",
       "      <td>0</td>\n",
       "      <td>0</td>\n",
       "      <td>0</td>\n",
       "      <td>0</td>\n",
       "      <td>0</td>\n",
       "      <td>0</td>\n",
       "      <td>0</td>\n",
       "      <td>0</td>\n",
       "      <td>0</td>\n",
       "      <td>0</td>\n",
       "      <td>0</td>\n",
       "      <td>0</td>\n",
       "      <td>0</td>\n",
       "      <td>0</td>\n",
       "      <td>0</td>\n",
       "      <td>0</td>\n",
       "      <td>0</td>\n",
       "      <td>0</td>\n",
       "      <td>0</td>\n",
       "      <td>0</td>\n",
       "      <td>0</td>\n",
       "      <td>0</td>\n",
       "      <td>0</td>\n",
       "      <td>0</td>\n",
       "      <td>0</td>\n",
       "      <td>0</td>\n",
       "      <td>0</td>\n",
       "      <td>0</td>\n",
       "      <td>0</td>\n",
       "      <td>0</td>\n",
       "      <td>0</td>\n",
       "      <td>0</td>\n",
       "      <td>0</td>\n",
       "      <td>0</td>\n",
       "      <td>0</td>\n",
       "      <td>0</td>\n",
       "      <td>0</td>\n",
       "    </tr>\n",
       "    <tr>\n",
       "      <th>1</th>\n",
       "      <td>0</td>\n",
       "      <td>0</td>\n",
       "      <td>0</td>\n",
       "      <td>0</td>\n",
       "      <td>0</td>\n",
       "      <td>0</td>\n",
       "      <td>0</td>\n",
       "      <td>0</td>\n",
       "      <td>0</td>\n",
       "      <td>0</td>\n",
       "      <td>0</td>\n",
       "      <td>0</td>\n",
       "      <td>0</td>\n",
       "      <td>0</td>\n",
       "      <td>0</td>\n",
       "      <td>0</td>\n",
       "      <td>0</td>\n",
       "      <td>0</td>\n",
       "      <td>0</td>\n",
       "      <td>0</td>\n",
       "      <td>0</td>\n",
       "      <td>1</td>\n",
       "      <td>0</td>\n",
       "      <td>0</td>\n",
       "      <td>0</td>\n",
       "      <td>0</td>\n",
       "      <td>0</td>\n",
       "      <td>0</td>\n",
       "      <td>0</td>\n",
       "      <td>0</td>\n",
       "      <td>0</td>\n",
       "      <td>0</td>\n",
       "      <td>0</td>\n",
       "      <td>0</td>\n",
       "      <td>0</td>\n",
       "      <td>0</td>\n",
       "      <td>0</td>\n",
       "      <td>0</td>\n",
       "      <td>0</td>\n",
       "      <td>0</td>\n",
       "      <td>0</td>\n",
       "      <td>0</td>\n",
       "      <td>0</td>\n",
       "      <td>0</td>\n",
       "      <td>0</td>\n",
       "      <td>0</td>\n",
       "      <td>0</td>\n",
       "      <td>0</td>\n",
       "      <td>0</td>\n",
       "      <td>0</td>\n",
       "      <td>...</td>\n",
       "      <td>0</td>\n",
       "      <td>0</td>\n",
       "      <td>0</td>\n",
       "      <td>0</td>\n",
       "      <td>0</td>\n",
       "      <td>0</td>\n",
       "      <td>0</td>\n",
       "      <td>0</td>\n",
       "      <td>0</td>\n",
       "      <td>0</td>\n",
       "      <td>0</td>\n",
       "      <td>0</td>\n",
       "      <td>0</td>\n",
       "      <td>0</td>\n",
       "      <td>0</td>\n",
       "      <td>0</td>\n",
       "      <td>0</td>\n",
       "      <td>0</td>\n",
       "      <td>0</td>\n",
       "      <td>0</td>\n",
       "      <td>0</td>\n",
       "      <td>0</td>\n",
       "      <td>0</td>\n",
       "      <td>0</td>\n",
       "      <td>1</td>\n",
       "      <td>0</td>\n",
       "      <td>0</td>\n",
       "      <td>0</td>\n",
       "      <td>0</td>\n",
       "      <td>0</td>\n",
       "      <td>0</td>\n",
       "      <td>0</td>\n",
       "      <td>0</td>\n",
       "      <td>0</td>\n",
       "      <td>0</td>\n",
       "      <td>0</td>\n",
       "      <td>0</td>\n",
       "      <td>0</td>\n",
       "      <td>0</td>\n",
       "      <td>0</td>\n",
       "      <td>0</td>\n",
       "      <td>0</td>\n",
       "      <td>0</td>\n",
       "      <td>0</td>\n",
       "      <td>0</td>\n",
       "      <td>0</td>\n",
       "      <td>0</td>\n",
       "      <td>0</td>\n",
       "      <td>0</td>\n",
       "      <td>0</td>\n",
       "    </tr>\n",
       "    <tr>\n",
       "      <th>2</th>\n",
       "      <td>0</td>\n",
       "      <td>0</td>\n",
       "      <td>0</td>\n",
       "      <td>0</td>\n",
       "      <td>0</td>\n",
       "      <td>0</td>\n",
       "      <td>0</td>\n",
       "      <td>0</td>\n",
       "      <td>0</td>\n",
       "      <td>0</td>\n",
       "      <td>0</td>\n",
       "      <td>0</td>\n",
       "      <td>0</td>\n",
       "      <td>0</td>\n",
       "      <td>0</td>\n",
       "      <td>0</td>\n",
       "      <td>0</td>\n",
       "      <td>0</td>\n",
       "      <td>0</td>\n",
       "      <td>0</td>\n",
       "      <td>0</td>\n",
       "      <td>0</td>\n",
       "      <td>1</td>\n",
       "      <td>0</td>\n",
       "      <td>0</td>\n",
       "      <td>0</td>\n",
       "      <td>0</td>\n",
       "      <td>0</td>\n",
       "      <td>0</td>\n",
       "      <td>0</td>\n",
       "      <td>0</td>\n",
       "      <td>0</td>\n",
       "      <td>0</td>\n",
       "      <td>0</td>\n",
       "      <td>0</td>\n",
       "      <td>0</td>\n",
       "      <td>0</td>\n",
       "      <td>0</td>\n",
       "      <td>0</td>\n",
       "      <td>0</td>\n",
       "      <td>0</td>\n",
       "      <td>0</td>\n",
       "      <td>0</td>\n",
       "      <td>0</td>\n",
       "      <td>0</td>\n",
       "      <td>0</td>\n",
       "      <td>0</td>\n",
       "      <td>0</td>\n",
       "      <td>0</td>\n",
       "      <td>0</td>\n",
       "      <td>...</td>\n",
       "      <td>0</td>\n",
       "      <td>0</td>\n",
       "      <td>0</td>\n",
       "      <td>0</td>\n",
       "      <td>0</td>\n",
       "      <td>0</td>\n",
       "      <td>0</td>\n",
       "      <td>0</td>\n",
       "      <td>0</td>\n",
       "      <td>0</td>\n",
       "      <td>0</td>\n",
       "      <td>0</td>\n",
       "      <td>0</td>\n",
       "      <td>0</td>\n",
       "      <td>0</td>\n",
       "      <td>0</td>\n",
       "      <td>0</td>\n",
       "      <td>0</td>\n",
       "      <td>0</td>\n",
       "      <td>0</td>\n",
       "      <td>0</td>\n",
       "      <td>0</td>\n",
       "      <td>0</td>\n",
       "      <td>0</td>\n",
       "      <td>1</td>\n",
       "      <td>0</td>\n",
       "      <td>0</td>\n",
       "      <td>0</td>\n",
       "      <td>0</td>\n",
       "      <td>0</td>\n",
       "      <td>0</td>\n",
       "      <td>0</td>\n",
       "      <td>0</td>\n",
       "      <td>0</td>\n",
       "      <td>0</td>\n",
       "      <td>0</td>\n",
       "      <td>0</td>\n",
       "      <td>0</td>\n",
       "      <td>0</td>\n",
       "      <td>0</td>\n",
       "      <td>0</td>\n",
       "      <td>0</td>\n",
       "      <td>0</td>\n",
       "      <td>0</td>\n",
       "      <td>0</td>\n",
       "      <td>0</td>\n",
       "      <td>0</td>\n",
       "      <td>0</td>\n",
       "      <td>0</td>\n",
       "      <td>0</td>\n",
       "    </tr>\n",
       "    <tr>\n",
       "      <th>3</th>\n",
       "      <td>0</td>\n",
       "      <td>0</td>\n",
       "      <td>0</td>\n",
       "      <td>0</td>\n",
       "      <td>0</td>\n",
       "      <td>0</td>\n",
       "      <td>0</td>\n",
       "      <td>0</td>\n",
       "      <td>0</td>\n",
       "      <td>0</td>\n",
       "      <td>0</td>\n",
       "      <td>0</td>\n",
       "      <td>0</td>\n",
       "      <td>0</td>\n",
       "      <td>0</td>\n",
       "      <td>0</td>\n",
       "      <td>0</td>\n",
       "      <td>0</td>\n",
       "      <td>0</td>\n",
       "      <td>0</td>\n",
       "      <td>0</td>\n",
       "      <td>1</td>\n",
       "      <td>0</td>\n",
       "      <td>0</td>\n",
       "      <td>0</td>\n",
       "      <td>0</td>\n",
       "      <td>0</td>\n",
       "      <td>0</td>\n",
       "      <td>0</td>\n",
       "      <td>0</td>\n",
       "      <td>0</td>\n",
       "      <td>0</td>\n",
       "      <td>0</td>\n",
       "      <td>0</td>\n",
       "      <td>0</td>\n",
       "      <td>0</td>\n",
       "      <td>0</td>\n",
       "      <td>0</td>\n",
       "      <td>0</td>\n",
       "      <td>0</td>\n",
       "      <td>0</td>\n",
       "      <td>0</td>\n",
       "      <td>0</td>\n",
       "      <td>0</td>\n",
       "      <td>0</td>\n",
       "      <td>0</td>\n",
       "      <td>0</td>\n",
       "      <td>0</td>\n",
       "      <td>0</td>\n",
       "      <td>0</td>\n",
       "      <td>...</td>\n",
       "      <td>0</td>\n",
       "      <td>0</td>\n",
       "      <td>0</td>\n",
       "      <td>0</td>\n",
       "      <td>0</td>\n",
       "      <td>0</td>\n",
       "      <td>0</td>\n",
       "      <td>0</td>\n",
       "      <td>0</td>\n",
       "      <td>0</td>\n",
       "      <td>0</td>\n",
       "      <td>0</td>\n",
       "      <td>0</td>\n",
       "      <td>0</td>\n",
       "      <td>0</td>\n",
       "      <td>0</td>\n",
       "      <td>0</td>\n",
       "      <td>0</td>\n",
       "      <td>0</td>\n",
       "      <td>0</td>\n",
       "      <td>0</td>\n",
       "      <td>0</td>\n",
       "      <td>0</td>\n",
       "      <td>0</td>\n",
       "      <td>0</td>\n",
       "      <td>0</td>\n",
       "      <td>0</td>\n",
       "      <td>0</td>\n",
       "      <td>0</td>\n",
       "      <td>0</td>\n",
       "      <td>0</td>\n",
       "      <td>0</td>\n",
       "      <td>0</td>\n",
       "      <td>0</td>\n",
       "      <td>0</td>\n",
       "      <td>0</td>\n",
       "      <td>0</td>\n",
       "      <td>0</td>\n",
       "      <td>0</td>\n",
       "      <td>0</td>\n",
       "      <td>0</td>\n",
       "      <td>0</td>\n",
       "      <td>0</td>\n",
       "      <td>0</td>\n",
       "      <td>0</td>\n",
       "      <td>0</td>\n",
       "      <td>0</td>\n",
       "      <td>0</td>\n",
       "      <td>0</td>\n",
       "      <td>0</td>\n",
       "    </tr>\n",
       "    <tr>\n",
       "      <th>4</th>\n",
       "      <td>0</td>\n",
       "      <td>0</td>\n",
       "      <td>0</td>\n",
       "      <td>0</td>\n",
       "      <td>0</td>\n",
       "      <td>0</td>\n",
       "      <td>0</td>\n",
       "      <td>0</td>\n",
       "      <td>0</td>\n",
       "      <td>0</td>\n",
       "      <td>0</td>\n",
       "      <td>0</td>\n",
       "      <td>0</td>\n",
       "      <td>0</td>\n",
       "      <td>0</td>\n",
       "      <td>0</td>\n",
       "      <td>0</td>\n",
       "      <td>0</td>\n",
       "      <td>0</td>\n",
       "      <td>0</td>\n",
       "      <td>0</td>\n",
       "      <td>0</td>\n",
       "      <td>1</td>\n",
       "      <td>0</td>\n",
       "      <td>0</td>\n",
       "      <td>0</td>\n",
       "      <td>0</td>\n",
       "      <td>0</td>\n",
       "      <td>0</td>\n",
       "      <td>0</td>\n",
       "      <td>0</td>\n",
       "      <td>0</td>\n",
       "      <td>0</td>\n",
       "      <td>0</td>\n",
       "      <td>0</td>\n",
       "      <td>0</td>\n",
       "      <td>0</td>\n",
       "      <td>0</td>\n",
       "      <td>0</td>\n",
       "      <td>0</td>\n",
       "      <td>0</td>\n",
       "      <td>0</td>\n",
       "      <td>0</td>\n",
       "      <td>0</td>\n",
       "      <td>0</td>\n",
       "      <td>0</td>\n",
       "      <td>0</td>\n",
       "      <td>0</td>\n",
       "      <td>0</td>\n",
       "      <td>0</td>\n",
       "      <td>...</td>\n",
       "      <td>0</td>\n",
       "      <td>0</td>\n",
       "      <td>0</td>\n",
       "      <td>0</td>\n",
       "      <td>0</td>\n",
       "      <td>0</td>\n",
       "      <td>0</td>\n",
       "      <td>0</td>\n",
       "      <td>0</td>\n",
       "      <td>0</td>\n",
       "      <td>0</td>\n",
       "      <td>0</td>\n",
       "      <td>0</td>\n",
       "      <td>0</td>\n",
       "      <td>0</td>\n",
       "      <td>0</td>\n",
       "      <td>0</td>\n",
       "      <td>0</td>\n",
       "      <td>0</td>\n",
       "      <td>0</td>\n",
       "      <td>0</td>\n",
       "      <td>0</td>\n",
       "      <td>0</td>\n",
       "      <td>0</td>\n",
       "      <td>0</td>\n",
       "      <td>0</td>\n",
       "      <td>0</td>\n",
       "      <td>0</td>\n",
       "      <td>0</td>\n",
       "      <td>0</td>\n",
       "      <td>0</td>\n",
       "      <td>0</td>\n",
       "      <td>0</td>\n",
       "      <td>0</td>\n",
       "      <td>0</td>\n",
       "      <td>0</td>\n",
       "      <td>0</td>\n",
       "      <td>0</td>\n",
       "      <td>0</td>\n",
       "      <td>0</td>\n",
       "      <td>0</td>\n",
       "      <td>0</td>\n",
       "      <td>0</td>\n",
       "      <td>0</td>\n",
       "      <td>0</td>\n",
       "      <td>0</td>\n",
       "      <td>0</td>\n",
       "      <td>0</td>\n",
       "      <td>0</td>\n",
       "      <td>0</td>\n",
       "    </tr>\n",
       "    <tr>\n",
       "      <th>...</th>\n",
       "      <td>...</td>\n",
       "      <td>...</td>\n",
       "      <td>...</td>\n",
       "      <td>...</td>\n",
       "      <td>...</td>\n",
       "      <td>...</td>\n",
       "      <td>...</td>\n",
       "      <td>...</td>\n",
       "      <td>...</td>\n",
       "      <td>...</td>\n",
       "      <td>...</td>\n",
       "      <td>...</td>\n",
       "      <td>...</td>\n",
       "      <td>...</td>\n",
       "      <td>...</td>\n",
       "      <td>...</td>\n",
       "      <td>...</td>\n",
       "      <td>...</td>\n",
       "      <td>...</td>\n",
       "      <td>...</td>\n",
       "      <td>...</td>\n",
       "      <td>...</td>\n",
       "      <td>...</td>\n",
       "      <td>...</td>\n",
       "      <td>...</td>\n",
       "      <td>...</td>\n",
       "      <td>...</td>\n",
       "      <td>...</td>\n",
       "      <td>...</td>\n",
       "      <td>...</td>\n",
       "      <td>...</td>\n",
       "      <td>...</td>\n",
       "      <td>...</td>\n",
       "      <td>...</td>\n",
       "      <td>...</td>\n",
       "      <td>...</td>\n",
       "      <td>...</td>\n",
       "      <td>...</td>\n",
       "      <td>...</td>\n",
       "      <td>...</td>\n",
       "      <td>...</td>\n",
       "      <td>...</td>\n",
       "      <td>...</td>\n",
       "      <td>...</td>\n",
       "      <td>...</td>\n",
       "      <td>...</td>\n",
       "      <td>...</td>\n",
       "      <td>...</td>\n",
       "      <td>...</td>\n",
       "      <td>...</td>\n",
       "      <td>...</td>\n",
       "      <td>...</td>\n",
       "      <td>...</td>\n",
       "      <td>...</td>\n",
       "      <td>...</td>\n",
       "      <td>...</td>\n",
       "      <td>...</td>\n",
       "      <td>...</td>\n",
       "      <td>...</td>\n",
       "      <td>...</td>\n",
       "      <td>...</td>\n",
       "      <td>...</td>\n",
       "      <td>...</td>\n",
       "      <td>...</td>\n",
       "      <td>...</td>\n",
       "      <td>...</td>\n",
       "      <td>...</td>\n",
       "      <td>...</td>\n",
       "      <td>...</td>\n",
       "      <td>...</td>\n",
       "      <td>...</td>\n",
       "      <td>...</td>\n",
       "      <td>...</td>\n",
       "      <td>...</td>\n",
       "      <td>...</td>\n",
       "      <td>...</td>\n",
       "      <td>...</td>\n",
       "      <td>...</td>\n",
       "      <td>...</td>\n",
       "      <td>...</td>\n",
       "      <td>...</td>\n",
       "      <td>...</td>\n",
       "      <td>...</td>\n",
       "      <td>...</td>\n",
       "      <td>...</td>\n",
       "      <td>...</td>\n",
       "      <td>...</td>\n",
       "      <td>...</td>\n",
       "      <td>...</td>\n",
       "      <td>...</td>\n",
       "      <td>...</td>\n",
       "      <td>...</td>\n",
       "      <td>...</td>\n",
       "      <td>...</td>\n",
       "      <td>...</td>\n",
       "      <td>...</td>\n",
       "      <td>...</td>\n",
       "      <td>...</td>\n",
       "      <td>...</td>\n",
       "      <td>...</td>\n",
       "      <td>...</td>\n",
       "    </tr>\n",
       "    <tr>\n",
       "      <th>633</th>\n",
       "      <td>0</td>\n",
       "      <td>0</td>\n",
       "      <td>0</td>\n",
       "      <td>0</td>\n",
       "      <td>0</td>\n",
       "      <td>0</td>\n",
       "      <td>0</td>\n",
       "      <td>0</td>\n",
       "      <td>0</td>\n",
       "      <td>0</td>\n",
       "      <td>0</td>\n",
       "      <td>0</td>\n",
       "      <td>0</td>\n",
       "      <td>0</td>\n",
       "      <td>0</td>\n",
       "      <td>0</td>\n",
       "      <td>0</td>\n",
       "      <td>0</td>\n",
       "      <td>0</td>\n",
       "      <td>0</td>\n",
       "      <td>0</td>\n",
       "      <td>0</td>\n",
       "      <td>0</td>\n",
       "      <td>0</td>\n",
       "      <td>0</td>\n",
       "      <td>0</td>\n",
       "      <td>0</td>\n",
       "      <td>0</td>\n",
       "      <td>0</td>\n",
       "      <td>0</td>\n",
       "      <td>0</td>\n",
       "      <td>0</td>\n",
       "      <td>0</td>\n",
       "      <td>0</td>\n",
       "      <td>0</td>\n",
       "      <td>0</td>\n",
       "      <td>0</td>\n",
       "      <td>0</td>\n",
       "      <td>1</td>\n",
       "      <td>0</td>\n",
       "      <td>0</td>\n",
       "      <td>0</td>\n",
       "      <td>0</td>\n",
       "      <td>0</td>\n",
       "      <td>0</td>\n",
       "      <td>0</td>\n",
       "      <td>0</td>\n",
       "      <td>0</td>\n",
       "      <td>0</td>\n",
       "      <td>0</td>\n",
       "      <td>...</td>\n",
       "      <td>0</td>\n",
       "      <td>0</td>\n",
       "      <td>0</td>\n",
       "      <td>0</td>\n",
       "      <td>0</td>\n",
       "      <td>0</td>\n",
       "      <td>0</td>\n",
       "      <td>0</td>\n",
       "      <td>0</td>\n",
       "      <td>0</td>\n",
       "      <td>0</td>\n",
       "      <td>0</td>\n",
       "      <td>0</td>\n",
       "      <td>0</td>\n",
       "      <td>0</td>\n",
       "      <td>0</td>\n",
       "      <td>0</td>\n",
       "      <td>0</td>\n",
       "      <td>0</td>\n",
       "      <td>0</td>\n",
       "      <td>0</td>\n",
       "      <td>0</td>\n",
       "      <td>1</td>\n",
       "      <td>0</td>\n",
       "      <td>0</td>\n",
       "      <td>0</td>\n",
       "      <td>0</td>\n",
       "      <td>0</td>\n",
       "      <td>0</td>\n",
       "      <td>0</td>\n",
       "      <td>0</td>\n",
       "      <td>0</td>\n",
       "      <td>0</td>\n",
       "      <td>0</td>\n",
       "      <td>0</td>\n",
       "      <td>0</td>\n",
       "      <td>0</td>\n",
       "      <td>0</td>\n",
       "      <td>0</td>\n",
       "      <td>0</td>\n",
       "      <td>0</td>\n",
       "      <td>0</td>\n",
       "      <td>0</td>\n",
       "      <td>0</td>\n",
       "      <td>0</td>\n",
       "      <td>0</td>\n",
       "      <td>0</td>\n",
       "      <td>0</td>\n",
       "      <td>0</td>\n",
       "      <td>0</td>\n",
       "    </tr>\n",
       "    <tr>\n",
       "      <th>634</th>\n",
       "      <td>0</td>\n",
       "      <td>0</td>\n",
       "      <td>0</td>\n",
       "      <td>0</td>\n",
       "      <td>0</td>\n",
       "      <td>0</td>\n",
       "      <td>0</td>\n",
       "      <td>0</td>\n",
       "      <td>0</td>\n",
       "      <td>0</td>\n",
       "      <td>0</td>\n",
       "      <td>0</td>\n",
       "      <td>0</td>\n",
       "      <td>0</td>\n",
       "      <td>0</td>\n",
       "      <td>0</td>\n",
       "      <td>0</td>\n",
       "      <td>0</td>\n",
       "      <td>0</td>\n",
       "      <td>0</td>\n",
       "      <td>0</td>\n",
       "      <td>0</td>\n",
       "      <td>0</td>\n",
       "      <td>0</td>\n",
       "      <td>0</td>\n",
       "      <td>0</td>\n",
       "      <td>0</td>\n",
       "      <td>0</td>\n",
       "      <td>0</td>\n",
       "      <td>0</td>\n",
       "      <td>0</td>\n",
       "      <td>0</td>\n",
       "      <td>0</td>\n",
       "      <td>0</td>\n",
       "      <td>0</td>\n",
       "      <td>0</td>\n",
       "      <td>0</td>\n",
       "      <td>1</td>\n",
       "      <td>0</td>\n",
       "      <td>0</td>\n",
       "      <td>0</td>\n",
       "      <td>0</td>\n",
       "      <td>0</td>\n",
       "      <td>0</td>\n",
       "      <td>0</td>\n",
       "      <td>0</td>\n",
       "      <td>0</td>\n",
       "      <td>0</td>\n",
       "      <td>0</td>\n",
       "      <td>0</td>\n",
       "      <td>...</td>\n",
       "      <td>0</td>\n",
       "      <td>0</td>\n",
       "      <td>0</td>\n",
       "      <td>0</td>\n",
       "      <td>0</td>\n",
       "      <td>0</td>\n",
       "      <td>0</td>\n",
       "      <td>0</td>\n",
       "      <td>0</td>\n",
       "      <td>0</td>\n",
       "      <td>0</td>\n",
       "      <td>0</td>\n",
       "      <td>0</td>\n",
       "      <td>0</td>\n",
       "      <td>0</td>\n",
       "      <td>0</td>\n",
       "      <td>0</td>\n",
       "      <td>0</td>\n",
       "      <td>0</td>\n",
       "      <td>0</td>\n",
       "      <td>0</td>\n",
       "      <td>0</td>\n",
       "      <td>0</td>\n",
       "      <td>0</td>\n",
       "      <td>0</td>\n",
       "      <td>0</td>\n",
       "      <td>0</td>\n",
       "      <td>0</td>\n",
       "      <td>0</td>\n",
       "      <td>0</td>\n",
       "      <td>0</td>\n",
       "      <td>0</td>\n",
       "      <td>0</td>\n",
       "      <td>0</td>\n",
       "      <td>0</td>\n",
       "      <td>0</td>\n",
       "      <td>0</td>\n",
       "      <td>0</td>\n",
       "      <td>0</td>\n",
       "      <td>0</td>\n",
       "      <td>0</td>\n",
       "      <td>0</td>\n",
       "      <td>0</td>\n",
       "      <td>0</td>\n",
       "      <td>1</td>\n",
       "      <td>0</td>\n",
       "      <td>0</td>\n",
       "      <td>0</td>\n",
       "      <td>0</td>\n",
       "      <td>0</td>\n",
       "    </tr>\n",
       "    <tr>\n",
       "      <th>635</th>\n",
       "      <td>0</td>\n",
       "      <td>0</td>\n",
       "      <td>0</td>\n",
       "      <td>0</td>\n",
       "      <td>0</td>\n",
       "      <td>0</td>\n",
       "      <td>0</td>\n",
       "      <td>0</td>\n",
       "      <td>0</td>\n",
       "      <td>0</td>\n",
       "      <td>0</td>\n",
       "      <td>0</td>\n",
       "      <td>0</td>\n",
       "      <td>0</td>\n",
       "      <td>0</td>\n",
       "      <td>0</td>\n",
       "      <td>0</td>\n",
       "      <td>0</td>\n",
       "      <td>0</td>\n",
       "      <td>0</td>\n",
       "      <td>0</td>\n",
       "      <td>0</td>\n",
       "      <td>0</td>\n",
       "      <td>0</td>\n",
       "      <td>0</td>\n",
       "      <td>0</td>\n",
       "      <td>0</td>\n",
       "      <td>0</td>\n",
       "      <td>0</td>\n",
       "      <td>0</td>\n",
       "      <td>0</td>\n",
       "      <td>0</td>\n",
       "      <td>0</td>\n",
       "      <td>0</td>\n",
       "      <td>0</td>\n",
       "      <td>0</td>\n",
       "      <td>0</td>\n",
       "      <td>0</td>\n",
       "      <td>1</td>\n",
       "      <td>0</td>\n",
       "      <td>0</td>\n",
       "      <td>0</td>\n",
       "      <td>0</td>\n",
       "      <td>0</td>\n",
       "      <td>0</td>\n",
       "      <td>0</td>\n",
       "      <td>0</td>\n",
       "      <td>0</td>\n",
       "      <td>0</td>\n",
       "      <td>0</td>\n",
       "      <td>...</td>\n",
       "      <td>0</td>\n",
       "      <td>0</td>\n",
       "      <td>0</td>\n",
       "      <td>0</td>\n",
       "      <td>0</td>\n",
       "      <td>0</td>\n",
       "      <td>0</td>\n",
       "      <td>0</td>\n",
       "      <td>0</td>\n",
       "      <td>0</td>\n",
       "      <td>0</td>\n",
       "      <td>0</td>\n",
       "      <td>0</td>\n",
       "      <td>0</td>\n",
       "      <td>0</td>\n",
       "      <td>0</td>\n",
       "      <td>0</td>\n",
       "      <td>0</td>\n",
       "      <td>0</td>\n",
       "      <td>0</td>\n",
       "      <td>0</td>\n",
       "      <td>0</td>\n",
       "      <td>1</td>\n",
       "      <td>0</td>\n",
       "      <td>0</td>\n",
       "      <td>0</td>\n",
       "      <td>0</td>\n",
       "      <td>0</td>\n",
       "      <td>0</td>\n",
       "      <td>0</td>\n",
       "      <td>0</td>\n",
       "      <td>0</td>\n",
       "      <td>0</td>\n",
       "      <td>0</td>\n",
       "      <td>0</td>\n",
       "      <td>0</td>\n",
       "      <td>0</td>\n",
       "      <td>0</td>\n",
       "      <td>0</td>\n",
       "      <td>0</td>\n",
       "      <td>0</td>\n",
       "      <td>0</td>\n",
       "      <td>0</td>\n",
       "      <td>0</td>\n",
       "      <td>0</td>\n",
       "      <td>0</td>\n",
       "      <td>0</td>\n",
       "      <td>0</td>\n",
       "      <td>0</td>\n",
       "      <td>0</td>\n",
       "    </tr>\n",
       "    <tr>\n",
       "      <th>636</th>\n",
       "      <td>0</td>\n",
       "      <td>0</td>\n",
       "      <td>0</td>\n",
       "      <td>0</td>\n",
       "      <td>0</td>\n",
       "      <td>0</td>\n",
       "      <td>0</td>\n",
       "      <td>0</td>\n",
       "      <td>0</td>\n",
       "      <td>0</td>\n",
       "      <td>0</td>\n",
       "      <td>0</td>\n",
       "      <td>0</td>\n",
       "      <td>0</td>\n",
       "      <td>0</td>\n",
       "      <td>0</td>\n",
       "      <td>0</td>\n",
       "      <td>0</td>\n",
       "      <td>0</td>\n",
       "      <td>0</td>\n",
       "      <td>0</td>\n",
       "      <td>0</td>\n",
       "      <td>0</td>\n",
       "      <td>0</td>\n",
       "      <td>0</td>\n",
       "      <td>0</td>\n",
       "      <td>0</td>\n",
       "      <td>0</td>\n",
       "      <td>0</td>\n",
       "      <td>0</td>\n",
       "      <td>0</td>\n",
       "      <td>0</td>\n",
       "      <td>0</td>\n",
       "      <td>0</td>\n",
       "      <td>0</td>\n",
       "      <td>0</td>\n",
       "      <td>0</td>\n",
       "      <td>0</td>\n",
       "      <td>0</td>\n",
       "      <td>0</td>\n",
       "      <td>0</td>\n",
       "      <td>0</td>\n",
       "      <td>0</td>\n",
       "      <td>0</td>\n",
       "      <td>0</td>\n",
       "      <td>0</td>\n",
       "      <td>0</td>\n",
       "      <td>0</td>\n",
       "      <td>0</td>\n",
       "      <td>0</td>\n",
       "      <td>...</td>\n",
       "      <td>0</td>\n",
       "      <td>0</td>\n",
       "      <td>0</td>\n",
       "      <td>0</td>\n",
       "      <td>1</td>\n",
       "      <td>0</td>\n",
       "      <td>0</td>\n",
       "      <td>0</td>\n",
       "      <td>0</td>\n",
       "      <td>0</td>\n",
       "      <td>0</td>\n",
       "      <td>0</td>\n",
       "      <td>0</td>\n",
       "      <td>0</td>\n",
       "      <td>0</td>\n",
       "      <td>0</td>\n",
       "      <td>0</td>\n",
       "      <td>0</td>\n",
       "      <td>0</td>\n",
       "      <td>0</td>\n",
       "      <td>0</td>\n",
       "      <td>0</td>\n",
       "      <td>0</td>\n",
       "      <td>0</td>\n",
       "      <td>0</td>\n",
       "      <td>0</td>\n",
       "      <td>0</td>\n",
       "      <td>0</td>\n",
       "      <td>0</td>\n",
       "      <td>0</td>\n",
       "      <td>0</td>\n",
       "      <td>0</td>\n",
       "      <td>0</td>\n",
       "      <td>0</td>\n",
       "      <td>0</td>\n",
       "      <td>0</td>\n",
       "      <td>0</td>\n",
       "      <td>0</td>\n",
       "      <td>0</td>\n",
       "      <td>0</td>\n",
       "      <td>0</td>\n",
       "      <td>0</td>\n",
       "      <td>0</td>\n",
       "      <td>0</td>\n",
       "      <td>0</td>\n",
       "      <td>0</td>\n",
       "      <td>0</td>\n",
       "      <td>0</td>\n",
       "      <td>0</td>\n",
       "      <td>0</td>\n",
       "    </tr>\n",
       "    <tr>\n",
       "      <th>637</th>\n",
       "      <td>0</td>\n",
       "      <td>0</td>\n",
       "      <td>0</td>\n",
       "      <td>0</td>\n",
       "      <td>0</td>\n",
       "      <td>0</td>\n",
       "      <td>0</td>\n",
       "      <td>0</td>\n",
       "      <td>0</td>\n",
       "      <td>0</td>\n",
       "      <td>0</td>\n",
       "      <td>0</td>\n",
       "      <td>0</td>\n",
       "      <td>0</td>\n",
       "      <td>0</td>\n",
       "      <td>0</td>\n",
       "      <td>0</td>\n",
       "      <td>0</td>\n",
       "      <td>0</td>\n",
       "      <td>0</td>\n",
       "      <td>0</td>\n",
       "      <td>0</td>\n",
       "      <td>0</td>\n",
       "      <td>0</td>\n",
       "      <td>0</td>\n",
       "      <td>0</td>\n",
       "      <td>0</td>\n",
       "      <td>0</td>\n",
       "      <td>0</td>\n",
       "      <td>0</td>\n",
       "      <td>0</td>\n",
       "      <td>0</td>\n",
       "      <td>0</td>\n",
       "      <td>0</td>\n",
       "      <td>0</td>\n",
       "      <td>0</td>\n",
       "      <td>0</td>\n",
       "      <td>0</td>\n",
       "      <td>0</td>\n",
       "      <td>0</td>\n",
       "      <td>0</td>\n",
       "      <td>0</td>\n",
       "      <td>0</td>\n",
       "      <td>0</td>\n",
       "      <td>0</td>\n",
       "      <td>0</td>\n",
       "      <td>0</td>\n",
       "      <td>0</td>\n",
       "      <td>0</td>\n",
       "      <td>0</td>\n",
       "      <td>...</td>\n",
       "      <td>0</td>\n",
       "      <td>0</td>\n",
       "      <td>0</td>\n",
       "      <td>0</td>\n",
       "      <td>0</td>\n",
       "      <td>0</td>\n",
       "      <td>0</td>\n",
       "      <td>0</td>\n",
       "      <td>0</td>\n",
       "      <td>0</td>\n",
       "      <td>0</td>\n",
       "      <td>0</td>\n",
       "      <td>0</td>\n",
       "      <td>0</td>\n",
       "      <td>0</td>\n",
       "      <td>0</td>\n",
       "      <td>0</td>\n",
       "      <td>0</td>\n",
       "      <td>0</td>\n",
       "      <td>0</td>\n",
       "      <td>0</td>\n",
       "      <td>0</td>\n",
       "      <td>0</td>\n",
       "      <td>0</td>\n",
       "      <td>0</td>\n",
       "      <td>0</td>\n",
       "      <td>0</td>\n",
       "      <td>0</td>\n",
       "      <td>0</td>\n",
       "      <td>0</td>\n",
       "      <td>0</td>\n",
       "      <td>0</td>\n",
       "      <td>0</td>\n",
       "      <td>0</td>\n",
       "      <td>0</td>\n",
       "      <td>0</td>\n",
       "      <td>0</td>\n",
       "      <td>0</td>\n",
       "      <td>0</td>\n",
       "      <td>0</td>\n",
       "      <td>0</td>\n",
       "      <td>0</td>\n",
       "      <td>0</td>\n",
       "      <td>0</td>\n",
       "      <td>0</td>\n",
       "      <td>0</td>\n",
       "      <td>0</td>\n",
       "      <td>0</td>\n",
       "      <td>0</td>\n",
       "      <td>0</td>\n",
       "    </tr>\n",
       "  </tbody>\n",
       "</table>\n",
       "<p>638 rows × 454 columns</p>\n",
       "</div>"
      ],
      "text/plain": [
       "     tgt_ABL1  tgt_ADRA1A  tgt_AKT1  tgt_AKT2  tgt_AKT3  tgt_ALK  tgt_ALK G1202R  tgt_AR  tgt_AR-V7  tgt_AURKA  tgt_BCL-xL  tgt_BCL2  tgt_BCR-ABL  tgt_BLK  tgt_BRAF G466V  tgt_BRAF G469A  tgt_BRAF V600E  tgt_BRD2  tgt_BRD3  tgt_BRD4  tgt_BRD4 BD1  tgt_BRD7  tgt_BRD9  tgt_BTK  tgt_BTK C481S  tgt_CD147  tgt_CDK19  tgt_CDK2  tgt_CDK4  tgt_CDK6  tgt_CDK8  tgt_CDK9  tgt_CRBN  tgt_Cdc20  tgt_EED  tgt_EGFR  tgt_EGFR L858R  tgt_EGFR L858R/T790M  tgt_EGFR e19d  tgt_ER  tgt_ERRalpha  tgt_EZH2  tgt_FAK  tgt_FKBP12  tgt_GCN5  tgt_GSK-3beta  tgt_GSK3A  tgt_HDAC3  tgt_HDAC6  tgt_HMGCR  ...  ct_MOLT-4/platelets  ct_MV-4-11  ct_MV-4-11/NCI-H1568  ct_MV4-11  ct_MV4;11  ct_Mino  ct_Molm-16  ct_Molm-16/SU-DHL-1  ct_NAMALWA  ct_NAMALWA/XLA  ct_NCI-H2030  ct_NCI-H2030/MIAPaCa-2/SW1573  ct_NCI-H23/NCI-H358  ct_NCI-H661/NCI-H838  ct_Namalwa/CA-46  ct_OCI-AML2/OCI-AML3/Ramos  ct_OVCAR8/HeLa  ct_PBMC  ct_PC-3  ct_PC-3/LNCaP/MDA-MB-231  ct_PC3  ct_PC3-S1  ct_PC9  ct_Pfeiffer/DOHH2/K562  ct_RI-1  ct_Ramos  ct_Ramos/THP-1  ct_SK-MEL-246  ct_SK-MEL-28  ct_SR  ct_SRD15  ct_SU-DHL-1/NCI-H2228  ct_SUM149  ct_SW1573  ct_SW480  ct_SW620  ct_Sertoli/germ  ct_Sk-Mel-28  ct_T47D/MB-MDA-231  ct_THP-1  ct_THP1  ct_TM3/PA1/MDA-MB-436  ct_Tu-I  ct_U251  ct_Unknown  ct_VCaP  ct_WI38  ct_XLA  ct_Z138/HBL-1/Mino  ct_hPBMC\n",
       "0           0           0         0         0         0        0               0       0          0          0           0         0            0        0               0               0               0         0         0         0             0         0         1        0              0          0          0         0         0         0         0         0         0          0        0         0               0                     0              0       0             0         0        0           0         0              0          0          0          0          0  ...                    0           0                     0          0          0        0           0                    0           0               0             0                              0                    0                     0                 0                           0               0        0        0                         0       0          0       0                       0        0         0               0              0             0      0         0                      0          0          0         0         0                0             0                   0         0        0                      0        0        0           0        0        0       0                   0         0\n",
       "1           0           0         0         0         0        0               0       0          0          0           0         0            0        0               0               0               0         0         0         0             0         1         0        0              0          0          0         0         0         0         0         0         0          0        0         0               0                     0              0       0             0         0        0           0         0              0          0          0          0          0  ...                    0           0                     0          0          0        0           0                    0           0               0             0                              0                    0                     0                 0                           0               0        0        0                         0       0          0       0                       0        1         0               0              0             0      0         0                      0          0          0         0         0                0             0                   0         0        0                      0        0        0           0        0        0       0                   0         0\n",
       "2           0           0         0         0         0        0               0       0          0          0           0         0            0        0               0               0               0         0         0         0             0         0         1        0              0          0          0         0         0         0         0         0         0          0        0         0               0                     0              0       0             0         0        0           0         0              0          0          0          0          0  ...                    0           0                     0          0          0        0           0                    0           0               0             0                              0                    0                     0                 0                           0               0        0        0                         0       0          0       0                       0        1         0               0              0             0      0         0                      0          0          0         0         0                0             0                   0         0        0                      0        0        0           0        0        0       0                   0         0\n",
       "3           0           0         0         0         0        0               0       0          0          0           0         0            0        0               0               0               0         0         0         0             0         1         0        0              0          0          0         0         0         0         0         0         0          0        0         0               0                     0              0       0             0         0        0           0         0              0          0          0          0          0  ...                    0           0                     0          0          0        0           0                    0           0               0             0                              0                    0                     0                 0                           0               0        0        0                         0       0          0       0                       0        0         0               0              0             0      0         0                      0          0          0         0         0                0             0                   0         0        0                      0        0        0           0        0        0       0                   0         0\n",
       "4           0           0         0         0         0        0               0       0          0          0           0         0            0        0               0               0               0         0         0         0             0         0         1        0              0          0          0         0         0         0         0         0         0          0        0         0               0                     0              0       0             0         0        0           0         0              0          0          0          0          0  ...                    0           0                     0          0          0        0           0                    0           0               0             0                              0                    0                     0                 0                           0               0        0        0                         0       0          0       0                       0        0         0               0              0             0      0         0                      0          0          0         0         0                0             0                   0         0        0                      0        0        0           0        0        0       0                   0         0\n",
       "..        ...         ...       ...       ...       ...      ...             ...     ...        ...        ...         ...       ...          ...      ...             ...             ...             ...       ...       ...       ...           ...       ...       ...      ...            ...        ...        ...       ...       ...       ...       ...       ...       ...        ...      ...       ...             ...                   ...            ...     ...           ...       ...      ...         ...       ...            ...        ...        ...        ...        ...  ...                  ...         ...                   ...        ...        ...      ...         ...                  ...         ...             ...           ...                            ...                  ...                   ...               ...                         ...             ...      ...      ...                       ...     ...        ...     ...                     ...      ...       ...             ...            ...           ...    ...       ...                    ...        ...        ...       ...       ...              ...           ...                 ...       ...      ...                    ...      ...      ...         ...      ...      ...     ...                 ...       ...\n",
       "633         0           0         0         0         0        0               0       0          0          0           0         0            0        0               0               0               0         0         0         0             0         0         0        0              0          0          0         0         0         0         0         0         0          0        0         0               0                     0              1       0             0         0        0           0         0              0          0          0          0          0  ...                    0           0                     0          0          0        0           0                    0           0               0             0                              0                    0                     0                 0                           0               0        0        0                         0       0          0       1                       0        0         0               0              0             0      0         0                      0          0          0         0         0                0             0                   0         0        0                      0        0        0           0        0        0       0                   0         0\n",
       "634         0           0         0         0         0        0               0       0          0          0           0         0            0        0               0               0               0         0         0         0             0         0         0        0              0          0          0         0         0         0         0         0         0          0        0         0               0                     1              0       0             0         0        0           0         0              0          0          0          0          0  ...                    0           0                     0          0          0        0           0                    0           0               0             0                              0                    0                     0                 0                           0               0        0        0                         0       0          0       0                       0        0         0               0              0             0      0         0                      0          0          0         0         0                0             0                   0         0        0                      0        0        0           1        0        0       0                   0         0\n",
       "635         0           0         0         0         0        0               0       0          0          0           0         0            0        0               0               0               0         0         0         0             0         0         0        0              0          0          0         0         0         0         0         0         0          0        0         0               0                     0              1       0             0         0        0           0         0              0          0          0          0          0  ...                    0           0                     0          0          0        0           0                    0           0               0             0                              0                    0                     0                 0                           0               0        0        0                         0       0          0       1                       0        0         0               0              0             0      0         0                      0          0          0         0         0                0             0                   0         0        0                      0        0        0           0        0        0       0                   0         0\n",
       "636         0           0         0         0         0        0               0       0          0          0           0         0            0        0               0               0               0         0         0         0             0         0         0        0              0          0          0         0         0         0         0         0         0          0        0         0               0                     0              0       0             0         0        0           0         0              0          0          0          0          0  ...                    0           0                     0          0          1        0           0                    0           0               0             0                              0                    0                     0                 0                           0               0        0        0                         0       0          0       0                       0        0         0               0              0             0      0         0                      0          0          0         0         0                0             0                   0         0        0                      0        0        0           0        0        0       0                   0         0\n",
       "637         0           0         0         0         0        0               0       0          0          0           0         0            0        0               0               0               0         0         0         0             0         0         0        0              0          0          0         0         0         0         0         0         0          0        0         0               0                     0              0       0             0         0        0           0         0              0          0          0          0          0  ...                    0           0                     0          0          0        0           0                    0           0               0             0                              0                    0                     0                 0                           0               0        0        0                         0       0          0       0                       0        0         0               0              0             0      0         0                      0          0          0         0         0                0             0                   0         0        0                      0        0        0           0        0        0       0                   0         0\n",
       "\n",
       "[638 rows x 454 columns]"
      ]
     },
     "execution_count": 9,
     "metadata": {},
     "output_type": "execute_result"
    },
    {
     "name": "stdout",
     "output_type": "stream",
     "text": [
      "\n",
      "model_df: 638 x 454 (added cell type feature)\n"
     ]
    }
   ],
   "source": [
    "celltypes = []\n",
    "for i in range(input_df.shape[0]):\n",
    "    row = str(input_df.iloc[i].to_list())\n",
    "    cell = re.findall('[\\w\\.;/-]+ cells', row)\n",
    "    if len(cell)==0:\n",
    "        celltypes.append('Unknown')\n",
    "    else:\n",
    "        celltypes.append(cell[0][:-6])\n",
    "\n",
    "def most_frequent(List):\n",
    "    return max(set(List), key = List.count)\n",
    "\n",
    "print(\"Most Common Cell Type: \" + most_frequent(celltypes))\n",
    "\n",
    "print('Cell Types: ' + str(set(celltypes)))\n",
    "len(set(celltypes))\n",
    "model_df['ct'] = celltypes\n",
    "model_df = pd.get_dummies(model_df, prefix='ct')\n",
    "model_df\n",
    "print(\"\\nmodel_df: {:,} x {:,}\".format(*model_df.shape), \"(added cell type feature)\")"
   ]
  },
  {
   "cell_type": "markdown",
   "metadata": {},
   "source": [
    "Response Variable (DC50)"
   ]
  },
  {
   "cell_type": "code",
   "execution_count": 10,
   "metadata": {},
   "outputs": [
    {
     "name": "stderr",
     "output_type": "stream",
     "text": [
      "/var/folders/vs/8ts0hp5d0wzf8zdrzyqly4840000gn/T/ipykernel_30383/1778872113.py:4: FutureWarning: The default value of regex will change from True to False in a future version.\n",
      "  model_df['resp'] = model_df[\"resp\"].str.replace(\"[<=>]\",\"\")\n",
      "/var/folders/vs/8ts0hp5d0wzf8zdrzyqly4840000gn/T/ipykernel_30383/1778872113.py:5: FutureWarning: The default value of regex will change from True to False in a future version.\n",
      "  model_df['resp'] = model_df[\"resp\"].str.replace(\"\\(n/a\\)\",\"0\")\n",
      "/var/folders/vs/8ts0hp5d0wzf8zdrzyqly4840000gn/T/ipykernel_30383/1778872113.py:6: FutureWarning: The default value of regex will change from True to False in a future version.\n",
      "  model_df['resp'] = model_df[\"resp\"].str.replace('[\\d]+[-~]',\"\")\n"
     ]
    }
   ],
   "source": [
    "#add and process DC50 column\n",
    "\n",
    "model_df['resp'] = list(input_df['DC50 (nM)'])\n",
    "model_df['resp'] = model_df[\"resp\"].str.replace(\"[<=>]\",\"\")\n",
    "model_df['resp'] = model_df[\"resp\"].str.replace(\"\\(n/a\\)\",\"0\")\n",
    "model_df['resp'] = model_df[\"resp\"].str.replace('[\\d]+[-~]',\"\")\n",
    "model_df = model_df.loc[~model_df['resp'].str.contains('[a-zA-Z]')]"
   ]
  },
  {
   "cell_type": "markdown",
   "metadata": {},
   "source": [
    "Split DC50 by Cell Type"
   ]
  },
  {
   "cell_type": "code",
   "execution_count": 11,
   "metadata": {},
   "outputs": [],
   "source": [
    "out_nochange = []\n",
    "out_v1 = []\n",
    "out_v2 = []\n",
    "for row in model_df.to_dict(orient=\"records\"):\n",
    "  #no slashes\n",
    "  if \"/\" not in row[\"resp\"]:\n",
    "    out_nochange.append(row)\n",
    "    continue\n",
    "  \n",
    "  #slashes in resp matched by a column with ct which has same number of slashes\n",
    "  lst = [k for k,v in row.items() if k.startswith(\"ct\") and \"/\" in k and v==1]\n",
    "  assert len(lst) in [0,1]\n",
    "  if len(lst) == 1:\n",
    "    #test.append((lst[0],row[\"resp\"]))\n",
    "    cols = lst[0].split(\"/\")\n",
    "    vals = row[\"resp\"].split(\"/\")\n",
    "    assert len(cols)==len(vals)\n",
    "    assert len(cols) in [2,3]\n",
    "    \n",
    "    #adding 2 or 3 rows\n",
    "    for c,v in zip(cols,vals):\n",
    "      dct = row.copy()\n",
    "      k = c if c.startswith(\"ct_\") else \"ct_\"+c\n",
    "      dct[k] = 1\n",
    "      dct[\"resp\"] = v\n",
    "      del dct[lst[0]]\n",
    "      out_v1.append(dct)\n",
    "  else:\n",
    "    vals = row[\"resp\"].split(\"/\")\n",
    "    dct = row.copy()\n",
    "    dct[\"resp\"] = vals[0]\n",
    "    out_v2.append(dct)\n",
    "    \n",
    "    \n",
    "model_df = pd.DataFrame(out_nochange+out_v1+out_v2)\n",
    "model_df = model_df.fillna(0)\n",
    "model_df['resp'] = pd.to_numeric(model_df['resp'])"
   ]
  },
  {
   "cell_type": "markdown",
   "metadata": {},
   "source": [
    "DC50 Distribution and Cutoff Determination"
   ]
  },
  {
   "cell_type": "code",
   "execution_count": 12,
   "metadata": {},
   "outputs": [
    {
     "data": {
      "text/plain": [
       "[Text(0.5, 0, 'DC50 Value')]"
      ]
     },
     "execution_count": 12,
     "metadata": {},
     "output_type": "execute_result"
    },
    {
     "data": {
      "text/plain": [
       "[Text(0, 0.5, 'Count')]"
      ]
     },
     "execution_count": 12,
     "metadata": {},
     "output_type": "execute_result"
    },
    {
     "name": "stderr",
     "output_type": "stream",
     "text": [
      "No artists with labels found to put in legend.  Note that artists whose label start with an underscore are ignored when legend() is called with no argument.\n"
     ]
    },
    {
     "data": {
      "text/plain": [
       "<matplotlib.legend.Legend at 0x7fc3f82e7ac0>"
      ]
     },
     "execution_count": 12,
     "metadata": {},
     "output_type": "execute_result"
    },
    {
     "data": {
      "text/plain": [
       "[<matplotlib.axis.XTick at 0x7fc3f840ce20>,\n",
       " <matplotlib.axis.XTick at 0x7fc3f840ce50>,\n",
       " <matplotlib.axis.XTick at 0x7fc3f8409f40>,\n",
       " <matplotlib.axis.XTick at 0x7fc3f836b790>,\n",
       " <matplotlib.axis.XTick at 0x7fc3f836f130>,\n",
       " <matplotlib.axis.XTick at 0x7fc3f836f7c0>,\n",
       " <matplotlib.axis.XTick at 0x7fc3f8374280>,\n",
       " <matplotlib.axis.XTick at 0x7fc3f836f8e0>,\n",
       " <matplotlib.axis.XTick at 0x7fc3f8374250>,\n",
       " <matplotlib.axis.XTick at 0x7fc3f837a0d0>]"
      ]
     },
     "execution_count": 12,
     "metadata": {},
     "output_type": "execute_result"
    },
    {
     "data": {
      "image/png": "[encoded data removed]",
      "text/plain": [
       "<Figure size 432x288 with 1 Axes>"
      ]
     },
     "metadata": {
      "needs_background": "light"
     },
     "output_type": "display_data"
    }
   ],
   "source": [
    "#dropping rows with outlier DC50 values\n",
    "model_df.drop(model_df.index[model_df['resp'] <= 0], inplace=True)\n",
    "model_df.loc[model_df.resp>100, 'resp'] = 101\n",
    "\n",
    "ax = model_df['resp'].astype(float).hist(bins = 20)\n",
    "ax.set(xlabel=f\"DC50 Value\")\n",
    "ax.set(ylabel=f\"Count\")\n",
    "ax.legend(loc=\"upper right\")\n",
    "ax.set_xticks(ticks=range(0, 100, 10), minor=False)"
   ]
  },
  {
   "cell_type": "code",
   "execution_count": 13,
   "metadata": {},
   "outputs": [],
   "source": [
    "model_df.loc[model_df.resp<=10.0, 'resp_categorical'] = '0'\n",
    "#model_df.loc[(model_df.resp<=100.0).any() and (model_df.resp>10.0).any(), 'resp_categorical'] = '1'\n",
    "model_df.loc[model_df.resp>100.0, 'resp_categorical'] = '2'\n",
    "model_df['resp_categorical'] = model_df['resp_categorical'].fillna('1')\n",
    "model_df.drop(model_df.tail(1).index,inplace=True) # drop last row of nans"
   ]
  },
  {
   "cell_type": "markdown",
   "metadata": {},
   "source": [
    "Model Matrices"
   ]
  },
  {
   "cell_type": "code",
   "execution_count": 14,
   "metadata": {},
   "outputs": [
    {
     "name": "stdout",
     "output_type": "stream",
     "text": [
      "nfeatures: 505\n",
      "x train before: 566 x 505 (x df) \n",
      "\n"
     ]
    }
   ],
   "source": [
    "train,test = train_test_split(model_df, random_state=1, test_size=.2)\n",
    "\n",
    "features = train.columns.tolist()[1:-1]  #dropping \"resp\"\n",
    "print(f\"nfeatures: {len(features):,}\")\n",
    "\n",
    "X_train = train.drop([\"resp_categorical\",\"resp\"], axis=1).values\n",
    "print(\"x train before: {:,} x {:,}\".format(*X_train.shape), \"(x df) \\n\")\n",
    "y_train = train[\"resp_categorical\"].values\n",
    "y_train = np.array([int(x) for x in y_train])\n",
    "\n",
    "X_test = test.drop([\"resp_categorical\",\"resp\"], axis=1).values\n",
    "y_test = test[\"resp_categorical\"].values\n",
    "y_test = np.array([int(x) for x in y_test])\n",
    "\n",
    "del train, test"
   ]
  },
  {
   "cell_type": "code",
   "execution_count": 15,
   "metadata": {},
   "outputs": [
    {
     "name": "stdout",
     "output_type": "stream",
     "text": [
      "[train] X: 566 x 505\n",
      "[test] X: 142 x 505\n"
     ]
    }
   ],
   "source": [
    "print(\"[train] X: {:,} x {:,}\".format(*X_train.shape,y_train.shape))\n",
    "print(\"[test] X: {:,} x {:,}\".format(*X_test.shape,y_train.shape))"
   ]
  },
  {
   "cell_type": "markdown",
   "metadata": {},
   "source": [
    "HyperParam Optimization via Optuna"
   ]
  },
  {
   "cell_type": "code",
   "execution_count": 16,
   "metadata": {},
   "outputs": [
    {
     "name": "stdout",
     "output_type": "stream",
     "text": [
      "best trial (100): 0 (0.489) 1 (0.576) 5 (0.578) 6 (0.595) 8 (0.601) 10 (0.650) 11 (0.659) 12 (0.662) 14 (0.692) 20 40 60 65 (0.692) 80 "
     ]
    }
   ],
   "source": [
    "class LightGBM:\n",
    "  \n",
    "  def __init__(self):\n",
    "    self.best_booster = None\n",
    "    self._booster = None\n",
    "    \n",
    "    self.X = X_train\n",
    "    self.y = y_train\n",
    "    self.nclass = 3\n",
    "    self.wts = class_weight.compute_sample_weight(class_weight=\"balanced\", y=self.y)\n",
    "    self.prm_lgb = {      \n",
    "      \"objective\": \"multiclass\",\n",
    "      \"metric\": None, \n",
    "      \"verbosity\": -1,\n",
    "      \"num_class\": self.nclass,\n",
    "      \"boosting_type\": \"gbdt\",\n",
    "      \"force_row_wise\": True,\n",
    "      \"min_gain_to_split\": .5,\n",
    "    }\n",
    "  \n",
    "  def __call__(self, trial):    \n",
    "    dtrain = lgb.Dataset(self.X, self.y, weight=self.wts)\n",
    "    prm_lgb = {\n",
    "      **self.prm_lgb\n",
    "      , **{\n",
    "        \"learning_rate\": trial.suggest_loguniform(\"learning_rate\", .01, .3),\n",
    "        \"lambda_l1\": trial.suggest_loguniform(\"lambda_l1\", 1E-3, 1.),\n",
    "        \"lambda_l2\": trial.suggest_loguniform(\"lambda_l2\", .5, 3.),\n",
    "        \"num_leaves\": trial.suggest_int(\"num_leaves\", 8, 32),\n",
    "        \"min_data_in_leaf\": trial.suggest_int(\"min_data_in_leaf\", 50, 100),\n",
    "        \"feature_fraction\": trial.suggest_uniform(\"feature_fraction\", .3, .6),\n",
    "        \"bagging_fraction\": trial.suggest_uniform(\"bagging_fraction\", .4, 1.),\n",
    "        \"bagging_freq\": trial.suggest_int(\"bagging_freq\", 2, 6),\n",
    "        \"boosting_type\":trial.suggest_categorical(\"boosting_type\",[\"gbdt\",\"rf\"])\n",
    "      }\n",
    "    }\n",
    "    \n",
    "    def f1_eval(preds, dtrain):\n",
    "      preds = preds.reshape(self.nclass,-1).T\n",
    "      f_score = f1_score(dtrain.get_label(),preds.argmax(axis=1),average=\"micro\")\n",
    "      return \"f1_score\",f_score,True\n",
    "    \n",
    "    early_stop = lgb.early_stopping(20, first_metric_only=False, verbose=False)\n",
    "    eval_hist = lgb.cv(prm_lgb, dtrain, nfold=5, seed=12345, num_boost_round=prm[\"NBOOST\"],\n",
    "                           feval=f1_eval, callbacks=[early_stop])\n",
    "    \n",
    "    return eval_hist[\"f1_score-mean\"][-1]\n",
    "  \n",
    "  def callback(self, study, trial):\n",
    "    if study.best_trial==trial:\n",
    "      print(f\"{study.best_trial.number} ({study.best_trial.values[0]:.3f})\", end=\" \", flush=True)\n",
    "      self.best_booster = self._booster\n",
    "      return\n",
    "    if trial.number%20==0:\n",
    "      print(f\"{trial.number}\", end=\" \", flush=True)\n",
    "\n",
    "  \n",
    "objective = LightGBM()\n",
    "print(f\"best trial ({prm['NTRIALS']}):\", end=\" \")\n",
    "study = optuna.create_study(pruner=optuna.pruners.MedianPruner(n_warmup_steps=10), \n",
    "                              sampler=optuna.samplers.TPESampler(seed=1234), direction=\"maximize\")\n",
    "study.optimize(objective, n_trials=prm[\"NTRIALS\"], callbacks=[objective.callback])"
   ]
  },
  {
   "cell_type": "code",
   "execution_count": 17,
   "metadata": {},
   "outputs": [
    {
     "data": {
      "text/html": [
       "<div>\n",
       "<style scoped>\n",
       "    .dataframe tbody tr th:only-of-type {\n",
       "        vertical-align: middle;\n",
       "    }\n",
       "\n",
       "    .dataframe tbody tr th {\n",
       "        vertical-align: top;\n",
       "    }\n",
       "\n",
       "    .dataframe thead th {\n",
       "        text-align: right;\n",
       "    }\n",
       "</style>\n",
       "<table border=\"1\" class=\"dataframe\">\n",
       "  <thead>\n",
       "    <tr style=\"text-align: right;\">\n",
       "      <th></th>\n",
       "      <th>bagging_fraction</th>\n",
       "      <th>bagging_freq</th>\n",
       "      <th>boosting_type</th>\n",
       "      <th>feature_fraction</th>\n",
       "      <th>lambda_l1</th>\n",
       "      <th>lambda_l2</th>\n",
       "      <th>learning_rate</th>\n",
       "      <th>min_data_in_leaf</th>\n",
       "      <th>num_leaves</th>\n",
       "      <th>value</th>\n",
       "      <th>duration</th>\n",
       "    </tr>\n",
       "  </thead>\n",
       "  <tbody>\n",
       "    <tr>\n",
       "      <th>65</th>\n",
       "      <td>0.9379</td>\n",
       "      <td>3</td>\n",
       "      <td>gbdt</td>\n",
       "      <td>0.4260</td>\n",
       "      <td>0.1545</td>\n",
       "      <td>0.6919</td>\n",
       "      <td>0.2215</td>\n",
       "      <td>54</td>\n",
       "      <td>13</td>\n",
       "      <td>0.6925</td>\n",
       "      <td>1.0654</td>\n",
       "    </tr>\n",
       "    <tr>\n",
       "      <th>14</th>\n",
       "      <td>0.8876</td>\n",
       "      <td>3</td>\n",
       "      <td>gbdt</td>\n",
       "      <td>0.3912</td>\n",
       "      <td>0.2799</td>\n",
       "      <td>0.7884</td>\n",
       "      <td>0.2299</td>\n",
       "      <td>56</td>\n",
       "      <td>15</td>\n",
       "      <td>0.6925</td>\n",
       "      <td>1.9581</td>\n",
       "    </tr>\n",
       "    <tr>\n",
       "      <th>22</th>\n",
       "      <td>0.9205</td>\n",
       "      <td>3</td>\n",
       "      <td>gbdt</td>\n",
       "      <td>0.3990</td>\n",
       "      <td>0.1525</td>\n",
       "      <td>0.6714</td>\n",
       "      <td>0.2867</td>\n",
       "      <td>56</td>\n",
       "      <td>15</td>\n",
       "      <td>0.6907</td>\n",
       "      <td>2.2119</td>\n",
       "    </tr>\n",
       "    <tr>\n",
       "      <th>...</th>\n",
       "      <td>...</td>\n",
       "      <td>...</td>\n",
       "      <td>...</td>\n",
       "      <td>...</td>\n",
       "      <td>...</td>\n",
       "      <td>...</td>\n",
       "      <td>...</td>\n",
       "      <td>...</td>\n",
       "      <td>...</td>\n",
       "      <td>...</td>\n",
       "      <td>...</td>\n",
       "    </tr>\n",
       "    <tr>\n",
       "      <th>0</th>\n",
       "      <td>0.5659</td>\n",
       "      <td>6</td>\n",
       "      <td>gbdt</td>\n",
       "      <td>0.3818</td>\n",
       "      <td>0.0735</td>\n",
       "      <td>1.0954</td>\n",
       "      <td>0.0192</td>\n",
       "      <td>89</td>\n",
       "      <td>27</td>\n",
       "      <td>0.4894</td>\n",
       "      <td>1.0340</td>\n",
       "    </tr>\n",
       "    <tr>\n",
       "      <th>38</th>\n",
       "      <td>0.7127</td>\n",
       "      <td>4</td>\n",
       "      <td>rf</td>\n",
       "      <td>0.4751</td>\n",
       "      <td>0.5420</td>\n",
       "      <td>0.5012</td>\n",
       "      <td>0.0231</td>\n",
       "      <td>100</td>\n",
       "      <td>11</td>\n",
       "      <td>0.4770</td>\n",
       "      <td>0.6926</td>\n",
       "    </tr>\n",
       "    <tr>\n",
       "      <th>4</th>\n",
       "      <td>0.4260</td>\n",
       "      <td>4</td>\n",
       "      <td>rf</td>\n",
       "      <td>0.4600</td>\n",
       "      <td>0.0036</td>\n",
       "      <td>0.5443</td>\n",
       "      <td>0.0123</td>\n",
       "      <td>80</td>\n",
       "      <td>24</td>\n",
       "      <td>0.4663</td>\n",
       "      <td>1.0410</td>\n",
       "    </tr>\n",
       "  </tbody>\n",
       "</table>\n",
       "<p>100 rows × 11 columns</p>\n",
       "</div>"
      ]
     },
     "metadata": {},
     "output_type": "display_data"
    },
    {
     "name": "stdout",
     "output_type": "stream",
     "text": [
      "  duration: 2.1min\n"
     ]
    },
    {
     "data": {
      "text/html": [
       "<div>\n",
       "<style scoped>\n",
       "    .dataframe tbody tr th:only-of-type {\n",
       "        vertical-align: middle;\n",
       "    }\n",
       "\n",
       "    .dataframe tbody tr th {\n",
       "        vertical-align: top;\n",
       "    }\n",
       "\n",
       "    .dataframe thead th {\n",
       "        text-align: right;\n",
       "    }\n",
       "</style>\n",
       "<table border=\"1\" class=\"dataframe\">\n",
       "  <thead>\n",
       "    <tr style=\"text-align: right;\">\n",
       "      <th></th>\n",
       "      <th>meanv</th>\n",
       "      <th>sdv</th>\n",
       "    </tr>\n",
       "    <tr>\n",
       "      <th>boosting_type</th>\n",
       "      <th></th>\n",
       "      <th></th>\n",
       "    </tr>\n",
       "  </thead>\n",
       "  <tbody>\n",
       "    <tr>\n",
       "      <th>gbdt</th>\n",
       "      <td>0.661955</td>\n",
       "      <td>0.032011</td>\n",
       "    </tr>\n",
       "    <tr>\n",
       "      <th>rf</th>\n",
       "      <td>0.559261</td>\n",
       "      <td>0.050334</td>\n",
       "    </tr>\n",
       "  </tbody>\n",
       "</table>\n",
       "</div>"
      ],
      "text/plain": [
       "                  meanv       sdv\n",
       "boosting_type                    \n",
       "gbdt           0.661955  0.032011\n",
       "rf             0.559261  0.050334"
      ]
     },
     "execution_count": 17,
     "metadata": {},
     "output_type": "execute_result"
    }
   ],
   "source": [
    "trials_df = study.trials_dataframe(attrs=(\"params\",\"user_attrs\",\"value\",\"duration\"))\n",
    "for y in [\"params\",\"user_attrs\"]:\n",
    "  trials_df.columns = [x[1+len(y):] if x.startswith(y) else x for x in trials_df.columns]\n",
    "trials_df[\"duration\"] = trials_df[\"duration\"].apply(lambda x:x.total_seconds())\n",
    "with pd.option_context(\"display.max_rows\",6, \"display.float_format\",\"{:.4f}\".format):\n",
    "  display_html(trials_df.sort_values(\"value\", ascending=False))\n",
    "print(f\"  duration: {trials_df['duration'].sum()/60:.1f}min\")\n",
    "\n",
    "trials_df.groupby(\"boosting_type\").agg(meanv=(\"value\",\"mean\"),sdv=(\"value\",\"std\"))"
   ]
  },
  {
   "cell_type": "code",
   "execution_count": 18,
   "metadata": {},
   "outputs": [
    {
     "name": "stdout",
     "output_type": "stream",
     "text": [
      "Best Boosted Tree Model Mean F1 Score: 0.6924701133364385\n",
      "Best Random Forest Model Mean F1 Score: 0.613025927650986\n"
     ]
    }
   ],
   "source": [
    "print(\"Best Boosted Tree Model Mean F1 Score: \" + str(trials_df[trials_df['boosting_type']=='gbdt']['value'].max()))\n",
    "print(\"Best Random Forest Model Mean F1 Score: \" + str(trials_df[trials_df['boosting_type']=='rf']['value'].max()))"
   ]
  },
  {
   "cell_type": "markdown",
   "metadata": {},
   "source": [
    "Model Training"
   ]
  },
  {
   "cell_type": "code",
   "execution_count": 19,
   "metadata": {},
   "outputs": [],
   "source": [
    "ind = np.argmax(trials_df[\"value\"].values)\n",
    "lgb_prm = study.trials[ind].params\n",
    "lgb_prm = {**lgb_prm, \n",
    "  **{\n",
    "    \"objective\": \"multiclass\",\n",
    "    \"metric\": None,\n",
    "    \"num_class\": 3,\n",
    "    \"force_row_wise\": True, \n",
    "    \"verbosity\": -1,\n",
    "    \"min_gain_to_split\": .5,\n",
    "  }\n",
    "}\n",
    "\n",
    "def f1_eval(preds, dtrain):\n",
    "  preds = preds.reshape(prm['NCLASS'],-1).T\n",
    "  f_score = f1_score(dtrain.get_label(),preds.argmax(axis=1),average=\"micro\")\n",
    "  return \"f1_score\",f_score,True\n",
    "\n",
    "wt = class_weight.compute_sample_weight(class_weight=\"balanced\", y=y_train)\n",
    "dtrain = lgb.Dataset(X_train, y_train, weight=wt)\n",
    "#early_stop = lgb.early_stopping(20, first_metric_only=False, verbose=True)\n",
    "model = lgb.train(lgb_prm, dtrain, feval=f1_eval,\n",
    "                      num_boost_round=prm[\"NBOOST\"])\n",
    "\n",
    "del ind, lgb_prm, wt"
   ]
  },
  {
   "cell_type": "markdown",
   "metadata": {},
   "source": [
    "Results"
   ]
  },
  {
   "cell_type": "code",
   "execution_count": 20,
   "metadata": {},
   "outputs": [
    {
     "name": "stdout",
     "output_type": "stream",
     "text": [
      "train roc_ovo 0.9269    train roc_ovr 0.9278\n",
      "\n",
      "test roc_ovo 0.8271    test roc_ovr 0.8325\n",
      "\n",
      "              precision    recall  f1-score   support\n",
      "\n",
      "           0       0.66      0.67      0.67        43\n",
      "           1       0.57      0.58      0.57        43\n",
      "           2       0.81      0.79      0.80        56\n",
      "\n",
      "    accuracy                           0.69       142\n",
      "   macro avg       0.68      0.68      0.68       142\n",
      "weighted avg       0.69      0.69      0.69       142\n",
      "\n"
     ]
    }
   ],
   "source": [
    "train_pred = model.predict(X_train)\n",
    "print(f\"train roc_ovo {roc_auc_score(y_train,train_pred,multi_class='ovo'):.4f}    train roc_ovr {roc_auc_score(y_train,train_pred,multi_class='ovr'):.4f}\\n\")\n",
    "y_train_pred = [train_pred[i].argmax(axis=0) for i in range(len(train_pred))]\n",
    "\n",
    "test_pred = model.predict(X_test)\n",
    "print(f\"test roc_ovo {roc_auc_score(y_test,test_pred,multi_class='ovo'):.4f}    test roc_ovr {roc_auc_score(y_test,test_pred,multi_class='ovr'):.4f}\\n\")\n",
    "y_test_pred = [test_pred[i].argmax(axis=0) for i in range(len(test_pred))]\n",
    "\n",
    "print(classification_report(y_test,y_test_pred))"
   ]
  },
  {
   "cell_type": "code",
   "execution_count": 21,
   "metadata": {},
   "outputs": [
    {
     "data": {
      "application/vnd.plotly.v1+json": {
       "config": {
        "plotlyServerURL": "https://plot.ly"
       },
       "data": [
        {
         "cliponaxis": false,
         "hovertemplate": [
          "num_leaves (IntUniformDistribution): 0.003555996207314236<extra></extra>",
          "feature_fraction (UniformDistribution): 0.00415166332038085<extra></extra>",
          "lambda_l1 (LogUniformDistribution): 0.004549445066937909<extra></extra>",
          "lambda_l2 (LogUniformDistribution): 0.008507011059133832<extra></extra>",
          "bagging_freq (IntUniformDistribution): 0.027944112209933574<extra></extra>",
          "learning_rate (LogUniformDistribution): 0.09645624246761998<extra></extra>",
          "bagging_fraction (UniformDistribution): 0.20186035724669907<extra></extra>",
          "min_data_in_leaf (IntUniformDistribution): 0.22694326664445455<extra></extra>",
          "boosting_type (CategoricalDistribution): 0.426031905777526<extra></extra>"
         ],
         "marker": {
          "color": "rgb(66,146,198)"
         },
         "orientation": "h",
         "text": [
          "0.003555996207314236",
          "0.00415166332038085",
          "0.004549445066937909",
          "0.008507011059133832",
          "0.027944112209933574",
          "0.09645624246761998",
          "0.20186035724669907",
          "0.22694326664445455",
          "0.426031905777526"
         ],
         "textposition": "outside",
         "texttemplate": "%{text:.2f}",
         "type": "bar",
         "x": [
          0.003555996207314236,
          0.00415166332038085,
          0.004549445066937909,
          0.008507011059133832,
          0.027944112209933574,
          0.09645624246761998,
          0.20186035724669907,
          0.22694326664445455,
          0.426031905777526
         ],
         "y": [
          "num_leaves",
          "feature_fraction",
          "lambda_l1",
          "lambda_l2",
          "bagging_freq",
          "learning_rate",
          "bagging_fraction",
          "min_data_in_leaf",
          "boosting_type"
         ]
        }
       ],
       "layout": {
        "showlegend": false,
        "template": {
         "data": {
          "bar": [
           {
            "error_x": {
             "color": "#2a3f5f"
            },
            "error_y": {
             "color": "#2a3f5f"
            },
            "marker": {
             "line": {
              "color": "#E5ECF6",
              "width": 0.5
             },
             "pattern": {
              "fillmode": "overlay",
              "size": 10,
              "solidity": 0.2
             }
            },
            "type": "bar"
           }
          ],
          "barpolar": [
           {
            "marker": {
             "line": {
              "color": "#E5ECF6",
              "width": 0.5
             },
             "pattern": {
              "fillmode": "overlay",
              "size": 10,
              "solidity": 0.2
             }
            },
            "type": "barpolar"
           }
          ],
          "carpet": [
           {
            "aaxis": {
             "endlinecolor": "#2a3f5f",
             "gridcolor": "white",
             "linecolor": "white",
             "minorgridcolor": "white",
             "startlinecolor": "#2a3f5f"
            },
            "baxis": {
             "endlinecolor": "#2a3f5f",
             "gridcolor": "white",
             "linecolor": "white",
             "minorgridcolor": "white",
             "startlinecolor": "#2a3f5f"
            },
            "type": "carpet"
           }
          ],
          "choropleth": [
           {
            "colorbar": {
             "outlinewidth": 0,
             "ticks": ""
            },
            "type": "choropleth"
           }
          ],
          "contour": [
           {
            "colorbar": {
             "outlinewidth": 0,
             "ticks": ""
            },
            "colorscale": [
             [
              0,
              "#0d0887"
             ],
             [
              0.1111111111111111,
              "#46039f"
             ],
             [
              0.2222222222222222,
              "#7201a8"
             ],
             [
              0.3333333333333333,
              "#9c179e"
             ],
             [
              0.4444444444444444,
              "#bd3786"
             ],
             [
              0.5555555555555556,
              "#d8576b"
             ],
             [
              0.6666666666666666,
              "#ed7953"
             ],
             [
              0.7777777777777778,
              "#fb9f3a"
             ],
             [
              0.8888888888888888,
              "#fdca26"
             ],
             [
              1,
              "#f0f921"
             ]
            ],
            "type": "contour"
           }
          ],
          "contourcarpet": [
           {
            "colorbar": {
             "outlinewidth": 0,
             "ticks": ""
            },
            "type": "contourcarpet"
           }
          ],
          "heatmap": [
           {
            "colorbar": {
             "outlinewidth": 0,
             "ticks": ""
            },
            "colorscale": [
             [
              0,
              "#0d0887"
             ],
             [
              0.1111111111111111,
              "#46039f"
             ],
             [
              0.2222222222222222,
              "#7201a8"
             ],
             [
              0.3333333333333333,
              "#9c179e"
             ],
             [
              0.4444444444444444,
              "#bd3786"
             ],
             [
              0.5555555555555556,
              "#d8576b"
             ],
             [
              0.6666666666666666,
              "#ed7953"
             ],
             [
              0.7777777777777778,
              "#fb9f3a"
             ],
             [
              0.8888888888888888,
              "#fdca26"
             ],
             [
              1,
              "#f0f921"
             ]
            ],
            "type": "heatmap"
           }
          ],
          "heatmapgl": [
           {
            "colorbar": {
             "outlinewidth": 0,
             "ticks": ""
            },
            "colorscale": [
             [
              0,
              "#0d0887"
             ],
             [
              0.1111111111111111,
              "#46039f"
             ],
             [
              0.2222222222222222,
              "#7201a8"
             ],
             [
              0.3333333333333333,
              "#9c179e"
             ],
             [
              0.4444444444444444,
              "#bd3786"
             ],
             [
              0.5555555555555556,
              "#d8576b"
             ],
             [
              0.6666666666666666,
              "#ed7953"
             ],
             [
              0.7777777777777778,
              "#fb9f3a"
             ],
             [
              0.8888888888888888,
              "#fdca26"
             ],
             [
              1,
              "#f0f921"
             ]
            ],
            "type": "heatmapgl"
           }
          ],
          "histogram": [
           {
            "marker": {
             "pattern": {
              "fillmode": "overlay",
              "size": 10,
              "solidity": 0.2
             }
            },
            "type": "histogram"
           }
          ],
          "histogram2d": [
           {
            "colorbar": {
             "outlinewidth": 0,
             "ticks": ""
            },
            "colorscale": [
             [
              0,
              "#0d0887"
             ],
             [
              0.1111111111111111,
              "#46039f"
             ],
             [
              0.2222222222222222,
              "#7201a8"
             ],
             [
              0.3333333333333333,
              "#9c179e"
             ],
             [
              0.4444444444444444,
              "#bd3786"
             ],
             [
              0.5555555555555556,
              "#d8576b"
             ],
             [
              0.6666666666666666,
              "#ed7953"
             ],
             [
              0.7777777777777778,
              "#fb9f3a"
             ],
             [
              0.8888888888888888,
              "#fdca26"
             ],
             [
              1,
              "#f0f921"
             ]
            ],
            "type": "histogram2d"
           }
          ],
          "histogram2dcontour": [
           {
            "colorbar": {
             "outlinewidth": 0,
             "ticks": ""
            },
            "colorscale": [
             [
              0,
              "#0d0887"
             ],
             [
              0.1111111111111111,
              "#46039f"
             ],
             [
              0.2222222222222222,
              "#7201a8"
             ],
             [
              0.3333333333333333,
              "#9c179e"
             ],
             [
              0.4444444444444444,
              "#bd3786"
             ],
             [
              0.5555555555555556,
              "#d8576b"
             ],
             [
              0.6666666666666666,
              "#ed7953"
             ],
             [
              0.7777777777777778,
              "#fb9f3a"
             ],
             [
              0.8888888888888888,
              "#fdca26"
             ],
             [
              1,
              "#f0f921"
             ]
            ],
            "type": "histogram2dcontour"
           }
          ],
          "mesh3d": [
           {
            "colorbar": {
             "outlinewidth": 0,
             "ticks": ""
            },
            "type": "mesh3d"
           }
          ],
          "parcoords": [
           {
            "line": {
             "colorbar": {
              "outlinewidth": 0,
              "ticks": ""
             }
            },
            "type": "parcoords"
           }
          ],
          "pie": [
           {
            "automargin": true,
            "type": "pie"
           }
          ],
          "scatter": [
           {
            "fillpattern": {
             "fillmode": "overlay",
             "size": 10,
             "solidity": 0.2
            },
            "type": "scatter"
           }
          ],
          "scatter3d": [
           {
            "line": {
             "colorbar": {
              "outlinewidth": 0,
              "ticks": ""
             }
            },
            "marker": {
             "colorbar": {
              "outlinewidth": 0,
              "ticks": ""
             }
            },
            "type": "scatter3d"
           }
          ],
          "scattercarpet": [
           {
            "marker": {
             "colorbar": {
              "outlinewidth": 0,
              "ticks": ""
             }
            },
            "type": "scattercarpet"
           }
          ],
          "scattergeo": [
           {
            "marker": {
             "colorbar": {
              "outlinewidth": 0,
              "ticks": ""
             }
            },
            "type": "scattergeo"
           }
          ],
          "scattergl": [
           {
            "marker": {
             "colorbar": {
              "outlinewidth": 0,
              "ticks": ""
             }
            },
            "type": "scattergl"
           }
          ],
          "scattermapbox": [
           {
            "marker": {
             "colorbar": {
              "outlinewidth": 0,
              "ticks": ""
             }
            },
            "type": "scattermapbox"
           }
          ],
          "scatterpolar": [
           {
            "marker": {
             "colorbar": {
              "outlinewidth": 0,
              "ticks": ""
             }
            },
            "type": "scatterpolar"
           }
          ],
          "scatterpolargl": [
           {
            "marker": {
             "colorbar": {
              "outlinewidth": 0,
              "ticks": ""
             }
            },
            "type": "scatterpolargl"
           }
          ],
          "scatterternary": [
           {
            "marker": {
             "colorbar": {
              "outlinewidth": 0,
              "ticks": ""
             }
            },
            "type": "scatterternary"
           }
          ],
          "surface": [
           {
            "colorbar": {
             "outlinewidth": 0,
             "ticks": ""
            },
            "colorscale": [
             [
              0,
              "#0d0887"
             ],
             [
              0.1111111111111111,
              "#46039f"
             ],
             [
              0.2222222222222222,
              "#7201a8"
             ],
             [
              0.3333333333333333,
              "#9c179e"
             ],
             [
              0.4444444444444444,
              "#bd3786"
             ],
             [
              0.5555555555555556,
              "#d8576b"
             ],
             [
              0.6666666666666666,
              "#ed7953"
             ],
             [
              0.7777777777777778,
              "#fb9f3a"
             ],
             [
              0.8888888888888888,
              "#fdca26"
             ],
             [
              1,
              "#f0f921"
             ]
            ],
            "type": "surface"
           }
          ],
          "table": [
           {
            "cells": {
             "fill": {
              "color": "#EBF0F8"
             },
             "line": {
              "color": "white"
             }
            },
            "header": {
             "fill": {
              "color": "#C8D4E3"
             },
             "line": {
              "color": "white"
             }
            },
            "type": "table"
           }
          ]
         },
         "layout": {
          "annotationdefaults": {
           "arrowcolor": "#2a3f5f",
           "arrowhead": 0,
           "arrowwidth": 1
          },
          "autotypenumbers": "strict",
          "coloraxis": {
           "colorbar": {
            "outlinewidth": 0,
            "ticks": ""
           }
          },
          "colorscale": {
           "diverging": [
            [
             0,
             "#8e0152"
            ],
            [
             0.1,
             "#c51b7d"
            ],
            [
             0.2,
             "#de77ae"
            ],
            [
             0.3,
             "#f1b6da"
            ],
            [
             0.4,
             "#fde0ef"
            ],
            [
             0.5,
             "#f7f7f7"
            ],
            [
             0.6,
             "#e6f5d0"
            ],
            [
             0.7,
             "#b8e186"
            ],
            [
             0.8,
             "#7fbc41"
            ],
            [
             0.9,
             "#4d9221"
            ],
            [
             1,
             "#276419"
            ]
           ],
           "sequential": [
            [
             0,
             "#0d0887"
            ],
            [
             0.1111111111111111,
             "#46039f"
            ],
            [
             0.2222222222222222,
             "#7201a8"
            ],
            [
             0.3333333333333333,
             "#9c179e"
            ],
            [
             0.4444444444444444,
             "#bd3786"
            ],
            [
             0.5555555555555556,
             "#d8576b"
            ],
            [
             0.6666666666666666,
             "#ed7953"
            ],
            [
             0.7777777777777778,
             "#fb9f3a"
            ],
            [
             0.8888888888888888,
             "#fdca26"
            ],
            [
             1,
             "#f0f921"
            ]
           ],
           "sequentialminus": [
            [
             0,
             "#0d0887"
            ],
            [
             0.1111111111111111,
             "#46039f"
            ],
            [
             0.2222222222222222,
             "#7201a8"
            ],
            [
             0.3333333333333333,
             "#9c179e"
            ],
            [
             0.4444444444444444,
             "#bd3786"
            ],
            [
             0.5555555555555556,
             "#d8576b"
            ],
            [
             0.6666666666666666,
             "#ed7953"
            ],
            [
             0.7777777777777778,
             "#fb9f3a"
            ],
            [
             0.8888888888888888,
             "#fdca26"
            ],
            [
             1,
             "#f0f921"
            ]
           ]
          },
          "colorway": [
           "#636efa",
           "#EF553B",
           "#00cc96",
           "#ab63fa",
           "#FFA15A",
           "#19d3f3",
           "#FF6692",
           "#B6E880",
           "#FF97FF",
           "#FECB52"
          ],
          "font": {
           "color": "#2a3f5f"
          },
          "geo": {
           "bgcolor": "white",
           "lakecolor": "white",
           "landcolor": "#E5ECF6",
           "showlakes": true,
           "showland": true,
           "subunitcolor": "white"
          },
          "hoverlabel": {
           "align": "left"
          },
          "hovermode": "closest",
          "mapbox": {
           "style": "light"
          },
          "paper_bgcolor": "white",
          "plot_bgcolor": "#E5ECF6",
          "polar": {
           "angularaxis": {
            "gridcolor": "white",
            "linecolor": "white",
            "ticks": ""
           },
           "bgcolor": "#E5ECF6",
           "radialaxis": {
            "gridcolor": "white",
            "linecolor": "white",
            "ticks": ""
           }
          },
          "scene": {
           "xaxis": {
            "backgroundcolor": "#E5ECF6",
            "gridcolor": "white",
            "gridwidth": 2,
            "linecolor": "white",
            "showbackground": true,
            "ticks": "",
            "zerolinecolor": "white"
           },
           "yaxis": {
            "backgroundcolor": "#E5ECF6",
            "gridcolor": "white",
            "gridwidth": 2,
            "linecolor": "white",
            "showbackground": true,
            "ticks": "",
            "zerolinecolor": "white"
           },
           "zaxis": {
            "backgroundcolor": "#E5ECF6",
            "gridcolor": "white",
            "gridwidth": 2,
            "linecolor": "white",
            "showbackground": true,
            "ticks": "",
            "zerolinecolor": "white"
           }
          },
          "shapedefaults": {
           "line": {
            "color": "#2a3f5f"
           }
          },
          "ternary": {
           "aaxis": {
            "gridcolor": "white",
            "linecolor": "white",
            "ticks": ""
           },
           "baxis": {
            "gridcolor": "white",
            "linecolor": "white",
            "ticks": ""
           },
           "bgcolor": "#E5ECF6",
           "caxis": {
            "gridcolor": "white",
            "linecolor": "white",
            "ticks": ""
           }
          },
          "title": {
           "x": 0.05
          },
          "xaxis": {
           "automargin": true,
           "gridcolor": "white",
           "linecolor": "white",
           "ticks": "",
           "title": {
            "standoff": 15
           },
           "zerolinecolor": "white",
           "zerolinewidth": 2
          },
          "yaxis": {
           "automargin": true,
           "gridcolor": "white",
           "linecolor": "white",
           "ticks": "",
           "title": {
            "standoff": 15
           },
           "zerolinecolor": "white",
           "zerolinewidth": 2
          }
         }
        },
        "title": {
         "text": "Hyperparameter Importances"
        },
        "xaxis": {
         "title": {
          "text": "Importance for Objective Value"
         }
        },
        "yaxis": {
         "title": {
          "text": "Hyperparameter"
         }
        }
       }
      }
     },
     "metadata": {},
     "output_type": "display_data"
    },
    {
     "data": {
      "application/vnd.plotly.v1+json": {
       "config": {
        "plotlyServerURL": "https://plot.ly"
       },
       "data": [
        {
         "mode": "markers",
         "name": "Objective Value",
         "type": "scatter",
         "x": [
          0,
          1,
          2,
          3,
          4,
          5,
          6,
          7,
          8,
          9,
          10,
          11,
          12,
          13,
          14,
          15,
          16,
          17,
          18,
          19,
          20,
          21,
          22,
          23,
          24,
          25,
          26,
          27,
          28,
          29,
          30,
          31,
          32,
          33,
          34,
          35,
          36,
          37,
          38,
          39,
          40,
          41,
          42,
          43,
          44,
          45,
          46,
          47,
          48,
          49,
          50,
          51,
          52,
          53,
          54,
          55,
          56,
          57,
          58,
          59,
          60,
          61,
          62,
          63,
          64,
          65,
          66,
          67,
          68,
          69,
          70,
          71,
          72,
          73,
          74,
          75,
          76,
          77,
          78,
          79,
          80,
          81,
          82,
          83,
          84,
          85,
          86,
          87,
          88,
          89,
          90,
          91,
          92,
          93,
          94,
          95,
          96,
          97,
          98,
          99
         ],
         "y": [
          0.4893960565129639,
          0.5759198882161154,
          0.4946436888681882,
          0.5194069243906225,
          0.4663406303369042,
          0.5776276975624903,
          0.595357863685763,
          0.588371370905139,
          0.6006520726595249,
          0.5388138487812452,
          0.6501164415463437,
          0.6589815246079801,
          0.6624747709982921,
          0.6501009160068312,
          0.6924545877969258,
          0.6853438907002017,
          0.6766185374941779,
          0.6889768669461265,
          0.6606738084148425,
          0.6677845055115667,
          0.6571495109455053,
          0.6766340630336904,
          0.6907002018320136,
          0.6642291569632045,
          0.6677845055115664,
          0.6571495109455053,
          0.6554261760596181,
          0.6501009160068312,
          0.6818661698494023,
          0.6359571495109455,
          0.6111783884489985,
          0.6836826579723646,
          0.6872380065207266,
          0.6836826579723645,
          0.5971277751901879,
          0.6077161931377116,
          0.6695388914764788,
          0.5476323552243441,
          0.47699115044247786,
          0.6677845055115667,
          0.5776432231020028,
          0.6836516068933396,
          0.6748020493712156,
          0.6801428349635149,
          0.6871914299021891,
          0.6748331004502407,
          0.6377270610153702,
          0.6218910107126223,
          0.655395124980593,
          0.5812140971898773,
          0.6677379288930291,
          0.6430367955286446,
          0.6748796770687782,
          0.6607669616519174,
          0.6659835429281167,
          0.6783729234590903,
          0.6112249650675361,
          0.6589504735289552,
          0.6766030119546654,
          0.6836826579723645,
          0.6695544170159913,
          0.6642291569632044,
          0.6766030119546654,
          0.676556435336128,
          0.6730631889458158,
          0.6924701133364385,
          0.6837137090513895,
          0.5971277751901879,
          0.6536252134761683,
          0.6765874864151529,
          0.6606893339543549,
          0.6854525694767893,
          0.6713243285204161,
          0.680142834963515,
          0.6659990684676292,
          0.6783573979195777,
          0.6571495109455054,
          0.6748331004502408,
          0.613025927650986,
          0.6748020493712156,
          0.6448222325725819,
          0.6819282720074522,
          0.6500543393882936,
          0.6854370439372768,
          0.6324639031206334,
          0.6677845055115665,
          0.6784039745381151,
          0.6730787144853283,
          0.6801273094240025,
          0.5953112870672256,
          0.6730476634063034,
          0.683667132432852,
          0.6218444340940847,
          0.6766030119546654,
          0.6801583605030274,
          0.6801583605030275,
          0.6748486259897531,
          0.6801273094240025,
          0.683667132432852,
          0.6836205558143146
         ]
        },
        {
         "name": "Best Value",
         "type": "scatter",
         "x": [
          0,
          1,
          2,
          3,
          4,
          5,
          6,
          7,
          8,
          9,
          10,
          11,
          12,
          13,
          14,
          15,
          16,
          17,
          18,
          19,
          20,
          21,
          22,
          23,
          24,
          25,
          26,
          27,
          28,
          29,
          30,
          31,
          32,
          33,
          34,
          35,
          36,
          37,
          38,
          39,
          40,
          41,
          42,
          43,
          44,
          45,
          46,
          47,
          48,
          49,
          50,
          51,
          52,
          53,
          54,
          55,
          56,
          57,
          58,
          59,
          60,
          61,
          62,
          63,
          64,
          65,
          66,
          67,
          68,
          69,
          70,
          71,
          72,
          73,
          74,
          75,
          76,
          77,
          78,
          79,
          80,
          81,
          82,
          83,
          84,
          85,
          86,
          87,
          88,
          89,
          90,
          91,
          92,
          93,
          94,
          95,
          96,
          97,
          98,
          99
         ],
         "y": [
          0.4893960565129639,
          0.5759198882161154,
          0.5759198882161154,
          0.5759198882161154,
          0.5759198882161154,
          0.5776276975624903,
          0.595357863685763,
          0.595357863685763,
          0.6006520726595249,
          0.6006520726595249,
          0.6501164415463437,
          0.6589815246079801,
          0.6624747709982921,
          0.6624747709982921,
          0.6924545877969258,
          0.6924545877969258,
          0.6924545877969258,
          0.6924545877969258,
          0.6924545877969258,
          0.6924545877969258,
          0.6924545877969258,
          0.6924545877969258,
          0.6924545877969258,
          0.6924545877969258,
          0.6924545877969258,
          0.6924545877969258,
          0.6924545877969258,
          0.6924545877969258,
          0.6924545877969258,
          0.6924545877969258,
          0.6924545877969258,
          0.6924545877969258,
          0.6924545877969258,
          0.6924545877969258,
          0.6924545877969258,
          0.6924545877969258,
          0.6924545877969258,
          0.6924545877969258,
          0.6924545877969258,
          0.6924545877969258,
          0.6924545877969258,
          0.6924545877969258,
          0.6924545877969258,
          0.6924545877969258,
          0.6924545877969258,
          0.6924545877969258,
          0.6924545877969258,
          0.6924545877969258,
          0.6924545877969258,
          0.6924545877969258,
          0.6924545877969258,
          0.6924545877969258,
          0.6924545877969258,
          0.6924545877969258,
          0.6924545877969258,
          0.6924545877969258,
          0.6924545877969258,
          0.6924545877969258,
          0.6924545877969258,
          0.6924545877969258,
          0.6924545877969258,
          0.6924545877969258,
          0.6924545877969258,
          0.6924545877969258,
          0.6924545877969258,
          0.6924701133364385,
          0.6924701133364385,
          0.6924701133364385,
          0.6924701133364385,
          0.6924701133364385,
          0.6924701133364385,
          0.6924701133364385,
          0.6924701133364385,
          0.6924701133364385,
          0.6924701133364385,
          0.6924701133364385,
          0.6924701133364385,
          0.6924701133364385,
          0.6924701133364385,
          0.6924701133364385,
          0.6924701133364385,
          0.6924701133364385,
          0.6924701133364385,
          0.6924701133364385,
          0.6924701133364385,
          0.6924701133364385,
          0.6924701133364385,
          0.6924701133364385,
          0.6924701133364385,
          0.6924701133364385,
          0.6924701133364385,
          0.6924701133364385,
          0.6924701133364385,
          0.6924701133364385,
          0.6924701133364385,
          0.6924701133364385,
          0.6924701133364385,
          0.6924701133364385,
          0.6924701133364385,
          0.6924701133364385
         ]
        }
       ],
       "layout": {
        "template": {
         "data": {
          "bar": [
           {
            "error_x": {
             "color": "#2a3f5f"
            },
            "error_y": {
             "color": "#2a3f5f"
            },
            "marker": {
             "line": {
              "color": "#E5ECF6",
              "width": 0.5
             },
             "pattern": {
              "fillmode": "overlay",
              "size": 10,
              "solidity": 0.2
             }
            },
            "type": "bar"
           }
          ],
          "barpolar": [
           {
            "marker": {
             "line": {
              "color": "#E5ECF6",
              "width": 0.5
             },
             "pattern": {
              "fillmode": "overlay",
              "size": 10,
              "solidity": 0.2
             }
            },
            "type": "barpolar"
           }
          ],
          "carpet": [
           {
            "aaxis": {
             "endlinecolor": "#2a3f5f",
             "gridcolor": "white",
             "linecolor": "white",
             "minorgridcolor": "white",
             "startlinecolor": "#2a3f5f"
            },
            "baxis": {
             "endlinecolor": "#2a3f5f",
             "gridcolor": "white",
             "linecolor": "white",
             "minorgridcolor": "white",
             "startlinecolor": "#2a3f5f"
            },
            "type": "carpet"
           }
          ],
          "choropleth": [
           {
            "colorbar": {
             "outlinewidth": 0,
             "ticks": ""
            },
            "type": "choropleth"
           }
          ],
          "contour": [
           {
            "colorbar": {
             "outlinewidth": 0,
             "ticks": ""
            },
            "colorscale": [
             [
              0,
              "#0d0887"
             ],
             [
              0.1111111111111111,
              "#46039f"
             ],
             [
              0.2222222222222222,
              "#7201a8"
             ],
             [
              0.3333333333333333,
              "#9c179e"
             ],
             [
              0.4444444444444444,
              "#bd3786"
             ],
             [
              0.5555555555555556,
              "#d8576b"
             ],
             [
              0.6666666666666666,
              "#ed7953"
             ],
             [
              0.7777777777777778,
              "#fb9f3a"
             ],
             [
              0.8888888888888888,
              "#fdca26"
             ],
             [
              1,
              "#f0f921"
             ]
            ],
            "type": "contour"
           }
          ],
          "contourcarpet": [
           {
            "colorbar": {
             "outlinewidth": 0,
             "ticks": ""
            },
            "type": "contourcarpet"
           }
          ],
          "heatmap": [
           {
            "colorbar": {
             "outlinewidth": 0,
             "ticks": ""
            },
            "colorscale": [
             [
              0,
              "#0d0887"
             ],
             [
              0.1111111111111111,
              "#46039f"
             ],
             [
              0.2222222222222222,
              "#7201a8"
             ],
             [
              0.3333333333333333,
              "#9c179e"
             ],
             [
              0.4444444444444444,
              "#bd3786"
             ],
             [
              0.5555555555555556,
              "#d8576b"
             ],
             [
              0.6666666666666666,
              "#ed7953"
             ],
             [
              0.7777777777777778,
              "#fb9f3a"
             ],
             [
              0.8888888888888888,
              "#fdca26"
             ],
             [
              1,
              "#f0f921"
             ]
            ],
            "type": "heatmap"
           }
          ],
          "heatmapgl": [
           {
            "colorbar": {
             "outlinewidth": 0,
             "ticks": ""
            },
            "colorscale": [
             [
              0,
              "#0d0887"
             ],
             [
              0.1111111111111111,
              "#46039f"
             ],
             [
              0.2222222222222222,
              "#7201a8"
             ],
             [
              0.3333333333333333,
              "#9c179e"
             ],
             [
              0.4444444444444444,
              "#bd3786"
             ],
             [
              0.5555555555555556,
              "#d8576b"
             ],
             [
              0.6666666666666666,
              "#ed7953"
             ],
             [
              0.7777777777777778,
              "#fb9f3a"
             ],
             [
              0.8888888888888888,
              "#fdca26"
             ],
             [
              1,
              "#f0f921"
             ]
            ],
            "type": "heatmapgl"
           }
          ],
          "histogram": [
           {
            "marker": {
             "pattern": {
              "fillmode": "overlay",
              "size": 10,
              "solidity": 0.2
             }
            },
            "type": "histogram"
           }
          ],
          "histogram2d": [
           {
            "colorbar": {
             "outlinewidth": 0,
             "ticks": ""
            },
            "colorscale": [
             [
              0,
              "#0d0887"
             ],
             [
              0.1111111111111111,
              "#46039f"
             ],
             [
              0.2222222222222222,
              "#7201a8"
             ],
             [
              0.3333333333333333,
              "#9c179e"
             ],
             [
              0.4444444444444444,
              "#bd3786"
             ],
             [
              0.5555555555555556,
              "#d8576b"
             ],
             [
              0.6666666666666666,
              "#ed7953"
             ],
             [
              0.7777777777777778,
              "#fb9f3a"
             ],
             [
              0.8888888888888888,
              "#fdca26"
             ],
             [
              1,
              "#f0f921"
             ]
            ],
            "type": "histogram2d"
           }
          ],
          "histogram2dcontour": [
           {
            "colorbar": {
             "outlinewidth": 0,
             "ticks": ""
            },
            "colorscale": [
             [
              0,
              "#0d0887"
             ],
             [
              0.1111111111111111,
              "#46039f"
             ],
             [
              0.2222222222222222,
              "#7201a8"
             ],
             [
              0.3333333333333333,
              "#9c179e"
             ],
             [
              0.4444444444444444,
              "#bd3786"
             ],
             [
              0.5555555555555556,
              "#d8576b"
             ],
             [
              0.6666666666666666,
              "#ed7953"
             ],
             [
              0.7777777777777778,
              "#fb9f3a"
             ],
             [
              0.8888888888888888,
              "#fdca26"
             ],
             [
              1,
              "#f0f921"
             ]
            ],
            "type": "histogram2dcontour"
           }
          ],
          "mesh3d": [
           {
            "colorbar": {
             "outlinewidth": 0,
             "ticks": ""
            },
            "type": "mesh3d"
           }
          ],
          "parcoords": [
           {
            "line": {
             "colorbar": {
              "outlinewidth": 0,
              "ticks": ""
             }
            },
            "type": "parcoords"
           }
          ],
          "pie": [
           {
            "automargin": true,
            "type": "pie"
           }
          ],
          "scatter": [
           {
            "fillpattern": {
             "fillmode": "overlay",
             "size": 10,
             "solidity": 0.2
            },
            "type": "scatter"
           }
          ],
          "scatter3d": [
           {
            "line": {
             "colorbar": {
              "outlinewidth": 0,
              "ticks": ""
             }
            },
            "marker": {
             "colorbar": {
              "outlinewidth": 0,
              "ticks": ""
             }
            },
            "type": "scatter3d"
           }
          ],
          "scattercarpet": [
           {
            "marker": {
             "colorbar": {
              "outlinewidth": 0,
              "ticks": ""
             }
            },
            "type": "scattercarpet"
           }
          ],
          "scattergeo": [
           {
            "marker": {
             "colorbar": {
              "outlinewidth": 0,
              "ticks": ""
             }
            },
            "type": "scattergeo"
           }
          ],
          "scattergl": [
           {
            "marker": {
             "colorbar": {
              "outlinewidth": 0,
              "ticks": ""
             }
            },
            "type": "scattergl"
           }
          ],
          "scattermapbox": [
           {
            "marker": {
             "colorbar": {
              "outlinewidth": 0,
              "ticks": ""
             }
            },
            "type": "scattermapbox"
           }
          ],
          "scatterpolar": [
           {
            "marker": {
             "colorbar": {
              "outlinewidth": 0,
              "ticks": ""
             }
            },
            "type": "scatterpolar"
           }
          ],
          "scatterpolargl": [
           {
            "marker": {
             "colorbar": {
              "outlinewidth": 0,
              "ticks": ""
             }
            },
            "type": "scatterpolargl"
           }
          ],
          "scatterternary": [
           {
            "marker": {
             "colorbar": {
              "outlinewidth": 0,
              "ticks": ""
             }
            },
            "type": "scatterternary"
           }
          ],
          "surface": [
           {
            "colorbar": {
             "outlinewidth": 0,
             "ticks": ""
            },
            "colorscale": [
             [
              0,
              "#0d0887"
             ],
             [
              0.1111111111111111,
              "#46039f"
             ],
             [
              0.2222222222222222,
              "#7201a8"
             ],
             [
              0.3333333333333333,
              "#9c179e"
             ],
             [
              0.4444444444444444,
              "#bd3786"
             ],
             [
              0.5555555555555556,
              "#d8576b"
             ],
             [
              0.6666666666666666,
              "#ed7953"
             ],
             [
              0.7777777777777778,
              "#fb9f3a"
             ],
             [
              0.8888888888888888,
              "#fdca26"
             ],
             [
              1,
              "#f0f921"
             ]
            ],
            "type": "surface"
           }
          ],
          "table": [
           {
            "cells": {
             "fill": {
              "color": "#EBF0F8"
             },
             "line": {
              "color": "white"
             }
            },
            "header": {
             "fill": {
              "color": "#C8D4E3"
             },
             "line": {
              "color": "white"
             }
            },
            "type": "table"
           }
          ]
         },
         "layout": {
          "annotationdefaults": {
           "arrowcolor": "#2a3f5f",
           "arrowhead": 0,
           "arrowwidth": 1
          },
          "autotypenumbers": "strict",
          "coloraxis": {
           "colorbar": {
            "outlinewidth": 0,
            "ticks": ""
           }
          },
          "colorscale": {
           "diverging": [
            [
             0,
             "#8e0152"
            ],
            [
             0.1,
             "#c51b7d"
            ],
            [
             0.2,
             "#de77ae"
            ],
            [
             0.3,
             "#f1b6da"
            ],
            [
             0.4,
             "#fde0ef"
            ],
            [
             0.5,
             "#f7f7f7"
            ],
            [
             0.6,
             "#e6f5d0"
            ],
            [
             0.7,
             "#b8e186"
            ],
            [
             0.8,
             "#7fbc41"
            ],
            [
             0.9,
             "#4d9221"
            ],
            [
             1,
             "#276419"
            ]
           ],
           "sequential": [
            [
             0,
             "#0d0887"
            ],
            [
             0.1111111111111111,
             "#46039f"
            ],
            [
             0.2222222222222222,
             "#7201a8"
            ],
            [
             0.3333333333333333,
             "#9c179e"
            ],
            [
             0.4444444444444444,
             "#bd3786"
            ],
            [
             0.5555555555555556,
             "#d8576b"
            ],
            [
             0.6666666666666666,
             "#ed7953"
            ],
            [
             0.7777777777777778,
             "#fb9f3a"
            ],
            [
             0.8888888888888888,
             "#fdca26"
            ],
            [
             1,
             "#f0f921"
            ]
           ],
           "sequentialminus": [
            [
             0,
             "#0d0887"
            ],
            [
             0.1111111111111111,
             "#46039f"
            ],
            [
             0.2222222222222222,
             "#7201a8"
            ],
            [
             0.3333333333333333,
             "#9c179e"
            ],
            [
             0.4444444444444444,
             "#bd3786"
            ],
            [
             0.5555555555555556,
             "#d8576b"
            ],
            [
             0.6666666666666666,
             "#ed7953"
            ],
            [
             0.7777777777777778,
             "#fb9f3a"
            ],
            [
             0.8888888888888888,
             "#fdca26"
            ],
            [
             1,
             "#f0f921"
            ]
           ]
          },
          "colorway": [
           "#636efa",
           "#EF553B",
           "#00cc96",
           "#ab63fa",
           "#FFA15A",
           "#19d3f3",
           "#FF6692",
           "#B6E880",
           "#FF97FF",
           "#FECB52"
          ],
          "font": {
           "color": "#2a3f5f"
          },
          "geo": {
           "bgcolor": "white",
           "lakecolor": "white",
           "landcolor": "#E5ECF6",
           "showlakes": true,
           "showland": true,
           "subunitcolor": "white"
          },
          "hoverlabel": {
           "align": "left"
          },
          "hovermode": "closest",
          "mapbox": {
           "style": "light"
          },
          "paper_bgcolor": "white",
          "plot_bgcolor": "#E5ECF6",
          "polar": {
           "angularaxis": {
            "gridcolor": "white",
            "linecolor": "white",
            "ticks": ""
           },
           "bgcolor": "#E5ECF6",
           "radialaxis": {
            "gridcolor": "white",
            "linecolor": "white",
            "ticks": ""
           }
          },
          "scene": {
           "xaxis": {
            "backgroundcolor": "#E5ECF6",
            "gridcolor": "white",
            "gridwidth": 2,
            "linecolor": "white",
            "showbackground": true,
            "ticks": "",
            "zerolinecolor": "white"
           },
           "yaxis": {
            "backgroundcolor": "#E5ECF6",
            "gridcolor": "white",
            "gridwidth": 2,
            "linecolor": "white",
            "showbackground": true,
            "ticks": "",
            "zerolinecolor": "white"
           },
           "zaxis": {
            "backgroundcolor": "#E5ECF6",
            "gridcolor": "white",
            "gridwidth": 2,
            "linecolor": "white",
            "showbackground": true,
            "ticks": "",
            "zerolinecolor": "white"
           }
          },
          "shapedefaults": {
           "line": {
            "color": "#2a3f5f"
           }
          },
          "ternary": {
           "aaxis": {
            "gridcolor": "white",
            "linecolor": "white",
            "ticks": ""
           },
           "baxis": {
            "gridcolor": "white",
            "linecolor": "white",
            "ticks": ""
           },
           "bgcolor": "#E5ECF6",
           "caxis": {
            "gridcolor": "white",
            "linecolor": "white",
            "ticks": ""
           }
          },
          "title": {
           "x": 0.05
          },
          "xaxis": {
           "automargin": true,
           "gridcolor": "white",
           "linecolor": "white",
           "ticks": "",
           "title": {
            "standoff": 15
           },
           "zerolinecolor": "white",
           "zerolinewidth": 2
          },
          "yaxis": {
           "automargin": true,
           "gridcolor": "white",
           "linecolor": "white",
           "ticks": "",
           "title": {
            "standoff": 15
           },
           "zerolinecolor": "white",
           "zerolinewidth": 2
          }
         }
        },
        "title": {
         "text": "Optimization History Plot"
        },
        "xaxis": {
         "title": {
          "text": "#Trials"
         }
        },
        "yaxis": {
         "title": {
          "text": "Objective Value"
         }
        }
       }
      }
     },
     "metadata": {},
     "output_type": "display_data"
    },
    {
     "data": {
      "application/vnd.plotly.v1+json": {
       "config": {
        "plotlyServerURL": "https://plot.ly"
       },
       "data": [
        {
         "dimensions": [
          {
           "label": "Objective Value",
           "range": [
            0.4663406303369042,
            0.6924701133364385
           ],
           "values": [
            0.4893960565129639,
            0.5759198882161154,
            0.4946436888681882,
            0.5194069243906225,
            0.4663406303369042,
            0.5776276975624903,
            0.595357863685763,
            0.588371370905139,
            0.6006520726595249,
            0.5388138487812452,
            0.6501164415463437,
            0.6589815246079801,
            0.6624747709982921,
            0.6501009160068312,
            0.6924545877969258,
            0.6853438907002017,
            0.6766185374941779,
            0.6889768669461265,
            0.6606738084148425,
            0.6677845055115667,
            0.6571495109455053,
            0.6766340630336904,
            0.6907002018320136,
            0.6642291569632045,
            0.6677845055115664,
            0.6571495109455053,
            0.6554261760596181,
            0.6501009160068312,
            0.6818661698494023,
            0.6359571495109455,
            0.6111783884489985,
            0.6836826579723646,
            0.6872380065207266,
            0.6836826579723645,
            0.5971277751901879,
            0.6077161931377116,
            0.6695388914764788,
            0.5476323552243441,
            0.47699115044247786,
            0.6677845055115667,
            0.5776432231020028,
            0.6836516068933396,
            0.6748020493712156,
            0.6801428349635149,
            0.6871914299021891,
            0.6748331004502407,
            0.6377270610153702,
            0.6218910107126223,
            0.655395124980593,
            0.5812140971898773,
            0.6677379288930291,
            0.6430367955286446,
            0.6748796770687782,
            0.6607669616519174,
            0.6659835429281167,
            0.6783729234590903,
            0.6112249650675361,
            0.6589504735289552,
            0.6766030119546654,
            0.6836826579723645,
            0.6695544170159913,
            0.6642291569632044,
            0.6766030119546654,
            0.676556435336128,
            0.6730631889458158,
            0.6924701133364385,
            0.6837137090513895,
            0.5971277751901879,
            0.6536252134761683,
            0.6765874864151529,
            0.6606893339543549,
            0.6854525694767893,
            0.6713243285204161,
            0.680142834963515,
            0.6659990684676292,
            0.6783573979195777,
            0.6571495109455054,
            0.6748331004502408,
            0.613025927650986,
            0.6748020493712156,
            0.6448222325725819,
            0.6819282720074522,
            0.6500543393882936,
            0.6854370439372768,
            0.6324639031206334,
            0.6677845055115665,
            0.6784039745381151,
            0.6730787144853283,
            0.6801273094240025,
            0.5953112870672256,
            0.6730476634063034,
            0.683667132432852,
            0.6218444340940847,
            0.6766030119546654,
            0.6801583605030274,
            0.6801583605030275,
            0.6748486259897531,
            0.6801273094240025,
            0.683667132432852,
            0.6836205558143146
           ]
          },
          {
           "label": "bagging_fraction",
           "range": [
            0.4259944376168821,
            0.9999763266680648
           ],
           "values": [
            0.565878553085858,
            0.7018498991846858,
            0.6383215466356925,
            0.5312752634044532,
            0.4259944376168821,
            0.8743144798342201,
            0.6709890449565155,
            0.6500521226816159,
            0.84763804548203,
            0.7221269157546459,
            0.9998205949667719,
            0.9999763266680648,
            0.9785606022704746,
            0.992714473104179,
            0.887629961907868,
            0.8690691167157137,
            0.8153764924834375,
            0.9012266232398665,
            0.7753492341495123,
            0.9260447158520012,
            0.9065239326114255,
            0.789390227678974,
            0.9205203011811839,
            0.9196776997617346,
            0.9301040680063676,
            0.762401053577058,
            0.8292442257680253,
            0.8843073521266893,
            0.9335674248459936,
            0.5546223113583852,
            0.7551656109241353,
            0.9567181598985279,
            0.8663524610708154,
            0.8190026924216826,
            0.882051316734188,
            0.8544825805420939,
            0.9572335841003029,
            0.4360740976875013,
            0.7126839121949416,
            0.9030790772725091,
            0.6140045823036115,
            0.8664025077948145,
            0.9553615644221534,
            0.8332302284320914,
            0.8931530651844318,
            0.7987585204368577,
            0.739060239730865,
            0.8993561787923077,
            0.9694225083423926,
            0.8491370743079006,
            0.9418487625091619,
            0.8801481559287974,
            0.8636056221379014,
            0.6770748729898842,
            0.9045869129467141,
            0.8032684630270943,
            0.48139079916363875,
            0.8375386981329539,
            0.9815459066899356,
            0.9200203811450376,
            0.8923436662688708,
            0.9512133562028198,
            0.9189572815197498,
            0.9706811082404476,
            0.8647176022827433,
            0.9378820545457415,
            0.9328479591039949,
            0.7805262902508652,
            0.8812451505186563,
            0.9159189942930858,
            0.9952110729205749,
            0.9316356904075603,
            0.8927700239133749,
            0.939971316155358,
            0.8497712917888915,
            0.82387866835092,
            0.911950407421647,
            0.8721823582965,
            0.9459241724855098,
            0.9745034068613923,
            0.608731029641625,
            0.9333165677682851,
            0.9258169006709074,
            0.8973529524533516,
            0.8947986143814806,
            0.8622080740927756,
            0.8443619646341053,
            0.9628873762357306,
            0.90230788692212,
            0.8115161920629238,
            0.8711365334659185,
            0.9403181975302415,
            0.8852427101549637,
            0.9836953913586064,
            0.9267559923027081,
            0.9072449484358462,
            0.9533318514685543,
            0.8885116716524846,
            0.9307526296766413,
            0.9114930287071853
           ]
          },
          {
           "label": "bagging_freq",
           "range": [
            2,
            6
           ],
           "values": [
            6,
            2,
            5,
            6,
            4,
            6,
            6,
            4,
            6,
            6,
            2,
            2,
            2,
            3,
            3,
            3,
            3,
            3,
            3,
            4,
            5,
            3,
            3,
            4,
            3,
            3,
            4,
            2,
            3,
            5,
            4,
            3,
            3,
            2,
            3,
            2,
            3,
            4,
            4,
            3,
            2,
            3,
            3,
            3,
            3,
            2,
            4,
            5,
            3,
            2,
            4,
            3,
            3,
            3,
            3,
            3,
            3,
            3,
            4,
            2,
            3,
            3,
            3,
            3,
            3,
            3,
            3,
            2,
            4,
            4,
            3,
            3,
            3,
            3,
            3,
            3,
            3,
            2,
            3,
            3,
            4,
            3,
            3,
            3,
            3,
            3,
            3,
            3,
            3,
            6,
            2,
            3,
            3,
            3,
            3,
            3,
            3,
            3,
            3,
            4
           ]
          },
          {
           "label": "boosting_type",
           "range": [
            0,
            1
           ],
           "ticktext": [
            "gbdt",
            "rf"
           ],
           "tickvals": [
            0,
            1
           ],
           "values": [
            0,
            1,
            1,
            1,
            1,
            0,
            0,
            1,
            0,
            1,
            0,
            0,
            0,
            0,
            0,
            0,
            0,
            0,
            0,
            0,
            0,
            0,
            0,
            0,
            0,
            0,
            0,
            0,
            0,
            0,
            0,
            0,
            0,
            0,
            1,
            1,
            0,
            0,
            1,
            0,
            1,
            0,
            0,
            0,
            0,
            0,
            0,
            0,
            0,
            1,
            0,
            0,
            0,
            0,
            0,
            0,
            0,
            0,
            0,
            0,
            0,
            0,
            0,
            0,
            0,
            0,
            0,
            1,
            0,
            0,
            0,
            0,
            0,
            0,
            0,
            0,
            0,
            0,
            1,
            0,
            0,
            0,
            0,
            0,
            0,
            0,
            0,
            0,
            0,
            1,
            0,
            0,
            0,
            0,
            0,
            0,
            0,
            0,
            0,
            0
           ]
          },
          {
           "label": "feature_fraction",
           "range": [
            0.30434832766841685,
            0.5736368659299462
           ],
           "values": [
            0.3817777815847925,
            0.4683588558196875,
            0.4954134429679732,
            0.5113743924568718,
            0.4599930488996251,
            0.5736368659299462,
            0.316162105543871,
            0.5699895584510026,
            0.3449501147969782,
            0.45076786901476507,
            0.30783756226805115,
            0.30434832766841685,
            0.38026577268681505,
            0.38531497285969885,
            0.39121485605021455,
            0.3990228907261535,
            0.41560486782626,
            0.41740271124409034,
            0.42414817032199276,
            0.351385710799919,
            0.5308573609304006,
            0.41998685502834365,
            0.3989981347911483,
            0.3622225013789518,
            0.4309887001521968,
            0.4856067554929797,
            0.40446766676491264,
            0.3337785515465167,
            0.4412785154909385,
            0.3744340616840905,
            0.39015565253943973,
            0.3999015075885946,
            0.4031640320560975,
            0.3690994092382113,
            0.4693676026535689,
            0.43763877447163624,
            0.40989985072942553,
            0.32944579688279696,
            0.47511771840942557,
            0.5096391542077745,
            0.4535827396857833,
            0.395703406812983,
            0.35626616884464185,
            0.4067449185871335,
            0.38527332354390587,
            0.3770205146596425,
            0.3389243943187938,
            0.3845028520356846,
            0.42794915085664575,
            0.4448901559691545,
            0.3677108211318594,
            0.4163169971227465,
            0.38970089760700793,
            0.39895911792028305,
            0.35465467084155305,
            0.4187511192574879,
            0.4335960991032346,
            0.32092708100218315,
            0.37911665280646745,
            0.40425412794100735,
            0.3649225928028442,
            0.39543016792411295,
            0.4110559658481241,
            0.5631766146449662,
            0.38500509538713634,
            0.42602924430361716,
            0.42550887209724164,
            0.4583974216250957,
            0.4210208611045738,
            0.3469534988836802,
            0.44499555466910556,
            0.42978728618184103,
            0.4332359174605502,
            0.41109938415766273,
            0.3927526905923602,
            0.4004149261790193,
            0.37376707994666664,
            0.4140830542782999,
            0.44039289674644005,
            0.4667328255701307,
            0.4247803089369604,
            0.40284683952312733,
            0.429131866140342,
            0.44967320514085307,
            0.4796247343256911,
            0.45261189059692003,
            0.46346400470376237,
            0.386034205154396,
            0.4083170643170405,
            0.4364996441954013,
            0.4913040601140725,
            0.423482645218618,
            0.42011028935673256,
            0.4441127618118355,
            0.3926358968633936,
            0.42825330341279005,
            0.44874613147271825,
            0.35948751210107854,
            0.3795242152220869,
            0.41604304439976286
           ]
          },
          {
           "label": "lambda_l1",
           "range": [
            -2.9514191279505755,
            -0.015482431640077517
           ],
           "ticktext": [
            "0.00112",
            "0.01",
            "0.1",
            "0.965"
           ],
           "tickvals": [
            -2.9514191279505755,
            -2,
            -1,
            -0.015482431640077517
           ],
           "values": [
            -1.1336736868805044,
            -1.4970146234296238,
            -1.1538114646995186,
            -1.691479728312962,
            -2.447138748558559,
            -1.1784188813445462,
            -1.1252498840822667,
            -1.2380890996080463,
            -1.1635530088027273,
            -1.2947711542584295,
            -0.1826631029572347,
            -0.10564738045383823,
            -0.03777644073443742,
            -0.015482431640077517,
            -0.5530187725102927,
            -0.5618089923315618,
            -0.5833785890841989,
            -0.6270231448667754,
            -0.6673657162380666,
            -2.039109931269951,
            -0.7651558136982236,
            -0.38363827732265665,
            -0.8167327239645359,
            -0.9067879599157996,
            -0.37739243676901796,
            -0.8162637018759835,
            -2.9514191279505755,
            -0.4166030118452144,
            -0.9325067233851488,
            -1.746695999354573,
            -0.2839665206846655,
            -0.567912138288795,
            -0.48637399394891007,
            -0.8964612444930321,
            -1.535254940857163,
            -1.0333619208794194,
            -0.6640254765050674,
            -1.3909720833502834,
            -0.26597079013640534,
            -0.4389899026422991,
            -0.7674848597281972,
            -0.5436036156952888,
            -0.5441332723566877,
            -0.20341817713424226,
            -0.6728117660070828,
            -1.0524515893787456,
            -0.7674511566771556,
            -0.9823097067836933,
            -1.254352808668978,
            -0.12604975710373545,
            -0.7004568512083441,
            -0.49590366635626687,
            -0.29113754542201176,
            -0.595293552718435,
            -0.848678441957291,
            -0.6487552332842713,
            -0.3678240134249877,
            -1.9697634282963707,
            -1.1455064900250218,
            -2.445858187637582,
            -0.06072430704066287,
            -0.4992025911164044,
            -0.6994453232838269,
            -0.4446890530872154,
            -0.6047964451971884,
            -0.8110686100873029,
            -0.864912063199625,
            -1.077992798718223,
            -0.9553343615278929,
            -0.30093331529617895,
            -0.18677627148168047,
            -0.8424964279420909,
            -0.7668997159522611,
            -1.3451026170964848,
            -0.7066244973016279,
            -0.37766531247900126,
            -0.8144072430618039,
            -0.49196282574076317,
            -0.9640507406793961,
            -0.605507820016173,
            -1.1873968139127995,
            -0.8783505050132806,
            -0.834977003256007,
            -0.727411249343506,
            -0.7489686462645598,
            -0.6504927403732323,
            -1.013136428718801,
            -0.5510482342220071,
            -0.45532575325784175,
            -0.3426565272982171,
            -0.23286139217547627,
            -0.8949036362182705,
            -0.813592159930238,
            -1.0906174949826613,
            -0.6477336270976441,
            -0.7416543538745105,
            -1.4837218167357915,
            -0.5358317156432344,
            -0.6337648233205659,
            -0.7108767608985284
           ]
          },
          {
           "label": "lambda_l2",
           "range": [
            -0.29996855486518437,
            0.47609614327564526
           ],
           "ticktext": [
            "0.501",
            "1",
            "2.99"
           ],
           "tickvals": [
            -0.29996855486518437,
            0,
            0.47609614327564526
           ],
           "values": [
            0.039588391772010144,
            0.23080754193109182,
            -0.24237198822402736,
            0.32316219501298604,
            -0.2641804262523161,
            0.13936053597371462,
            0.07099928923781644,
            0.06597145063901974,
            0.41346698479326677,
            0.11000838642183049,
            0.47461835350569215,
            0.4699595455971229,
            0.47609614327564526,
            0.33006316371755007,
            -0.103276853455542,
            -0.08917426457613038,
            -0.10405770990999264,
            -0.09000197761271575,
            -0.12256795366780662,
            -0.04508474015067257,
            -0.18744225705847004,
            -0.034529722821103496,
            -0.17302497644673207,
            -0.1875505125750807,
            -0.1777209164339218,
            -0.01096853796023812,
            -0.12984664496239975,
            -0.2924987879227385,
            -0.221385365120679,
            0.018638517396423596,
            -0.05942360062434228,
            -0.08453407807227366,
            -0.13755984409870034,
            -0.1608098324484834,
            0.17626947360661763,
            -0.23781862992468078,
            0.00860838769789704,
            -0.15005251270112138,
            -0.29996855486518437,
            -0.22346692809702418,
            0.03251066392607808,
            -0.07732170070894329,
            -0.10028162496298035,
            -0.036408132983609995,
            -0.12930814496309917,
            -0.14167895348557727,
            -0.25797875248681384,
            -0.19883830031330688,
            0.05230996227028419,
            -0.1177939367248046,
            0.2576550576009226,
            -0.07644837024790911,
            -0.014229593081454477,
            0.09986232218933203,
            -0.14914127277433545,
            -0.20016507055217672,
            -0.09488834221384126,
            -0.17491679113470224,
            -0.05657595063764135,
            -0.12431833194470725,
            -0.26575476065908094,
            -0.08374377214682782,
            -0.02060569842542171,
            -0.110052170650226,
            -0.05656469436914268,
            -0.1599389993993584,
            -0.17244968768212335,
            -0.2102718378574667,
            -0.16082200230540078,
            0.13832900116727867,
            -0.24680307164473098,
            -0.17575896209315056,
            -0.1388754228751614,
            -0.22948735049160104,
            -0.18593863787990983,
            -0.130930367317477,
            -0.15749716502092406,
            -0.10195070483789222,
            -0.27914742938497844,
            -0.06722933222767467,
            -0.11561818546420571,
            -0.17463822865705522,
            -0.20897637754977594,
            -0.17145846536434203,
            -0.13316592537456662,
            -0.19105303360069753,
            -0.04135685703998082,
            0.3623527268540039,
            -0.093685767729527,
            -0.15793244183735047,
            -0.2451376521175594,
            -0.1758954825551265,
            -0.22028821148075667,
            -0.16540788866191128,
            -0.14317468487925863,
            -0.1208801701759264,
            -0.20610805769639073,
            -0.08245895851299218,
            -0.10564487334544267,
            0.0016113928671033326
           ]
          },
          {
           "label": "learning_rate",
           "range": [
            -1.963616370845632,
            -0.523740781391166
           ],
           "ticktext": [
            "0.0109",
            "0.1",
            "0.299"
           ],
           "tickvals": [
            -1.963616370845632,
            -1,
            -0.523740781391166
           ],
           "values": [
            -1.7171025491531102,
            -1.4714605052394718,
            -1.4610191576299862,
            -0.7161934598200972,
            -1.911654525803617,
            -1.8347185252284963,
            -1.5786497440186076,
            -0.9091118966701397,
            -1.354655809337509,
            -1.774631511636734,
            -1.0960983433095408,
            -1.0945715807748317,
            -1.0601255395550515,
            -1.1130528040958776,
            -0.6384046082978879,
            -0.5291775679548288,
            -0.5322987529196014,
            -0.6181111110450332,
            -0.7642065372048491,
            -0.7032464299506921,
            -0.8755312123970845,
            -0.6056077546369818,
            -0.5425382109819826,
            -0.9017160963257442,
            -0.6424259234024647,
            -0.7990829006449497,
            -0.9652834312295606,
            -1.2348893439568351,
            -0.6166263669295734,
            -0.7943370370405763,
            -0.5252699816662535,
            -0.5327856842453745,
            -0.661491761290601,
            -0.6698136973623948,
            -0.8302019707748162,
            -0.685834771297743,
            -0.7526632531060126,
            -0.6260800726094018,
            -1.6367828878721145,
            -0.9844146779580273,
            -0.7115907702843434,
            -0.5752986075816192,
            -0.5819992388890183,
            -0.6679760435096118,
            -0.8424472027725709,
            -0.8436866481729761,
            -0.9619659552769533,
            -1.963616370845632,
            -1.2201706471135692,
            -0.7495398257330165,
            -0.7303925681898618,
            -1.3794171831946662,
            -0.566165992733445,
            -0.6322518225217616,
            -0.523740781391166,
            -0.5955649602481394,
            -0.6800755250659416,
            -0.7834385524106575,
            -0.8411320249954206,
            -0.6534600879323642,
            -0.5828397596088994,
            -0.5271244983370039,
            -0.7153955753174874,
            -0.5617366624779259,
            -0.626446887441709,
            -0.6546385607680097,
            -0.7931141365908765,
            -0.9170645846578586,
            -0.7218846202065403,
            -0.6551168589211614,
            -0.6043382197367548,
            -0.772270834499317,
            -0.8848093072732593,
            -0.6916782432288955,
            -1.151396136968876,
            -0.7623829356629336,
            -1.0166006590990104,
            -0.8178973266094305,
            -0.5667774343438132,
            -0.6379190829231961,
            -0.7026865375152263,
            -0.7708245457807319,
            -0.8595577053980216,
            -0.8024618817750959,
            -1.5709689425943585,
            -0.9306735142719292,
            -0.7485218226817589,
            -0.5522593107507175,
            -0.6716072849400088,
            -0.6215600422985487,
            -0.815939363522683,
            -0.7957514040294131,
            -1.827891369521195,
            -0.7285210781102747,
            -0.6109165735242787,
            -0.6533480486682125,
            -0.8719355751966469,
            -0.6812870518983105,
            -0.5505406832365646,
            -0.5947009715679114
           ]
          },
          {
           "label": "min_data_in_leaf",
           "range": [
            50,
            100
           ],
           "values": [
            89,
            68,
            97,
            85,
            80,
            81,
            69,
            61,
            86,
            74,
            53,
            50,
            50,
            51,
            56,
            59,
            60,
            57,
            65,
            58,
            74,
            57,
            56,
            65,
            55,
            65,
            63,
            55,
            69,
            54,
            94,
            59,
            57,
            62,
            56,
            53,
            72,
            79,
            100,
            67,
            62,
            58,
            52,
            60,
            56,
            55,
            57,
            50,
            53,
            63,
            78,
            60,
            57,
            52,
            83,
            58,
            61,
            66,
            55,
            64,
            59,
            70,
            59,
            56,
            51,
            54,
            53,
            56,
            88,
            54,
            61,
            53,
            51,
            54,
            57,
            52,
            55,
            50,
            58,
            54,
            56,
            53,
            93,
            52,
            52,
            60,
            58,
            51,
            62,
            54,
            56,
            53,
            50,
            57,
            53,
            55,
            59,
            52,
            57,
            55
           ]
          },
          {
           "label": "num_leaves",
           "range": [
            8,
            32
           ],
           "values": [
            27,
            25,
            17,
            11,
            24,
            8,
            12,
            10,
            23,
            31,
            19,
            19,
            18,
            16,
            15,
            14,
            14,
            13,
            14,
            21,
            8,
            14,
            15,
            16,
            12,
            21,
            16,
            10,
            13,
            28,
            16,
            14,
            10,
            10,
            12,
            9,
            17,
            11,
            11,
            8,
            13,
            15,
            18,
            12,
            15,
            18,
            20,
            15,
            10,
            13,
            26,
            15,
            17,
            13,
            9,
            15,
            12,
            14,
            23,
            11,
            17,
            14,
            32,
            16,
            15,
            13,
            13,
            9,
            10,
            12,
            13,
            14,
            14,
            16,
            19,
            17,
            15,
            11,
            16,
            11,
            14,
            13,
            12,
            13,
            29,
            14,
            15,
            10,
            13,
            12,
            14,
            13,
            18,
            13,
            12,
            11,
            16,
            15,
            9,
            13
           ]
          }
         ],
         "labelangle": 30,
         "labelside": "bottom",
         "line": {
          "color": [
           0.4893960565129639,
           0.5759198882161154,
           0.4946436888681882,
           0.5194069243906225,
           0.4663406303369042,
           0.5776276975624903,
           0.595357863685763,
           0.588371370905139,
           0.6006520726595249,
           0.5388138487812452,
           0.6501164415463437,
           0.6589815246079801,
           0.6624747709982921,
           0.6501009160068312,
           0.6924545877969258,
           0.6853438907002017,
           0.6766185374941779,
           0.6889768669461265,
           0.6606738084148425,
           0.6677845055115667,
           0.6571495109455053,
           0.6766340630336904,
           0.6907002018320136,
           0.6642291569632045,
           0.6677845055115664,
           0.6571495109455053,
           0.6554261760596181,
           0.6501009160068312,
           0.6818661698494023,
           0.6359571495109455,
           0.6111783884489985,
           0.6836826579723646,
           0.6872380065207266,
           0.6836826579723645,
           0.5971277751901879,
           0.6077161931377116,
           0.6695388914764788,
           0.5476323552243441,
           0.47699115044247786,
           0.6677845055115667,
           0.5776432231020028,
           0.6836516068933396,
           0.6748020493712156,
           0.6801428349635149,
           0.6871914299021891,
           0.6748331004502407,
           0.6377270610153702,
           0.6218910107126223,
           0.655395124980593,
           0.5812140971898773,
           0.6677379288930291,
           0.6430367955286446,
           0.6748796770687782,
           0.6607669616519174,
           0.6659835429281167,
           0.6783729234590903,
           0.6112249650675361,
           0.6589504735289552,
           0.6766030119546654,
           0.6836826579723645,
           0.6695544170159913,
           0.6642291569632044,
           0.6766030119546654,
           0.676556435336128,
           0.6730631889458158,
           0.6924701133364385,
           0.6837137090513895,
           0.5971277751901879,
           0.6536252134761683,
           0.6765874864151529,
           0.6606893339543549,
           0.6854525694767893,
           0.6713243285204161,
           0.680142834963515,
           0.6659990684676292,
           0.6783573979195777,
           0.6571495109455054,
           0.6748331004502408,
           0.613025927650986,
           0.6748020493712156,
           0.6448222325725819,
           0.6819282720074522,
           0.6500543393882936,
           0.6854370439372768,
           0.6324639031206334,
           0.6677845055115665,
           0.6784039745381151,
           0.6730787144853283,
           0.6801273094240025,
           0.5953112870672256,
           0.6730476634063034,
           0.683667132432852,
           0.6218444340940847,
           0.6766030119546654,
           0.6801583605030274,
           0.6801583605030275,
           0.6748486259897531,
           0.6801273094240025,
           0.683667132432852,
           0.6836205558143146
          ],
          "colorbar": {
           "title": {
            "text": "Objective Value"
           }
          },
          "colorscale": [
           [
            0,
            "rgb(247,251,255)"
           ],
           [
            0.125,
            "rgb(222,235,247)"
           ],
           [
            0.25,
            "rgb(198,219,239)"
           ],
           [
            0.375,
            "rgb(158,202,225)"
           ],
           [
            0.5,
            "rgb(107,174,214)"
           ],
           [
            0.625,
            "rgb(66,146,198)"
           ],
           [
            0.75,
            "rgb(33,113,181)"
           ],
           [
            0.875,
            "rgb(8,81,156)"
           ],
           [
            1,
            "rgb(8,48,107)"
           ]
          ],
          "reversescale": false,
          "showscale": true
         },
         "type": "parcoords"
        }
       ],
       "layout": {
        "template": {
         "data": {
          "bar": [
           {
            "error_x": {
             "color": "#2a3f5f"
            },
            "error_y": {
             "color": "#2a3f5f"
            },
            "marker": {
             "line": {
              "color": "#E5ECF6",
              "width": 0.5
             },
             "pattern": {
              "fillmode": "overlay",
              "size": 10,
              "solidity": 0.2
             }
            },
            "type": "bar"
           }
          ],
          "barpolar": [
           {
            "marker": {
             "line": {
              "color": "#E5ECF6",
              "width": 0.5
             },
             "pattern": {
              "fillmode": "overlay",
              "size": 10,
              "solidity": 0.2
             }
            },
            "type": "barpolar"
           }
          ],
          "carpet": [
           {
            "aaxis": {
             "endlinecolor": "#2a3f5f",
             "gridcolor": "white",
             "linecolor": "white",
             "minorgridcolor": "white",
             "startlinecolor": "#2a3f5f"
            },
            "baxis": {
             "endlinecolor": "#2a3f5f",
             "gridcolor": "white",
             "linecolor": "white",
             "minorgridcolor": "white",
             "startlinecolor": "#2a3f5f"
            },
            "type": "carpet"
           }
          ],
          "choropleth": [
           {
            "colorbar": {
             "outlinewidth": 0,
             "ticks": ""
            },
            "type": "choropleth"
           }
          ],
          "contour": [
           {
            "colorbar": {
             "outlinewidth": 0,
             "ticks": ""
            },
            "colorscale": [
             [
              0,
              "#0d0887"
             ],
             [
              0.1111111111111111,
              "#46039f"
             ],
             [
              0.2222222222222222,
              "#7201a8"
             ],
             [
              0.3333333333333333,
              "#9c179e"
             ],
             [
              0.4444444444444444,
              "#bd3786"
             ],
             [
              0.5555555555555556,
              "#d8576b"
             ],
             [
              0.6666666666666666,
              "#ed7953"
             ],
             [
              0.7777777777777778,
              "#fb9f3a"
             ],
             [
              0.8888888888888888,
              "#fdca26"
             ],
             [
              1,
              "#f0f921"
             ]
            ],
            "type": "contour"
           }
          ],
          "contourcarpet": [
           {
            "colorbar": {
             "outlinewidth": 0,
             "ticks": ""
            },
            "type": "contourcarpet"
           }
          ],
          "heatmap": [
           {
            "colorbar": {
             "outlinewidth": 0,
             "ticks": ""
            },
            "colorscale": [
             [
              0,
              "#0d0887"
             ],
             [
              0.1111111111111111,
              "#46039f"
             ],
             [
              0.2222222222222222,
              "#7201a8"
             ],
             [
              0.3333333333333333,
              "#9c179e"
             ],
             [
              0.4444444444444444,
              "#bd3786"
             ],
             [
              0.5555555555555556,
              "#d8576b"
             ],
             [
              0.6666666666666666,
              "#ed7953"
             ],
             [
              0.7777777777777778,
              "#fb9f3a"
             ],
             [
              0.8888888888888888,
              "#fdca26"
             ],
             [
              1,
              "#f0f921"
             ]
            ],
            "type": "heatmap"
           }
          ],
          "heatmapgl": [
           {
            "colorbar": {
             "outlinewidth": 0,
             "ticks": ""
            },
            "colorscale": [
             [
              0,
              "#0d0887"
             ],
             [
              0.1111111111111111,
              "#46039f"
             ],
             [
              0.2222222222222222,
              "#7201a8"
             ],
             [
              0.3333333333333333,
              "#9c179e"
             ],
             [
              0.4444444444444444,
              "#bd3786"
             ],
             [
              0.5555555555555556,
              "#d8576b"
             ],
             [
              0.6666666666666666,
              "#ed7953"
             ],
             [
              0.7777777777777778,
              "#fb9f3a"
             ],
             [
              0.8888888888888888,
              "#fdca26"
             ],
             [
              1,
              "#f0f921"
             ]
            ],
            "type": "heatmapgl"
           }
          ],
          "histogram": [
           {
            "marker": {
             "pattern": {
              "fillmode": "overlay",
              "size": 10,
              "solidity": 0.2
             }
            },
            "type": "histogram"
           }
          ],
          "histogram2d": [
           {
            "colorbar": {
             "outlinewidth": 0,
             "ticks": ""
            },
            "colorscale": [
             [
              0,
              "#0d0887"
             ],
             [
              0.1111111111111111,
              "#46039f"
             ],
             [
              0.2222222222222222,
              "#7201a8"
             ],
             [
              0.3333333333333333,
              "#9c179e"
             ],
             [
              0.4444444444444444,
              "#bd3786"
             ],
             [
              0.5555555555555556,
              "#d8576b"
             ],
             [
              0.6666666666666666,
              "#ed7953"
             ],
             [
              0.7777777777777778,
              "#fb9f3a"
             ],
             [
              0.8888888888888888,
              "#fdca26"
             ],
             [
              1,
              "#f0f921"
             ]
            ],
            "type": "histogram2d"
           }
          ],
          "histogram2dcontour": [
           {
            "colorbar": {
             "outlinewidth": 0,
             "ticks": ""
            },
            "colorscale": [
             [
              0,
              "#0d0887"
             ],
             [
              0.1111111111111111,
              "#46039f"
             ],
             [
              0.2222222222222222,
              "#7201a8"
             ],
             [
              0.3333333333333333,
              "#9c179e"
             ],
             [
              0.4444444444444444,
              "#bd3786"
             ],
             [
              0.5555555555555556,
              "#d8576b"
             ],
             [
              0.6666666666666666,
              "#ed7953"
             ],
             [
              0.7777777777777778,
              "#fb9f3a"
             ],
             [
              0.8888888888888888,
              "#fdca26"
             ],
             [
              1,
              "#f0f921"
             ]
            ],
            "type": "histogram2dcontour"
           }
          ],
          "mesh3d": [
           {
            "colorbar": {
             "outlinewidth": 0,
             "ticks": ""
            },
            "type": "mesh3d"
           }
          ],
          "parcoords": [
           {
            "line": {
             "colorbar": {
              "outlinewidth": 0,
              "ticks": ""
             }
            },
            "type": "parcoords"
           }
          ],
          "pie": [
           {
            "automargin": true,
            "type": "pie"
           }
          ],
          "scatter": [
           {
            "fillpattern": {
             "fillmode": "overlay",
             "size": 10,
             "solidity": 0.2
            },
            "type": "scatter"
           }
          ],
          "scatter3d": [
           {
            "line": {
             "colorbar": {
              "outlinewidth": 0,
              "ticks": ""
             }
            },
            "marker": {
             "colorbar": {
              "outlinewidth": 0,
              "ticks": ""
             }
            },
            "type": "scatter3d"
           }
          ],
          "scattercarpet": [
           {
            "marker": {
             "colorbar": {
              "outlinewidth": 0,
              "ticks": ""
             }
            },
            "type": "scattercarpet"
           }
          ],
          "scattergeo": [
           {
            "marker": {
             "colorbar": {
              "outlinewidth": 0,
              "ticks": ""
             }
            },
            "type": "scattergeo"
           }
          ],
          "scattergl": [
           {
            "marker": {
             "colorbar": {
              "outlinewidth": 0,
              "ticks": ""
             }
            },
            "type": "scattergl"
           }
          ],
          "scattermapbox": [
           {
            "marker": {
             "colorbar": {
              "outlinewidth": 0,
              "ticks": ""
             }
            },
            "type": "scattermapbox"
           }
          ],
          "scatterpolar": [
           {
            "marker": {
             "colorbar": {
              "outlinewidth": 0,
              "ticks": ""
             }
            },
            "type": "scatterpolar"
           }
          ],
          "scatterpolargl": [
           {
            "marker": {
             "colorbar": {
              "outlinewidth": 0,
              "ticks": ""
             }
            },
            "type": "scatterpolargl"
           }
          ],
          "scatterternary": [
           {
            "marker": {
             "colorbar": {
              "outlinewidth": 0,
              "ticks": ""
             }
            },
            "type": "scatterternary"
           }
          ],
          "surface": [
           {
            "colorbar": {
             "outlinewidth": 0,
             "ticks": ""
            },
            "colorscale": [
             [
              0,
              "#0d0887"
             ],
             [
              0.1111111111111111,
              "#46039f"
             ],
             [
              0.2222222222222222,
              "#7201a8"
             ],
             [
              0.3333333333333333,
              "#9c179e"
             ],
             [
              0.4444444444444444,
              "#bd3786"
             ],
             [
              0.5555555555555556,
              "#d8576b"
             ],
             [
              0.6666666666666666,
              "#ed7953"
             ],
             [
              0.7777777777777778,
              "#fb9f3a"
             ],
             [
              0.8888888888888888,
              "#fdca26"
             ],
             [
              1,
              "#f0f921"
             ]
            ],
            "type": "surface"
           }
          ],
          "table": [
           {
            "cells": {
             "fill": {
              "color": "#EBF0F8"
             },
             "line": {
              "color": "white"
             }
            },
            "header": {
             "fill": {
              "color": "#C8D4E3"
             },
             "line": {
              "color": "white"
             }
            },
            "type": "table"
           }
          ]
         },
         "layout": {
          "annotationdefaults": {
           "arrowcolor": "#2a3f5f",
           "arrowhead": 0,
           "arrowwidth": 1
          },
          "autotypenumbers": "strict",
          "coloraxis": {
           "colorbar": {
            "outlinewidth": 0,
            "ticks": ""
           }
          },
          "colorscale": {
           "diverging": [
            [
             0,
             "#8e0152"
            ],
            [
             0.1,
             "#c51b7d"
            ],
            [
             0.2,
             "#de77ae"
            ],
            [
             0.3,
             "#f1b6da"
            ],
            [
             0.4,
             "#fde0ef"
            ],
            [
             0.5,
             "#f7f7f7"
            ],
            [
             0.6,
             "#e6f5d0"
            ],
            [
             0.7,
             "#b8e186"
            ],
            [
             0.8,
             "#7fbc41"
            ],
            [
             0.9,
             "#4d9221"
            ],
            [
             1,
             "#276419"
            ]
           ],
           "sequential": [
            [
             0,
             "#0d0887"
            ],
            [
             0.1111111111111111,
             "#46039f"
            ],
            [
             0.2222222222222222,
             "#7201a8"
            ],
            [
             0.3333333333333333,
             "#9c179e"
            ],
            [
             0.4444444444444444,
             "#bd3786"
            ],
            [
             0.5555555555555556,
             "#d8576b"
            ],
            [
             0.6666666666666666,
             "#ed7953"
            ],
            [
             0.7777777777777778,
             "#fb9f3a"
            ],
            [
             0.8888888888888888,
             "#fdca26"
            ],
            [
             1,
             "#f0f921"
            ]
           ],
           "sequentialminus": [
            [
             0,
             "#0d0887"
            ],
            [
             0.1111111111111111,
             "#46039f"
            ],
            [
             0.2222222222222222,
             "#7201a8"
            ],
            [
             0.3333333333333333,
             "#9c179e"
            ],
            [
             0.4444444444444444,
             "#bd3786"
            ],
            [
             0.5555555555555556,
             "#d8576b"
            ],
            [
             0.6666666666666666,
             "#ed7953"
            ],
            [
             0.7777777777777778,
             "#fb9f3a"
            ],
            [
             0.8888888888888888,
             "#fdca26"
            ],
            [
             1,
             "#f0f921"
            ]
           ]
          },
          "colorway": [
           "#636efa",
           "#EF553B",
           "#00cc96",
           "#ab63fa",
           "#FFA15A",
           "#19d3f3",
           "#FF6692",
           "#B6E880",
           "#FF97FF",
           "#FECB52"
          ],
          "font": {
           "color": "#2a3f5f"
          },
          "geo": {
           "bgcolor": "white",
           "lakecolor": "white",
           "landcolor": "#E5ECF6",
           "showlakes": true,
           "showland": true,
           "subunitcolor": "white"
          },
          "hoverlabel": {
           "align": "left"
          },
          "hovermode": "closest",
          "mapbox": {
           "style": "light"
          },
          "paper_bgcolor": "white",
          "plot_bgcolor": "#E5ECF6",
          "polar": {
           "angularaxis": {
            "gridcolor": "white",
            "linecolor": "white",
            "ticks": ""
           },
           "bgcolor": "#E5ECF6",
           "radialaxis": {
            "gridcolor": "white",
            "linecolor": "white",
            "ticks": ""
           }
          },
          "scene": {
           "xaxis": {
            "backgroundcolor": "#E5ECF6",
            "gridcolor": "white",
            "gridwidth": 2,
            "linecolor": "white",
            "showbackground": true,
            "ticks": "",
            "zerolinecolor": "white"
           },
           "yaxis": {
            "backgroundcolor": "#E5ECF6",
            "gridcolor": "white",
            "gridwidth": 2,
            "linecolor": "white",
            "showbackground": true,
            "ticks": "",
            "zerolinecolor": "white"
           },
           "zaxis": {
            "backgroundcolor": "#E5ECF6",
            "gridcolor": "white",
            "gridwidth": 2,
            "linecolor": "white",
            "showbackground": true,
            "ticks": "",
            "zerolinecolor": "white"
           }
          },
          "shapedefaults": {
           "line": {
            "color": "#2a3f5f"
           }
          },
          "ternary": {
           "aaxis": {
            "gridcolor": "white",
            "linecolor": "white",
            "ticks": ""
           },
           "baxis": {
            "gridcolor": "white",
            "linecolor": "white",
            "ticks": ""
           },
           "bgcolor": "#E5ECF6",
           "caxis": {
            "gridcolor": "white",
            "linecolor": "white",
            "ticks": ""
           }
          },
          "title": {
           "x": 0.05
          },
          "xaxis": {
           "automargin": true,
           "gridcolor": "white",
           "linecolor": "white",
           "ticks": "",
           "title": {
            "standoff": 15
           },
           "zerolinecolor": "white",
           "zerolinewidth": 2
          },
          "yaxis": {
           "automargin": true,
           "gridcolor": "white",
           "linecolor": "white",
           "ticks": "",
           "title": {
            "standoff": 15
           },
           "zerolinecolor": "white",
           "zerolinewidth": 2
          }
         }
        },
        "title": {
         "text": "Parallel Coordinate Plot"
        }
       }
      }
     },
     "metadata": {},
     "output_type": "display_data"
    }
   ],
   "source": [
    "from optuna.visualization import plot_parallel_coordinate, plot_param_importances, plot_contour, plot_optimization_history\n",
    "\n",
    "plot_param_importances(study)\n",
    "plot_optimization_history(study)\n",
    "plot_parallel_coordinate(study)"
   ]
  },
  {
   "cell_type": "markdown",
   "metadata": {},
   "source": [
    "Protein Degradation Prediction Function"
   ]
  },
  {
   "cell_type": "code",
   "execution_count": 22,
   "metadata": {},
   "outputs": [],
   "source": [
    "def predictProteinDegradation(smiles, cellType='HeLa', target='ER', e3Ligase='IAP'):\n",
    "    m = Chem.MolFromSmiles(smiles)\n",
    "    fingerprint = AllChem.GetMorganFingerprintAsBitVect(m, 2, nBits=256)\n",
    "    fp_array = np.zeros((0,), dtype=np.int8)\n",
    "    DataStructs.ConvertToNumpyArray(fingerprint, fp_array)\n",
    "    input = list(0 for i in range(88)) + list(fp_array) + list(0 for i in range(161))\n",
    "\n",
    "    #need to add a 1 for target and a 1 for cell type\n",
    "    tgt_ind = features.index(\"tgt_\"+target)\n",
    "    ct_ind = features.index(\"ct_\"+cellType)\n",
    "    e3_ind = features.index(\"e3_\"+e3Ligase)\n",
    "    input[tgt_ind] = 1\n",
    "    input[ct_ind] = 1\n",
    "    input[e3_ind] = 1\n",
    "\n",
    "    output = model.predict([input])\n",
    "    return output[0].argmax()"
   ]
  },
  {
   "cell_type": "markdown",
   "metadata": {},
   "source": [
    "Examples"
   ]
  },
  {
   "cell_type": "code",
   "execution_count": 23,
   "metadata": {},
   "outputs": [
    {
     "name": "stdout",
     "output_type": "stream",
     "text": [
      "Example of Highly Effective PROTAC (as scored by final model)\n"
     ]
    },
    {
     "data": {
      "image/png": "[encoded data removed]",
      "text/plain": [
       "<rdkit.Chem.rdchem.Mol at 0x7fc3fa0434c0>"
      ]
     },
     "execution_count": 23,
     "metadata": {},
     "output_type": "execute_result"
    },
    {
     "data": {
      "text/plain": [
       "2"
      ]
     },
     "execution_count": 23,
     "metadata": {},
     "output_type": "execute_result"
    }
   ],
   "source": [
    "print(\"Example of Highly Effective PROTAC (as scored by final model)\")\n",
    "Chem.MolFromSmiles(\"COC1=CC(C2=CN(C)C(=O)C3=CN=CC=C23)=CC(OC)=C1CN1CCN(CCOCCOCCOC2=CC(C3=C(C)N=CS3)=CC=C2CNC(=O)[C@@H]2C[C@@H](O)CN2C(=O)[C@@H](NC(=O)C2(C#N)CC2)C(C)(C)C)CC1\")\n",
    "predictProteinDegradation(\"COC1=CC(C2=CN(C)C(=O)C3=CN=CC=C23)=CC(OC)=C1CN1CCN(CCOCCOCCOC2=CC(C3=C(C)N=CS3)=CC=C2CNC(=O)[C@@H]2C[C@@H](O)CN2C(=O)[C@@H](NC(=O)C2(C#N)CC2)C(C)(C)C)CC1\")"
   ]
  },
  {
   "cell_type": "code",
   "execution_count": 24,
   "metadata": {},
   "outputs": [
    {
     "name": "stdout",
     "output_type": "stream",
     "text": [
      "Example of  Ineffective PROTAC (as scored by final model)\n"
     ]
    },
    {
     "data": {
      "image/png": "[encoded data removed]",
      "text/plain": [
       "<rdkit.Chem.rdchem.Mol at 0x7fc3fa02ee20>"
      ]
     },
     "execution_count": 24,
     "metadata": {},
     "output_type": "execute_result"
    },
    {
     "data": {
      "text/plain": [
       "0"
      ]
     },
     "execution_count": 24,
     "metadata": {},
     "output_type": "execute_result"
    }
   ],
   "source": [
    "print(\"Example of  Ineffective PROTAC (as scored by final model)\")\n",
    "Chem.MolFromSmiles(\"COC1=CC(C2=CN(C)C(=O)C3=CN=CC=C23)=CC(OC)=C1CN1CCN(CCOCCOCC(=O)N[C@H](C(=O)N2C[C@H](O)C[C@H]2C(=O)NCC2=CC=C(C3=C(C)N=CS3)C=C2)C(C)(C)C)CC1\")\n",
    "predictProteinDegradation(\"COC1=CC(C2=CN(C)C(=O)C3=CN=CC=C23)=CC(OC)=C1CN1CCN(CCOCCOCC(=O)N[C@H](C(=O)N2C[C@H](O)C[C@H]2C(=O)NCC2=CC=C(C3=C(C)N=CS3)C=C2)C(C)(C)C)CC1\")"
   ]
  },
  {
   "cell_type": "markdown",
   "metadata": {},
   "source": [
    "Save Model"
   ]
  },
  {
   "cell_type": "code",
   "execution_count": 25,
   "metadata": {},
   "outputs": [],
   "source": [
    "Pkl_Filename = \"Protac_Scoring_Model.pkl\"  \n",
    "\n",
    "with open(Pkl_Filename, 'wb') as file:  \n",
    "    pickle.dump(model, file)"
   ]
  }
 ],
 "metadata": {
  "interpreter": {
   "hash": "ca09fa392acf7f4c9c27d29d2d1f288bcf246ad350262c369089ab5d60981f3e"
  },
  "kernelspec": {
   "display_name": "Python 3",
   "language": "python",
   "name": "python3"
  },
  "language_info": {
   "codemirror_mode": {
    "name": "ipython",
    "version": 3
   },
   "file_extension": ".py",
   "mimetype": "text/x-python",
   "name": "python",
   "nbconvert_exporter": "python",
   "pygments_lexer": "ipython3",
   "version": "3.6.13"
  }
 },
 "nbformat": 4,
 "nbformat_minor": 2
}
