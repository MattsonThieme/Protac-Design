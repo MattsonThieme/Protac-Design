{
 "cells": [
  {
   "cell_type": "code",
   "execution_count": 108,
   "metadata": {},
   "outputs": [],
   "source": [
    "from IPython.core.interactiveshell import InteractiveShell\n",
    "InteractiveShell.ast_node_interactivity = \"all\""
   ]
  },
  {
   "cell_type": "code",
   "execution_count": 109,
   "metadata": {},
   "outputs": [
    {
     "data": {
      "text/plain": [
       "'3.2.1'"
      ]
     },
     "execution_count": 109,
     "metadata": {},
     "output_type": "execute_result"
    }
   ],
   "source": [
    "import pandas as pd\n",
    "from rdkit import Chem\n",
    "from rdkit.Chem import AllChem, DataStructs\n",
    "from rdkit.Chem import SmilesMolSupplier\n",
    "import re\n",
    "\n",
    "from datetime import date\n",
    "import gzip\n",
    "import numpy as np\n",
    "pd.set_option(\"display.max_columns\",100, \"display.width\",2000, \"display.max_colwidth\",100)\n",
    "import pickle\n",
    "from scipy.sparse import csr_matrix, vstack\n",
    "from sklearn.metrics import classification_report, confusion_matrix, f1_score, roc_auc_score\n",
    "from sklearn.utils import class_weight\n",
    "from termcolor import colored\n",
    "from sklearn.model_selection import train_test_split\n",
    "import sklearn.metrics\n",
    "\n",
    "import optuna\n",
    "optuna.logging.set_verbosity(optuna.logging.WARN) #INFO, WARN\n",
    "import lightgbm as lgb; lgb.__version__\n",
    "\n",
    "import pickle"
   ]
  },
  {
   "cell_type": "code",
   "execution_count": 110,
   "metadata": {},
   "outputs": [
    {
     "data": {
      "text/html": [
       "<div>\n",
       "<style scoped>\n",
       "    .dataframe tbody tr th:only-of-type {\n",
       "        vertical-align: middle;\n",
       "    }\n",
       "\n",
       "    .dataframe tbody tr th {\n",
       "        vertical-align: top;\n",
       "    }\n",
       "\n",
       "    .dataframe thead th {\n",
       "        text-align: right;\n",
       "    }\n",
       "</style>\n",
       "<table border=\"1\" class=\"dataframe\">\n",
       "  <thead>\n",
       "    <tr style=\"text-align: right;\">\n",
       "      <th></th>\n",
       "      <th>precision</th>\n",
       "      <th>recall</th>\n",
       "      <th>f1-score</th>\n",
       "      <th>support</th>\n",
       "    </tr>\n",
       "  </thead>\n",
       "  <tbody>\n",
       "    <tr>\n",
       "      <th>0</th>\n",
       "      <td>0.926230</td>\n",
       "      <td>0.812950</td>\n",
       "      <td>0.865900</td>\n",
       "      <td>139.000000</td>\n",
       "    </tr>\n",
       "    <tr>\n",
       "      <th>1</th>\n",
       "      <td>0.621212</td>\n",
       "      <td>0.732143</td>\n",
       "      <td>0.672131</td>\n",
       "      <td>56.000000</td>\n",
       "    </tr>\n",
       "    <tr>\n",
       "      <th>2</th>\n",
       "      <td>0.629630</td>\n",
       "      <td>0.723404</td>\n",
       "      <td>0.673267</td>\n",
       "      <td>47.000000</td>\n",
       "    </tr>\n",
       "    <tr>\n",
       "      <th>mean_256</th>\n",
       "      <td>0.725690</td>\n",
       "      <td>0.756166</td>\n",
       "      <td>0.737100</td>\n",
       "      <td>80.666667</td>\n",
       "    </tr>\n",
       "  </tbody>\n",
       "</table>\n",
       "</div>"
      ],
      "text/plain": [
       "          precision    recall  f1-score     support\n",
       "0          0.926230  0.812950  0.865900  139.000000\n",
       "1          0.621212  0.732143  0.672131   56.000000\n",
       "2          0.629630  0.723404  0.673267   47.000000\n",
       "mean_256   0.725690  0.756166  0.737100   80.666667"
      ]
     },
     "execution_count": 110,
     "metadata": {},
     "output_type": "execute_result"
    },
    {
     "data": {
      "text/html": [
       "<div>\n",
       "<style scoped>\n",
       "    .dataframe tbody tr th:only-of-type {\n",
       "        vertical-align: middle;\n",
       "    }\n",
       "\n",
       "    .dataframe tbody tr th {\n",
       "        vertical-align: top;\n",
       "    }\n",
       "\n",
       "    .dataframe thead th {\n",
       "        text-align: right;\n",
       "    }\n",
       "</style>\n",
       "<table border=\"1\" class=\"dataframe\">\n",
       "  <thead>\n",
       "    <tr style=\"text-align: right;\">\n",
       "      <th></th>\n",
       "      <th>precision</th>\n",
       "      <th>recall</th>\n",
       "      <th>f1-score</th>\n",
       "      <th>support</th>\n",
       "    </tr>\n",
       "  </thead>\n",
       "  <tbody>\n",
       "    <tr>\n",
       "      <th>0</th>\n",
       "      <td>0.957627</td>\n",
       "      <td>0.812950</td>\n",
       "      <td>0.879377</td>\n",
       "      <td>139.000000</td>\n",
       "    </tr>\n",
       "    <tr>\n",
       "      <th>1</th>\n",
       "      <td>0.613333</td>\n",
       "      <td>0.821429</td>\n",
       "      <td>0.702290</td>\n",
       "      <td>56.000000</td>\n",
       "    </tr>\n",
       "    <tr>\n",
       "      <th>2</th>\n",
       "      <td>0.693878</td>\n",
       "      <td>0.723404</td>\n",
       "      <td>0.708333</td>\n",
       "      <td>47.000000</td>\n",
       "    </tr>\n",
       "    <tr>\n",
       "      <th>mean_512</th>\n",
       "      <td>0.754946</td>\n",
       "      <td>0.785927</td>\n",
       "      <td>0.763334</td>\n",
       "      <td>80.666667</td>\n",
       "    </tr>\n",
       "  </tbody>\n",
       "</table>\n",
       "</div>"
      ],
      "text/plain": [
       "          precision    recall  f1-score     support\n",
       "0          0.957627  0.812950  0.879377  139.000000\n",
       "1          0.613333  0.821429  0.702290   56.000000\n",
       "2          0.693878  0.723404  0.708333   47.000000\n",
       "mean_512   0.754946  0.785927  0.763334   80.666667"
      ]
     },
     "execution_count": 110,
     "metadata": {},
     "output_type": "execute_result"
    },
    {
     "data": {
      "text/html": [
       "<div>\n",
       "<style scoped>\n",
       "    .dataframe tbody tr th:only-of-type {\n",
       "        vertical-align: middle;\n",
       "    }\n",
       "\n",
       "    .dataframe tbody tr th {\n",
       "        vertical-align: top;\n",
       "    }\n",
       "\n",
       "    .dataframe thead th {\n",
       "        text-align: right;\n",
       "    }\n",
       "</style>\n",
       "<table border=\"1\" class=\"dataframe\">\n",
       "  <thead>\n",
       "    <tr style=\"text-align: right;\">\n",
       "      <th></th>\n",
       "      <th>precision</th>\n",
       "      <th>recall</th>\n",
       "      <th>f1-score</th>\n",
       "      <th>support</th>\n",
       "    </tr>\n",
       "  </thead>\n",
       "  <tbody>\n",
       "    <tr>\n",
       "      <th>0</th>\n",
       "      <td>0.942623</td>\n",
       "      <td>0.827338</td>\n",
       "      <td>0.881226</td>\n",
       "      <td>139.000000</td>\n",
       "    </tr>\n",
       "    <tr>\n",
       "      <th>1</th>\n",
       "      <td>0.671642</td>\n",
       "      <td>0.803571</td>\n",
       "      <td>0.731707</td>\n",
       "      <td>56.000000</td>\n",
       "    </tr>\n",
       "    <tr>\n",
       "      <th>2</th>\n",
       "      <td>0.716981</td>\n",
       "      <td>0.808511</td>\n",
       "      <td>0.760000</td>\n",
       "      <td>47.000000</td>\n",
       "    </tr>\n",
       "    <tr>\n",
       "      <th>mean_1024</th>\n",
       "      <td>0.777082</td>\n",
       "      <td>0.813140</td>\n",
       "      <td>0.790978</td>\n",
       "      <td>80.666667</td>\n",
       "    </tr>\n",
       "  </tbody>\n",
       "</table>\n",
       "</div>"
      ],
      "text/plain": [
       "           precision    recall  f1-score     support\n",
       "0           0.942623  0.827338  0.881226  139.000000\n",
       "1           0.671642  0.803571  0.731707   56.000000\n",
       "2           0.716981  0.808511  0.760000   47.000000\n",
       "mean_1024   0.777082  0.813140  0.790978   80.666667"
      ]
     },
     "execution_count": 110,
     "metadata": {},
     "output_type": "execute_result"
    },
    {
     "data": {
      "text/html": [
       "<div>\n",
       "<style scoped>\n",
       "    .dataframe tbody tr th:only-of-type {\n",
       "        vertical-align: middle;\n",
       "    }\n",
       "\n",
       "    .dataframe tbody tr th {\n",
       "        vertical-align: top;\n",
       "    }\n",
       "\n",
       "    .dataframe thead th {\n",
       "        text-align: right;\n",
       "    }\n",
       "</style>\n",
       "<table border=\"1\" class=\"dataframe\">\n",
       "  <thead>\n",
       "    <tr style=\"text-align: right;\">\n",
       "      <th></th>\n",
       "      <th>precision</th>\n",
       "      <th>recall</th>\n",
       "      <th>f1-score</th>\n",
       "      <th>support</th>\n",
       "    </tr>\n",
       "  </thead>\n",
       "  <tbody>\n",
       "    <tr>\n",
       "      <th>0</th>\n",
       "      <td>0.958333</td>\n",
       "      <td>0.827338</td>\n",
       "      <td>0.888031</td>\n",
       "      <td>139.000000</td>\n",
       "    </tr>\n",
       "    <tr>\n",
       "      <th>1</th>\n",
       "      <td>0.638889</td>\n",
       "      <td>0.821429</td>\n",
       "      <td>0.718750</td>\n",
       "      <td>56.000000</td>\n",
       "    </tr>\n",
       "    <tr>\n",
       "      <th>2</th>\n",
       "      <td>0.720000</td>\n",
       "      <td>0.765957</td>\n",
       "      <td>0.742268</td>\n",
       "      <td>47.000000</td>\n",
       "    </tr>\n",
       "    <tr>\n",
       "      <th>mean_2048</th>\n",
       "      <td>0.772407</td>\n",
       "      <td>0.804908</td>\n",
       "      <td>0.783016</td>\n",
       "      <td>80.666667</td>\n",
       "    </tr>\n",
       "  </tbody>\n",
       "</table>\n",
       "</div>"
      ],
      "text/plain": [
       "           precision    recall  f1-score     support\n",
       "0           0.958333  0.827338  0.888031  139.000000\n",
       "1           0.638889  0.821429  0.718750   56.000000\n",
       "2           0.720000  0.765957  0.742268   47.000000\n",
       "mean_2048   0.772407  0.804908  0.783016   80.666667"
      ]
     },
     "execution_count": 110,
     "metadata": {},
     "output_type": "execute_result"
    }
   ],
   "source": [
    "metrics_256_df = pd.read_csv('output_with_moses/metrics_256.csv',index_col=0)\n",
    "metrics_256_df.loc['mean_256'] = metrics_256_df.mean()\n",
    "metrics_256_df\n",
    "metrics_512_df = pd.read_csv('output_with_moses/metrics_512.csv',index_col=0)\n",
    "metrics_512_df.loc['mean_512'] = metrics_512_df.mean()\n",
    "metrics_512_df\n",
    "metrics_1024_df = pd.read_csv('output_with_moses/metrics_1024.csv',index_col=0)\n",
    "metrics_1024_df.loc['mean_1024'] = metrics_1024_df.mean()\n",
    "metrics_1024_df\n",
    "metrics_2048_df = pd.read_csv('output_with_moses/metrics_2048.csv',index_col=0)\n",
    "metrics_2048_df.loc['mean_2048'] = metrics_2048_df.mean()\n",
    "metrics_2048_df"
   ]
  },
  {
   "cell_type": "code",
   "execution_count": 111,
   "metadata": {},
   "outputs": [],
   "source": [
    "full_df = pd.concat([metrics_256_df,metrics_512_df, metrics_1024_df, metrics_2048_df],ignore_index=True)\n",
    "rows = []\n",
    "r = 3\n",
    "for i in range(len(full_df)):\n",
    "    if i == r:\n",
    "        rows.append(list(full_df.loc[i]))\n",
    "        r+=4"
   ]
  },
  {
   "cell_type": "code",
   "execution_count": 112,
   "metadata": {},
   "outputs": [],
   "source": [
    "means_df = pd.DataFrame(rows)\n",
    "means_df.columns = ['precision', 'recall', 'f1-score', 'support']\n",
    "means_df = means_df.transpose()\n",
    "means_df.columns = ['256', '512', '1024', '2048']\n",
    "means_df = means_df.transpose()\n",
    "means_df.drop(['support'],axis=1, inplace=True)"
   ]
  },
  {
   "cell_type": "code",
   "execution_count": 113,
   "metadata": {},
   "outputs": [
    {
     "data": {
      "text/html": [
       "<div>\n",
       "<style scoped>\n",
       "    .dataframe tbody tr th:only-of-type {\n",
       "        vertical-align: middle;\n",
       "    }\n",
       "\n",
       "    .dataframe tbody tr th {\n",
       "        vertical-align: top;\n",
       "    }\n",
       "\n",
       "    .dataframe thead th {\n",
       "        text-align: right;\n",
       "    }\n",
       "</style>\n",
       "<table border=\"1\" class=\"dataframe\">\n",
       "  <thead>\n",
       "    <tr style=\"text-align: right;\">\n",
       "      <th></th>\n",
       "      <th>precision</th>\n",
       "      <th>recall</th>\n",
       "      <th>f1-score</th>\n",
       "    </tr>\n",
       "  </thead>\n",
       "  <tbody>\n",
       "    <tr>\n",
       "      <th>256</th>\n",
       "      <td>0.725690</td>\n",
       "      <td>0.756166</td>\n",
       "      <td>0.737100</td>\n",
       "    </tr>\n",
       "    <tr>\n",
       "      <th>512</th>\n",
       "      <td>0.754946</td>\n",
       "      <td>0.785927</td>\n",
       "      <td>0.763334</td>\n",
       "    </tr>\n",
       "    <tr>\n",
       "      <th>1024</th>\n",
       "      <td>0.777082</td>\n",
       "      <td>0.813140</td>\n",
       "      <td>0.790978</td>\n",
       "    </tr>\n",
       "    <tr>\n",
       "      <th>2048</th>\n",
       "      <td>0.772407</td>\n",
       "      <td>0.804908</td>\n",
       "      <td>0.783016</td>\n",
       "    </tr>\n",
       "  </tbody>\n",
       "</table>\n",
       "</div>"
      ],
      "text/plain": [
       "      precision    recall  f1-score\n",
       "256    0.725690  0.756166  0.737100\n",
       "512    0.754946  0.785927  0.763334\n",
       "1024   0.777082  0.813140  0.790978\n",
       "2048   0.772407  0.804908  0.783016"
      ]
     },
     "execution_count": 113,
     "metadata": {},
     "output_type": "execute_result"
    }
   ],
   "source": [
    "means_df"
   ]
  },
  {
   "cell_type": "code",
   "execution_count": 114,
   "metadata": {},
   "outputs": [
    {
     "data": {
      "text/plain": [
       "Text(0.5, 0, 'fp bits')"
      ]
     },
     "execution_count": 114,
     "metadata": {},
     "output_type": "execute_result"
    },
    {
     "data": {
      "text/plain": [
       "Text(0, 0.5, 'value')"
      ]
     },
     "execution_count": 114,
     "metadata": {},
     "output_type": "execute_result"
    },
    {
     "data": {
      "image/png": "[encoded data removed]",
      "text/plain": [
       "<Figure size 432x288 with 1 Axes>"
      ]
     },
     "metadata": {
      "needs_background": "light"
     },
     "output_type": "display_data"
    }
   ],
   "source": [
    "fig = means_df.plot.line()\n",
    "fig.set_xlabel('fp bits')\n",
    "fig.set_ylabel('value')"
   ]
  },
  {
   "cell_type": "code",
   "execution_count": 115,
   "metadata": {},
   "outputs": [],
   "source": [
    "def predictProteinDegradation(mol, fp_bit_sz, cellType : str = \"HeLa\", target : str = \"ER\", e3Ligase : str = \"IAP\") -> int:\n",
    "    with open(f'output_with_moses/Protac_Scoring_Model_{fp_bit_sz}.pkl', 'rb') as f1:\n",
    "        scoring_model = pickle.load(f1)\n",
    "    with open(f'output_with_moses/features_{fp_bit_sz}.pkl', 'rb') as f2:\n",
    "        features = pickle.load(f2)\n",
    "    fingerprint = AllChem.GetMorganFingerprintAsBitVect(mol, 2, nBits=fp_bit_sz)\n",
    "    fp_array = np.zeros((0,), dtype=np.int8)\n",
    "    DataStructs.ConvertToNumpyArray(fingerprint, fp_array)\n",
    "    input = [list(0 for i in range(88)) + list(fp_array) + list(0 for i in range(161)), list(0 for i in range(505))]\n",
    "\n",
    "    tgt_ind = features.index(\"tgt_\"+target)\n",
    "    ct_ind = features.index(\"ct_\"+cellType)\n",
    "    e3_ind = features.index(\"e3_\"+e3Ligase)\n",
    "    input[0][tgt_ind] = 1\n",
    "    input[0][ct_ind] = 1\n",
    "    input[0][e3_ind] = 1\n",
    "\n",
    "\n",
    "    y_pred = scoring_model.predict([input[0]])\n",
    "    return y_pred[0].argmax()"
   ]
  },
  {
   "cell_type": "code",
   "execution_count": 116,
   "metadata": {},
   "outputs": [],
   "source": [
    "mols = SmilesMolSupplier('data/epoch_100.smi', sanitize=True, nameColumn=-1,titleLine=True)\n",
    "actives = []\n",
    "for fp_bit_sz in [256,512,1024,2048]:\n",
    "    num_active = 0\n",
    "    for m in mols:\n",
    "        score = predictProteinDegradation(m,fp_bit_sz)\n",
    "        if score>0:\n",
    "            num_active+=1\n",
    "    actives.append(num_active/len(mols))\n",
    "means_df['predicted active'] = actives"
   ]
  },
  {
   "cell_type": "code",
   "execution_count": 117,
   "metadata": {},
   "outputs": [
    {
     "data": {
      "text/html": [
       "<div>\n",
       "<style scoped>\n",
       "    .dataframe tbody tr th:only-of-type {\n",
       "        vertical-align: middle;\n",
       "    }\n",
       "\n",
       "    .dataframe tbody tr th {\n",
       "        vertical-align: top;\n",
       "    }\n",
       "\n",
       "    .dataframe thead th {\n",
       "        text-align: right;\n",
       "    }\n",
       "</style>\n",
       "<table border=\"1\" class=\"dataframe\">\n",
       "  <thead>\n",
       "    <tr style=\"text-align: right;\">\n",
       "      <th></th>\n",
       "      <th>precision</th>\n",
       "      <th>recall</th>\n",
       "      <th>f1-score</th>\n",
       "      <th>predicted active</th>\n",
       "    </tr>\n",
       "  </thead>\n",
       "  <tbody>\n",
       "    <tr>\n",
       "      <th>256</th>\n",
       "      <td>0.725690</td>\n",
       "      <td>0.756166</td>\n",
       "      <td>0.737100</td>\n",
       "      <td>0.0</td>\n",
       "    </tr>\n",
       "    <tr>\n",
       "      <th>512</th>\n",
       "      <td>0.754946</td>\n",
       "      <td>0.785927</td>\n",
       "      <td>0.763334</td>\n",
       "      <td>0.0</td>\n",
       "    </tr>\n",
       "    <tr>\n",
       "      <th>1024</th>\n",
       "      <td>0.777082</td>\n",
       "      <td>0.813140</td>\n",
       "      <td>0.790978</td>\n",
       "      <td>0.0</td>\n",
       "    </tr>\n",
       "    <tr>\n",
       "      <th>2048</th>\n",
       "      <td>0.772407</td>\n",
       "      <td>0.804908</td>\n",
       "      <td>0.783016</td>\n",
       "      <td>0.0</td>\n",
       "    </tr>\n",
       "  </tbody>\n",
       "</table>\n",
       "</div>"
      ],
      "text/plain": [
       "      precision    recall  f1-score  predicted active\n",
       "256    0.725690  0.756166  0.737100               0.0\n",
       "512    0.754946  0.785927  0.763334               0.0\n",
       "1024   0.777082  0.813140  0.790978               0.0\n",
       "2048   0.772407  0.804908  0.783016               0.0"
      ]
     },
     "execution_count": 117,
     "metadata": {},
     "output_type": "execute_result"
    }
   ],
   "source": [
    "means_df"
   ]
  }
 ],
 "metadata": {
  "kernelspec": {
   "display_name": "Python 3.9.12 ('my-rdkit-env')",
   "language": "python",
   "name": "python3"
  },
  "language_info": {
   "codemirror_mode": {
    "name": "ipython",
    "version": 3
   },
   "file_extension": ".py",
   "mimetype": "text/x-python",
   "name": "python",
   "nbconvert_exporter": "python",
   "pygments_lexer": "ipython3",
   "version": "3.9.12"
  },
  "orig_nbformat": 4,
  "vscode": {
   "interpreter": {
    "hash": "ca09fa392acf7f4c9c27d29d2d1f288bcf246ad350262c369089ab5d60981f3e"
   }
  }
 },
 "nbformat": 4,
 "nbformat_minor": 2
}
