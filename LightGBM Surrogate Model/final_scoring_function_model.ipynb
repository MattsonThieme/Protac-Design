{
 "cells": [
  {
   "cell_type": "code",
   "execution_count": 1,
   "metadata": {},
   "outputs": [],
   "source": [
    "from IPython.core.interactiveshell import InteractiveShell\n",
    "InteractiveShell.ast_node_interactivity = \"all\""
   ]
  },
  {
   "cell_type": "code",
   "execution_count": 2,
   "metadata": {},
   "outputs": [
    {
     "name": "stderr",
     "output_type": "stream",
     "text": [
      "/Users/divyanori/miniconda3/envs/my-rdkit-env/lib/python3.9/site-packages/tqdm/auto.py:22: TqdmWarning: IProgress not found. Please update jupyter and ipywidgets. See https://ipywidgets.readthedocs.io/en/stable/user_install.html\n",
      "  from .autonotebook import tqdm as notebook_tqdm\n"
     ]
    },
    {
     "data": {
      "text/plain": [
       "'3.2.1'"
      ]
     },
     "execution_count": 2,
     "metadata": {},
     "output_type": "execute_result"
    }
   ],
   "source": [
    "from IPython.display import display_html\n",
    "\n",
    "from rdkit import Chem\n",
    "from rdkit.Chem import AllChem, DataStructs\n",
    "import re\n",
    "\n",
    "from datetime import date\n",
    "import gzip\n",
    "import numpy as np\n",
    "import pandas as pd\n",
    "pd.set_option(\"display.max_columns\",100, \"display.width\",2000, \"display.max_colwidth\",100)\n",
    "import pickle\n",
    "from scipy.sparse import csr_matrix, vstack\n",
    "from sklearn.metrics import classification_report, confusion_matrix, f1_score, roc_auc_score\n",
    "from sklearn.utils import class_weight\n",
    "from termcolor import colored\n",
    "from sklearn.model_selection import train_test_split\n",
    "import sklearn.metrics\n",
    "\n",
    "import optuna\n",
    "optuna.logging.set_verbosity(optuna.logging.WARN) #INFO, WARN\n",
    "import lightgbm as lgb; lgb.__version__\n",
    "\n",
    "import pickle"
   ]
  },
  {
   "cell_type": "markdown",
   "metadata": {},
   "source": [
    "Parameters"
   ]
  },
  {
   "cell_type": "code",
   "execution_count": 3,
   "metadata": {},
   "outputs": [
    {
     "name": "stdout",
     "output_type": "stream",
     "text": [
      "Parameters\n",
      "NTRIALS: 100\n",
      " NBOOST: 50\n",
      " NCLASS: 3\n",
      "FP_BITS: 2048\n"
     ]
    }
   ],
   "source": [
    "prm = dict(\n",
    "  #number of Optuna trials\n",
    "  NTRIALS = 100,\n",
    "  \n",
    "  #number of boosted trees to be created\n",
    "  NBOOST = 50,\n",
    "\n",
    "  #number of classes in response variable\n",
    "  NCLASS = 3,\n",
    "\n",
    "  #morgan fingerpring bit length\n",
    "  FP_BITS = 2048\n",
    ")\n",
    "\n",
    "offs = max(map(len,prm.keys()))\n",
    "print(\"Parameters\")\n",
    "for k,v in prm.items():\n",
    "  print(f\"{k:>{offs}}: {v}\")\n",
    "\n",
    "del k, v, offs"
   ]
  },
  {
   "cell_type": "markdown",
   "metadata": {},
   "source": [
    "Reading Data"
   ]
  },
  {
   "cell_type": "code",
   "execution_count": 4,
   "metadata": {},
   "outputs": [
    {
     "name": "stdout",
     "output_type": "stream",
     "text": [
      "input_df: 3,939 x 84 (input df) \n",
      "\n",
      "Counts of distinct values in columns\n",
      "col:Target  (#unique:289)\n",
      "         0     1     2    3     4    5    6        7     8     9       10    11    12     13     14    15          16                17   18    19\n",
      "Target   ER  BRD4  CDK4   AR  CDK6  BTK  ALK  BCR-ABL  BRD3  BRD2  BCL-xL  MEK1  CDK2  PARP1  HDAC6  BRD9  BRAF V600E  EGFR L858R/T790M  FAK  CDK9\n",
      "size    182   164   143  141   139  106   97       96    77    77      77    76    70     63     60    53          53                52   52    52 \n",
      "\n",
      "col:E3ligase  (#unique:12)\n",
      "            0     1      2     3     4    5    6       7       8       9       10    11\n",
      "E3ligase  CRBN   VHL  cIAP1  XIAP  MDM2  AhR  IAP  DCAF15  DCAF16  RNF114  DCAF11  RNF4\n",
      "size      2571  1152    122    34    30    9    5       4       4       4       3     1 \n",
      "\n"
     ]
    }
   ],
   "source": [
    "input_df = pd.read_csv(\"protac.csv\").reset_index(drop=True)\n",
    "input_df = input_df.rename(columns={\"E3 ligase\":\"E3ligase\"})\n",
    "print(\"input_df: {:,} x {:,}\".format(*input_df.shape), \"(input df) \\n\")\n",
    "\n",
    "print(\"Counts of distinct values in columns\")\n",
    "for x in [\"Target\",\"E3ligase\"]:\n",
    "  tmp = input_df.groupby(x, as_index=False).size().sort_values(\"size\", ascending=False, ignore_index=True)\n",
    "  print(f\"col:{x}  (#unique:{tmp.shape[0]:,})\")\n",
    "  print(tmp.head(20).T, \"\\n\")\n",
    "\n",
    "del tmp"
   ]
  },
  {
   "cell_type": "markdown",
   "metadata": {},
   "source": [
    "Creating E3 Ligase Classes"
   ]
  },
  {
   "cell_type": "code",
   "execution_count": 5,
   "metadata": {},
   "outputs": [
    {
     "name": "stdout",
     "output_type": "stream",
     "text": [
      "col:E3ligase  (#unique:7)\n",
      "             0     1    2     3     4    5    6\n",
      "E3ligase  CRBN   VHL  IAP  MDM2  DCAF  AhR  RNF\n",
      "size      2571  1152  161    30    11    9    5 \n",
      "\n"
     ]
    }
   ],
   "source": [
    "for i in range(len(input_df[\"E3ligase\"])):\n",
    "    if 'IAP' in str(input_df.loc[i].at[\"E3ligase\"]):\n",
    "        input_df.at[i,'E3ligase']='IAP'\n",
    "    elif 'DCAF' in str(input_df.loc[i].at[\"E3ligase\"]):\n",
    "        input_df.at[i,'E3ligase']='DCAF'\n",
    "    elif 'RNF' in str(input_df.loc[i].at[\"E3ligase\"]):\n",
    "        input_df.at[i,'E3ligase']='RNF'\n",
    "\n",
    "tmp = input_df.groupby('E3ligase', as_index=False).size().sort_values(\"size\", ascending=False, ignore_index=True)\n",
    "print(f\"col:{'E3ligase'}  (#unique:{tmp.shape[0]:,})\")\n",
    "print(tmp.head(20).T, \"\\n\")\n",
    "del tmp"
   ]
  },
  {
   "cell_type": "code",
   "execution_count": 6,
   "metadata": {},
   "outputs": [
    {
     "name": "stdout",
     "output_type": "stream",
     "text": [
      "Number of Rows with explicit DC50: 638\n",
      "input_df: 638 x 84 (input df) \n",
      "\n"
     ]
    }
   ],
   "source": [
    "print('Number of Rows with explicit DC50: ' + str((input_df.shape[0] - input_df['DC50 (nM)'].isna().sum())))\n",
    "#input_df = input_df.dropna(subset=['DC50 (nM)',\"Percent degradation (%)\"],how='all')\n",
    "input_df = input_df.dropna(subset=['DC50 (nM)'])\n",
    "print(\"input_df: {:,} x {:,}\".format(*input_df.shape), \"(input df) \\n\")"
   ]
  },
  {
   "cell_type": "markdown",
   "metadata": {},
   "source": [
    "Preparing Features"
   ]
  },
  {
   "cell_type": "markdown",
   "metadata": {},
   "source": [
    "Target and E3 Ligase"
   ]
  },
  {
   "cell_type": "code",
   "execution_count": 7,
   "metadata": {},
   "outputs": [
    {
     "name": "stdout",
     "output_type": "stream",
     "text": [
      "model_df: 638 x 89 (target and E3ligase OHE features)\n"
     ]
    }
   ],
   "source": [
    "model_df = pd.concat([\n",
    "    pd.get_dummies(input_df[\"Target\"], prefix=\"tgt\"),\n",
    "    pd.get_dummies(input_df[\"E3ligase\"], prefix=\"e3\")\n",
    "  ], axis=1).reset_index(drop=True)\n",
    "\n",
    "print(\"model_df: {:,} x {:,}\".format(*model_df.shape), \"(target and E3ligase OHE features)\")"
   ]
  },
  {
   "cell_type": "markdown",
   "metadata": {},
   "source": [
    "Molecular Fingerprint"
   ]
  },
  {
   "cell_type": "code",
   "execution_count": 8,
   "metadata": {},
   "outputs": [
    {
     "name": "stdout",
     "output_type": "stream",
     "text": [
      "model_df: 638 x 89\n",
      "fp_df: 638 x 2,048\n",
      "model_df: 638 x 2,137 (added fingerprint features)\n"
     ]
    }
   ],
   "source": [
    "def get_morgan_fp(smiles:str, nbits:int=prm['FP_BITS']):\n",
    "  m = Chem.MolFromSmiles(smiles)\n",
    "  fingerprint = AllChem.GetMorganFingerprintAsBitVect(m, 2, nBits=nbits)\n",
    "  array = np.zeros((0,), dtype=np.int8)\n",
    "  DataStructs.ConvertToNumpyArray(fingerprint, array)\n",
    "  return array\n",
    "\n",
    "fingerprints = [get_morgan_fp(x).tolist() for x in input_df[\"Smiles\"]]\n",
    "fp_df = pd.DataFrame(fingerprints, columns=[\"sm\"+str(n) for n in range(1,prm['FP_BITS']+1)])\n",
    "print(\"model_df: {:,} x {:,}\".format(*model_df.shape))\n",
    "\n",
    "#assert model_df.columns == smiles_df.columns\n",
    "\n",
    "model_df = pd.concat([model_df,fp_df],axis=1)\n",
    "print(\"fp_df: {:,} x {:,}\".format(*fp_df.shape))\n",
    "print(\"model_df: {:,} x {:,}\".format(*model_df.shape), \"(added fingerprint features)\")\n"
   ]
  },
  {
   "cell_type": "markdown",
   "metadata": {},
   "source": [
    "Cell Type"
   ]
  },
  {
   "cell_type": "code",
   "execution_count": 9,
   "metadata": {},
   "outputs": [
    {
     "name": "stdout",
     "output_type": "stream",
     "text": [
      "Most Common Cell Type: K562\n",
      "Cell Types: {'PBMC', 'HeLa/HEK293', 'MV4-11', 'NCI-H2030', 'LNCaP/VCaP/22Rv1', 'PC9', 'Mino', 'OVCAR8/HeLa', 'MCF7', 'A549/Hep3B2.1-7/SNU-387', 'T47D/MB-MDA-231', 'Pfeiffer/DOHH2/K562', 'MM.1S', 'MOLT-4/platelets', '205', 'Molm-16/SU-DHL-1', 'MOLT-4', 'MCF7/MDA-MB-231', 'MDA-MB-231', 'SR', '4935', 'U251', 'OCI-AML2/OCI-AML3/Ramos', 'SK-MEL-246', 'Namalwa/CA-46', 'TM3/PA1/MDA-MB-436', 'PC3', 'H3122/Karpas299/Kelly', 'H1666/CAL-12T', 'SW1573', 'VCaP', 'H3255', 'A549', 'MV4;11', 'Jurkat/MOLT-4/U937', 'XLA', 'PC-3', 'HT-29/SK-MEL-28', 'EOL-1', '22Rv1', 'THP-1', 'KM12/HEL', 'MM.1S/MDA-MB-231', 'MCF-7', 'THP1', 'Sk-Mel-28', 'K562', 'WI38', 'NCI-H661/NCI-H838', '22Rv1/VCaP/LnCaP95', 'MM', 'A375', 'Jurkat', 'SW480', 'KYSE520/MV4;11', 'HCC-827', 'HCC827/H3255', 'EOL-1/A-204', 'KYSE-270', 'SK-MEL-28', 'SU-DHL-1/NCI-H2228', 'Hs578t', 'Ramos', 'HLE/HuH-7/SNU-423', 'HCC827', 'HLF/SNU-398/HUCCT1', 'MV-4-11/NCI-H1568', 'LNCaP/VCaP', 'MCF-7/T47D', 'LNCaP/Ramos', 'H1975', 'NAMALWA', 'MDA-MB-468', 'HCC1937/22RV1/MDA-MB-468', 'PC3-S1', 'Unknown', 'Tu-I', 'NCI-H2030/MIAPaCa-2/SW1573', 'Huh7.5', 'RI-1', 'MOLM-14', 'HEK293', 'HCT116', 'HeLa/DB', 'HeLa', 'Ramos/THP-1', '11', 'Kasumi-1/NB4/MV-4-11', 'HEK293T', '22RV1', 'hPBMC', 'NAMALWA/XLA', 'LNCaP', 'MM.1S/MV-4-11/MDA-MB-468', 'NCI-H23/NCI-H358', 'Sertoli/germ', 'SUM149', 'SW620', 'PC-3/LNCaP/MDA-MB-231', 'Molm-16', 'HUH-1/HepG2/SK-Hep-1', 'SRD15', 'A431', '264.7', 'MV-4-11', 'Z138/HBL-1/Mino', 'MM1S', 'MDA-MB-436/Capan-1/SW620', '293T'}\n"
     ]
    },
    {
     "data": {
      "text/plain": [
       "109"
      ]
     },
     "execution_count": 9,
     "metadata": {},
     "output_type": "execute_result"
    },
    {
     "data": {
      "text/html": [
       "<div>\n",
       "<style scoped>\n",
       "    .dataframe tbody tr th:only-of-type {\n",
       "        vertical-align: middle;\n",
       "    }\n",
       "\n",
       "    .dataframe tbody tr th {\n",
       "        vertical-align: top;\n",
       "    }\n",
       "\n",
       "    .dataframe thead th {\n",
       "        text-align: right;\n",
       "    }\n",
       "</style>\n",
       "<table border=\"1\" class=\"dataframe\">\n",
       "  <thead>\n",
       "    <tr style=\"text-align: right;\">\n",
       "      <th></th>\n",
       "      <th>tgt_ABL1</th>\n",
       "      <th>tgt_ADRA1A</th>\n",
       "      <th>tgt_AKT1</th>\n",
       "      <th>tgt_AKT2</th>\n",
       "      <th>tgt_AKT3</th>\n",
       "      <th>tgt_ALK</th>\n",
       "      <th>tgt_ALK G1202R</th>\n",
       "      <th>tgt_AR</th>\n",
       "      <th>tgt_AR-V7</th>\n",
       "      <th>tgt_AURKA</th>\n",
       "      <th>tgt_BCL-xL</th>\n",
       "      <th>tgt_BCL2</th>\n",
       "      <th>tgt_BCR-ABL</th>\n",
       "      <th>tgt_BLK</th>\n",
       "      <th>tgt_BRAF G466V</th>\n",
       "      <th>tgt_BRAF G469A</th>\n",
       "      <th>tgt_BRAF V600E</th>\n",
       "      <th>tgt_BRD2</th>\n",
       "      <th>tgt_BRD3</th>\n",
       "      <th>tgt_BRD4</th>\n",
       "      <th>tgt_BRD4 BD1</th>\n",
       "      <th>tgt_BRD7</th>\n",
       "      <th>tgt_BRD9</th>\n",
       "      <th>tgt_BTK</th>\n",
       "      <th>tgt_BTK C481S</th>\n",
       "      <th>tgt_CD147</th>\n",
       "      <th>tgt_CDK19</th>\n",
       "      <th>tgt_CDK2</th>\n",
       "      <th>tgt_CDK4</th>\n",
       "      <th>tgt_CDK6</th>\n",
       "      <th>tgt_CDK8</th>\n",
       "      <th>tgt_CDK9</th>\n",
       "      <th>tgt_CRBN</th>\n",
       "      <th>tgt_Cdc20</th>\n",
       "      <th>tgt_EED</th>\n",
       "      <th>tgt_EGFR</th>\n",
       "      <th>tgt_EGFR L858R</th>\n",
       "      <th>tgt_EGFR L858R/T790M</th>\n",
       "      <th>tgt_EGFR e19d</th>\n",
       "      <th>tgt_ER</th>\n",
       "      <th>tgt_ERRalpha</th>\n",
       "      <th>tgt_EZH2</th>\n",
       "      <th>tgt_FAK</th>\n",
       "      <th>tgt_FKBP12</th>\n",
       "      <th>tgt_GCN5</th>\n",
       "      <th>tgt_GSK-3beta</th>\n",
       "      <th>tgt_GSK3A</th>\n",
       "      <th>tgt_HDAC3</th>\n",
       "      <th>tgt_HDAC6</th>\n",
       "      <th>tgt_HMGCR</th>\n",
       "      <th>...</th>\n",
       "      <th>ct_MOLT-4/platelets</th>\n",
       "      <th>ct_MV-4-11</th>\n",
       "      <th>ct_MV-4-11/NCI-H1568</th>\n",
       "      <th>ct_MV4-11</th>\n",
       "      <th>ct_MV4;11</th>\n",
       "      <th>ct_Mino</th>\n",
       "      <th>ct_Molm-16</th>\n",
       "      <th>ct_Molm-16/SU-DHL-1</th>\n",
       "      <th>ct_NAMALWA</th>\n",
       "      <th>ct_NAMALWA/XLA</th>\n",
       "      <th>ct_NCI-H2030</th>\n",
       "      <th>ct_NCI-H2030/MIAPaCa-2/SW1573</th>\n",
       "      <th>ct_NCI-H23/NCI-H358</th>\n",
       "      <th>ct_NCI-H661/NCI-H838</th>\n",
       "      <th>ct_Namalwa/CA-46</th>\n",
       "      <th>ct_OCI-AML2/OCI-AML3/Ramos</th>\n",
       "      <th>ct_OVCAR8/HeLa</th>\n",
       "      <th>ct_PBMC</th>\n",
       "      <th>ct_PC-3</th>\n",
       "      <th>ct_PC-3/LNCaP/MDA-MB-231</th>\n",
       "      <th>ct_PC3</th>\n",
       "      <th>ct_PC3-S1</th>\n",
       "      <th>ct_PC9</th>\n",
       "      <th>ct_Pfeiffer/DOHH2/K562</th>\n",
       "      <th>ct_RI-1</th>\n",
       "      <th>ct_Ramos</th>\n",
       "      <th>ct_Ramos/THP-1</th>\n",
       "      <th>ct_SK-MEL-246</th>\n",
       "      <th>ct_SK-MEL-28</th>\n",
       "      <th>ct_SR</th>\n",
       "      <th>ct_SRD15</th>\n",
       "      <th>ct_SU-DHL-1/NCI-H2228</th>\n",
       "      <th>ct_SUM149</th>\n",
       "      <th>ct_SW1573</th>\n",
       "      <th>ct_SW480</th>\n",
       "      <th>ct_SW620</th>\n",
       "      <th>ct_Sertoli/germ</th>\n",
       "      <th>ct_Sk-Mel-28</th>\n",
       "      <th>ct_T47D/MB-MDA-231</th>\n",
       "      <th>ct_THP-1</th>\n",
       "      <th>ct_THP1</th>\n",
       "      <th>ct_TM3/PA1/MDA-MB-436</th>\n",
       "      <th>ct_Tu-I</th>\n",
       "      <th>ct_U251</th>\n",
       "      <th>ct_Unknown</th>\n",
       "      <th>ct_VCaP</th>\n",
       "      <th>ct_WI38</th>\n",
       "      <th>ct_XLA</th>\n",
       "      <th>ct_Z138/HBL-1/Mino</th>\n",
       "      <th>ct_hPBMC</th>\n",
       "    </tr>\n",
       "  </thead>\n",
       "  <tbody>\n",
       "    <tr>\n",
       "      <th>0</th>\n",
       "      <td>0</td>\n",
       "      <td>0</td>\n",
       "      <td>0</td>\n",
       "      <td>0</td>\n",
       "      <td>0</td>\n",
       "      <td>0</td>\n",
       "      <td>0</td>\n",
       "      <td>0</td>\n",
       "      <td>0</td>\n",
       "      <td>0</td>\n",
       "      <td>0</td>\n",
       "      <td>0</td>\n",
       "      <td>0</td>\n",
       "      <td>0</td>\n",
       "      <td>0</td>\n",
       "      <td>0</td>\n",
       "      <td>0</td>\n",
       "      <td>0</td>\n",
       "      <td>0</td>\n",
       "      <td>0</td>\n",
       "      <td>0</td>\n",
       "      <td>0</td>\n",
       "      <td>1</td>\n",
       "      <td>0</td>\n",
       "      <td>0</td>\n",
       "      <td>0</td>\n",
       "      <td>0</td>\n",
       "      <td>0</td>\n",
       "      <td>0</td>\n",
       "      <td>0</td>\n",
       "      <td>0</td>\n",
       "      <td>0</td>\n",
       "      <td>0</td>\n",
       "      <td>0</td>\n",
       "      <td>0</td>\n",
       "      <td>0</td>\n",
       "      <td>0</td>\n",
       "      <td>0</td>\n",
       "      <td>0</td>\n",
       "      <td>0</td>\n",
       "      <td>0</td>\n",
       "      <td>0</td>\n",
       "      <td>0</td>\n",
       "      <td>0</td>\n",
       "      <td>0</td>\n",
       "      <td>0</td>\n",
       "      <td>0</td>\n",
       "      <td>0</td>\n",
       "      <td>0</td>\n",
       "      <td>0</td>\n",
       "      <td>...</td>\n",
       "      <td>0</td>\n",
       "      <td>0</td>\n",
       "      <td>0</td>\n",
       "      <td>0</td>\n",
       "      <td>0</td>\n",
       "      <td>0</td>\n",
       "      <td>0</td>\n",
       "      <td>0</td>\n",
       "      <td>0</td>\n",
       "      <td>0</td>\n",
       "      <td>0</td>\n",
       "      <td>0</td>\n",
       "      <td>0</td>\n",
       "      <td>0</td>\n",
       "      <td>0</td>\n",
       "      <td>0</td>\n",
       "      <td>0</td>\n",
       "      <td>0</td>\n",
       "      <td>0</td>\n",
       "      <td>0</td>\n",
       "      <td>0</td>\n",
       "      <td>0</td>\n",
       "      <td>0</td>\n",
       "      <td>0</td>\n",
       "      <td>0</td>\n",
       "      <td>0</td>\n",
       "      <td>0</td>\n",
       "      <td>0</td>\n",
       "      <td>0</td>\n",
       "      <td>0</td>\n",
       "      <td>0</td>\n",
       "      <td>0</td>\n",
       "      <td>0</td>\n",
       "      <td>0</td>\n",
       "      <td>0</td>\n",
       "      <td>0</td>\n",
       "      <td>0</td>\n",
       "      <td>0</td>\n",
       "      <td>0</td>\n",
       "      <td>0</td>\n",
       "      <td>0</td>\n",
       "      <td>0</td>\n",
       "      <td>0</td>\n",
       "      <td>0</td>\n",
       "      <td>0</td>\n",
       "      <td>0</td>\n",
       "      <td>0</td>\n",
       "      <td>0</td>\n",
       "      <td>0</td>\n",
       "      <td>0</td>\n",
       "    </tr>\n",
       "    <tr>\n",
       "      <th>1</th>\n",
       "      <td>0</td>\n",
       "      <td>0</td>\n",
       "      <td>0</td>\n",
       "      <td>0</td>\n",
       "      <td>0</td>\n",
       "      <td>0</td>\n",
       "      <td>0</td>\n",
       "      <td>0</td>\n",
       "      <td>0</td>\n",
       "      <td>0</td>\n",
       "      <td>0</td>\n",
       "      <td>0</td>\n",
       "      <td>0</td>\n",
       "      <td>0</td>\n",
       "      <td>0</td>\n",
       "      <td>0</td>\n",
       "      <td>0</td>\n",
       "      <td>0</td>\n",
       "      <td>0</td>\n",
       "      <td>0</td>\n",
       "      <td>0</td>\n",
       "      <td>1</td>\n",
       "      <td>0</td>\n",
       "      <td>0</td>\n",
       "      <td>0</td>\n",
       "      <td>0</td>\n",
       "      <td>0</td>\n",
       "      <td>0</td>\n",
       "      <td>0</td>\n",
       "      <td>0</td>\n",
       "      <td>0</td>\n",
       "      <td>0</td>\n",
       "      <td>0</td>\n",
       "      <td>0</td>\n",
       "      <td>0</td>\n",
       "      <td>0</td>\n",
       "      <td>0</td>\n",
       "      <td>0</td>\n",
       "      <td>0</td>\n",
       "      <td>0</td>\n",
       "      <td>0</td>\n",
       "      <td>0</td>\n",
       "      <td>0</td>\n",
       "      <td>0</td>\n",
       "      <td>0</td>\n",
       "      <td>0</td>\n",
       "      <td>0</td>\n",
       "      <td>0</td>\n",
       "      <td>0</td>\n",
       "      <td>0</td>\n",
       "      <td>...</td>\n",
       "      <td>0</td>\n",
       "      <td>0</td>\n",
       "      <td>0</td>\n",
       "      <td>0</td>\n",
       "      <td>0</td>\n",
       "      <td>0</td>\n",
       "      <td>0</td>\n",
       "      <td>0</td>\n",
       "      <td>0</td>\n",
       "      <td>0</td>\n",
       "      <td>0</td>\n",
       "      <td>0</td>\n",
       "      <td>0</td>\n",
       "      <td>0</td>\n",
       "      <td>0</td>\n",
       "      <td>0</td>\n",
       "      <td>0</td>\n",
       "      <td>0</td>\n",
       "      <td>0</td>\n",
       "      <td>0</td>\n",
       "      <td>0</td>\n",
       "      <td>0</td>\n",
       "      <td>0</td>\n",
       "      <td>0</td>\n",
       "      <td>1</td>\n",
       "      <td>0</td>\n",
       "      <td>0</td>\n",
       "      <td>0</td>\n",
       "      <td>0</td>\n",
       "      <td>0</td>\n",
       "      <td>0</td>\n",
       "      <td>0</td>\n",
       "      <td>0</td>\n",
       "      <td>0</td>\n",
       "      <td>0</td>\n",
       "      <td>0</td>\n",
       "      <td>0</td>\n",
       "      <td>0</td>\n",
       "      <td>0</td>\n",
       "      <td>0</td>\n",
       "      <td>0</td>\n",
       "      <td>0</td>\n",
       "      <td>0</td>\n",
       "      <td>0</td>\n",
       "      <td>0</td>\n",
       "      <td>0</td>\n",
       "      <td>0</td>\n",
       "      <td>0</td>\n",
       "      <td>0</td>\n",
       "      <td>0</td>\n",
       "    </tr>\n",
       "    <tr>\n",
       "      <th>2</th>\n",
       "      <td>0</td>\n",
       "      <td>0</td>\n",
       "      <td>0</td>\n",
       "      <td>0</td>\n",
       "      <td>0</td>\n",
       "      <td>0</td>\n",
       "      <td>0</td>\n",
       "      <td>0</td>\n",
       "      <td>0</td>\n",
       "      <td>0</td>\n",
       "      <td>0</td>\n",
       "      <td>0</td>\n",
       "      <td>0</td>\n",
       "      <td>0</td>\n",
       "      <td>0</td>\n",
       "      <td>0</td>\n",
       "      <td>0</td>\n",
       "      <td>0</td>\n",
       "      <td>0</td>\n",
       "      <td>0</td>\n",
       "      <td>0</td>\n",
       "      <td>0</td>\n",
       "      <td>1</td>\n",
       "      <td>0</td>\n",
       "      <td>0</td>\n",
       "      <td>0</td>\n",
       "      <td>0</td>\n",
       "      <td>0</td>\n",
       "      <td>0</td>\n",
       "      <td>0</td>\n",
       "      <td>0</td>\n",
       "      <td>0</td>\n",
       "      <td>0</td>\n",
       "      <td>0</td>\n",
       "      <td>0</td>\n",
       "      <td>0</td>\n",
       "      <td>0</td>\n",
       "      <td>0</td>\n",
       "      <td>0</td>\n",
       "      <td>0</td>\n",
       "      <td>0</td>\n",
       "      <td>0</td>\n",
       "      <td>0</td>\n",
       "      <td>0</td>\n",
       "      <td>0</td>\n",
       "      <td>0</td>\n",
       "      <td>0</td>\n",
       "      <td>0</td>\n",
       "      <td>0</td>\n",
       "      <td>0</td>\n",
       "      <td>...</td>\n",
       "      <td>0</td>\n",
       "      <td>0</td>\n",
       "      <td>0</td>\n",
       "      <td>0</td>\n",
       "      <td>0</td>\n",
       "      <td>0</td>\n",
       "      <td>0</td>\n",
       "      <td>0</td>\n",
       "      <td>0</td>\n",
       "      <td>0</td>\n",
       "      <td>0</td>\n",
       "      <td>0</td>\n",
       "      <td>0</td>\n",
       "      <td>0</td>\n",
       "      <td>0</td>\n",
       "      <td>0</td>\n",
       "      <td>0</td>\n",
       "      <td>0</td>\n",
       "      <td>0</td>\n",
       "      <td>0</td>\n",
       "      <td>0</td>\n",
       "      <td>0</td>\n",
       "      <td>0</td>\n",
       "      <td>0</td>\n",
       "      <td>1</td>\n",
       "      <td>0</td>\n",
       "      <td>0</td>\n",
       "      <td>0</td>\n",
       "      <td>0</td>\n",
       "      <td>0</td>\n",
       "      <td>0</td>\n",
       "      <td>0</td>\n",
       "      <td>0</td>\n",
       "      <td>0</td>\n",
       "      <td>0</td>\n",
       "      <td>0</td>\n",
       "      <td>0</td>\n",
       "      <td>0</td>\n",
       "      <td>0</td>\n",
       "      <td>0</td>\n",
       "      <td>0</td>\n",
       "      <td>0</td>\n",
       "      <td>0</td>\n",
       "      <td>0</td>\n",
       "      <td>0</td>\n",
       "      <td>0</td>\n",
       "      <td>0</td>\n",
       "      <td>0</td>\n",
       "      <td>0</td>\n",
       "      <td>0</td>\n",
       "    </tr>\n",
       "    <tr>\n",
       "      <th>3</th>\n",
       "      <td>0</td>\n",
       "      <td>0</td>\n",
       "      <td>0</td>\n",
       "      <td>0</td>\n",
       "      <td>0</td>\n",
       "      <td>0</td>\n",
       "      <td>0</td>\n",
       "      <td>0</td>\n",
       "      <td>0</td>\n",
       "      <td>0</td>\n",
       "      <td>0</td>\n",
       "      <td>0</td>\n",
       "      <td>0</td>\n",
       "      <td>0</td>\n",
       "      <td>0</td>\n",
       "      <td>0</td>\n",
       "      <td>0</td>\n",
       "      <td>0</td>\n",
       "      <td>0</td>\n",
       "      <td>0</td>\n",
       "      <td>0</td>\n",
       "      <td>1</td>\n",
       "      <td>0</td>\n",
       "      <td>0</td>\n",
       "      <td>0</td>\n",
       "      <td>0</td>\n",
       "      <td>0</td>\n",
       "      <td>0</td>\n",
       "      <td>0</td>\n",
       "      <td>0</td>\n",
       "      <td>0</td>\n",
       "      <td>0</td>\n",
       "      <td>0</td>\n",
       "      <td>0</td>\n",
       "      <td>0</td>\n",
       "      <td>0</td>\n",
       "      <td>0</td>\n",
       "      <td>0</td>\n",
       "      <td>0</td>\n",
       "      <td>0</td>\n",
       "      <td>0</td>\n",
       "      <td>0</td>\n",
       "      <td>0</td>\n",
       "      <td>0</td>\n",
       "      <td>0</td>\n",
       "      <td>0</td>\n",
       "      <td>0</td>\n",
       "      <td>0</td>\n",
       "      <td>0</td>\n",
       "      <td>0</td>\n",
       "      <td>...</td>\n",
       "      <td>0</td>\n",
       "      <td>0</td>\n",
       "      <td>0</td>\n",
       "      <td>0</td>\n",
       "      <td>0</td>\n",
       "      <td>0</td>\n",
       "      <td>0</td>\n",
       "      <td>0</td>\n",
       "      <td>0</td>\n",
       "      <td>0</td>\n",
       "      <td>0</td>\n",
       "      <td>0</td>\n",
       "      <td>0</td>\n",
       "      <td>0</td>\n",
       "      <td>0</td>\n",
       "      <td>0</td>\n",
       "      <td>0</td>\n",
       "      <td>0</td>\n",
       "      <td>0</td>\n",
       "      <td>0</td>\n",
       "      <td>0</td>\n",
       "      <td>0</td>\n",
       "      <td>0</td>\n",
       "      <td>0</td>\n",
       "      <td>0</td>\n",
       "      <td>0</td>\n",
       "      <td>0</td>\n",
       "      <td>0</td>\n",
       "      <td>0</td>\n",
       "      <td>0</td>\n",
       "      <td>0</td>\n",
       "      <td>0</td>\n",
       "      <td>0</td>\n",
       "      <td>0</td>\n",
       "      <td>0</td>\n",
       "      <td>0</td>\n",
       "      <td>0</td>\n",
       "      <td>0</td>\n",
       "      <td>0</td>\n",
       "      <td>0</td>\n",
       "      <td>0</td>\n",
       "      <td>0</td>\n",
       "      <td>0</td>\n",
       "      <td>0</td>\n",
       "      <td>0</td>\n",
       "      <td>0</td>\n",
       "      <td>0</td>\n",
       "      <td>0</td>\n",
       "      <td>0</td>\n",
       "      <td>0</td>\n",
       "    </tr>\n",
       "    <tr>\n",
       "      <th>4</th>\n",
       "      <td>0</td>\n",
       "      <td>0</td>\n",
       "      <td>0</td>\n",
       "      <td>0</td>\n",
       "      <td>0</td>\n",
       "      <td>0</td>\n",
       "      <td>0</td>\n",
       "      <td>0</td>\n",
       "      <td>0</td>\n",
       "      <td>0</td>\n",
       "      <td>0</td>\n",
       "      <td>0</td>\n",
       "      <td>0</td>\n",
       "      <td>0</td>\n",
       "      <td>0</td>\n",
       "      <td>0</td>\n",
       "      <td>0</td>\n",
       "      <td>0</td>\n",
       "      <td>0</td>\n",
       "      <td>0</td>\n",
       "      <td>0</td>\n",
       "      <td>0</td>\n",
       "      <td>1</td>\n",
       "      <td>0</td>\n",
       "      <td>0</td>\n",
       "      <td>0</td>\n",
       "      <td>0</td>\n",
       "      <td>0</td>\n",
       "      <td>0</td>\n",
       "      <td>0</td>\n",
       "      <td>0</td>\n",
       "      <td>0</td>\n",
       "      <td>0</td>\n",
       "      <td>0</td>\n",
       "      <td>0</td>\n",
       "      <td>0</td>\n",
       "      <td>0</td>\n",
       "      <td>0</td>\n",
       "      <td>0</td>\n",
       "      <td>0</td>\n",
       "      <td>0</td>\n",
       "      <td>0</td>\n",
       "      <td>0</td>\n",
       "      <td>0</td>\n",
       "      <td>0</td>\n",
       "      <td>0</td>\n",
       "      <td>0</td>\n",
       "      <td>0</td>\n",
       "      <td>0</td>\n",
       "      <td>0</td>\n",
       "      <td>...</td>\n",
       "      <td>0</td>\n",
       "      <td>0</td>\n",
       "      <td>0</td>\n",
       "      <td>0</td>\n",
       "      <td>0</td>\n",
       "      <td>0</td>\n",
       "      <td>0</td>\n",
       "      <td>0</td>\n",
       "      <td>0</td>\n",
       "      <td>0</td>\n",
       "      <td>0</td>\n",
       "      <td>0</td>\n",
       "      <td>0</td>\n",
       "      <td>0</td>\n",
       "      <td>0</td>\n",
       "      <td>0</td>\n",
       "      <td>0</td>\n",
       "      <td>0</td>\n",
       "      <td>0</td>\n",
       "      <td>0</td>\n",
       "      <td>0</td>\n",
       "      <td>0</td>\n",
       "      <td>0</td>\n",
       "      <td>0</td>\n",
       "      <td>0</td>\n",
       "      <td>0</td>\n",
       "      <td>0</td>\n",
       "      <td>0</td>\n",
       "      <td>0</td>\n",
       "      <td>0</td>\n",
       "      <td>0</td>\n",
       "      <td>0</td>\n",
       "      <td>0</td>\n",
       "      <td>0</td>\n",
       "      <td>0</td>\n",
       "      <td>0</td>\n",
       "      <td>0</td>\n",
       "      <td>0</td>\n",
       "      <td>0</td>\n",
       "      <td>0</td>\n",
       "      <td>0</td>\n",
       "      <td>0</td>\n",
       "      <td>0</td>\n",
       "      <td>0</td>\n",
       "      <td>0</td>\n",
       "      <td>0</td>\n",
       "      <td>0</td>\n",
       "      <td>0</td>\n",
       "      <td>0</td>\n",
       "      <td>0</td>\n",
       "    </tr>\n",
       "    <tr>\n",
       "      <th>...</th>\n",
       "      <td>...</td>\n",
       "      <td>...</td>\n",
       "      <td>...</td>\n",
       "      <td>...</td>\n",
       "      <td>...</td>\n",
       "      <td>...</td>\n",
       "      <td>...</td>\n",
       "      <td>...</td>\n",
       "      <td>...</td>\n",
       "      <td>...</td>\n",
       "      <td>...</td>\n",
       "      <td>...</td>\n",
       "      <td>...</td>\n",
       "      <td>...</td>\n",
       "      <td>...</td>\n",
       "      <td>...</td>\n",
       "      <td>...</td>\n",
       "      <td>...</td>\n",
       "      <td>...</td>\n",
       "      <td>...</td>\n",
       "      <td>...</td>\n",
       "      <td>...</td>\n",
       "      <td>...</td>\n",
       "      <td>...</td>\n",
       "      <td>...</td>\n",
       "      <td>...</td>\n",
       "      <td>...</td>\n",
       "      <td>...</td>\n",
       "      <td>...</td>\n",
       "      <td>...</td>\n",
       "      <td>...</td>\n",
       "      <td>...</td>\n",
       "      <td>...</td>\n",
       "      <td>...</td>\n",
       "      <td>...</td>\n",
       "      <td>...</td>\n",
       "      <td>...</td>\n",
       "      <td>...</td>\n",
       "      <td>...</td>\n",
       "      <td>...</td>\n",
       "      <td>...</td>\n",
       "      <td>...</td>\n",
       "      <td>...</td>\n",
       "      <td>...</td>\n",
       "      <td>...</td>\n",
       "      <td>...</td>\n",
       "      <td>...</td>\n",
       "      <td>...</td>\n",
       "      <td>...</td>\n",
       "      <td>...</td>\n",
       "      <td>...</td>\n",
       "      <td>...</td>\n",
       "      <td>...</td>\n",
       "      <td>...</td>\n",
       "      <td>...</td>\n",
       "      <td>...</td>\n",
       "      <td>...</td>\n",
       "      <td>...</td>\n",
       "      <td>...</td>\n",
       "      <td>...</td>\n",
       "      <td>...</td>\n",
       "      <td>...</td>\n",
       "      <td>...</td>\n",
       "      <td>...</td>\n",
       "      <td>...</td>\n",
       "      <td>...</td>\n",
       "      <td>...</td>\n",
       "      <td>...</td>\n",
       "      <td>...</td>\n",
       "      <td>...</td>\n",
       "      <td>...</td>\n",
       "      <td>...</td>\n",
       "      <td>...</td>\n",
       "      <td>...</td>\n",
       "      <td>...</td>\n",
       "      <td>...</td>\n",
       "      <td>...</td>\n",
       "      <td>...</td>\n",
       "      <td>...</td>\n",
       "      <td>...</td>\n",
       "      <td>...</td>\n",
       "      <td>...</td>\n",
       "      <td>...</td>\n",
       "      <td>...</td>\n",
       "      <td>...</td>\n",
       "      <td>...</td>\n",
       "      <td>...</td>\n",
       "      <td>...</td>\n",
       "      <td>...</td>\n",
       "      <td>...</td>\n",
       "      <td>...</td>\n",
       "      <td>...</td>\n",
       "      <td>...</td>\n",
       "      <td>...</td>\n",
       "      <td>...</td>\n",
       "      <td>...</td>\n",
       "      <td>...</td>\n",
       "      <td>...</td>\n",
       "      <td>...</td>\n",
       "      <td>...</td>\n",
       "      <td>...</td>\n",
       "    </tr>\n",
       "    <tr>\n",
       "      <th>633</th>\n",
       "      <td>0</td>\n",
       "      <td>0</td>\n",
       "      <td>0</td>\n",
       "      <td>0</td>\n",
       "      <td>0</td>\n",
       "      <td>0</td>\n",
       "      <td>0</td>\n",
       "      <td>0</td>\n",
       "      <td>0</td>\n",
       "      <td>0</td>\n",
       "      <td>0</td>\n",
       "      <td>0</td>\n",
       "      <td>0</td>\n",
       "      <td>0</td>\n",
       "      <td>0</td>\n",
       "      <td>0</td>\n",
       "      <td>0</td>\n",
       "      <td>0</td>\n",
       "      <td>0</td>\n",
       "      <td>0</td>\n",
       "      <td>0</td>\n",
       "      <td>0</td>\n",
       "      <td>0</td>\n",
       "      <td>0</td>\n",
       "      <td>0</td>\n",
       "      <td>0</td>\n",
       "      <td>0</td>\n",
       "      <td>0</td>\n",
       "      <td>0</td>\n",
       "      <td>0</td>\n",
       "      <td>0</td>\n",
       "      <td>0</td>\n",
       "      <td>0</td>\n",
       "      <td>0</td>\n",
       "      <td>0</td>\n",
       "      <td>0</td>\n",
       "      <td>0</td>\n",
       "      <td>0</td>\n",
       "      <td>1</td>\n",
       "      <td>0</td>\n",
       "      <td>0</td>\n",
       "      <td>0</td>\n",
       "      <td>0</td>\n",
       "      <td>0</td>\n",
       "      <td>0</td>\n",
       "      <td>0</td>\n",
       "      <td>0</td>\n",
       "      <td>0</td>\n",
       "      <td>0</td>\n",
       "      <td>0</td>\n",
       "      <td>...</td>\n",
       "      <td>0</td>\n",
       "      <td>0</td>\n",
       "      <td>0</td>\n",
       "      <td>0</td>\n",
       "      <td>0</td>\n",
       "      <td>0</td>\n",
       "      <td>0</td>\n",
       "      <td>0</td>\n",
       "      <td>0</td>\n",
       "      <td>0</td>\n",
       "      <td>0</td>\n",
       "      <td>0</td>\n",
       "      <td>0</td>\n",
       "      <td>0</td>\n",
       "      <td>0</td>\n",
       "      <td>0</td>\n",
       "      <td>0</td>\n",
       "      <td>0</td>\n",
       "      <td>0</td>\n",
       "      <td>0</td>\n",
       "      <td>0</td>\n",
       "      <td>0</td>\n",
       "      <td>1</td>\n",
       "      <td>0</td>\n",
       "      <td>0</td>\n",
       "      <td>0</td>\n",
       "      <td>0</td>\n",
       "      <td>0</td>\n",
       "      <td>0</td>\n",
       "      <td>0</td>\n",
       "      <td>0</td>\n",
       "      <td>0</td>\n",
       "      <td>0</td>\n",
       "      <td>0</td>\n",
       "      <td>0</td>\n",
       "      <td>0</td>\n",
       "      <td>0</td>\n",
       "      <td>0</td>\n",
       "      <td>0</td>\n",
       "      <td>0</td>\n",
       "      <td>0</td>\n",
       "      <td>0</td>\n",
       "      <td>0</td>\n",
       "      <td>0</td>\n",
       "      <td>0</td>\n",
       "      <td>0</td>\n",
       "      <td>0</td>\n",
       "      <td>0</td>\n",
       "      <td>0</td>\n",
       "      <td>0</td>\n",
       "    </tr>\n",
       "    <tr>\n",
       "      <th>634</th>\n",
       "      <td>0</td>\n",
       "      <td>0</td>\n",
       "      <td>0</td>\n",
       "      <td>0</td>\n",
       "      <td>0</td>\n",
       "      <td>0</td>\n",
       "      <td>0</td>\n",
       "      <td>0</td>\n",
       "      <td>0</td>\n",
       "      <td>0</td>\n",
       "      <td>0</td>\n",
       "      <td>0</td>\n",
       "      <td>0</td>\n",
       "      <td>0</td>\n",
       "      <td>0</td>\n",
       "      <td>0</td>\n",
       "      <td>0</td>\n",
       "      <td>0</td>\n",
       "      <td>0</td>\n",
       "      <td>0</td>\n",
       "      <td>0</td>\n",
       "      <td>0</td>\n",
       "      <td>0</td>\n",
       "      <td>0</td>\n",
       "      <td>0</td>\n",
       "      <td>0</td>\n",
       "      <td>0</td>\n",
       "      <td>0</td>\n",
       "      <td>0</td>\n",
       "      <td>0</td>\n",
       "      <td>0</td>\n",
       "      <td>0</td>\n",
       "      <td>0</td>\n",
       "      <td>0</td>\n",
       "      <td>0</td>\n",
       "      <td>0</td>\n",
       "      <td>0</td>\n",
       "      <td>1</td>\n",
       "      <td>0</td>\n",
       "      <td>0</td>\n",
       "      <td>0</td>\n",
       "      <td>0</td>\n",
       "      <td>0</td>\n",
       "      <td>0</td>\n",
       "      <td>0</td>\n",
       "      <td>0</td>\n",
       "      <td>0</td>\n",
       "      <td>0</td>\n",
       "      <td>0</td>\n",
       "      <td>0</td>\n",
       "      <td>...</td>\n",
       "      <td>0</td>\n",
       "      <td>0</td>\n",
       "      <td>0</td>\n",
       "      <td>0</td>\n",
       "      <td>0</td>\n",
       "      <td>0</td>\n",
       "      <td>0</td>\n",
       "      <td>0</td>\n",
       "      <td>0</td>\n",
       "      <td>0</td>\n",
       "      <td>0</td>\n",
       "      <td>0</td>\n",
       "      <td>0</td>\n",
       "      <td>0</td>\n",
       "      <td>0</td>\n",
       "      <td>0</td>\n",
       "      <td>0</td>\n",
       "      <td>0</td>\n",
       "      <td>0</td>\n",
       "      <td>0</td>\n",
       "      <td>0</td>\n",
       "      <td>0</td>\n",
       "      <td>0</td>\n",
       "      <td>0</td>\n",
       "      <td>0</td>\n",
       "      <td>0</td>\n",
       "      <td>0</td>\n",
       "      <td>0</td>\n",
       "      <td>0</td>\n",
       "      <td>0</td>\n",
       "      <td>0</td>\n",
       "      <td>0</td>\n",
       "      <td>0</td>\n",
       "      <td>0</td>\n",
       "      <td>0</td>\n",
       "      <td>0</td>\n",
       "      <td>0</td>\n",
       "      <td>0</td>\n",
       "      <td>0</td>\n",
       "      <td>0</td>\n",
       "      <td>0</td>\n",
       "      <td>0</td>\n",
       "      <td>0</td>\n",
       "      <td>0</td>\n",
       "      <td>1</td>\n",
       "      <td>0</td>\n",
       "      <td>0</td>\n",
       "      <td>0</td>\n",
       "      <td>0</td>\n",
       "      <td>0</td>\n",
       "    </tr>\n",
       "    <tr>\n",
       "      <th>635</th>\n",
       "      <td>0</td>\n",
       "      <td>0</td>\n",
       "      <td>0</td>\n",
       "      <td>0</td>\n",
       "      <td>0</td>\n",
       "      <td>0</td>\n",
       "      <td>0</td>\n",
       "      <td>0</td>\n",
       "      <td>0</td>\n",
       "      <td>0</td>\n",
       "      <td>0</td>\n",
       "      <td>0</td>\n",
       "      <td>0</td>\n",
       "      <td>0</td>\n",
       "      <td>0</td>\n",
       "      <td>0</td>\n",
       "      <td>0</td>\n",
       "      <td>0</td>\n",
       "      <td>0</td>\n",
       "      <td>0</td>\n",
       "      <td>0</td>\n",
       "      <td>0</td>\n",
       "      <td>0</td>\n",
       "      <td>0</td>\n",
       "      <td>0</td>\n",
       "      <td>0</td>\n",
       "      <td>0</td>\n",
       "      <td>0</td>\n",
       "      <td>0</td>\n",
       "      <td>0</td>\n",
       "      <td>0</td>\n",
       "      <td>0</td>\n",
       "      <td>0</td>\n",
       "      <td>0</td>\n",
       "      <td>0</td>\n",
       "      <td>0</td>\n",
       "      <td>0</td>\n",
       "      <td>0</td>\n",
       "      <td>1</td>\n",
       "      <td>0</td>\n",
       "      <td>0</td>\n",
       "      <td>0</td>\n",
       "      <td>0</td>\n",
       "      <td>0</td>\n",
       "      <td>0</td>\n",
       "      <td>0</td>\n",
       "      <td>0</td>\n",
       "      <td>0</td>\n",
       "      <td>0</td>\n",
       "      <td>0</td>\n",
       "      <td>...</td>\n",
       "      <td>0</td>\n",
       "      <td>0</td>\n",
       "      <td>0</td>\n",
       "      <td>0</td>\n",
       "      <td>0</td>\n",
       "      <td>0</td>\n",
       "      <td>0</td>\n",
       "      <td>0</td>\n",
       "      <td>0</td>\n",
       "      <td>0</td>\n",
       "      <td>0</td>\n",
       "      <td>0</td>\n",
       "      <td>0</td>\n",
       "      <td>0</td>\n",
       "      <td>0</td>\n",
       "      <td>0</td>\n",
       "      <td>0</td>\n",
       "      <td>0</td>\n",
       "      <td>0</td>\n",
       "      <td>0</td>\n",
       "      <td>0</td>\n",
       "      <td>0</td>\n",
       "      <td>1</td>\n",
       "      <td>0</td>\n",
       "      <td>0</td>\n",
       "      <td>0</td>\n",
       "      <td>0</td>\n",
       "      <td>0</td>\n",
       "      <td>0</td>\n",
       "      <td>0</td>\n",
       "      <td>0</td>\n",
       "      <td>0</td>\n",
       "      <td>0</td>\n",
       "      <td>0</td>\n",
       "      <td>0</td>\n",
       "      <td>0</td>\n",
       "      <td>0</td>\n",
       "      <td>0</td>\n",
       "      <td>0</td>\n",
       "      <td>0</td>\n",
       "      <td>0</td>\n",
       "      <td>0</td>\n",
       "      <td>0</td>\n",
       "      <td>0</td>\n",
       "      <td>0</td>\n",
       "      <td>0</td>\n",
       "      <td>0</td>\n",
       "      <td>0</td>\n",
       "      <td>0</td>\n",
       "      <td>0</td>\n",
       "    </tr>\n",
       "    <tr>\n",
       "      <th>636</th>\n",
       "      <td>0</td>\n",
       "      <td>0</td>\n",
       "      <td>0</td>\n",
       "      <td>0</td>\n",
       "      <td>0</td>\n",
       "      <td>0</td>\n",
       "      <td>0</td>\n",
       "      <td>0</td>\n",
       "      <td>0</td>\n",
       "      <td>0</td>\n",
       "      <td>0</td>\n",
       "      <td>0</td>\n",
       "      <td>0</td>\n",
       "      <td>0</td>\n",
       "      <td>0</td>\n",
       "      <td>0</td>\n",
       "      <td>0</td>\n",
       "      <td>0</td>\n",
       "      <td>0</td>\n",
       "      <td>0</td>\n",
       "      <td>0</td>\n",
       "      <td>0</td>\n",
       "      <td>0</td>\n",
       "      <td>0</td>\n",
       "      <td>0</td>\n",
       "      <td>0</td>\n",
       "      <td>0</td>\n",
       "      <td>0</td>\n",
       "      <td>0</td>\n",
       "      <td>0</td>\n",
       "      <td>0</td>\n",
       "      <td>0</td>\n",
       "      <td>0</td>\n",
       "      <td>0</td>\n",
       "      <td>0</td>\n",
       "      <td>0</td>\n",
       "      <td>0</td>\n",
       "      <td>0</td>\n",
       "      <td>0</td>\n",
       "      <td>0</td>\n",
       "      <td>0</td>\n",
       "      <td>0</td>\n",
       "      <td>0</td>\n",
       "      <td>0</td>\n",
       "      <td>0</td>\n",
       "      <td>0</td>\n",
       "      <td>0</td>\n",
       "      <td>0</td>\n",
       "      <td>0</td>\n",
       "      <td>0</td>\n",
       "      <td>...</td>\n",
       "      <td>0</td>\n",
       "      <td>0</td>\n",
       "      <td>0</td>\n",
       "      <td>0</td>\n",
       "      <td>1</td>\n",
       "      <td>0</td>\n",
       "      <td>0</td>\n",
       "      <td>0</td>\n",
       "      <td>0</td>\n",
       "      <td>0</td>\n",
       "      <td>0</td>\n",
       "      <td>0</td>\n",
       "      <td>0</td>\n",
       "      <td>0</td>\n",
       "      <td>0</td>\n",
       "      <td>0</td>\n",
       "      <td>0</td>\n",
       "      <td>0</td>\n",
       "      <td>0</td>\n",
       "      <td>0</td>\n",
       "      <td>0</td>\n",
       "      <td>0</td>\n",
       "      <td>0</td>\n",
       "      <td>0</td>\n",
       "      <td>0</td>\n",
       "      <td>0</td>\n",
       "      <td>0</td>\n",
       "      <td>0</td>\n",
       "      <td>0</td>\n",
       "      <td>0</td>\n",
       "      <td>0</td>\n",
       "      <td>0</td>\n",
       "      <td>0</td>\n",
       "      <td>0</td>\n",
       "      <td>0</td>\n",
       "      <td>0</td>\n",
       "      <td>0</td>\n",
       "      <td>0</td>\n",
       "      <td>0</td>\n",
       "      <td>0</td>\n",
       "      <td>0</td>\n",
       "      <td>0</td>\n",
       "      <td>0</td>\n",
       "      <td>0</td>\n",
       "      <td>0</td>\n",
       "      <td>0</td>\n",
       "      <td>0</td>\n",
       "      <td>0</td>\n",
       "      <td>0</td>\n",
       "      <td>0</td>\n",
       "    </tr>\n",
       "    <tr>\n",
       "      <th>637</th>\n",
       "      <td>0</td>\n",
       "      <td>0</td>\n",
       "      <td>0</td>\n",
       "      <td>0</td>\n",
       "      <td>0</td>\n",
       "      <td>0</td>\n",
       "      <td>0</td>\n",
       "      <td>0</td>\n",
       "      <td>0</td>\n",
       "      <td>0</td>\n",
       "      <td>0</td>\n",
       "      <td>0</td>\n",
       "      <td>0</td>\n",
       "      <td>0</td>\n",
       "      <td>0</td>\n",
       "      <td>0</td>\n",
       "      <td>0</td>\n",
       "      <td>0</td>\n",
       "      <td>0</td>\n",
       "      <td>0</td>\n",
       "      <td>0</td>\n",
       "      <td>0</td>\n",
       "      <td>0</td>\n",
       "      <td>0</td>\n",
       "      <td>0</td>\n",
       "      <td>0</td>\n",
       "      <td>0</td>\n",
       "      <td>0</td>\n",
       "      <td>0</td>\n",
       "      <td>0</td>\n",
       "      <td>0</td>\n",
       "      <td>0</td>\n",
       "      <td>0</td>\n",
       "      <td>0</td>\n",
       "      <td>0</td>\n",
       "      <td>0</td>\n",
       "      <td>0</td>\n",
       "      <td>0</td>\n",
       "      <td>0</td>\n",
       "      <td>0</td>\n",
       "      <td>0</td>\n",
       "      <td>0</td>\n",
       "      <td>0</td>\n",
       "      <td>0</td>\n",
       "      <td>0</td>\n",
       "      <td>0</td>\n",
       "      <td>0</td>\n",
       "      <td>0</td>\n",
       "      <td>0</td>\n",
       "      <td>0</td>\n",
       "      <td>...</td>\n",
       "      <td>0</td>\n",
       "      <td>0</td>\n",
       "      <td>0</td>\n",
       "      <td>0</td>\n",
       "      <td>0</td>\n",
       "      <td>0</td>\n",
       "      <td>0</td>\n",
       "      <td>0</td>\n",
       "      <td>0</td>\n",
       "      <td>0</td>\n",
       "      <td>0</td>\n",
       "      <td>0</td>\n",
       "      <td>0</td>\n",
       "      <td>0</td>\n",
       "      <td>0</td>\n",
       "      <td>0</td>\n",
       "      <td>0</td>\n",
       "      <td>0</td>\n",
       "      <td>0</td>\n",
       "      <td>0</td>\n",
       "      <td>0</td>\n",
       "      <td>0</td>\n",
       "      <td>0</td>\n",
       "      <td>0</td>\n",
       "      <td>0</td>\n",
       "      <td>0</td>\n",
       "      <td>0</td>\n",
       "      <td>0</td>\n",
       "      <td>0</td>\n",
       "      <td>0</td>\n",
       "      <td>0</td>\n",
       "      <td>0</td>\n",
       "      <td>0</td>\n",
       "      <td>0</td>\n",
       "      <td>0</td>\n",
       "      <td>0</td>\n",
       "      <td>0</td>\n",
       "      <td>0</td>\n",
       "      <td>0</td>\n",
       "      <td>0</td>\n",
       "      <td>0</td>\n",
       "      <td>0</td>\n",
       "      <td>0</td>\n",
       "      <td>0</td>\n",
       "      <td>0</td>\n",
       "      <td>0</td>\n",
       "      <td>0</td>\n",
       "      <td>0</td>\n",
       "      <td>0</td>\n",
       "      <td>0</td>\n",
       "    </tr>\n",
       "  </tbody>\n",
       "</table>\n",
       "<p>638 rows × 2246 columns</p>\n",
       "</div>"
      ],
      "text/plain": [
       "     tgt_ABL1  tgt_ADRA1A  tgt_AKT1  tgt_AKT2  tgt_AKT3  tgt_ALK  tgt_ALK G1202R  tgt_AR  tgt_AR-V7  tgt_AURKA  tgt_BCL-xL  tgt_BCL2  tgt_BCR-ABL  tgt_BLK  tgt_BRAF G466V  tgt_BRAF G469A  tgt_BRAF V600E  tgt_BRD2  tgt_BRD3  tgt_BRD4  tgt_BRD4 BD1  tgt_BRD7  tgt_BRD9  tgt_BTK  tgt_BTK C481S  tgt_CD147  tgt_CDK19  tgt_CDK2  tgt_CDK4  tgt_CDK6  tgt_CDK8  tgt_CDK9  tgt_CRBN  tgt_Cdc20  tgt_EED  tgt_EGFR  tgt_EGFR L858R  tgt_EGFR L858R/T790M  tgt_EGFR e19d  tgt_ER  tgt_ERRalpha  tgt_EZH2  tgt_FAK  tgt_FKBP12  tgt_GCN5  tgt_GSK-3beta  tgt_GSK3A  tgt_HDAC3  tgt_HDAC6  tgt_HMGCR  ...  ct_MOLT-4/platelets  ct_MV-4-11  ct_MV-4-11/NCI-H1568  ct_MV4-11  ct_MV4;11  ct_Mino  ct_Molm-16  ct_Molm-16/SU-DHL-1  ct_NAMALWA  ct_NAMALWA/XLA  ct_NCI-H2030  ct_NCI-H2030/MIAPaCa-2/SW1573  ct_NCI-H23/NCI-H358  ct_NCI-H661/NCI-H838  ct_Namalwa/CA-46  ct_OCI-AML2/OCI-AML3/Ramos  ct_OVCAR8/HeLa  ct_PBMC  ct_PC-3  ct_PC-3/LNCaP/MDA-MB-231  ct_PC3  ct_PC3-S1  ct_PC9  ct_Pfeiffer/DOHH2/K562  ct_RI-1  ct_Ramos  ct_Ramos/THP-1  ct_SK-MEL-246  ct_SK-MEL-28  ct_SR  ct_SRD15  ct_SU-DHL-1/NCI-H2228  ct_SUM149  ct_SW1573  ct_SW480  ct_SW620  ct_Sertoli/germ  ct_Sk-Mel-28  ct_T47D/MB-MDA-231  ct_THP-1  ct_THP1  ct_TM3/PA1/MDA-MB-436  ct_Tu-I  ct_U251  ct_Unknown  ct_VCaP  ct_WI38  ct_XLA  ct_Z138/HBL-1/Mino  ct_hPBMC\n",
       "0           0           0         0         0         0        0               0       0          0          0           0         0            0        0               0               0               0         0         0         0             0         0         1        0              0          0          0         0         0         0         0         0         0          0        0         0               0                     0              0       0             0         0        0           0         0              0          0          0          0          0  ...                    0           0                     0          0          0        0           0                    0           0               0             0                              0                    0                     0                 0                           0               0        0        0                         0       0          0       0                       0        0         0               0              0             0      0         0                      0          0          0         0         0                0             0                   0         0        0                      0        0        0           0        0        0       0                   0         0\n",
       "1           0           0         0         0         0        0               0       0          0          0           0         0            0        0               0               0               0         0         0         0             0         1         0        0              0          0          0         0         0         0         0         0         0          0        0         0               0                     0              0       0             0         0        0           0         0              0          0          0          0          0  ...                    0           0                     0          0          0        0           0                    0           0               0             0                              0                    0                     0                 0                           0               0        0        0                         0       0          0       0                       0        1         0               0              0             0      0         0                      0          0          0         0         0                0             0                   0         0        0                      0        0        0           0        0        0       0                   0         0\n",
       "2           0           0         0         0         0        0               0       0          0          0           0         0            0        0               0               0               0         0         0         0             0         0         1        0              0          0          0         0         0         0         0         0         0          0        0         0               0                     0              0       0             0         0        0           0         0              0          0          0          0          0  ...                    0           0                     0          0          0        0           0                    0           0               0             0                              0                    0                     0                 0                           0               0        0        0                         0       0          0       0                       0        1         0               0              0             0      0         0                      0          0          0         0         0                0             0                   0         0        0                      0        0        0           0        0        0       0                   0         0\n",
       "3           0           0         0         0         0        0               0       0          0          0           0         0            0        0               0               0               0         0         0         0             0         1         0        0              0          0          0         0         0         0         0         0         0          0        0         0               0                     0              0       0             0         0        0           0         0              0          0          0          0          0  ...                    0           0                     0          0          0        0           0                    0           0               0             0                              0                    0                     0                 0                           0               0        0        0                         0       0          0       0                       0        0         0               0              0             0      0         0                      0          0          0         0         0                0             0                   0         0        0                      0        0        0           0        0        0       0                   0         0\n",
       "4           0           0         0         0         0        0               0       0          0          0           0         0            0        0               0               0               0         0         0         0             0         0         1        0              0          0          0         0         0         0         0         0         0          0        0         0               0                     0              0       0             0         0        0           0         0              0          0          0          0          0  ...                    0           0                     0          0          0        0           0                    0           0               0             0                              0                    0                     0                 0                           0               0        0        0                         0       0          0       0                       0        0         0               0              0             0      0         0                      0          0          0         0         0                0             0                   0         0        0                      0        0        0           0        0        0       0                   0         0\n",
       "..        ...         ...       ...       ...       ...      ...             ...     ...        ...        ...         ...       ...          ...      ...             ...             ...             ...       ...       ...       ...           ...       ...       ...      ...            ...        ...        ...       ...       ...       ...       ...       ...       ...        ...      ...       ...             ...                   ...            ...     ...           ...       ...      ...         ...       ...            ...        ...        ...        ...        ...  ...                  ...         ...                   ...        ...        ...      ...         ...                  ...         ...             ...           ...                            ...                  ...                   ...               ...                         ...             ...      ...      ...                       ...     ...        ...     ...                     ...      ...       ...             ...            ...           ...    ...       ...                    ...        ...        ...       ...       ...              ...           ...                 ...       ...      ...                    ...      ...      ...         ...      ...      ...     ...                 ...       ...\n",
       "633         0           0         0         0         0        0               0       0          0          0           0         0            0        0               0               0               0         0         0         0             0         0         0        0              0          0          0         0         0         0         0         0         0          0        0         0               0                     0              1       0             0         0        0           0         0              0          0          0          0          0  ...                    0           0                     0          0          0        0           0                    0           0               0             0                              0                    0                     0                 0                           0               0        0        0                         0       0          0       1                       0        0         0               0              0             0      0         0                      0          0          0         0         0                0             0                   0         0        0                      0        0        0           0        0        0       0                   0         0\n",
       "634         0           0         0         0         0        0               0       0          0          0           0         0            0        0               0               0               0         0         0         0             0         0         0        0              0          0          0         0         0         0         0         0         0          0        0         0               0                     1              0       0             0         0        0           0         0              0          0          0          0          0  ...                    0           0                     0          0          0        0           0                    0           0               0             0                              0                    0                     0                 0                           0               0        0        0                         0       0          0       0                       0        0         0               0              0             0      0         0                      0          0          0         0         0                0             0                   0         0        0                      0        0        0           1        0        0       0                   0         0\n",
       "635         0           0         0         0         0        0               0       0          0          0           0         0            0        0               0               0               0         0         0         0             0         0         0        0              0          0          0         0         0         0         0         0         0          0        0         0               0                     0              1       0             0         0        0           0         0              0          0          0          0          0  ...                    0           0                     0          0          0        0           0                    0           0               0             0                              0                    0                     0                 0                           0               0        0        0                         0       0          0       1                       0        0         0               0              0             0      0         0                      0          0          0         0         0                0             0                   0         0        0                      0        0        0           0        0        0       0                   0         0\n",
       "636         0           0         0         0         0        0               0       0          0          0           0         0            0        0               0               0               0         0         0         0             0         0         0        0              0          0          0         0         0         0         0         0         0          0        0         0               0                     0              0       0             0         0        0           0         0              0          0          0          0          0  ...                    0           0                     0          0          1        0           0                    0           0               0             0                              0                    0                     0                 0                           0               0        0        0                         0       0          0       0                       0        0         0               0              0             0      0         0                      0          0          0         0         0                0             0                   0         0        0                      0        0        0           0        0        0       0                   0         0\n",
       "637         0           0         0         0         0        0               0       0          0          0           0         0            0        0               0               0               0         0         0         0             0         0         0        0              0          0          0         0         0         0         0         0         0          0        0         0               0                     0              0       0             0         0        0           0         0              0          0          0          0          0  ...                    0           0                     0          0          0        0           0                    0           0               0             0                              0                    0                     0                 0                           0               0        0        0                         0       0          0       0                       0        0         0               0              0             0      0         0                      0          0          0         0         0                0             0                   0         0        0                      0        0        0           0        0        0       0                   0         0\n",
       "\n",
       "[638 rows x 2246 columns]"
      ]
     },
     "execution_count": 9,
     "metadata": {},
     "output_type": "execute_result"
    },
    {
     "name": "stdout",
     "output_type": "stream",
     "text": [
      "\n",
      "model_df: 638 x 2,246 (added cell type feature)\n"
     ]
    }
   ],
   "source": [
    "celltypes = []\n",
    "for i in range(input_df.shape[0]):\n",
    "    row = str(input_df.iloc[i].to_list())\n",
    "    cell = re.findall('[\\w\\.;/-]+ cells', row)\n",
    "    if len(cell)==0:\n",
    "        celltypes.append('Unknown')\n",
    "    else:\n",
    "        celltypes.append(cell[0][:-6])\n",
    "\n",
    "def most_frequent(List):\n",
    "    return max(set(List), key = List.count)\n",
    "\n",
    "print(\"Most Common Cell Type: \" + most_frequent(celltypes))\n",
    "\n",
    "print('Cell Types: ' + str(set(celltypes)))\n",
    "len(set(celltypes))\n",
    "model_df['ct'] = celltypes\n",
    "model_df = pd.get_dummies(model_df, prefix='ct')\n",
    "model_df\n",
    "print(\"\\nmodel_df: {:,} x {:,}\".format(*model_df.shape), \"(added cell type feature)\")"
   ]
  },
  {
   "cell_type": "markdown",
   "metadata": {},
   "source": [
    "Response Variable (DC50)"
   ]
  },
  {
   "cell_type": "code",
   "execution_count": 10,
   "metadata": {},
   "outputs": [
    {
     "name": "stderr",
     "output_type": "stream",
     "text": [
      "/var/folders/vs/8ts0hp5d0wzf8zdrzyqly4840000gn/T/ipykernel_16999/1778872113.py:4: FutureWarning: The default value of regex will change from True to False in a future version.\n",
      "  model_df['resp'] = model_df[\"resp\"].str.replace(\"[<=>]\",\"\")\n",
      "/var/folders/vs/8ts0hp5d0wzf8zdrzyqly4840000gn/T/ipykernel_16999/1778872113.py:5: FutureWarning: The default value of regex will change from True to False in a future version.\n",
      "  model_df['resp'] = model_df[\"resp\"].str.replace(\"\\(n/a\\)\",\"0\")\n",
      "/var/folders/vs/8ts0hp5d0wzf8zdrzyqly4840000gn/T/ipykernel_16999/1778872113.py:6: FutureWarning: The default value of regex will change from True to False in a future version.\n",
      "  model_df['resp'] = model_df[\"resp\"].str.replace('[\\d]+[-~]',\"\")\n"
     ]
    }
   ],
   "source": [
    "#add and process DC50 column\n",
    "\n",
    "model_df['resp'] = list(input_df['DC50 (nM)'])\n",
    "model_df['resp'] = model_df[\"resp\"].str.replace(\"[<=>]\",\"\")\n",
    "model_df['resp'] = model_df[\"resp\"].str.replace(\"\\(n/a\\)\",\"0\")\n",
    "model_df['resp'] = model_df[\"resp\"].str.replace('[\\d]+[-~]',\"\")\n",
    "model_df = model_df.loc[~model_df['resp'].str.contains('[a-zA-Z]')]"
   ]
  },
  {
   "cell_type": "markdown",
   "metadata": {},
   "source": [
    "Split DC50 by Cell Type"
   ]
  },
  {
   "cell_type": "code",
   "execution_count": 11,
   "metadata": {},
   "outputs": [],
   "source": [
    "out_nochange = []\n",
    "out_v1 = []\n",
    "out_v2 = []\n",
    "for row in model_df.to_dict(orient=\"records\"):\n",
    "  #no slashes\n",
    "  if \"/\" not in row[\"resp\"]:\n",
    "    out_nochange.append(row)\n",
    "    continue\n",
    "  \n",
    "  #slashes in resp matched by a column with ct which has same number of slashes\n",
    "  lst = [k for k,v in row.items() if k.startswith(\"ct\") and \"/\" in k and v==1]\n",
    "  assert len(lst) in [0,1]\n",
    "  if len(lst) == 1:\n",
    "    #test.append((lst[0],row[\"resp\"]))\n",
    "    cols = lst[0].split(\"/\")\n",
    "    vals = row[\"resp\"].split(\"/\")\n",
    "    assert len(cols)==len(vals)\n",
    "    assert len(cols) in [2,3]\n",
    "    \n",
    "    #adding 2 or 3 rows\n",
    "    for c,v in zip(cols,vals):\n",
    "      dct = row.copy()\n",
    "      k = c if c.startswith(\"ct_\") else \"ct_\"+c\n",
    "      dct[k] = 1\n",
    "      dct[\"resp\"] = v\n",
    "      del dct[lst[0]]\n",
    "      out_v1.append(dct)\n",
    "  else:\n",
    "    vals = row[\"resp\"].split(\"/\")\n",
    "    dct = row.copy()\n",
    "    dct[\"resp\"] = vals[0]\n",
    "    out_v2.append(dct)\n",
    "    \n",
    "    \n",
    "model_df = pd.DataFrame(out_nochange+out_v1+out_v2)\n",
    "model_df = model_df.fillna(0)\n",
    "model_df['resp'] = pd.to_numeric(model_df['resp'])"
   ]
  },
  {
   "cell_type": "markdown",
   "metadata": {},
   "source": [
    "DC50 Distribution and Cutoff Determination"
   ]
  },
  {
   "cell_type": "code",
   "execution_count": 12,
   "metadata": {},
   "outputs": [
    {
     "data": {
      "text/plain": [
       "[Text(0.5, 0, 'DC50 Value')]"
      ]
     },
     "execution_count": 12,
     "metadata": {},
     "output_type": "execute_result"
    },
    {
     "data": {
      "text/plain": [
       "[Text(0, 0.5, 'Count')]"
      ]
     },
     "execution_count": 12,
     "metadata": {},
     "output_type": "execute_result"
    },
    {
     "name": "stderr",
     "output_type": "stream",
     "text": [
      "No artists with labels found to put in legend.  Note that artists whose label start with an underscore are ignored when legend() is called with no argument.\n"
     ]
    },
    {
     "data": {
      "text/plain": [
       "<matplotlib.legend.Legend at 0x7fcc1ab06520>"
      ]
     },
     "execution_count": 12,
     "metadata": {},
     "output_type": "execute_result"
    },
    {
     "data": {
      "text/plain": [
       "[<matplotlib.axis.XTick at 0x7fcc1aaef4c0>,\n",
       " <matplotlib.axis.XTick at 0x7fcc1aaef400>,\n",
       " <matplotlib.axis.XTick at 0x7fcc1aae7df0>,\n",
       " <matplotlib.axis.XTick at 0x7fcc1ab174c0>,\n",
       " <matplotlib.axis.XTick at 0x7fcc1ab17d00>,\n",
       " <matplotlib.axis.XTick at 0x7fcc1ab1c7c0>,\n",
       " <matplotlib.axis.XTick at 0x7fcc1ab21070>,\n",
       " <matplotlib.axis.XTick at 0x7fcc1ab1c790>,\n",
       " <matplotlib.axis.XTick at 0x7fcc1ab215e0>,\n",
       " <matplotlib.axis.XTick at 0x7fcc1ab21be0>]"
      ]
     },
     "execution_count": 12,
     "metadata": {},
     "output_type": "execute_result"
    },
    {
     "data": {
      "image/png": "[encoded data removed]",
      "text/plain": [
       "<Figure size 432x288 with 1 Axes>"
      ]
     },
     "metadata": {
      "needs_background": "light"
     },
     "output_type": "display_data"
    }
   ],
   "source": [
    "#dropping rows with outlier DC50 values\n",
    "model_df.drop(model_df.index[model_df['resp'] <= 0], inplace=True)\n",
    "model_df.loc[model_df.resp>100, 'resp'] = 101\n",
    "\n",
    "ax = model_df['resp'].astype(float).hist(bins = 20)\n",
    "ax.set(xlabel=f\"DC50 Value\")\n",
    "ax.set(ylabel=f\"Count\")\n",
    "ax.legend(loc=\"upper right\")\n",
    "ax.set_xticks(ticks=range(0, 100, 10), minor=False)"
   ]
  },
  {
   "cell_type": "code",
   "execution_count": 13,
   "metadata": {},
   "outputs": [],
   "source": [
    "model_df.loc[model_df.resp<=10.0, 'resp_categorical'] = '0'\n",
    "#model_df.loc[(model_df.resp<=100.0).any() and (model_df.resp>10.0).any(), 'resp_categorical'] = '1'\n",
    "model_df.loc[model_df.resp>100.0, 'resp_categorical'] = '2'\n",
    "model_df['resp_categorical'] = model_df['resp_categorical'].fillna('1')\n",
    "model_df.drop(model_df.tail(1).index,inplace=True) # drop last row of nans"
   ]
  },
  {
   "cell_type": "markdown",
   "metadata": {},
   "source": [
    "Add Controls From MOSES"
   ]
  },
  {
   "cell_type": "code",
   "execution_count": 14,
   "metadata": {},
   "outputs": [],
   "source": [
    "# with open(\"data/moses_subset.smi\") as file:\n",
    "#     moses_smi = file.readlines()\n",
    "#     moses_smi = [line.rstrip() for line in moses_smi]\n",
    "# fingerprints = [get_morgan_fp(y).tolist() for y in moses_smi]\n",
    "# start_buffer = [0 for i in range(list(model_df.columns).index('sm1'))]\n",
    "# end_buffer = [0 for j in range(list(model_df.columns).index('resp_categorical') - list(model_df.columns).index(f\"sm{prm['FP_BITS']}\"))]\n",
    "# rows = [start_buffer+fingerprints[i]+end_buffer for i in range(len(fingerprints))]\n",
    "# moses_df = pd.DataFrame(rows, columns=model_df.columns)\n",
    "\n",
    "# model_df = pd.concat([model_df,moses_df],ignore_index=True)\n",
    "# print(\"moses_df: {:,} x {:,}\".format(*moses_df.shape))\n",
    "# print(\"model_df: {:,} x {:,}\".format(*model_df.shape), \"(added moses control points)\")"
   ]
  },
  {
   "cell_type": "code",
   "execution_count": 15,
   "metadata": {},
   "outputs": [],
   "source": [
    "model_df.to_csv(f'output_no_moses/model_df_{prm[\"FP_BITS\"]}.csv')"
   ]
  },
  {
   "cell_type": "markdown",
   "metadata": {},
   "source": [
    "Model Matrices"
   ]
  },
  {
   "cell_type": "code",
   "execution_count": 16,
   "metadata": {},
   "outputs": [
    {
     "name": "stdout",
     "output_type": "stream",
     "text": [
      "nfeatures: 2,297\n",
      "x train before: 566 x 2,297 (x df) \n",
      "\n"
     ]
    }
   ],
   "source": [
    "train,test = train_test_split(model_df, random_state=1, test_size=.2)\n",
    "\n",
    "features = train.columns.tolist()[1:-1]  #dropping \"resp\"\n",
    "print(f\"nfeatures: {len(features):,}\")\n",
    "\n",
    "X_train = train.drop([\"resp_categorical\",\"resp\"], axis=1).values\n",
    "print(\"x train before: {:,} x {:,}\".format(*X_train.shape), \"(x df) \\n\")\n",
    "y_train = train[\"resp_categorical\"].values\n",
    "y_train = np.array([int(x) for x in y_train])\n",
    "\n",
    "X_test = test.drop([\"resp_categorical\",\"resp\"], axis=1).values\n",
    "y_test = test[\"resp_categorical\"].values\n",
    "y_test = np.array([int(x) for x in y_test])\n",
    "\n",
    "del train, test\n",
    "\n",
    "#save features to a pickle file\n",
    "with open(\"features\",\"wb\") as feat_file:\n",
    "    pickle.dump(features, feat_file)"
   ]
  },
  {
   "cell_type": "code",
   "execution_count": 17,
   "metadata": {},
   "outputs": [
    {
     "name": "stdout",
     "output_type": "stream",
     "text": [
      "[train] X: 566 x 2,297\n",
      "[test] X: 142 x 2,297\n"
     ]
    }
   ],
   "source": [
    "print(\"[train] X: {:,} x {:,}\".format(*X_train.shape,y_train.shape))\n",
    "print(\"[test] X: {:,} x {:,}\".format(*X_test.shape,y_train.shape))"
   ]
  },
  {
   "cell_type": "markdown",
   "metadata": {},
   "source": [
    "HyperParam Optimization via Optuna"
   ]
  },
  {
   "cell_type": "code",
   "execution_count": 18,
   "metadata": {},
   "outputs": [
    {
     "name": "stdout",
     "output_type": "stream",
     "text": [
      "best trial (100): 0 (0.452) 1 (0.468) 5 (0.488) 6 (0.505) 10 (0.613) 12 (0.617) 14 (0.636) 20 32 (0.647) 36 (0.648) 40 44 (0.648) 51 (0.650) 52 (0.655) 60 79 (0.661) 80 82 (0.664) "
     ]
    }
   ],
   "source": [
    "class LightGBM:\n",
    "  \n",
    "  def __init__(self):\n",
    "    self.best_booster = None\n",
    "    self._booster = None\n",
    "    \n",
    "    self.X = X_train\n",
    "    self.y = y_train\n",
    "    self.nclass = 3\n",
    "    self.wts = class_weight.compute_sample_weight(class_weight=\"balanced\", y=self.y)\n",
    "    self.prm_lgb = {      \n",
    "      \"objective\": \"multiclass\",\n",
    "      \"metric\": None, \n",
    "      \"verbosity\": -1,\n",
    "      \"num_class\": self.nclass,\n",
    "      \"boosting_type\": \"gbdt\",\n",
    "      \"force_row_wise\": True,\n",
    "      \"min_gain_to_split\": .5,\n",
    "    }\n",
    "  \n",
    "  def __call__(self, trial):    \n",
    "    dtrain = lgb.Dataset(self.X, self.y, weight=self.wts)\n",
    "    prm_lgb = {\n",
    "      **self.prm_lgb\n",
    "      , **{\n",
    "        \"learning_rate\": trial.suggest_loguniform(\"learning_rate\", .01, .3),\n",
    "        \"lambda_l1\": trial.suggest_loguniform(\"lambda_l1\", 1E-3, 1.),\n",
    "        \"lambda_l2\": trial.suggest_loguniform(\"lambda_l2\", .5, 3.),\n",
    "        \"num_leaves\": trial.suggest_int(\"num_leaves\", 8, 32),\n",
    "        \"min_data_in_leaf\": trial.suggest_int(\"min_data_in_leaf\", 50, 100),\n",
    "        \"feature_fraction\": trial.suggest_uniform(\"feature_fraction\", .3, .6),\n",
    "        \"bagging_fraction\": trial.suggest_uniform(\"bagging_fraction\", .4, 1.),\n",
    "        \"bagging_freq\": trial.suggest_int(\"bagging_freq\", 2, 6),\n",
    "        \"boosting_type\":trial.suggest_categorical(\"boosting_type\",[\"gbdt\",\"rf\"])\n",
    "      }\n",
    "    }\n",
    "    \n",
    "    def f1_eval(preds, dtrain):\n",
    "      preds = preds.reshape(self.nclass,-1).T\n",
    "      f_score = f1_score(dtrain.get_label(),preds.argmax(axis=1),average=\"micro\")\n",
    "      return \"f1_score\",f_score,True\n",
    "    \n",
    "    early_stop = lgb.early_stopping(20, first_metric_only=False, verbose=False)\n",
    "    eval_hist = lgb.cv(prm_lgb, dtrain, nfold=5, seed=12345, num_boost_round=prm[\"NBOOST\"],\n",
    "                           feval=f1_eval, callbacks=[early_stop])\n",
    "    \n",
    "    return eval_hist[\"f1_score-mean\"][-1]\n",
    "  \n",
    "  def callback(self, study, trial):\n",
    "    if study.best_trial==trial:\n",
    "      print(f\"{study.best_trial.number} ({study.best_trial.values[0]:.3f})\", end=\" \", flush=True)\n",
    "      self.best_booster = self._booster\n",
    "      return\n",
    "    if trial.number%20==0:\n",
    "      print(f\"{trial.number}\", end=\" \", flush=True)\n",
    "\n",
    "  \n",
    "objective = LightGBM()\n",
    "print(f\"best trial ({prm['NTRIALS']}):\", end=\" \")\n",
    "study = optuna.create_study(pruner=optuna.pruners.MedianPruner(n_warmup_steps=10), \n",
    "                              sampler=optuna.samplers.TPESampler(seed=1234), direction=\"maximize\")\n",
    "study.optimize(objective, n_trials=prm[\"NTRIALS\"], callbacks=[objective.callback])"
   ]
  },
  {
   "cell_type": "code",
   "execution_count": 19,
   "metadata": {},
   "outputs": [
    {
     "data": {
      "text/html": [
       "<div>\n",
       "<style scoped>\n",
       "    .dataframe tbody tr th:only-of-type {\n",
       "        vertical-align: middle;\n",
       "    }\n",
       "\n",
       "    .dataframe tbody tr th {\n",
       "        vertical-align: top;\n",
       "    }\n",
       "\n",
       "    .dataframe thead th {\n",
       "        text-align: right;\n",
       "    }\n",
       "</style>\n",
       "<table border=\"1\" class=\"dataframe\">\n",
       "  <thead>\n",
       "    <tr style=\"text-align: right;\">\n",
       "      <th></th>\n",
       "      <th>bagging_fraction</th>\n",
       "      <th>bagging_freq</th>\n",
       "      <th>boosting_type</th>\n",
       "      <th>feature_fraction</th>\n",
       "      <th>lambda_l1</th>\n",
       "      <th>lambda_l2</th>\n",
       "      <th>learning_rate</th>\n",
       "      <th>min_data_in_leaf</th>\n",
       "      <th>num_leaves</th>\n",
       "      <th>value</th>\n",
       "      <th>duration</th>\n",
       "    </tr>\n",
       "  </thead>\n",
       "  <tbody>\n",
       "    <tr>\n",
       "      <th>82</th>\n",
       "      <td>0.8616</td>\n",
       "      <td>4</td>\n",
       "      <td>gbdt</td>\n",
       "      <td>0.4935</td>\n",
       "      <td>0.0033</td>\n",
       "      <td>1.3907</td>\n",
       "      <td>0.2304</td>\n",
       "      <td>51</td>\n",
       "      <td>11</td>\n",
       "      <td>0.6643</td>\n",
       "      <td>0.9701</td>\n",
       "    </tr>\n",
       "    <tr>\n",
       "      <th>95</th>\n",
       "      <td>0.8542</td>\n",
       "      <td>4</td>\n",
       "      <td>gbdt</td>\n",
       "      <td>0.4474</td>\n",
       "      <td>0.0025</td>\n",
       "      <td>1.5005</td>\n",
       "      <td>0.2813</td>\n",
       "      <td>50</td>\n",
       "      <td>24</td>\n",
       "      <td>0.6642</td>\n",
       "      <td>1.0053</td>\n",
       "    </tr>\n",
       "    <tr>\n",
       "      <th>79</th>\n",
       "      <td>0.8362</td>\n",
       "      <td>4</td>\n",
       "      <td>gbdt</td>\n",
       "      <td>0.4951</td>\n",
       "      <td>0.0037</td>\n",
       "      <td>1.2399</td>\n",
       "      <td>0.2682</td>\n",
       "      <td>51</td>\n",
       "      <td>13</td>\n",
       "      <td>0.6608</td>\n",
       "      <td>1.1211</td>\n",
       "    </tr>\n",
       "    <tr>\n",
       "      <th>...</th>\n",
       "      <td>...</td>\n",
       "      <td>...</td>\n",
       "      <td>...</td>\n",
       "      <td>...</td>\n",
       "      <td>...</td>\n",
       "      <td>...</td>\n",
       "      <td>...</td>\n",
       "      <td>...</td>\n",
       "      <td>...</td>\n",
       "      <td>...</td>\n",
       "      <td>...</td>\n",
       "    </tr>\n",
       "    <tr>\n",
       "      <th>2</th>\n",
       "      <td>0.6383</td>\n",
       "      <td>5</td>\n",
       "      <td>rf</td>\n",
       "      <td>0.4954</td>\n",
       "      <td>0.0702</td>\n",
       "      <td>0.5723</td>\n",
       "      <td>0.0346</td>\n",
       "      <td>97</td>\n",
       "      <td>17</td>\n",
       "      <td>0.4434</td>\n",
       "      <td>0.4558</td>\n",
       "    </tr>\n",
       "    <tr>\n",
       "      <th>3</th>\n",
       "      <td>0.5313</td>\n",
       "      <td>6</td>\n",
       "      <td>rf</td>\n",
       "      <td>0.5114</td>\n",
       "      <td>0.0203</td>\n",
       "      <td>2.1046</td>\n",
       "      <td>0.1922</td>\n",
       "      <td>85</td>\n",
       "      <td>11</td>\n",
       "      <td>0.4187</td>\n",
       "      <td>0.4769</td>\n",
       "    </tr>\n",
       "    <tr>\n",
       "      <th>4</th>\n",
       "      <td>0.4260</td>\n",
       "      <td>4</td>\n",
       "      <td>rf</td>\n",
       "      <td>0.4600</td>\n",
       "      <td>0.0036</td>\n",
       "      <td>0.5443</td>\n",
       "      <td>0.0123</td>\n",
       "      <td>80</td>\n",
       "      <td>24</td>\n",
       "      <td>0.4115</td>\n",
       "      <td>0.3733</td>\n",
       "    </tr>\n",
       "  </tbody>\n",
       "</table>\n",
       "<p>100 rows × 11 columns</p>\n",
       "</div>"
      ]
     },
     "metadata": {},
     "output_type": "display_data"
    },
    {
     "name": "stdout",
     "output_type": "stream",
     "text": [
      "  duration: 1.6min\n"
     ]
    },
    {
     "data": {
      "text/html": [
       "<div>\n",
       "<style scoped>\n",
       "    .dataframe tbody tr th:only-of-type {\n",
       "        vertical-align: middle;\n",
       "    }\n",
       "\n",
       "    .dataframe tbody tr th {\n",
       "        vertical-align: top;\n",
       "    }\n",
       "\n",
       "    .dataframe thead th {\n",
       "        text-align: right;\n",
       "    }\n",
       "</style>\n",
       "<table border=\"1\" class=\"dataframe\">\n",
       "  <thead>\n",
       "    <tr style=\"text-align: right;\">\n",
       "      <th></th>\n",
       "      <th>meanv</th>\n",
       "      <th>sdv</th>\n",
       "    </tr>\n",
       "    <tr>\n",
       "      <th>boosting_type</th>\n",
       "      <th></th>\n",
       "      <th></th>\n",
       "    </tr>\n",
       "  </thead>\n",
       "  <tbody>\n",
       "    <tr>\n",
       "      <th>gbdt</th>\n",
       "      <td>0.611108</td>\n",
       "      <td>0.046281</td>\n",
       "    </tr>\n",
       "    <tr>\n",
       "      <th>rf</th>\n",
       "      <td>0.489980</td>\n",
       "      <td>0.047734</td>\n",
       "    </tr>\n",
       "  </tbody>\n",
       "</table>\n",
       "</div>"
      ],
      "text/plain": [
       "                  meanv       sdv\n",
       "boosting_type                    \n",
       "gbdt           0.611108  0.046281\n",
       "rf             0.489980  0.047734"
      ]
     },
     "execution_count": 19,
     "metadata": {},
     "output_type": "execute_result"
    }
   ],
   "source": [
    "trials_df = study.trials_dataframe(attrs=(\"params\",\"user_attrs\",\"value\",\"duration\"))\n",
    "for y in [\"params\",\"user_attrs\"]:\n",
    "  trials_df.columns = [x[1+len(y):] if x.startswith(y) else x for x in trials_df.columns]\n",
    "trials_df[\"duration\"] = trials_df[\"duration\"].apply(lambda x:x.total_seconds())\n",
    "with pd.option_context(\"display.max_rows\",6, \"display.float_format\",\"{:.4f}\".format):\n",
    "  display_html(trials_df.sort_values(\"value\", ascending=False))\n",
    "print(f\"  duration: {trials_df['duration'].sum()/60:.1f}min\")\n",
    "\n",
    "trials_df.groupby(\"boosting_type\").agg(meanv=(\"value\",\"mean\"),sdv=(\"value\",\"std\"))"
   ]
  },
  {
   "cell_type": "code",
   "execution_count": 20,
   "metadata": {},
   "outputs": [
    {
     "name": "stdout",
     "output_type": "stream",
     "text": [
      "Best Boosted Tree Model Mean F1 Score: 0.6642912591212544\n",
      "Best Random Forest Model Mean F1 Score: 0.5564974382859804\n"
     ]
    }
   ],
   "source": [
    "print(\"Best Boosted Tree Model Mean F1 Score: \" + str(trials_df[trials_df['boosting_type']=='gbdt']['value'].max()))\n",
    "print(\"Best Random Forest Model Mean F1 Score: \" + str(trials_df[trials_df['boosting_type']=='rf']['value'].max()))"
   ]
  },
  {
   "cell_type": "markdown",
   "metadata": {},
   "source": [
    "Model Training"
   ]
  },
  {
   "cell_type": "code",
   "execution_count": 21,
   "metadata": {},
   "outputs": [],
   "source": [
    "ind = np.argmax(trials_df[\"value\"].values)\n",
    "lgb_prm = study.trials[ind].params\n",
    "lgb_prm = {**lgb_prm, \n",
    "  **{\n",
    "    \"objective\": \"multiclass\",\n",
    "    \"metric\": None,\n",
    "    \"num_class\": 3,\n",
    "    \"force_row_wise\": True, \n",
    "    \"verbosity\": -1,\n",
    "    \"min_gain_to_split\": .5,\n",
    "  }\n",
    "}\n",
    "\n",
    "def f1_eval(preds, dtrain):\n",
    "  preds = preds.reshape(prm['NCLASS'],-1).T\n",
    "  f_score = f1_score(dtrain.get_label(),preds.argmax(axis=1),average=\"micro\")\n",
    "  return \"f1_score\",f_score,True\n",
    "\n",
    "wt = class_weight.compute_sample_weight(class_weight=\"balanced\", y=y_train)\n",
    "dtrain = lgb.Dataset(X_train, y_train, weight=wt)\n",
    "#early_stop = lgb.early_stopping(20, first_metric_only=False, verbose=True)\n",
    "model = lgb.train(lgb_prm, dtrain, feval=f1_eval,\n",
    "                      num_boost_round=prm[\"NBOOST\"])\n",
    "\n",
    "del ind, lgb_prm, wt"
   ]
  },
  {
   "cell_type": "markdown",
   "metadata": {},
   "source": [
    "Results"
   ]
  },
  {
   "cell_type": "code",
   "execution_count": 22,
   "metadata": {},
   "outputs": [
    {
     "name": "stdout",
     "output_type": "stream",
     "text": [
      "train roc_ovo 0.9145    train roc_ovr 0.9146\n",
      "\n",
      "test roc_ovo 0.8367    test roc_ovr 0.8422\n",
      "\n",
      "              precision    recall  f1-score   support\n",
      "\n",
      "           0       0.63      0.63      0.63        43\n",
      "           1       0.64      0.58      0.61        43\n",
      "           2       0.78      0.84      0.81        56\n",
      "\n",
      "    accuracy                           0.70       142\n",
      "   macro avg       0.68      0.68      0.68       142\n",
      "weighted avg       0.69      0.70      0.69       142\n",
      "\n"
     ]
    }
   ],
   "source": [
    "train_pred = model.predict(X_train)\n",
    "print(f\"train roc_ovo {roc_auc_score(y_train,train_pred,multi_class='ovo'):.4f}    train roc_ovr {roc_auc_score(y_train,train_pred,multi_class='ovr'):.4f}\\n\")\n",
    "y_train_pred = [train_pred[i].argmax(axis=0) for i in range(len(train_pred))]\n",
    "\n",
    "test_pred = model.predict(X_test)\n",
    "print(f\"test roc_ovo {roc_auc_score(y_test,test_pred,multi_class='ovo'):.4f}    test roc_ovr {roc_auc_score(y_test,test_pred,multi_class='ovr'):.4f}\\n\")\n",
    "y_test_pred = [test_pred[i].argmax(axis=0) for i in range(len(test_pred))]\n",
    "\n",
    "print(classification_report(y_test,y_test_pred))"
   ]
  },
  {
   "cell_type": "code",
   "execution_count": 23,
   "metadata": {},
   "outputs": [],
   "source": [
    "metrics = sklearn.metrics.precision_recall_fscore_support(y_test, y_test_pred)\n",
    "metrics_df = pd.DataFrame(metrics).transpose()\n",
    "metrics_df.columns = ['precision','recall','f1-score','support']\n",
    "metrics_df.to_csv(f'output_no_moses/metrics_{prm[\"FP_BITS\"]}.csv')"
   ]
  },
  {
   "cell_type": "code",
   "execution_count": 24,
   "metadata": {},
   "outputs": [
    {
     "data": {
      "application/vnd.plotly.v1+json": {
       "config": {
        "plotlyServerURL": "https://plot.ly"
       },
       "data": [
        {
         "cliponaxis": false,
         "hovertemplate": [
          "num_leaves (IntUniformDistribution): 0.0032323845786292695<extra></extra>",
          "bagging_freq (IntUniformDistribution): 0.006636779884513762<extra></extra>",
          "feature_fraction (UniformDistribution): 0.015745130792937257<extra></extra>",
          "lambda_l2 (LogUniformDistribution): 0.019594242316980384<extra></extra>",
          "lambda_l1 (LogUniformDistribution): 0.031888542634470086<extra></extra>",
          "learning_rate (LogUniformDistribution): 0.0717612674916602<extra></extra>",
          "boosting_type (CategoricalDistribution): 0.22379686060733392<extra></extra>",
          "bagging_fraction (UniformDistribution): 0.3003141320482386<extra></extra>",
          "min_data_in_leaf (IntUniformDistribution): 0.3270306596452366<extra></extra>"
         ],
         "marker": {
          "color": "rgb(66,146,198)"
         },
         "orientation": "h",
         "text": [
          "0.0032323845786292695",
          "0.006636779884513762",
          "0.015745130792937257",
          "0.019594242316980384",
          "0.031888542634470086",
          "0.0717612674916602",
          "0.22379686060733392",
          "0.3003141320482386",
          "0.3270306596452366"
         ],
         "textposition": "outside",
         "texttemplate": "%{text:.2f}",
         "type": "bar",
         "x": [
          0.0032323845786292695,
          0.006636779884513762,
          0.015745130792937257,
          0.019594242316980384,
          0.031888542634470086,
          0.0717612674916602,
          0.22379686060733392,
          0.3003141320482386,
          0.3270306596452366
         ],
         "y": [
          "num_leaves",
          "bagging_freq",
          "feature_fraction",
          "lambda_l2",
          "lambda_l1",
          "learning_rate",
          "boosting_type",
          "bagging_fraction",
          "min_data_in_leaf"
         ]
        }
       ],
       "layout": {
        "showlegend": false,
        "template": {
         "data": {
          "bar": [
           {
            "error_x": {
             "color": "#2a3f5f"
            },
            "error_y": {
             "color": "#2a3f5f"
            },
            "marker": {
             "line": {
              "color": "#E5ECF6",
              "width": 0.5
             },
             "pattern": {
              "fillmode": "overlay",
              "size": 10,
              "solidity": 0.2
             }
            },
            "type": "bar"
           }
          ],
          "barpolar": [
           {
            "marker": {
             "line": {
              "color": "#E5ECF6",
              "width": 0.5
             },
             "pattern": {
              "fillmode": "overlay",
              "size": 10,
              "solidity": 0.2
             }
            },
            "type": "barpolar"
           }
          ],
          "carpet": [
           {
            "aaxis": {
             "endlinecolor": "#2a3f5f",
             "gridcolor": "white",
             "linecolor": "white",
             "minorgridcolor": "white",
             "startlinecolor": "#2a3f5f"
            },
            "baxis": {
             "endlinecolor": "#2a3f5f",
             "gridcolor": "white",
             "linecolor": "white",
             "minorgridcolor": "white",
             "startlinecolor": "#2a3f5f"
            },
            "type": "carpet"
           }
          ],
          "choropleth": [
           {
            "colorbar": {
             "outlinewidth": 0,
             "ticks": ""
            },
            "type": "choropleth"
           }
          ],
          "contour": [
           {
            "colorbar": {
             "outlinewidth": 0,
             "ticks": ""
            },
            "colorscale": [
             [
              0,
              "#0d0887"
             ],
             [
              0.1111111111111111,
              "#46039f"
             ],
             [
              0.2222222222222222,
              "#7201a8"
             ],
             [
              0.3333333333333333,
              "#9c179e"
             ],
             [
              0.4444444444444444,
              "#bd3786"
             ],
             [
              0.5555555555555556,
              "#d8576b"
             ],
             [
              0.6666666666666666,
              "#ed7953"
             ],
             [
              0.7777777777777778,
              "#fb9f3a"
             ],
             [
              0.8888888888888888,
              "#fdca26"
             ],
             [
              1,
              "#f0f921"
             ]
            ],
            "type": "contour"
           }
          ],
          "contourcarpet": [
           {
            "colorbar": {
             "outlinewidth": 0,
             "ticks": ""
            },
            "type": "contourcarpet"
           }
          ],
          "heatmap": [
           {
            "colorbar": {
             "outlinewidth": 0,
             "ticks": ""
            },
            "colorscale": [
             [
              0,
              "#0d0887"
             ],
             [
              0.1111111111111111,
              "#46039f"
             ],
             [
              0.2222222222222222,
              "#7201a8"
             ],
             [
              0.3333333333333333,
              "#9c179e"
             ],
             [
              0.4444444444444444,
              "#bd3786"
             ],
             [
              0.5555555555555556,
              "#d8576b"
             ],
             [
              0.6666666666666666,
              "#ed7953"
             ],
             [
              0.7777777777777778,
              "#fb9f3a"
             ],
             [
              0.8888888888888888,
              "#fdca26"
             ],
             [
              1,
              "#f0f921"
             ]
            ],
            "type": "heatmap"
           }
          ],
          "heatmapgl": [
           {
            "colorbar": {
             "outlinewidth": 0,
             "ticks": ""
            },
            "colorscale": [
             [
              0,
              "#0d0887"
             ],
             [
              0.1111111111111111,
              "#46039f"
             ],
             [
              0.2222222222222222,
              "#7201a8"
             ],
             [
              0.3333333333333333,
              "#9c179e"
             ],
             [
              0.4444444444444444,
              "#bd3786"
             ],
             [
              0.5555555555555556,
              "#d8576b"
             ],
             [
              0.6666666666666666,
              "#ed7953"
             ],
             [
              0.7777777777777778,
              "#fb9f3a"
             ],
             [
              0.8888888888888888,
              "#fdca26"
             ],
             [
              1,
              "#f0f921"
             ]
            ],
            "type": "heatmapgl"
           }
          ],
          "histogram": [
           {
            "marker": {
             "pattern": {
              "fillmode": "overlay",
              "size": 10,
              "solidity": 0.2
             }
            },
            "type": "histogram"
           }
          ],
          "histogram2d": [
           {
            "colorbar": {
             "outlinewidth": 0,
             "ticks": ""
            },
            "colorscale": [
             [
              0,
              "#0d0887"
             ],
             [
              0.1111111111111111,
              "#46039f"
             ],
             [
              0.2222222222222222,
              "#7201a8"
             ],
             [
              0.3333333333333333,
              "#9c179e"
             ],
             [
              0.4444444444444444,
              "#bd3786"
             ],
             [
              0.5555555555555556,
              "#d8576b"
             ],
             [
              0.6666666666666666,
              "#ed7953"
             ],
             [
              0.7777777777777778,
              "#fb9f3a"
             ],
             [
              0.8888888888888888,
              "#fdca26"
             ],
             [
              1,
              "#f0f921"
             ]
            ],
            "type": "histogram2d"
           }
          ],
          "histogram2dcontour": [
           {
            "colorbar": {
             "outlinewidth": 0,
             "ticks": ""
            },
            "colorscale": [
             [
              0,
              "#0d0887"
             ],
             [
              0.1111111111111111,
              "#46039f"
             ],
             [
              0.2222222222222222,
              "#7201a8"
             ],
             [
              0.3333333333333333,
              "#9c179e"
             ],
             [
              0.4444444444444444,
              "#bd3786"
             ],
             [
              0.5555555555555556,
              "#d8576b"
             ],
             [
              0.6666666666666666,
              "#ed7953"
             ],
             [
              0.7777777777777778,
              "#fb9f3a"
             ],
             [
              0.8888888888888888,
              "#fdca26"
             ],
             [
              1,
              "#f0f921"
             ]
            ],
            "type": "histogram2dcontour"
           }
          ],
          "mesh3d": [
           {
            "colorbar": {
             "outlinewidth": 0,
             "ticks": ""
            },
            "type": "mesh3d"
           }
          ],
          "parcoords": [
           {
            "line": {
             "colorbar": {
              "outlinewidth": 0,
              "ticks": ""
             }
            },
            "type": "parcoords"
           }
          ],
          "pie": [
           {
            "automargin": true,
            "type": "pie"
           }
          ],
          "scatter": [
           {
            "fillpattern": {
             "fillmode": "overlay",
             "size": 10,
             "solidity": 0.2
            },
            "type": "scatter"
           }
          ],
          "scatter3d": [
           {
            "line": {
             "colorbar": {
              "outlinewidth": 0,
              "ticks": ""
             }
            },
            "marker": {
             "colorbar": {
              "outlinewidth": 0,
              "ticks": ""
             }
            },
            "type": "scatter3d"
           }
          ],
          "scattercarpet": [
           {
            "marker": {
             "colorbar": {
              "outlinewidth": 0,
              "ticks": ""
             }
            },
            "type": "scattercarpet"
           }
          ],
          "scattergeo": [
           {
            "marker": {
             "colorbar": {
              "outlinewidth": 0,
              "ticks": ""
             }
            },
            "type": "scattergeo"
           }
          ],
          "scattergl": [
           {
            "marker": {
             "colorbar": {
              "outlinewidth": 0,
              "ticks": ""
             }
            },
            "type": "scattergl"
           }
          ],
          "scattermapbox": [
           {
            "marker": {
             "colorbar": {
              "outlinewidth": 0,
              "ticks": ""
             }
            },
            "type": "scattermapbox"
           }
          ],
          "scatterpolar": [
           {
            "marker": {
             "colorbar": {
              "outlinewidth": 0,
              "ticks": ""
             }
            },
            "type": "scatterpolar"
           }
          ],
          "scatterpolargl": [
           {
            "marker": {
             "colorbar": {
              "outlinewidth": 0,
              "ticks": ""
             }
            },
            "type": "scatterpolargl"
           }
          ],
          "scatterternary": [
           {
            "marker": {
             "colorbar": {
              "outlinewidth": 0,
              "ticks": ""
             }
            },
            "type": "scatterternary"
           }
          ],
          "surface": [
           {
            "colorbar": {
             "outlinewidth": 0,
             "ticks": ""
            },
            "colorscale": [
             [
              0,
              "#0d0887"
             ],
             [
              0.1111111111111111,
              "#46039f"
             ],
             [
              0.2222222222222222,
              "#7201a8"
             ],
             [
              0.3333333333333333,
              "#9c179e"
             ],
             [
              0.4444444444444444,
              "#bd3786"
             ],
             [
              0.5555555555555556,
              "#d8576b"
             ],
             [
              0.6666666666666666,
              "#ed7953"
             ],
             [
              0.7777777777777778,
              "#fb9f3a"
             ],
             [
              0.8888888888888888,
              "#fdca26"
             ],
             [
              1,
              "#f0f921"
             ]
            ],
            "type": "surface"
           }
          ],
          "table": [
           {
            "cells": {
             "fill": {
              "color": "#EBF0F8"
             },
             "line": {
              "color": "white"
             }
            },
            "header": {
             "fill": {
              "color": "#C8D4E3"
             },
             "line": {
              "color": "white"
             }
            },
            "type": "table"
           }
          ]
         },
         "layout": {
          "annotationdefaults": {
           "arrowcolor": "#2a3f5f",
           "arrowhead": 0,
           "arrowwidth": 1
          },
          "autotypenumbers": "strict",
          "coloraxis": {
           "colorbar": {
            "outlinewidth": 0,
            "ticks": ""
           }
          },
          "colorscale": {
           "diverging": [
            [
             0,
             "#8e0152"
            ],
            [
             0.1,
             "#c51b7d"
            ],
            [
             0.2,
             "#de77ae"
            ],
            [
             0.3,
             "#f1b6da"
            ],
            [
             0.4,
             "#fde0ef"
            ],
            [
             0.5,
             "#f7f7f7"
            ],
            [
             0.6,
             "#e6f5d0"
            ],
            [
             0.7,
             "#b8e186"
            ],
            [
             0.8,
             "#7fbc41"
            ],
            [
             0.9,
             "#4d9221"
            ],
            [
             1,
             "#276419"
            ]
           ],
           "sequential": [
            [
             0,
             "#0d0887"
            ],
            [
             0.1111111111111111,
             "#46039f"
            ],
            [
             0.2222222222222222,
             "#7201a8"
            ],
            [
             0.3333333333333333,
             "#9c179e"
            ],
            [
             0.4444444444444444,
             "#bd3786"
            ],
            [
             0.5555555555555556,
             "#d8576b"
            ],
            [
             0.6666666666666666,
             "#ed7953"
            ],
            [
             0.7777777777777778,
             "#fb9f3a"
            ],
            [
             0.8888888888888888,
             "#fdca26"
            ],
            [
             1,
             "#f0f921"
            ]
           ],
           "sequentialminus": [
            [
             0,
             "#0d0887"
            ],
            [
             0.1111111111111111,
             "#46039f"
            ],
            [
             0.2222222222222222,
             "#7201a8"
            ],
            [
             0.3333333333333333,
             "#9c179e"
            ],
            [
             0.4444444444444444,
             "#bd3786"
            ],
            [
             0.5555555555555556,
             "#d8576b"
            ],
            [
             0.6666666666666666,
             "#ed7953"
            ],
            [
             0.7777777777777778,
             "#fb9f3a"
            ],
            [
             0.8888888888888888,
             "#fdca26"
            ],
            [
             1,
             "#f0f921"
            ]
           ]
          },
          "colorway": [
           "#636efa",
           "#EF553B",
           "#00cc96",
           "#ab63fa",
           "#FFA15A",
           "#19d3f3",
           "#FF6692",
           "#B6E880",
           "#FF97FF",
           "#FECB52"
          ],
          "font": {
           "color": "#2a3f5f"
          },
          "geo": {
           "bgcolor": "white",
           "lakecolor": "white",
           "landcolor": "#E5ECF6",
           "showlakes": true,
           "showland": true,
           "subunitcolor": "white"
          },
          "hoverlabel": {
           "align": "left"
          },
          "hovermode": "closest",
          "mapbox": {
           "style": "light"
          },
          "paper_bgcolor": "white",
          "plot_bgcolor": "#E5ECF6",
          "polar": {
           "angularaxis": {
            "gridcolor": "white",
            "linecolor": "white",
            "ticks": ""
           },
           "bgcolor": "#E5ECF6",
           "radialaxis": {
            "gridcolor": "white",
            "linecolor": "white",
            "ticks": ""
           }
          },
          "scene": {
           "xaxis": {
            "backgroundcolor": "#E5ECF6",
            "gridcolor": "white",
            "gridwidth": 2,
            "linecolor": "white",
            "showbackground": true,
            "ticks": "",
            "zerolinecolor": "white"
           },
           "yaxis": {
            "backgroundcolor": "#E5ECF6",
            "gridcolor": "white",
            "gridwidth": 2,
            "linecolor": "white",
            "showbackground": true,
            "ticks": "",
            "zerolinecolor": "white"
           },
           "zaxis": {
            "backgroundcolor": "#E5ECF6",
            "gridcolor": "white",
            "gridwidth": 2,
            "linecolor": "white",
            "showbackground": true,
            "ticks": "",
            "zerolinecolor": "white"
           }
          },
          "shapedefaults": {
           "line": {
            "color": "#2a3f5f"
           }
          },
          "ternary": {
           "aaxis": {
            "gridcolor": "white",
            "linecolor": "white",
            "ticks": ""
           },
           "baxis": {
            "gridcolor": "white",
            "linecolor": "white",
            "ticks": ""
           },
           "bgcolor": "#E5ECF6",
           "caxis": {
            "gridcolor": "white",
            "linecolor": "white",
            "ticks": ""
           }
          },
          "title": {
           "x": 0.05
          },
          "xaxis": {
           "automargin": true,
           "gridcolor": "white",
           "linecolor": "white",
           "ticks": "",
           "title": {
            "standoff": 15
           },
           "zerolinecolor": "white",
           "zerolinewidth": 2
          },
          "yaxis": {
           "automargin": true,
           "gridcolor": "white",
           "linecolor": "white",
           "ticks": "",
           "title": {
            "standoff": 15
           },
           "zerolinecolor": "white",
           "zerolinewidth": 2
          }
         }
        },
        "title": {
         "text": "Hyperparameter Importances"
        },
        "xaxis": {
         "title": {
          "text": "Importance for Objective Value"
         }
        },
        "yaxis": {
         "title": {
          "text": "Hyperparameter"
         }
        }
       }
      }
     },
     "metadata": {},
     "output_type": "display_data"
    },
    {
     "data": {
      "application/vnd.plotly.v1+json": {
       "config": {
        "plotlyServerURL": "https://plot.ly"
       },
       "data": [
        {
         "mode": "markers",
         "name": "Objective Value",
         "type": "scatter",
         "x": [
          0,
          1,
          2,
          3,
          4,
          5,
          6,
          7,
          8,
          9,
          10,
          11,
          12,
          13,
          14,
          15,
          16,
          17,
          18,
          19,
          20,
          21,
          22,
          23,
          24,
          25,
          26,
          27,
          28,
          29,
          30,
          31,
          32,
          33,
          34,
          35,
          36,
          37,
          38,
          39,
          40,
          41,
          42,
          43,
          44,
          45,
          46,
          47,
          48,
          49,
          50,
          51,
          52,
          53,
          54,
          55,
          56,
          57,
          58,
          59,
          60,
          61,
          62,
          63,
          64,
          65,
          66,
          67,
          68,
          69,
          70,
          71,
          72,
          73,
          74,
          75,
          76,
          77,
          78,
          79,
          80,
          81,
          82,
          83,
          84,
          85,
          86,
          87,
          88,
          89,
          90,
          91,
          92,
          93,
          94,
          95,
          96,
          97,
          98,
          99
         ],
         "y": [
          0.4523210681571184,
          0.46811054184132894,
          0.44344045955596967,
          0.4186616984940227,
          0.4115199503182735,
          0.4875329917714641,
          0.5052010557366869,
          0.484039745381152,
          0.5051700046576618,
          0.4788542151839777,
          0.6130259276509858,
          0.6130104021114734,
          0.616519174041298,
          0.5970967241111629,
          0.636034777208508,
          0.6130725042695234,
          0.6060083837913368,
          0.6077782952957616,
          0.6147647880763857,
          0.635972675050458,
          0.5829684831547896,
          0.5900015525539513,
          0.6218599596335972,
          0.5989287377736376,
          0.6042384722869121,
          0.6060394348703617,
          0.5936345287998758,
          0.5440770066759819,
          0.5989753143921751,
          0.6201521502872225,
          0.44698028256481914,
          0.6324639031206335,
          0.6465610929979817,
          0.6130104021114733,
          0.5511877037727061,
          0.5564974382859804,
          0.6483620555814315,
          0.48767272162707653,
          0.4981369352585003,
          0.5440925322154945,
          0.468172643999379,
          0.6430678466076696,
          0.6342648657040832,
          0.6378202142524453,
          0.6484086321999689,
          0.6095171557211614,
          0.6307405682347461,
          0.5228535941623972,
          0.5830771619313772,
          0.4735289551311908,
          0.6218599596335973,
          0.6501630181648813,
          0.6554572271386431,
          0.6395435491383326,
          0.591864617295451,
          0.6413445117217823,
          0.6360192516689955,
          0.6342959167831081,
          0.5671013817730166,
          0.5865083061636392,
          0.644791181493557,
          0.6200900481291726,
          0.6147958391554107,
          0.635972675050458,
          0.6148424157739482,
          0.6554261760596181,
          0.6554261760596181,
          0.6395435491383326,
          0.6377736376339078,
          0.5282254308337215,
          0.6448532836516069,
          0.632510479739171,
          0.6377581120943953,
          0.5848004968172644,
          0.6412979351032447,
          0.6271386430678466,
          0.6377270610153702,
          0.5706101537028412,
          0.6483620555814313,
          0.6607514361124049,
          0.6448532836516069,
          0.6465921440770066,
          0.6642912591212544,
          0.6571960875640428,
          0.6448377581120944,
          0.5494022667287689,
          0.604269523365937,
          0.5529886663561558,
          0.6518863530507686,
          0.6342338146250582,
          0.6342493401645706,
          0.5865083061636392,
          0.6253997826424468,
          0.616612327278373,
          0.6518553019717435,
          0.664244682502717,
          0.6465610929979817,
          0.5936190032603632,
          0.5299487657196088,
          0.6131501319670859
         ]
        },
        {
         "name": "Best Value",
         "type": "scatter",
         "x": [
          0,
          1,
          2,
          3,
          4,
          5,
          6,
          7,
          8,
          9,
          10,
          11,
          12,
          13,
          14,
          15,
          16,
          17,
          18,
          19,
          20,
          21,
          22,
          23,
          24,
          25,
          26,
          27,
          28,
          29,
          30,
          31,
          32,
          33,
          34,
          35,
          36,
          37,
          38,
          39,
          40,
          41,
          42,
          43,
          44,
          45,
          46,
          47,
          48,
          49,
          50,
          51,
          52,
          53,
          54,
          55,
          56,
          57,
          58,
          59,
          60,
          61,
          62,
          63,
          64,
          65,
          66,
          67,
          68,
          69,
          70,
          71,
          72,
          73,
          74,
          75,
          76,
          77,
          78,
          79,
          80,
          81,
          82,
          83,
          84,
          85,
          86,
          87,
          88,
          89,
          90,
          91,
          92,
          93,
          94,
          95,
          96,
          97,
          98,
          99
         ],
         "y": [
          0.4523210681571184,
          0.46811054184132894,
          0.46811054184132894,
          0.46811054184132894,
          0.46811054184132894,
          0.4875329917714641,
          0.5052010557366869,
          0.5052010557366869,
          0.5052010557366869,
          0.5052010557366869,
          0.6130259276509858,
          0.6130259276509858,
          0.616519174041298,
          0.616519174041298,
          0.636034777208508,
          0.636034777208508,
          0.636034777208508,
          0.636034777208508,
          0.636034777208508,
          0.636034777208508,
          0.636034777208508,
          0.636034777208508,
          0.636034777208508,
          0.636034777208508,
          0.636034777208508,
          0.636034777208508,
          0.636034777208508,
          0.636034777208508,
          0.636034777208508,
          0.636034777208508,
          0.636034777208508,
          0.636034777208508,
          0.6465610929979817,
          0.6465610929979817,
          0.6465610929979817,
          0.6465610929979817,
          0.6483620555814315,
          0.6483620555814315,
          0.6483620555814315,
          0.6483620555814315,
          0.6483620555814315,
          0.6483620555814315,
          0.6483620555814315,
          0.6483620555814315,
          0.6484086321999689,
          0.6484086321999689,
          0.6484086321999689,
          0.6484086321999689,
          0.6484086321999689,
          0.6484086321999689,
          0.6484086321999689,
          0.6501630181648813,
          0.6554572271386431,
          0.6554572271386431,
          0.6554572271386431,
          0.6554572271386431,
          0.6554572271386431,
          0.6554572271386431,
          0.6554572271386431,
          0.6554572271386431,
          0.6554572271386431,
          0.6554572271386431,
          0.6554572271386431,
          0.6554572271386431,
          0.6554572271386431,
          0.6554572271386431,
          0.6554572271386431,
          0.6554572271386431,
          0.6554572271386431,
          0.6554572271386431,
          0.6554572271386431,
          0.6554572271386431,
          0.6554572271386431,
          0.6554572271386431,
          0.6554572271386431,
          0.6554572271386431,
          0.6554572271386431,
          0.6554572271386431,
          0.6554572271386431,
          0.6607514361124049,
          0.6607514361124049,
          0.6607514361124049,
          0.6642912591212544,
          0.6642912591212544,
          0.6642912591212544,
          0.6642912591212544,
          0.6642912591212544,
          0.6642912591212544,
          0.6642912591212544,
          0.6642912591212544,
          0.6642912591212544,
          0.6642912591212544,
          0.6642912591212544,
          0.6642912591212544,
          0.6642912591212544,
          0.6642912591212544,
          0.6642912591212544,
          0.6642912591212544,
          0.6642912591212544,
          0.6642912591212544
         ]
        }
       ],
       "layout": {
        "template": {
         "data": {
          "bar": [
           {
            "error_x": {
             "color": "#2a3f5f"
            },
            "error_y": {
             "color": "#2a3f5f"
            },
            "marker": {
             "line": {
              "color": "#E5ECF6",
              "width": 0.5
             },
             "pattern": {
              "fillmode": "overlay",
              "size": 10,
              "solidity": 0.2
             }
            },
            "type": "bar"
           }
          ],
          "barpolar": [
           {
            "marker": {
             "line": {
              "color": "#E5ECF6",
              "width": 0.5
             },
             "pattern": {
              "fillmode": "overlay",
              "size": 10,
              "solidity": 0.2
             }
            },
            "type": "barpolar"
           }
          ],
          "carpet": [
           {
            "aaxis": {
             "endlinecolor": "#2a3f5f",
             "gridcolor": "white",
             "linecolor": "white",
             "minorgridcolor": "white",
             "startlinecolor": "#2a3f5f"
            },
            "baxis": {
             "endlinecolor": "#2a3f5f",
             "gridcolor": "white",
             "linecolor": "white",
             "minorgridcolor": "white",
             "startlinecolor": "#2a3f5f"
            },
            "type": "carpet"
           }
          ],
          "choropleth": [
           {
            "colorbar": {
             "outlinewidth": 0,
             "ticks": ""
            },
            "type": "choropleth"
           }
          ],
          "contour": [
           {
            "colorbar": {
             "outlinewidth": 0,
             "ticks": ""
            },
            "colorscale": [
             [
              0,
              "#0d0887"
             ],
             [
              0.1111111111111111,
              "#46039f"
             ],
             [
              0.2222222222222222,
              "#7201a8"
             ],
             [
              0.3333333333333333,
              "#9c179e"
             ],
             [
              0.4444444444444444,
              "#bd3786"
             ],
             [
              0.5555555555555556,
              "#d8576b"
             ],
             [
              0.6666666666666666,
              "#ed7953"
             ],
             [
              0.7777777777777778,
              "#fb9f3a"
             ],
             [
              0.8888888888888888,
              "#fdca26"
             ],
             [
              1,
              "#f0f921"
             ]
            ],
            "type": "contour"
           }
          ],
          "contourcarpet": [
           {
            "colorbar": {
             "outlinewidth": 0,
             "ticks": ""
            },
            "type": "contourcarpet"
           }
          ],
          "heatmap": [
           {
            "colorbar": {
             "outlinewidth": 0,
             "ticks": ""
            },
            "colorscale": [
             [
              0,
              "#0d0887"
             ],
             [
              0.1111111111111111,
              "#46039f"
             ],
             [
              0.2222222222222222,
              "#7201a8"
             ],
             [
              0.3333333333333333,
              "#9c179e"
             ],
             [
              0.4444444444444444,
              "#bd3786"
             ],
             [
              0.5555555555555556,
              "#d8576b"
             ],
             [
              0.6666666666666666,
              "#ed7953"
             ],
             [
              0.7777777777777778,
              "#fb9f3a"
             ],
             [
              0.8888888888888888,
              "#fdca26"
             ],
             [
              1,
              "#f0f921"
             ]
            ],
            "type": "heatmap"
           }
          ],
          "heatmapgl": [
           {
            "colorbar": {
             "outlinewidth": 0,
             "ticks": ""
            },
            "colorscale": [
             [
              0,
              "#0d0887"
             ],
             [
              0.1111111111111111,
              "#46039f"
             ],
             [
              0.2222222222222222,
              "#7201a8"
             ],
             [
              0.3333333333333333,
              "#9c179e"
             ],
             [
              0.4444444444444444,
              "#bd3786"
             ],
             [
              0.5555555555555556,
              "#d8576b"
             ],
             [
              0.6666666666666666,
              "#ed7953"
             ],
             [
              0.7777777777777778,
              "#fb9f3a"
             ],
             [
              0.8888888888888888,
              "#fdca26"
             ],
             [
              1,
              "#f0f921"
             ]
            ],
            "type": "heatmapgl"
           }
          ],
          "histogram": [
           {
            "marker": {
             "pattern": {
              "fillmode": "overlay",
              "size": 10,
              "solidity": 0.2
             }
            },
            "type": "histogram"
           }
          ],
          "histogram2d": [
           {
            "colorbar": {
             "outlinewidth": 0,
             "ticks": ""
            },
            "colorscale": [
             [
              0,
              "#0d0887"
             ],
             [
              0.1111111111111111,
              "#46039f"
             ],
             [
              0.2222222222222222,
              "#7201a8"
             ],
             [
              0.3333333333333333,
              "#9c179e"
             ],
             [
              0.4444444444444444,
              "#bd3786"
             ],
             [
              0.5555555555555556,
              "#d8576b"
             ],
             [
              0.6666666666666666,
              "#ed7953"
             ],
             [
              0.7777777777777778,
              "#fb9f3a"
             ],
             [
              0.8888888888888888,
              "#fdca26"
             ],
             [
              1,
              "#f0f921"
             ]
            ],
            "type": "histogram2d"
           }
          ],
          "histogram2dcontour": [
           {
            "colorbar": {
             "outlinewidth": 0,
             "ticks": ""
            },
            "colorscale": [
             [
              0,
              "#0d0887"
             ],
             [
              0.1111111111111111,
              "#46039f"
             ],
             [
              0.2222222222222222,
              "#7201a8"
             ],
             [
              0.3333333333333333,
              "#9c179e"
             ],
             [
              0.4444444444444444,
              "#bd3786"
             ],
             [
              0.5555555555555556,
              "#d8576b"
             ],
             [
              0.6666666666666666,
              "#ed7953"
             ],
             [
              0.7777777777777778,
              "#fb9f3a"
             ],
             [
              0.8888888888888888,
              "#fdca26"
             ],
             [
              1,
              "#f0f921"
             ]
            ],
            "type": "histogram2dcontour"
           }
          ],
          "mesh3d": [
           {
            "colorbar": {
             "outlinewidth": 0,
             "ticks": ""
            },
            "type": "mesh3d"
           }
          ],
          "parcoords": [
           {
            "line": {
             "colorbar": {
              "outlinewidth": 0,
              "ticks": ""
             }
            },
            "type": "parcoords"
           }
          ],
          "pie": [
           {
            "automargin": true,
            "type": "pie"
           }
          ],
          "scatter": [
           {
            "fillpattern": {
             "fillmode": "overlay",
             "size": 10,
             "solidity": 0.2
            },
            "type": "scatter"
           }
          ],
          "scatter3d": [
           {
            "line": {
             "colorbar": {
              "outlinewidth": 0,
              "ticks": ""
             }
            },
            "marker": {
             "colorbar": {
              "outlinewidth": 0,
              "ticks": ""
             }
            },
            "type": "scatter3d"
           }
          ],
          "scattercarpet": [
           {
            "marker": {
             "colorbar": {
              "outlinewidth": 0,
              "ticks": ""
             }
            },
            "type": "scattercarpet"
           }
          ],
          "scattergeo": [
           {
            "marker": {
             "colorbar": {
              "outlinewidth": 0,
              "ticks": ""
             }
            },
            "type": "scattergeo"
           }
          ],
          "scattergl": [
           {
            "marker": {
             "colorbar": {
              "outlinewidth": 0,
              "ticks": ""
             }
            },
            "type": "scattergl"
           }
          ],
          "scattermapbox": [
           {
            "marker": {
             "colorbar": {
              "outlinewidth": 0,
              "ticks": ""
             }
            },
            "type": "scattermapbox"
           }
          ],
          "scatterpolar": [
           {
            "marker": {
             "colorbar": {
              "outlinewidth": 0,
              "ticks": ""
             }
            },
            "type": "scatterpolar"
           }
          ],
          "scatterpolargl": [
           {
            "marker": {
             "colorbar": {
              "outlinewidth": 0,
              "ticks": ""
             }
            },
            "type": "scatterpolargl"
           }
          ],
          "scatterternary": [
           {
            "marker": {
             "colorbar": {
              "outlinewidth": 0,
              "ticks": ""
             }
            },
            "type": "scatterternary"
           }
          ],
          "surface": [
           {
            "colorbar": {
             "outlinewidth": 0,
             "ticks": ""
            },
            "colorscale": [
             [
              0,
              "#0d0887"
             ],
             [
              0.1111111111111111,
              "#46039f"
             ],
             [
              0.2222222222222222,
              "#7201a8"
             ],
             [
              0.3333333333333333,
              "#9c179e"
             ],
             [
              0.4444444444444444,
              "#bd3786"
             ],
             [
              0.5555555555555556,
              "#d8576b"
             ],
             [
              0.6666666666666666,
              "#ed7953"
             ],
             [
              0.7777777777777778,
              "#fb9f3a"
             ],
             [
              0.8888888888888888,
              "#fdca26"
             ],
             [
              1,
              "#f0f921"
             ]
            ],
            "type": "surface"
           }
          ],
          "table": [
           {
            "cells": {
             "fill": {
              "color": "#EBF0F8"
             },
             "line": {
              "color": "white"
             }
            },
            "header": {
             "fill": {
              "color": "#C8D4E3"
             },
             "line": {
              "color": "white"
             }
            },
            "type": "table"
           }
          ]
         },
         "layout": {
          "annotationdefaults": {
           "arrowcolor": "#2a3f5f",
           "arrowhead": 0,
           "arrowwidth": 1
          },
          "autotypenumbers": "strict",
          "coloraxis": {
           "colorbar": {
            "outlinewidth": 0,
            "ticks": ""
           }
          },
          "colorscale": {
           "diverging": [
            [
             0,
             "#8e0152"
            ],
            [
             0.1,
             "#c51b7d"
            ],
            [
             0.2,
             "#de77ae"
            ],
            [
             0.3,
             "#f1b6da"
            ],
            [
             0.4,
             "#fde0ef"
            ],
            [
             0.5,
             "#f7f7f7"
            ],
            [
             0.6,
             "#e6f5d0"
            ],
            [
             0.7,
             "#b8e186"
            ],
            [
             0.8,
             "#7fbc41"
            ],
            [
             0.9,
             "#4d9221"
            ],
            [
             1,
             "#276419"
            ]
           ],
           "sequential": [
            [
             0,
             "#0d0887"
            ],
            [
             0.1111111111111111,
             "#46039f"
            ],
            [
             0.2222222222222222,
             "#7201a8"
            ],
            [
             0.3333333333333333,
             "#9c179e"
            ],
            [
             0.4444444444444444,
             "#bd3786"
            ],
            [
             0.5555555555555556,
             "#d8576b"
            ],
            [
             0.6666666666666666,
             "#ed7953"
            ],
            [
             0.7777777777777778,
             "#fb9f3a"
            ],
            [
             0.8888888888888888,
             "#fdca26"
            ],
            [
             1,
             "#f0f921"
            ]
           ],
           "sequentialminus": [
            [
             0,
             "#0d0887"
            ],
            [
             0.1111111111111111,
             "#46039f"
            ],
            [
             0.2222222222222222,
             "#7201a8"
            ],
            [
             0.3333333333333333,
             "#9c179e"
            ],
            [
             0.4444444444444444,
             "#bd3786"
            ],
            [
             0.5555555555555556,
             "#d8576b"
            ],
            [
             0.6666666666666666,
             "#ed7953"
            ],
            [
             0.7777777777777778,
             "#fb9f3a"
            ],
            [
             0.8888888888888888,
             "#fdca26"
            ],
            [
             1,
             "#f0f921"
            ]
           ]
          },
          "colorway": [
           "#636efa",
           "#EF553B",
           "#00cc96",
           "#ab63fa",
           "#FFA15A",
           "#19d3f3",
           "#FF6692",
           "#B6E880",
           "#FF97FF",
           "#FECB52"
          ],
          "font": {
           "color": "#2a3f5f"
          },
          "geo": {
           "bgcolor": "white",
           "lakecolor": "white",
           "landcolor": "#E5ECF6",
           "showlakes": true,
           "showland": true,
           "subunitcolor": "white"
          },
          "hoverlabel": {
           "align": "left"
          },
          "hovermode": "closest",
          "mapbox": {
           "style": "light"
          },
          "paper_bgcolor": "white",
          "plot_bgcolor": "#E5ECF6",
          "polar": {
           "angularaxis": {
            "gridcolor": "white",
            "linecolor": "white",
            "ticks": ""
           },
           "bgcolor": "#E5ECF6",
           "radialaxis": {
            "gridcolor": "white",
            "linecolor": "white",
            "ticks": ""
           }
          },
          "scene": {
           "xaxis": {
            "backgroundcolor": "#E5ECF6",
            "gridcolor": "white",
            "gridwidth": 2,
            "linecolor": "white",
            "showbackground": true,
            "ticks": "",
            "zerolinecolor": "white"
           },
           "yaxis": {
            "backgroundcolor": "#E5ECF6",
            "gridcolor": "white",
            "gridwidth": 2,
            "linecolor": "white",
            "showbackground": true,
            "ticks": "",
            "zerolinecolor": "white"
           },
           "zaxis": {
            "backgroundcolor": "#E5ECF6",
            "gridcolor": "white",
            "gridwidth": 2,
            "linecolor": "white",
            "showbackground": true,
            "ticks": "",
            "zerolinecolor": "white"
           }
          },
          "shapedefaults": {
           "line": {
            "color": "#2a3f5f"
           }
          },
          "ternary": {
           "aaxis": {
            "gridcolor": "white",
            "linecolor": "white",
            "ticks": ""
           },
           "baxis": {
            "gridcolor": "white",
            "linecolor": "white",
            "ticks": ""
           },
           "bgcolor": "#E5ECF6",
           "caxis": {
            "gridcolor": "white",
            "linecolor": "white",
            "ticks": ""
           }
          },
          "title": {
           "x": 0.05
          },
          "xaxis": {
           "automargin": true,
           "gridcolor": "white",
           "linecolor": "white",
           "ticks": "",
           "title": {
            "standoff": 15
           },
           "zerolinecolor": "white",
           "zerolinewidth": 2
          },
          "yaxis": {
           "automargin": true,
           "gridcolor": "white",
           "linecolor": "white",
           "ticks": "",
           "title": {
            "standoff": 15
           },
           "zerolinecolor": "white",
           "zerolinewidth": 2
          }
         }
        },
        "title": {
         "text": "Optimization History Plot"
        },
        "xaxis": {
         "title": {
          "text": "#Trials"
         }
        },
        "yaxis": {
         "title": {
          "text": "Objective Value"
         }
        }
       }
      }
     },
     "metadata": {},
     "output_type": "display_data"
    },
    {
     "data": {
      "application/vnd.plotly.v1+json": {
       "config": {
        "plotlyServerURL": "https://plot.ly"
       },
       "data": [
        {
         "dimensions": [
          {
           "label": "Objective Value",
           "range": [
            0.4115199503182735,
            0.6642912591212544
           ],
           "values": [
            0.4523210681571184,
            0.46811054184132894,
            0.44344045955596967,
            0.4186616984940227,
            0.4115199503182735,
            0.4875329917714641,
            0.5052010557366869,
            0.484039745381152,
            0.5051700046576618,
            0.4788542151839777,
            0.6130259276509858,
            0.6130104021114734,
            0.616519174041298,
            0.5970967241111629,
            0.636034777208508,
            0.6130725042695234,
            0.6060083837913368,
            0.6077782952957616,
            0.6147647880763857,
            0.635972675050458,
            0.5829684831547896,
            0.5900015525539513,
            0.6218599596335972,
            0.5989287377736376,
            0.6042384722869121,
            0.6060394348703617,
            0.5936345287998758,
            0.5440770066759819,
            0.5989753143921751,
            0.6201521502872225,
            0.44698028256481914,
            0.6324639031206335,
            0.6465610929979817,
            0.6130104021114733,
            0.5511877037727061,
            0.5564974382859804,
            0.6483620555814315,
            0.48767272162707653,
            0.4981369352585003,
            0.5440925322154945,
            0.468172643999379,
            0.6430678466076696,
            0.6342648657040832,
            0.6378202142524453,
            0.6484086321999689,
            0.6095171557211614,
            0.6307405682347461,
            0.5228535941623972,
            0.5830771619313772,
            0.4735289551311908,
            0.6218599596335973,
            0.6501630181648813,
            0.6554572271386431,
            0.6395435491383326,
            0.591864617295451,
            0.6413445117217823,
            0.6360192516689955,
            0.6342959167831081,
            0.5671013817730166,
            0.5865083061636392,
            0.644791181493557,
            0.6200900481291726,
            0.6147958391554107,
            0.635972675050458,
            0.6148424157739482,
            0.6554261760596181,
            0.6554261760596181,
            0.6395435491383326,
            0.6377736376339078,
            0.5282254308337215,
            0.6448532836516069,
            0.632510479739171,
            0.6377581120943953,
            0.5848004968172644,
            0.6412979351032447,
            0.6271386430678466,
            0.6377270610153702,
            0.5706101537028412,
            0.6483620555814313,
            0.6607514361124049,
            0.6448532836516069,
            0.6465921440770066,
            0.6642912591212544,
            0.6571960875640428,
            0.6448377581120944,
            0.5494022667287689,
            0.604269523365937,
            0.5529886663561558,
            0.6518863530507686,
            0.6342338146250582,
            0.6342493401645706,
            0.5865083061636392,
            0.6253997826424468,
            0.616612327278373,
            0.6518553019717435,
            0.664244682502717,
            0.6465610929979817,
            0.5936190032603632,
            0.5299487657196088,
            0.6131501319670859
           ]
          },
          {
           "label": "bagging_fraction",
           "range": [
            0.4259944376168821,
            0.9999763266680648
           ],
           "values": [
            0.565878553085858,
            0.7018498991846858,
            0.6383215466356925,
            0.5312752634044532,
            0.4259944376168821,
            0.8743144798342201,
            0.6709890449565155,
            0.6500521226816159,
            0.84763804548203,
            0.7221269157546459,
            0.9994152737583495,
            0.9999763266680648,
            0.9785606022704746,
            0.9926933326633789,
            0.8874057863559824,
            0.8690691167157137,
            0.8031962202606896,
            0.9281887240395367,
            0.7724309758956229,
            0.9300190385298752,
            0.9183374530911328,
            0.9197393296288198,
            0.9383709564743673,
            0.8027980991331011,
            0.9300761109602647,
            0.8379139623229543,
            0.7575652329668887,
            0.8900827390751602,
            0.8180953340684096,
            0.950161521614036,
            0.561948968822641,
            0.958772327068647,
            0.9581338887853443,
            0.893683012141731,
            0.9609742348969834,
            0.8858989732562047,
            0.9607727667319588,
            0.4360740976875013,
            0.8464662692120786,
            0.9075168422991617,
            0.6120063183952691,
            0.964257059637236,
            0.9677929934494698,
            0.8595262243486589,
            0.856385620924317,
            0.7166542863041736,
            0.8608293724839006,
            0.7478045483268536,
            0.6827526275981572,
            0.9885862704154545,
            0.8268589543011572,
            0.868744303196702,
            0.8636056221379014,
            0.9710821045965933,
            0.9045501601533126,
            0.7945034247046419,
            0.9432835798142374,
            0.8699917353452424,
            0.9849950802007048,
            0.9100206398598757,
            0.9984045163252053,
            0.9992661485127918,
            0.9487425156774041,
            0.9706811082404476,
            0.7839074406233448,
            0.9289751234031713,
            0.9301642815926585,
            0.9313134583019071,
            0.882207392234857,
            0.8219725197823978,
            0.9181180951021293,
            0.9197918401063784,
            0.9005744718437457,
            0.8496424332692961,
            0.9358393230082844,
            0.8807029173346951,
            0.920189276220682,
            0.947675050221328,
            0.8968303392805446,
            0.8361695481630839,
            0.8354322085346162,
            0.8690232677973434,
            0.8615790199737959,
            0.8425704946721849,
            0.8105905706876798,
            0.8406773821914081,
            0.7935895950975537,
            0.8567328285917137,
            0.760472298048916,
            0.7436586231997281,
            0.7684896295378946,
            0.831092467937882,
            0.8767131597052158,
            0.8112913036022595,
            0.8565989765202894,
            0.8541710433536241,
            0.844566625485862,
            0.6321314288507167,
            0.7872319826131086,
            0.7274016463808604
           ]
          },
          {
           "label": "bagging_freq",
           "range": [
            2,
            6
           ],
           "values": [
            6,
            2,
            5,
            6,
            4,
            6,
            6,
            4,
            6,
            6,
            2,
            2,
            2,
            3,
            3,
            3,
            3,
            3,
            2,
            3,
            4,
            3,
            3,
            4,
            3,
            4,
            5,
            3,
            3,
            5,
            4,
            5,
            5,
            5,
            5,
            5,
            5,
            4,
            5,
            4,
            6,
            5,
            5,
            6,
            6,
            6,
            6,
            6,
            6,
            6,
            6,
            5,
            5,
            5,
            5,
            5,
            5,
            5,
            5,
            4,
            5,
            5,
            5,
            5,
            5,
            4,
            4,
            4,
            4,
            4,
            4,
            4,
            4,
            4,
            4,
            4,
            4,
            4,
            4,
            4,
            4,
            4,
            4,
            4,
            4,
            4,
            4,
            3,
            4,
            4,
            4,
            4,
            4,
            4,
            4,
            4,
            4,
            4,
            4,
            3
           ]
          },
          {
           "label": "boosting_type",
           "range": [
            0,
            1
           ],
           "ticktext": [
            "gbdt",
            "rf"
           ],
           "tickvals": [
            0,
            1
           ],
           "values": [
            0,
            1,
            1,
            1,
            1,
            0,
            0,
            1,
            0,
            1,
            0,
            0,
            0,
            0,
            0,
            0,
            0,
            0,
            0,
            0,
            0,
            0,
            0,
            0,
            0,
            0,
            0,
            0,
            0,
            0,
            0,
            0,
            0,
            0,
            1,
            1,
            0,
            0,
            1,
            0,
            1,
            0,
            0,
            0,
            0,
            0,
            0,
            0,
            0,
            1,
            0,
            0,
            0,
            0,
            0,
            0,
            0,
            0,
            0,
            0,
            0,
            0,
            0,
            0,
            0,
            0,
            0,
            0,
            0,
            1,
            0,
            0,
            0,
            0,
            0,
            0,
            0,
            0,
            0,
            0,
            0,
            0,
            0,
            0,
            0,
            1,
            0,
            0,
            0,
            0,
            0,
            0,
            0,
            0,
            0,
            0,
            0,
            0,
            1,
            0
           ]
          },
          {
           "label": "feature_fraction",
           "range": [
            0.3043325338520455,
            0.5940597734779169
           ],
           "values": [
            0.3817777815847925,
            0.4683588558196875,
            0.4954134429679732,
            0.5113743924568718,
            0.4599930488996251,
            0.5736368659299462,
            0.316162105543871,
            0.5699895584510026,
            0.3449501147969782,
            0.45076786901476507,
            0.30749873636440306,
            0.3043325338520455,
            0.3803092830721852,
            0.3859609156489786,
            0.3918488290011824,
            0.3990228907261535,
            0.41212957812907086,
            0.36203669205346745,
            0.424436288970571,
            0.3451516557413508,
            0.34528429073208916,
            0.3572844928994511,
            0.4254297375203023,
            0.4302255953028256,
            0.3277491606254073,
            0.49077316233355983,
            0.5430212179926386,
            0.43534538829727326,
            0.39681865966353336,
            0.36876990808803745,
            0.3358247119947825,
            0.3674393225085156,
            0.408020534616415,
            0.4056106416873999,
            0.376982534553256,
            0.3536237729102697,
            0.47696293368169584,
            0.5082222233950499,
            0.47572785724163674,
            0.47216643680994785,
            0.531222439407964,
            0.395703406812983,
            0.4379639069571482,
            0.45437322353549825,
            0.4473743868375281,
            0.44934937732978475,
            0.458038234512055,
            0.48561624809347625,
            0.4143257075110031,
            0.4614244344737787,
            0.44250487964378654,
            0.38863362880613234,
            0.4167487242001782,
            0.41554179660255813,
            0.3874619097768422,
            0.4021148504543949,
            0.4192321449945832,
            0.37617706964150716,
            0.40584556379807346,
            0.4433311098082592,
            0.4820386803232447,
            0.5069912850232805,
            0.4850852463836952,
            0.4676951471365226,
            0.5221084248121587,
            0.4996556548195468,
            0.49356123956317915,
            0.588350835080986,
            0.5210043560379736,
            0.4983948143607451,
            0.5531879915977492,
            0.546515783478384,
            0.5630326797157429,
            0.501105594092643,
            0.42798750684253806,
            0.5559363589068077,
            0.5940597734779169,
            0.46638997852555275,
            0.5178411821018406,
            0.4950866430815148,
            0.5187603647189507,
            0.47616356385967346,
            0.49347661220653233,
            0.49244845207733867,
            0.49481702886101125,
            0.5337956234630452,
            0.4905283506262835,
            0.5031215389693346,
            0.47791997264650254,
            0.4822098404000907,
            0.5134296066089303,
            0.49453654790069,
            0.477759159432185,
            0.48925637327814075,
            0.4500179059871291,
            0.4473664249939898,
            0.46581169385195886,
            0.5285762077808658,
            0.4342534664978373,
            0.5082317996962019
           ]
          },
          {
           "label": "lambda_l1",
           "range": [
            -2.994851344208867,
            -0.015482431640077517
           ],
           "ticktext": [
            "0.00101",
            "0.01",
            "0.1",
            "0.965"
           ],
           "tickvals": [
            -2.994851344208867,
            -2,
            -1,
            -0.015482431640077517
           ],
           "values": [
            -1.1336736868805044,
            -1.4970146234296238,
            -1.1538114646995186,
            -1.691479728312962,
            -2.447138748558559,
            -1.1784188813445462,
            -1.1252498840822667,
            -1.2380890996080463,
            -1.1635530088027273,
            -1.2947711542584295,
            -0.17506672738182488,
            -0.10564738045383823,
            -0.03777644073443742,
            -0.015482431640077517,
            -0.5530187725102927,
            -0.5618089923315618,
            -0.582593504895492,
            -0.6253314854492532,
            -2.1023355225689944,
            -2.988044069897497,
            -2.9473479745121125,
            -2.994851344208867,
            -0.3322648560499809,
            -0.8140468274712468,
            -0.35340354529734314,
            -1.948220498107701,
            -2.291387271097739,
            -0.7641890866394233,
            -0.3529263249071031,
            -2.633887903406628,
            -0.9531438063717088,
            -2.698885525242339,
            -2.725890915899325,
            -2.7076498624208614,
            -2.719592637810575,
            -1.716280394265619,
            -2.4680470487944905,
            -2.4504109493268924,
            -2.874767600635741,
            -2.4391506818700632,
            -2.155027081500389,
            -2.819716502529568,
            -2.8020983313100176,
            -2.535961650186005,
            -2.5376701974993208,
            -2.5614981334208626,
            -2.2993439928936144,
            -2.474183775258554,
            -1.8904557724773228,
            -2.2683673563083246,
            -2.8183218313198317,
            -2.570176079076361,
            -2.537777094883112,
            -2.3700842780143443,
            -2.6096828383845527,
            -2.1390441554439863,
            -2.8557598367142116,
            -1.4496416236196203,
            -1.9500795430826787,
            -2.7467907748232574,
            -2.38371985157584,
            -2.6224949250410776,
            -2.37842198767896,
            -2.526047094451803,
            -2.9096017084537356,
            -2.2629705990383377,
            -2.2014365286614197,
            -2.045098841081177,
            -2.194367869175961,
            -2.235704912989732,
            -2.0553800775692608,
            -1.8100369206133042,
            -2.0229420904374336,
            -2.3388371969588064,
            -1.5633212828868086,
            -2.527083572552518,
            -2.0938019946364457,
            -2.6228417019918844,
            -2.44434169357294,
            -2.434182840987918,
            -2.438767282218127,
            -2.6912743611954086,
            -2.4792109713585377,
            -2.2166309932310773,
            -2.247252373827384,
            -2.316133069270836,
            -2.496223830041105,
            -2.1733186581739385,
            -2.580310299574824,
            -2.5608251311543464,
            -2.6633553622462744,
            -2.339069857622469,
            -2.418943189739516,
            -2.769053541258305,
            -2.6138495530719315,
            -2.5998915785794527,
            -2.655545755267054,
            -2.6045539343259234,
            -2.2190922180424413,
            -2.398678095152767
           ]
          },
          {
           "label": "lambda_l2",
           "range": [
            -0.3010124232160562,
            0.47635162364138545
           ],
           "ticktext": [
            "0.5",
            "1",
            "2.99"
           ],
           "tickvals": [
            -0.3010124232160562,
            0,
            0.47635162364138545
           ],
           "values": [
            0.039588391772010144,
            0.23080754193109182,
            -0.24237198822402736,
            0.32316219501298604,
            -0.2641804262523161,
            0.13936053597371462,
            0.07099928923781644,
            0.06597145063901974,
            0.41346698479326677,
            0.11000838642183049,
            -0.07212315009550824,
            -0.0885018487433266,
            -0.10584293269242075,
            -0.09052326010454041,
            -0.103276853455542,
            -0.15825308890426276,
            -0.1816258104701339,
            -0.012841280013080027,
            -0.17328788552292423,
            -0.3010124232160562,
            -0.27628959870306463,
            -0.026798970883175982,
            -0.19029305128384033,
            -0.2984647098189738,
            -0.22156986451543623,
            -0.14853036631101665,
            -0.20063256714534566,
            -0.2988740491343861,
            -0.04177460411656788,
            0.018638517396423596,
            -0.13354089580677048,
            -0.010100973443240005,
            -0.2160208980736196,
            0.16245438706310442,
            0.20928052621762308,
            -0.23781862992468078,
            0.00860838769789704,
            -0.24525630676586024,
            0.04330717814682579,
            -0.12469909582336831,
            -0.06703019208552524,
            -0.01942177112147658,
            0.01032774828129072,
            0.4660563794576658,
            0.253934338976907,
            0.4563887366870505,
            0.335206391997457,
            0.3044319613441294,
            0.2687890061490707,
            0.3635882684777506,
            0.11172730658278202,
            0.4748273029006658,
            0.4536778713899172,
            0.4135357956991956,
            0.4103417890687683,
            0.1655141508839447,
            0.38554798257720396,
            0.43687040911428143,
            0.26092574103585237,
            0.0856539000403805,
            0.47635162364138545,
            0.43548358491929023,
            0.47594085145154347,
            0.3670107065733196,
            0.05536148263105573,
            0.20970433207556405,
            0.20503509131835032,
            0.2025611744380667,
            0.26023771515938326,
            0.3006769313634022,
            0.21908747968999964,
            0.22805177198868026,
            0.1726207709093362,
            0.14198164945660238,
            0.19604116789388057,
            0.12411475545165727,
            0.2827840901717792,
            0.23736926862374622,
            0.14489729578221344,
            0.09339934778980662,
            0.18641657433494357,
            0.07107614770383068,
            0.1432196829669458,
            0.14155567869208657,
            0.09600370497702304,
            0.12390499668290614,
            0.0834395635945566,
            0.23985972386368473,
            0.02550472055526476,
            0.156376211593133,
            0.04749255945395606,
            0.00295465386132611,
            -0.04992685649593309,
            0.022828616270317858,
            0.10444344692881215,
            0.17622528189113837,
            0.18107248282865612,
            0.11723901704517402,
            0.10296279508507955,
            0.07134541667719527
           ]
          },
          {
           "label": "learning_rate",
           "range": [
            -1.963616370845632,
            -0.5235713956043321
           ],
           "ticktext": [
            "0.0109",
            "0.1",
            "0.3"
           ],
           "tickvals": [
            -1.963616370845632,
            -1,
            -0.5235713956043321
           ],
           "values": [
            -1.7171025491531102,
            -1.4714605052394718,
            -1.4610191576299862,
            -0.7161934598200972,
            -1.911654525803617,
            -1.8347185252284963,
            -1.5786497440186076,
            -0.9091118966701397,
            -1.354655809337509,
            -1.774631511636734,
            -1.0460522600665996,
            -1.0482338304304468,
            -1.0250941014157804,
            -1.1349376412955738,
            -0.6384046082978879,
            -0.5291775679548288,
            -0.7846994606041847,
            -0.6915443129288709,
            -0.5648289624080389,
            -0.8636840681038789,
            -0.8589937614123484,
            -1.1852475217497989,
            -0.9506648945541011,
            -0.9100458939641047,
            -0.6453895759643401,
            -0.7901614346454141,
            -0.965247899538238,
            -1.2559544286978135,
            -0.7988832412682005,
            -0.6354190260266513,
            -1.1195081792019952,
            -0.5762830971782152,
            -0.6039159979889489,
            -0.5709548320520274,
            -0.7228249512129866,
            -0.6021604994352733,
            -0.7107235168393333,
            -0.7250943416852469,
            -0.8080908708506893,
            -1.5910872405873902,
            -0.700877684596699,
            -0.529091188184253,
            -0.5297698283642769,
            -0.6598194220247487,
            -0.6522842588207712,
            -0.657487178068057,
            -0.7496394575717089,
            -1.963616370845632,
            -0.8457683707718034,
            -0.6080276358633171,
            -0.6694618379528116,
            -0.5321183849989654,
            -0.5275909841964163,
            -0.5333502538658051,
            -0.5235909591115617,
            -0.6036878280177598,
            -0.7505758379070568,
            -0.5708209136009361,
            -0.6840236961301555,
            -1.348688787027302,
            -0.6155515923733031,
            -0.6140096005939886,
            -0.5269894350045122,
            -0.7490236519011682,
            -0.6251515124559527,
            -0.5790352239753103,
            -0.7029105092306885,
            -0.895936147591744,
            -0.8252031935166589,
            -0.6985858828628961,
            -0.7729184967267899,
            -0.761033321253789,
            -0.5787990148503648,
            -0.6679318519812818,
            -0.7084469028813715,
            -0.992195655020016,
            -0.8998380083462731,
            -1.650305281515054,
            -0.7838692977908222,
            -0.5715876362659926,
            -0.5698645777137425,
            -0.6385559596892865,
            -0.6374237662675895,
            -0.5611918742732761,
            -0.5744271457732272,
            -0.6575731518264953,
            -0.7260073496681333,
            -1.8529856234111175,
            -0.5585808060117888,
            -0.5638441244583948,
            -0.5551272223963407,
            -1.4643799234753898,
            -0.5967041838370204,
            -0.6428990396047366,
            -0.6884312613505841,
            -0.5508749928594245,
            -0.5604776894410384,
            -0.5235713956043321,
            -0.6005324703172035,
            -0.6775820566389291
           ]
          },
          {
           "label": "min_data_in_leaf",
           "range": [
            50,
            100
           ],
           "values": [
            89,
            68,
            97,
            85,
            80,
            81,
            69,
            61,
            86,
            74,
            50,
            50,
            50,
            51,
            56,
            59,
            59,
            64,
            55,
            56,
            67,
            55,
            55,
            55,
            72,
            62,
            56,
            63,
            57,
            65,
            94,
            54,
            53,
            59,
            53,
            53,
            59,
            70,
            66,
            61,
            79,
            58,
            58,
            52,
            52,
            51,
            52,
            61,
            52,
            77,
            59,
            50,
            50,
            50,
            83,
            50,
            53,
            57,
            100,
            54,
            57,
            58,
            61,
            54,
            57,
            51,
            50,
            50,
            52,
            51,
            54,
            54,
            50,
            89,
            52,
            55,
            53,
            55,
            51,
            51,
            51,
            51,
            51,
            50,
            50,
            56,
            52,
            53,
            50,
            50,
            52,
            51,
            55,
            53,
            50,
            50,
            50,
            54,
            51,
            56
           ]
          },
          {
           "label": "num_leaves",
           "range": [
            8,
            32
           ],
           "values": [
            27,
            25,
            17,
            11,
            24,
            8,
            12,
            10,
            23,
            31,
            16,
            17,
            17,
            16,
            19,
            20,
            21,
            14,
            19,
            28,
            31,
            28,
            22,
            28,
            25,
            22,
            19,
            32,
            26,
            28,
            22,
            28,
            30,
            30,
            29,
            26,
            32,
            32,
            30,
            24,
            26,
            30,
            30,
            32,
            32,
            32,
            31,
            30,
            32,
            29,
            31,
            29,
            29,
            29,
            27,
            27,
            31,
            29,
            30,
            31,
            9,
            9,
            11,
            29,
            14,
            15,
            14,
            13,
            15,
            12,
            16,
            18,
            16,
            14,
            15,
            17,
            15,
            18,
            13,
            13,
            12,
            11,
            11,
            13,
            10,
            13,
            12,
            10,
            14,
            14,
            13,
            11,
            15,
            14,
            24,
            24,
            23,
            20,
            25,
            21
           ]
          }
         ],
         "labelangle": 30,
         "labelside": "bottom",
         "line": {
          "color": [
           0.4523210681571184,
           0.46811054184132894,
           0.44344045955596967,
           0.4186616984940227,
           0.4115199503182735,
           0.4875329917714641,
           0.5052010557366869,
           0.484039745381152,
           0.5051700046576618,
           0.4788542151839777,
           0.6130259276509858,
           0.6130104021114734,
           0.616519174041298,
           0.5970967241111629,
           0.636034777208508,
           0.6130725042695234,
           0.6060083837913368,
           0.6077782952957616,
           0.6147647880763857,
           0.635972675050458,
           0.5829684831547896,
           0.5900015525539513,
           0.6218599596335972,
           0.5989287377736376,
           0.6042384722869121,
           0.6060394348703617,
           0.5936345287998758,
           0.5440770066759819,
           0.5989753143921751,
           0.6201521502872225,
           0.44698028256481914,
           0.6324639031206335,
           0.6465610929979817,
           0.6130104021114733,
           0.5511877037727061,
           0.5564974382859804,
           0.6483620555814315,
           0.48767272162707653,
           0.4981369352585003,
           0.5440925322154945,
           0.468172643999379,
           0.6430678466076696,
           0.6342648657040832,
           0.6378202142524453,
           0.6484086321999689,
           0.6095171557211614,
           0.6307405682347461,
           0.5228535941623972,
           0.5830771619313772,
           0.4735289551311908,
           0.6218599596335973,
           0.6501630181648813,
           0.6554572271386431,
           0.6395435491383326,
           0.591864617295451,
           0.6413445117217823,
           0.6360192516689955,
           0.6342959167831081,
           0.5671013817730166,
           0.5865083061636392,
           0.644791181493557,
           0.6200900481291726,
           0.6147958391554107,
           0.635972675050458,
           0.6148424157739482,
           0.6554261760596181,
           0.6554261760596181,
           0.6395435491383326,
           0.6377736376339078,
           0.5282254308337215,
           0.6448532836516069,
           0.632510479739171,
           0.6377581120943953,
           0.5848004968172644,
           0.6412979351032447,
           0.6271386430678466,
           0.6377270610153702,
           0.5706101537028412,
           0.6483620555814313,
           0.6607514361124049,
           0.6448532836516069,
           0.6465921440770066,
           0.6642912591212544,
           0.6571960875640428,
           0.6448377581120944,
           0.5494022667287689,
           0.604269523365937,
           0.5529886663561558,
           0.6518863530507686,
           0.6342338146250582,
           0.6342493401645706,
           0.5865083061636392,
           0.6253997826424468,
           0.616612327278373,
           0.6518553019717435,
           0.664244682502717,
           0.6465610929979817,
           0.5936190032603632,
           0.5299487657196088,
           0.6131501319670859
          ],
          "colorbar": {
           "title": {
            "text": "Objective Value"
           }
          },
          "colorscale": [
           [
            0,
            "rgb(247,251,255)"
           ],
           [
            0.125,
            "rgb(222,235,247)"
           ],
           [
            0.25,
            "rgb(198,219,239)"
           ],
           [
            0.375,
            "rgb(158,202,225)"
           ],
           [
            0.5,
            "rgb(107,174,214)"
           ],
           [
            0.625,
            "rgb(66,146,198)"
           ],
           [
            0.75,
            "rgb(33,113,181)"
           ],
           [
            0.875,
            "rgb(8,81,156)"
           ],
           [
            1,
            "rgb(8,48,107)"
           ]
          ],
          "reversescale": false,
          "showscale": true
         },
         "type": "parcoords"
        }
       ],
       "layout": {
        "template": {
         "data": {
          "bar": [
           {
            "error_x": {
             "color": "#2a3f5f"
            },
            "error_y": {
             "color": "#2a3f5f"
            },
            "marker": {
             "line": {
              "color": "#E5ECF6",
              "width": 0.5
             },
             "pattern": {
              "fillmode": "overlay",
              "size": 10,
              "solidity": 0.2
             }
            },
            "type": "bar"
           }
          ],
          "barpolar": [
           {
            "marker": {
             "line": {
              "color": "#E5ECF6",
              "width": 0.5
             },
             "pattern": {
              "fillmode": "overlay",
              "size": 10,
              "solidity": 0.2
             }
            },
            "type": "barpolar"
           }
          ],
          "carpet": [
           {
            "aaxis": {
             "endlinecolor": "#2a3f5f",
             "gridcolor": "white",
             "linecolor": "white",
             "minorgridcolor": "white",
             "startlinecolor": "#2a3f5f"
            },
            "baxis": {
             "endlinecolor": "#2a3f5f",
             "gridcolor": "white",
             "linecolor": "white",
             "minorgridcolor": "white",
             "startlinecolor": "#2a3f5f"
            },
            "type": "carpet"
           }
          ],
          "choropleth": [
           {
            "colorbar": {
             "outlinewidth": 0,
             "ticks": ""
            },
            "type": "choropleth"
           }
          ],
          "contour": [
           {
            "colorbar": {
             "outlinewidth": 0,
             "ticks": ""
            },
            "colorscale": [
             [
              0,
              "#0d0887"
             ],
             [
              0.1111111111111111,
              "#46039f"
             ],
             [
              0.2222222222222222,
              "#7201a8"
             ],
             [
              0.3333333333333333,
              "#9c179e"
             ],
             [
              0.4444444444444444,
              "#bd3786"
             ],
             [
              0.5555555555555556,
              "#d8576b"
             ],
             [
              0.6666666666666666,
              "#ed7953"
             ],
             [
              0.7777777777777778,
              "#fb9f3a"
             ],
             [
              0.8888888888888888,
              "#fdca26"
             ],
             [
              1,
              "#f0f921"
             ]
            ],
            "type": "contour"
           }
          ],
          "contourcarpet": [
           {
            "colorbar": {
             "outlinewidth": 0,
             "ticks": ""
            },
            "type": "contourcarpet"
           }
          ],
          "heatmap": [
           {
            "colorbar": {
             "outlinewidth": 0,
             "ticks": ""
            },
            "colorscale": [
             [
              0,
              "#0d0887"
             ],
             [
              0.1111111111111111,
              "#46039f"
             ],
             [
              0.2222222222222222,
              "#7201a8"
             ],
             [
              0.3333333333333333,
              "#9c179e"
             ],
             [
              0.4444444444444444,
              "#bd3786"
             ],
             [
              0.5555555555555556,
              "#d8576b"
             ],
             [
              0.6666666666666666,
              "#ed7953"
             ],
             [
              0.7777777777777778,
              "#fb9f3a"
             ],
             [
              0.8888888888888888,
              "#fdca26"
             ],
             [
              1,
              "#f0f921"
             ]
            ],
            "type": "heatmap"
           }
          ],
          "heatmapgl": [
           {
            "colorbar": {
             "outlinewidth": 0,
             "ticks": ""
            },
            "colorscale": [
             [
              0,
              "#0d0887"
             ],
             [
              0.1111111111111111,
              "#46039f"
             ],
             [
              0.2222222222222222,
              "#7201a8"
             ],
             [
              0.3333333333333333,
              "#9c179e"
             ],
             [
              0.4444444444444444,
              "#bd3786"
             ],
             [
              0.5555555555555556,
              "#d8576b"
             ],
             [
              0.6666666666666666,
              "#ed7953"
             ],
             [
              0.7777777777777778,
              "#fb9f3a"
             ],
             [
              0.8888888888888888,
              "#fdca26"
             ],
             [
              1,
              "#f0f921"
             ]
            ],
            "type": "heatmapgl"
           }
          ],
          "histogram": [
           {
            "marker": {
             "pattern": {
              "fillmode": "overlay",
              "size": 10,
              "solidity": 0.2
             }
            },
            "type": "histogram"
           }
          ],
          "histogram2d": [
           {
            "colorbar": {
             "outlinewidth": 0,
             "ticks": ""
            },
            "colorscale": [
             [
              0,
              "#0d0887"
             ],
             [
              0.1111111111111111,
              "#46039f"
             ],
             [
              0.2222222222222222,
              "#7201a8"
             ],
             [
              0.3333333333333333,
              "#9c179e"
             ],
             [
              0.4444444444444444,
              "#bd3786"
             ],
             [
              0.5555555555555556,
              "#d8576b"
             ],
             [
              0.6666666666666666,
              "#ed7953"
             ],
             [
              0.7777777777777778,
              "#fb9f3a"
             ],
             [
              0.8888888888888888,
              "#fdca26"
             ],
             [
              1,
              "#f0f921"
             ]
            ],
            "type": "histogram2d"
           }
          ],
          "histogram2dcontour": [
           {
            "colorbar": {
             "outlinewidth": 0,
             "ticks": ""
            },
            "colorscale": [
             [
              0,
              "#0d0887"
             ],
             [
              0.1111111111111111,
              "#46039f"
             ],
             [
              0.2222222222222222,
              "#7201a8"
             ],
             [
              0.3333333333333333,
              "#9c179e"
             ],
             [
              0.4444444444444444,
              "#bd3786"
             ],
             [
              0.5555555555555556,
              "#d8576b"
             ],
             [
              0.6666666666666666,
              "#ed7953"
             ],
             [
              0.7777777777777778,
              "#fb9f3a"
             ],
             [
              0.8888888888888888,
              "#fdca26"
             ],
             [
              1,
              "#f0f921"
             ]
            ],
            "type": "histogram2dcontour"
           }
          ],
          "mesh3d": [
           {
            "colorbar": {
             "outlinewidth": 0,
             "ticks": ""
            },
            "type": "mesh3d"
           }
          ],
          "parcoords": [
           {
            "line": {
             "colorbar": {
              "outlinewidth": 0,
              "ticks": ""
             }
            },
            "type": "parcoords"
           }
          ],
          "pie": [
           {
            "automargin": true,
            "type": "pie"
           }
          ],
          "scatter": [
           {
            "fillpattern": {
             "fillmode": "overlay",
             "size": 10,
             "solidity": 0.2
            },
            "type": "scatter"
           }
          ],
          "scatter3d": [
           {
            "line": {
             "colorbar": {
              "outlinewidth": 0,
              "ticks": ""
             }
            },
            "marker": {
             "colorbar": {
              "outlinewidth": 0,
              "ticks": ""
             }
            },
            "type": "scatter3d"
           }
          ],
          "scattercarpet": [
           {
            "marker": {
             "colorbar": {
              "outlinewidth": 0,
              "ticks": ""
             }
            },
            "type": "scattercarpet"
           }
          ],
          "scattergeo": [
           {
            "marker": {
             "colorbar": {
              "outlinewidth": 0,
              "ticks": ""
             }
            },
            "type": "scattergeo"
           }
          ],
          "scattergl": [
           {
            "marker": {
             "colorbar": {
              "outlinewidth": 0,
              "ticks": ""
             }
            },
            "type": "scattergl"
           }
          ],
          "scattermapbox": [
           {
            "marker": {
             "colorbar": {
              "outlinewidth": 0,
              "ticks": ""
             }
            },
            "type": "scattermapbox"
           }
          ],
          "scatterpolar": [
           {
            "marker": {
             "colorbar": {
              "outlinewidth": 0,
              "ticks": ""
             }
            },
            "type": "scatterpolar"
           }
          ],
          "scatterpolargl": [
           {
            "marker": {
             "colorbar": {
              "outlinewidth": 0,
              "ticks": ""
             }
            },
            "type": "scatterpolargl"
           }
          ],
          "scatterternary": [
           {
            "marker": {
             "colorbar": {
              "outlinewidth": 0,
              "ticks": ""
             }
            },
            "type": "scatterternary"
           }
          ],
          "surface": [
           {
            "colorbar": {
             "outlinewidth": 0,
             "ticks": ""
            },
            "colorscale": [
             [
              0,
              "#0d0887"
             ],
             [
              0.1111111111111111,
              "#46039f"
             ],
             [
              0.2222222222222222,
              "#7201a8"
             ],
             [
              0.3333333333333333,
              "#9c179e"
             ],
             [
              0.4444444444444444,
              "#bd3786"
             ],
             [
              0.5555555555555556,
              "#d8576b"
             ],
             [
              0.6666666666666666,
              "#ed7953"
             ],
             [
              0.7777777777777778,
              "#fb9f3a"
             ],
             [
              0.8888888888888888,
              "#fdca26"
             ],
             [
              1,
              "#f0f921"
             ]
            ],
            "type": "surface"
           }
          ],
          "table": [
           {
            "cells": {
             "fill": {
              "color": "#EBF0F8"
             },
             "line": {
              "color": "white"
             }
            },
            "header": {
             "fill": {
              "color": "#C8D4E3"
             },
             "line": {
              "color": "white"
             }
            },
            "type": "table"
           }
          ]
         },
         "layout": {
          "annotationdefaults": {
           "arrowcolor": "#2a3f5f",
           "arrowhead": 0,
           "arrowwidth": 1
          },
          "autotypenumbers": "strict",
          "coloraxis": {
           "colorbar": {
            "outlinewidth": 0,
            "ticks": ""
           }
          },
          "colorscale": {
           "diverging": [
            [
             0,
             "#8e0152"
            ],
            [
             0.1,
             "#c51b7d"
            ],
            [
             0.2,
             "#de77ae"
            ],
            [
             0.3,
             "#f1b6da"
            ],
            [
             0.4,
             "#fde0ef"
            ],
            [
             0.5,
             "#f7f7f7"
            ],
            [
             0.6,
             "#e6f5d0"
            ],
            [
             0.7,
             "#b8e186"
            ],
            [
             0.8,
             "#7fbc41"
            ],
            [
             0.9,
             "#4d9221"
            ],
            [
             1,
             "#276419"
            ]
           ],
           "sequential": [
            [
             0,
             "#0d0887"
            ],
            [
             0.1111111111111111,
             "#46039f"
            ],
            [
             0.2222222222222222,
             "#7201a8"
            ],
            [
             0.3333333333333333,
             "#9c179e"
            ],
            [
             0.4444444444444444,
             "#bd3786"
            ],
            [
             0.5555555555555556,
             "#d8576b"
            ],
            [
             0.6666666666666666,
             "#ed7953"
            ],
            [
             0.7777777777777778,
             "#fb9f3a"
            ],
            [
             0.8888888888888888,
             "#fdca26"
            ],
            [
             1,
             "#f0f921"
            ]
           ],
           "sequentialminus": [
            [
             0,
             "#0d0887"
            ],
            [
             0.1111111111111111,
             "#46039f"
            ],
            [
             0.2222222222222222,
             "#7201a8"
            ],
            [
             0.3333333333333333,
             "#9c179e"
            ],
            [
             0.4444444444444444,
             "#bd3786"
            ],
            [
             0.5555555555555556,
             "#d8576b"
            ],
            [
             0.6666666666666666,
             "#ed7953"
            ],
            [
             0.7777777777777778,
             "#fb9f3a"
            ],
            [
             0.8888888888888888,
             "#fdca26"
            ],
            [
             1,
             "#f0f921"
            ]
           ]
          },
          "colorway": [
           "#636efa",
           "#EF553B",
           "#00cc96",
           "#ab63fa",
           "#FFA15A",
           "#19d3f3",
           "#FF6692",
           "#B6E880",
           "#FF97FF",
           "#FECB52"
          ],
          "font": {
           "color": "#2a3f5f"
          },
          "geo": {
           "bgcolor": "white",
           "lakecolor": "white",
           "landcolor": "#E5ECF6",
           "showlakes": true,
           "showland": true,
           "subunitcolor": "white"
          },
          "hoverlabel": {
           "align": "left"
          },
          "hovermode": "closest",
          "mapbox": {
           "style": "light"
          },
          "paper_bgcolor": "white",
          "plot_bgcolor": "#E5ECF6",
          "polar": {
           "angularaxis": {
            "gridcolor": "white",
            "linecolor": "white",
            "ticks": ""
           },
           "bgcolor": "#E5ECF6",
           "radialaxis": {
            "gridcolor": "white",
            "linecolor": "white",
            "ticks": ""
           }
          },
          "scene": {
           "xaxis": {
            "backgroundcolor": "#E5ECF6",
            "gridcolor": "white",
            "gridwidth": 2,
            "linecolor": "white",
            "showbackground": true,
            "ticks": "",
            "zerolinecolor": "white"
           },
           "yaxis": {
            "backgroundcolor": "#E5ECF6",
            "gridcolor": "white",
            "gridwidth": 2,
            "linecolor": "white",
            "showbackground": true,
            "ticks": "",
            "zerolinecolor": "white"
           },
           "zaxis": {
            "backgroundcolor": "#E5ECF6",
            "gridcolor": "white",
            "gridwidth": 2,
            "linecolor": "white",
            "showbackground": true,
            "ticks": "",
            "zerolinecolor": "white"
           }
          },
          "shapedefaults": {
           "line": {
            "color": "#2a3f5f"
           }
          },
          "ternary": {
           "aaxis": {
            "gridcolor": "white",
            "linecolor": "white",
            "ticks": ""
           },
           "baxis": {
            "gridcolor": "white",
            "linecolor": "white",
            "ticks": ""
           },
           "bgcolor": "#E5ECF6",
           "caxis": {
            "gridcolor": "white",
            "linecolor": "white",
            "ticks": ""
           }
          },
          "title": {
           "x": 0.05
          },
          "xaxis": {
           "automargin": true,
           "gridcolor": "white",
           "linecolor": "white",
           "ticks": "",
           "title": {
            "standoff": 15
           },
           "zerolinecolor": "white",
           "zerolinewidth": 2
          },
          "yaxis": {
           "automargin": true,
           "gridcolor": "white",
           "linecolor": "white",
           "ticks": "",
           "title": {
            "standoff": 15
           },
           "zerolinecolor": "white",
           "zerolinewidth": 2
          }
         }
        },
        "title": {
         "text": "Parallel Coordinate Plot"
        }
       }
      }
     },
     "metadata": {},
     "output_type": "display_data"
    }
   ],
   "source": [
    "from optuna.visualization import plot_parallel_coordinate, plot_param_importances, plot_contour, plot_optimization_history\n",
    "\n",
    "plot_param_importances(study)\n",
    "plot_optimization_history(study)\n",
    "plot_parallel_coordinate(study)"
   ]
  },
  {
   "cell_type": "markdown",
   "metadata": {},
   "source": [
    "Protein Degradation Prediction Function"
   ]
  },
  {
   "cell_type": "code",
   "execution_count": 25,
   "metadata": {},
   "outputs": [],
   "source": [
    "def predictProteinDegradation(smiles, cellType='HeLa', target='ER', e3Ligase='IAP'):\n",
    "    m = Chem.MolFromSmiles(smiles)\n",
    "    fingerprint = AllChem.GetMorganFingerprintAsBitVect(m, 2, nBits=prm['FP_BITS'])\n",
    "    fp_array = np.zeros((0,), dtype=np.int8)\n",
    "    DataStructs.ConvertToNumpyArray(fingerprint, fp_array)\n",
    "    input = list(0 for i in range(88)) + list(fp_array) + list(0 for i in range(161))\n",
    "\n",
    "    #need to add a 1 for target and a 1 for cell type\n",
    "    tgt_ind = features.index(\"tgt_\"+target)\n",
    "    ct_ind = features.index(\"ct_\"+cellType)\n",
    "    e3_ind = features.index(\"e3_\"+e3Ligase)\n",
    "    input[tgt_ind] = 1\n",
    "    input[ct_ind] = 1\n",
    "    input[e3_ind] = 1\n",
    "\n",
    "    output = model.predict([input])\n",
    "    return output[0].argmax()"
   ]
  },
  {
   "cell_type": "markdown",
   "metadata": {},
   "source": [
    "Save Model"
   ]
  },
  {
   "cell_type": "code",
   "execution_count": 26,
   "metadata": {},
   "outputs": [],
   "source": [
    "Pkl_Filename = f\"output_no_moses/Protac_Scoring_Model_{prm['FP_BITS']}.pkl\"  \n",
    "\n",
    "with open(Pkl_Filename, 'wb') as file:  \n",
    "    pickle.dump(model, file)"
   ]
  },
  {
   "cell_type": "code",
   "execution_count": 27,
   "metadata": {},
   "outputs": [],
   "source": [
    "Feature_Filename = f\"output_no_moses/features_{prm['FP_BITS']}.pkl\"  \n",
    "features = model_df.columns.tolist()[:-1]\n",
    "\n",
    "with open(Feature_Filename, 'wb') as file:  \n",
    "    pickle.dump(features, file)"
   ]
  },
  {
   "cell_type": "code",
   "execution_count": null,
   "metadata": {},
   "outputs": [],
   "source": []
  }
 ],
 "metadata": {
  "interpreter": {
   "hash": "ca09fa392acf7f4c9c27d29d2d1f288bcf246ad350262c369089ab5d60981f3e"
  },
  "kernelspec": {
   "display_name": "Python 3",
   "language": "python",
   "name": "python3"
  },
  "language_info": {
   "codemirror_mode": {
    "name": "ipython",
    "version": 3
   },
   "file_extension": ".py",
   "mimetype": "text/x-python",
   "name": "python",
   "nbconvert_exporter": "python",
   "pygments_lexer": "ipython3",
   "version": "3.9.12"
  }
 },
 "nbformat": 4,
 "nbformat_minor": 2
}
