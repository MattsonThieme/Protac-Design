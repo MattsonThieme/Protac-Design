{
 "cells": [
  {
   "cell_type": "markdown",
   "metadata": {},
   "source": [
    "PROTAC Activity Surrogate Model"
   ]
  },
  {
   "cell_type": "code",
   "execution_count": 117,
   "metadata": {},
   "outputs": [],
   "source": [
    "from IPython.core.interactiveshell import InteractiveShell\n",
    "InteractiveShell.ast_node_interactivity = \"all\""
   ]
  },
  {
   "cell_type": "code",
   "execution_count": 118,
   "metadata": {},
   "outputs": [
    {
     "data": {
      "text/plain": [
       "'3.2.1'"
      ]
     },
     "execution_count": 118,
     "metadata": {},
     "output_type": "execute_result"
    },
    {
     "name": "stdout",
     "output_type": "stream",
     "text": [
      "numpy 1.21.2\n",
      "pandas 1.4.1\n"
     ]
    }
   ],
   "source": [
    "from IPython.display import display_html\n",
    "\n",
    "import numpy as np\n",
    "import pandas as pd\n",
    "pd.set_option(\"display.max_columns\",100, \"display.width\",200, \"display.max_colwidth\",40)\n",
    "import pickle\n",
    "from rdkit import Chem\n",
    "from rdkit.Chem import AllChem, DataStructs\n",
    "import re\n",
    "from datetime import date\n",
    "pd.set_option(\"display.max_columns\",100, \"display.width\",2000, \"display.max_colwidth\",100)\n",
    "from sklearn.feature_extraction.text import CountVectorizer\n",
    "from sklearn.model_selection import train_test_split\n",
    "import sklearn.metrics\n",
    "import optuna\n",
    "optuna.logging.set_verbosity(optuna.logging.WARN) #INFO, WARN\n",
    "import lightgbm as lgb; lgb.__version__\n",
    "import pickle\n",
    "import requests as r\n",
    "from scipy.sparse import csr_matrix, vstack\n",
    "from sklearn.metrics import classification_report, confusion_matrix, f1_score, roc_auc_score\n",
    "from sklearn.utils import class_weight\n",
    "import collections\n",
    "from binary_label_metrics import BinaryLabelMetrics\n",
    "import matplotlib.pyplot as plt\n",
    "\n",
    "for x in [(\"numpy\",\"np\"),(\"pandas\",\"pd\")]:\n",
    "  print(f\"{x[0]} {eval(f'{x[1]}.__version__')}\")"
   ]
  },
  {
   "cell_type": "code",
   "execution_count": 119,
   "metadata": {},
   "outputs": [
    {
     "name": "stdout",
     "output_type": "stream",
     "text": [
      "Parameters\n",
      "NTRIALS: 20\n",
      " NBOOST: 50\n",
      " NCLASS: 2\n",
      "FP_BITS: 1024\n"
     ]
    }
   ],
   "source": [
    "prm = dict(\n",
    "  #number of Optuna trials\n",
    "  NTRIALS = 20,\n",
    "  \n",
    "  #number of boosted trees to be created\n",
    "  NBOOST = 50,\n",
    "\n",
    "  #number of classes in response variable\n",
    "  NCLASS = 2,\n",
    "\n",
    "  #morgan fingerpring bit length\n",
    "  FP_BITS = 1024\n",
    ")\n",
    "\n",
    "offs = max(map(len,prm.keys()))\n",
    "print(\"Parameters\")\n",
    "for k,v in prm.items():\n",
    "  print(f\"{k:>{offs}}: {v}\")\n",
    "\n",
    "del k, v, offs"
   ]
  },
  {
   "cell_type": "markdown",
   "metadata": {},
   "source": [
    "Reading Data"
   ]
  },
  {
   "cell_type": "code",
   "execution_count": 120,
   "metadata": {},
   "outputs": [
    {
     "name": "stdout",
     "output_type": "stream",
     "text": [
      "input_df: 5,388 x 83 (input df) \n",
      "\n",
      "Counts of distinct values in columns\n",
      "col:Target  (#unique:323)\n",
      "         0     1    2     3    4     5    6        7     8     9       10    11    12     13                14    15    16         17    18    19\n",
      "Target   AR  BRD4   ER  CDK4  BTK  CDK6  ALK  BCR-ABL  BRD2  BRD3  BCL-xL  CDK9  MDM2  HDAC6  EGFR L858R/T790M  MEK1  CDK2  EGFR e19d  AKT3  AKT2\n",
      "size    248   222  183   147  146   143  120      118   106    98      96    92    89     78                76    76    74         65    64    64 \n",
      "\n",
      "col:E3ligase  (#unique:13)\n",
      "            0     1      2     3     4    5    6      7       8       9       10      11    12\n",
      "E3ligase  CRBN   VHL  cIAP1  MDM2  XIAP  IAP  AhR  FEM1B  DCAF15  DCAF16  RNF114  DCAF11  RNF4\n",
      "size      3530  1578     95    56    49   46    9      9       4       4       4       3     1 \n",
      "\n"
     ]
    }
   ],
   "source": [
    "input_df = pd.read_csv(\"data/protac/data.csv\").reset_index(drop=True)\n",
    "input_df = input_df.rename(columns={\"E3 ligase\":\"E3ligase\"})\n",
    "print(\"input_df: {:,} x {:,}\".format(*input_df.shape), \"(input df) \\n\")\n",
    "\n",
    "print(\"Counts of distinct values in columns\")\n",
    "for x in [\"Target\",\"E3ligase\"]:\n",
    "  tmp = input_df.groupby(x, as_index=False).size().sort_values(\"size\", ascending=False, ignore_index=True)\n",
    "  print(f\"col:{x}  (#unique:{tmp.shape[0]:,})\")\n",
    "  print(tmp.head(20).T, \"\\n\")"
   ]
  },
  {
   "cell_type": "markdown",
   "metadata": {},
   "source": [
    "Creating E3 Ligase Classes"
   ]
  },
  {
   "cell_type": "code",
   "execution_count": 121,
   "metadata": {},
   "outputs": [
    {
     "name": "stdout",
     "output_type": "stream",
     "text": [
      "col:E3ligase  (#unique:8)\n",
      "             0     1    2     3     4    5      6    7\n",
      "E3ligase  CRBN   VHL  IAP  MDM2  DCAF  AhR  FEM1B  RNF\n",
      "size      3530  1578  190    56    11    9      9    5 \n",
      "\n"
     ]
    }
   ],
   "source": [
    "for i in range(len(input_df[\"E3ligase\"])):\n",
    "    if 'IAP' in str(input_df.loc[i].at[\"E3ligase\"]):\n",
    "        input_df.at[i,'E3ligase']='IAP'\n",
    "    elif 'DCAF' in str(input_df.loc[i].at[\"E3ligase\"]):\n",
    "        input_df.at[i,'E3ligase']='DCAF'\n",
    "    elif 'RNF' in str(input_df.loc[i].at[\"E3ligase\"]):\n",
    "        input_df.at[i,'E3ligase']='RNF'\n",
    "\n",
    "tmp = input_df.groupby('E3ligase', as_index=False).size().sort_values(\"size\", ascending=False, ignore_index=True)\n",
    "print(f\"col:{'E3ligase'}  (#unique:{tmp.shape[0]:,})\")\n",
    "print(tmp.head(20).T, \"\\n\")\n",
    "del tmp"
   ]
  },
  {
   "cell_type": "markdown",
   "metadata": {},
   "source": [
    "Dropping Rows with no DC50"
   ]
  },
  {
   "cell_type": "code",
   "execution_count": 122,
   "metadata": {},
   "outputs": [
    {
     "name": "stdout",
     "output_type": "stream",
     "text": [
      "Number of Rows with explicit DC50: 905\n",
      "input_df: 833 x 83 (input df) \n",
      "\n"
     ]
    }
   ],
   "source": [
    "print('Number of Rows with explicit DC50: ' + str((input_df.shape[0] - input_df['DC50 (nM)'].isna().sum())))\n",
    "input_df = input_df.dropna(subset=['DC50 (nM)'])\n",
    "input_df = input_df.dropna(subset=['Uniprot'])\n",
    "print(\"input_df: {:,} x {:,}\".format(*input_df.shape), \"(input df) \\n\")"
   ]
  },
  {
   "cell_type": "markdown",
   "metadata": {},
   "source": [
    "Preparing Features"
   ]
  },
  {
   "cell_type": "markdown",
   "metadata": {},
   "source": [
    "E3 Ligase"
   ]
  },
  {
   "cell_type": "code",
   "execution_count": 123,
   "metadata": {},
   "outputs": [
    {
     "name": "stdout",
     "output_type": "stream",
     "text": [
      "model_df: 833 x 6 (E3ligase OHE features)\n"
     ]
    }
   ],
   "source": [
    "model_df = pd.concat([\n",
    "    pd.get_dummies(input_df[\"E3ligase\"], prefix=\"e3\"),\n",
    "    input_df[\"Smiles\"]\n",
    "  ], axis=1).reset_index(drop=True)\n",
    "\n",
    "print(\"model_df: {:,} x {:,}\".format(*model_df.shape), \"(E3ligase OHE features)\")"
   ]
  },
  {
   "cell_type": "markdown",
   "metadata": {},
   "source": [
    "Receptor Sequence"
   ]
  },
  {
   "cell_type": "code",
   "execution_count": 124,
   "metadata": {},
   "outputs": [],
   "source": [
    "cID= list(set(input_df['Uniprot'].tolist()))\n",
    "seqs = {}\n",
    "\n",
    "for c in cID:\n",
    "    try:\n",
    "        baseUrl=\"http://www.uniprot.org/uniprot/\"\n",
    "        currentUrl=baseUrl+c+\".fasta\"\n",
    "        response = r.post(currentUrl)\n",
    "        cData=''.join(response.text)\n",
    "        i = cData.index('\\n')+1\n",
    "        seq = cData[i:].strip()\n",
    "        seqs[c] = seq\n",
    "    except:pass"
   ]
  },
  {
   "cell_type": "code",
   "execution_count": 125,
   "metadata": {},
   "outputs": [
    {
     "name": "stdout",
     "output_type": "stream",
     "text": [
      "model_df: 833 x 7 (rec seq feature)\n"
     ]
    }
   ],
   "source": [
    "input_df[\"rec_seq\"] = input_df.apply(lambda row: seqs[row[\"Uniprot\"]], axis=1)\n",
    "model_df = model_df.assign(rec_seq = input_df[\"rec_seq\"].tolist())\n",
    "print(\"model_df: {:,} x {:,}\".format(*model_df.shape), \"(rec seq feature)\")"
   ]
  },
  {
   "cell_type": "markdown",
   "metadata": {},
   "source": [
    "Molecular Fingerprint"
   ]
  },
  {
   "cell_type": "code",
   "execution_count": 126,
   "metadata": {},
   "outputs": [
    {
     "name": "stdout",
     "output_type": "stream",
     "text": [
      "model_df: 833 x 7\n",
      "fp_df: 833 x 1,024\n",
      "model_df: 833 x 1,031 (added fingerprint features)\n"
     ]
    }
   ],
   "source": [
    "def get_morgan_fp(smiles:str, nbits:int=prm[\"FP_BITS\"]):\n",
    "  m = Chem.MolFromSmiles(smiles)\n",
    "  fingerprint = AllChem.GetMorganFingerprintAsBitVect(m, 2, nBits=nbits)\n",
    "  array = np.zeros((0,), dtype=np.int8)\n",
    "  DataStructs.ConvertToNumpyArray(fingerprint, array)\n",
    "  return array\n",
    "\n",
    "fingerprints = [get_morgan_fp(x).tolist() for x in input_df[\"Smiles\"]]\n",
    "fp_df = pd.DataFrame(fingerprints, columns=[\"sm\"+str(n) for n in range(1,prm[\"FP_BITS\"]+1)])\n",
    "print(\"model_df: {:,} x {:,}\".format(*model_df.shape))\n",
    "\n",
    "#assert model_df.columns == smiles_df.columns\n",
    "\n",
    "model_df = pd.concat([model_df,fp_df],axis=1)\n",
    "print(\"fp_df: {:,} x {:,}\".format(*fp_df.shape))\n",
    "print(\"model_df: {:,} x {:,}\".format(*model_df.shape), \"(added fingerprint features)\")"
   ]
  },
  {
   "cell_type": "markdown",
   "metadata": {},
   "source": [
    "Cell Type"
   ]
  },
  {
   "cell_type": "code",
   "execution_count": 127,
   "metadata": {},
   "outputs": [
    {
     "name": "stdout",
     "output_type": "stream",
     "text": [
      "Most Common Cell Type: SRD15\n"
     ]
    },
    {
     "data": {
      "text/plain": [
       "148"
      ]
     },
     "execution_count": 127,
     "metadata": {},
     "output_type": "execute_result"
    },
    {
     "name": "stdout",
     "output_type": "stream",
     "text": [
      "model_df: 833 x 1,032\n",
      "ct_df: 833 x 148\n",
      "model_df: 833 x 1,180 (added cell type OHE features)\n"
     ]
    }
   ],
   "source": [
    "celltypes = []\n",
    "for i in range(input_df.shape[0]):\n",
    "    row = str(input_df.iloc[i].to_list())\n",
    "    cell = re.findall('[\\w\\.;/-]+ cells', row)\n",
    "    if len(cell)==0:\n",
    "        celltypes.append('Unknown')\n",
    "    else:\n",
    "        celltypes.append(cell[0][:-6])\n",
    "\n",
    "def most_frequent(List):\n",
    "    return max(set(List), key = List.count)\n",
    "\n",
    "print(\"Most Common Cell Type: \" + most_frequent(celltypes))\n",
    "\n",
    "len(set(celltypes))\n",
    "model_df['ct'] = celltypes\n",
    "ct_df = pd.get_dummies(model_df['ct'], prefix='ct')\n",
    "print(\"model_df: {:,} x {:,}\".format(*model_df.shape))\n",
    "model_df = pd.concat([model_df,ct_df],axis=1)\n",
    "print(\"ct_df: {:,} x {:,}\".format(*ct_df.shape))\n",
    "print(\"model_df: {:,} x {:,}\".format(*model_df.shape), \"(added cell type OHE features)\")"
   ]
  },
  {
   "cell_type": "markdown",
   "metadata": {},
   "source": [
    "Response Variable (DC50)"
   ]
  },
  {
   "cell_type": "code",
   "execution_count": 128,
   "metadata": {},
   "outputs": [
    {
     "name": "stderr",
     "output_type": "stream",
     "text": [
      "/var/folders/vs/8ts0hp5d0wzf8zdrzyqly4840000gn/T/ipykernel_71585/1778872113.py:4: FutureWarning: The default value of regex will change from True to False in a future version.\n",
      "  model_df['resp'] = model_df[\"resp\"].str.replace(\"[<=>]\",\"\")\n",
      "/var/folders/vs/8ts0hp5d0wzf8zdrzyqly4840000gn/T/ipykernel_71585/1778872113.py:5: FutureWarning: The default value of regex will change from True to False in a future version.\n",
      "  model_df['resp'] = model_df[\"resp\"].str.replace(\"\\(n/a\\)\",\"0\")\n",
      "/var/folders/vs/8ts0hp5d0wzf8zdrzyqly4840000gn/T/ipykernel_71585/1778872113.py:6: FutureWarning: The default value of regex will change from True to False in a future version.\n",
      "  model_df['resp'] = model_df[\"resp\"].str.replace('[\\d]+[-~]',\"\")\n"
     ]
    }
   ],
   "source": [
    "#add and process DC50 column\n",
    "\n",
    "model_df['resp'] = list(input_df['DC50 (nM)'])\n",
    "model_df['resp'] = model_df[\"resp\"].str.replace(\"[<=>]\",\"\")\n",
    "model_df['resp'] = model_df[\"resp\"].str.replace(\"\\(n/a\\)\",\"0\")\n",
    "model_df['resp'] = model_df[\"resp\"].str.replace('[\\d]+[-~]',\"\")\n",
    "model_df = model_df.loc[~model_df['resp'].str.contains('[a-zA-Z]')]"
   ]
  },
  {
   "cell_type": "markdown",
   "metadata": {},
   "source": [
    "Split DC50 by Cell Type"
   ]
  },
  {
   "cell_type": "code",
   "execution_count": 129,
   "metadata": {},
   "outputs": [],
   "source": [
    "out_nochange = []\n",
    "out_v1 = []\n",
    "out_v2 = []\n",
    "for row in model_df.to_dict(orient=\"records\"):\n",
    "  #no slashes\n",
    "  if \"/\" not in row[\"resp\"]:\n",
    "    out_nochange.append(row)\n",
    "    continue\n",
    "  \n",
    "  #slashes in resp matched by a column with ct which has same number of slashes\n",
    "  lst = [k for k,v in row.items() if k.startswith(\"ct\") and \"/\" in k and v==1]\n",
    "  assert len(lst) in [0,1]\n",
    "  if len(lst) == 1:\n",
    "    #test.append((lst[0],row[\"resp\"]))\n",
    "    cols = lst[0].split(\"/\")\n",
    "    vals = row[\"resp\"].split(\"/\")\n",
    "    # assert len(cols)==len(vals)\n",
    "    # assert len(cols) in [2,3]\n",
    "    \n",
    "    #adding 2 or 3 rows\n",
    "    for c,v in zip(cols,vals):\n",
    "      dct = row.copy()\n",
    "      k = c if c.startswith(\"ct_\") else \"ct_\"+c\n",
    "      dct[k] = 1\n",
    "      dct[\"resp\"] = v\n",
    "      del dct[lst[0]]\n",
    "      out_v1.append(dct)\n",
    "  else:\n",
    "    vals = row[\"resp\"].split(\"/\")\n",
    "    dct = row.copy()\n",
    "    dct[\"resp\"] = vals[0]\n",
    "    out_v2.append(dct)\n",
    "    \n",
    "model_df = pd.DataFrame(out_nochange+out_v1+out_v2)\n",
    "model_df = model_df.fillna(0)\n",
    "model_df['resp'] = pd.to_numeric(model_df['resp'])\n",
    "model_df = model_df.drop(['ct'],axis=1)"
   ]
  },
  {
   "cell_type": "markdown",
   "metadata": {},
   "source": [
    "DC50 Distribution"
   ]
  },
  {
   "cell_type": "code",
   "execution_count": 130,
   "metadata": {},
   "outputs": [
    {
     "data": {
      "text/plain": [
       "(array([306.,  69.,  59.,  53.,  53.,  17.,  13.,  23.,  11., 384.]),\n",
       " array([1.0000e-02, 1.0109e+01, 2.0208e+01, 3.0307e+01, 4.0406e+01,\n",
       "        5.0505e+01, 6.0604e+01, 7.0703e+01, 8.0802e+01, 9.0901e+01,\n",
       "        1.0100e+02]),\n",
       " <BarContainer object of 10 artists>)"
      ]
     },
     "execution_count": 130,
     "metadata": {},
     "output_type": "execute_result"
    },
    {
     "data": {
      "text/plain": [
       "Text(0, 0.5, 'Count')"
      ]
     },
     "execution_count": 130,
     "metadata": {},
     "output_type": "execute_result"
    },
    {
     "data": {
      "text/plain": [
       "Text(0.5, 0, 'DC50 (nM)')"
      ]
     },
     "execution_count": 130,
     "metadata": {},
     "output_type": "execute_result"
    },
    {
     "data": {
      "image/png": "[encoded data removed]",
      "text/plain": [
       "<Figure size 432x288 with 1 Axes>"
      ]
     },
     "metadata": {
      "needs_background": "light"
     },
     "output_type": "display_data"
    }
   ],
   "source": [
    "#dropping rows with outlier DC50 values\n",
    "model_df.drop(model_df.index[model_df['resp'] <= 0], inplace=True)\n",
    "model_df.loc[model_df.resp>100, 'resp'] = 101\n",
    "\n",
    "plt.hist(model_df['resp'].astype(float), color = '#00A4CCFF')\n",
    "plt.grid()\n",
    "plt.ylabel('Count')\n",
    "plt.xlabel('DC50 (nM)')"
   ]
  },
  {
   "cell_type": "code",
   "execution_count": 131,
   "metadata": {},
   "outputs": [
    {
     "name": "stdout",
     "output_type": "stream",
     "text": [
      "model_df: 987 x 1,240\n"
     ]
    }
   ],
   "source": [
    "model_df.loc[model_df.resp<=100.0, 'resp_categorical'] = '1'\n",
    "model_df['resp_categorical'] = model_df['resp_categorical'].fillna('0')\n",
    "model_df.drop(model_df.tail(1).index,inplace=True) # drop last row of nans\n",
    "print(\"model_df: {:,} x {:,}\".format(*model_df.shape))"
   ]
  },
  {
   "cell_type": "markdown",
   "metadata": {},
   "source": [
    "Receptor Seq to Ngrams"
   ]
  },
  {
   "cell_type": "code",
   "execution_count": 132,
   "metadata": {},
   "outputs": [
    {
     "data": {
      "text/plain": [
       "array(['a a', 'a a a', 'a a c', ..., 'y y v', 'y y w', 'y y y'],\n",
       "      dtype=object)"
      ]
     },
     "execution_count": 132,
     "metadata": {},
     "output_type": "execute_result"
    },
    {
     "name": "stdout",
     "output_type": "stream",
     "text": [
      "model_df: 987 x 1,240\n",
      "rec_n_grams_df: 987 x 7,841\n",
      "model_df: 989 x 9,081 (added n-gram features)\n"
     ]
    }
   ],
   "source": [
    "model_df['rec_seq'] = model_df['rec_seq'].apply(lambda x: \" \".join(x))\n",
    "vectorizer = CountVectorizer(token_pattern=r'(?u)\\b\\w+\\b',ngram_range=(2,3))\n",
    "X = vectorizer.fit_transform(model_df['rec_seq'].tolist())\n",
    "vectorizer.get_feature_names_out()\n",
    "\n",
    "rec_n_grams_df = pd.DataFrame(X.toarray(),columns=list(s.replace(\" \", \"\") for s in vectorizer.get_feature_names_out()))\n",
    "print(\"model_df: {:,} x {:,}\".format(*model_df.shape))\n",
    "model_df = pd.concat([model_df,rec_n_grams_df],axis=1)\n",
    "print(\"rec_n_grams_df: {:,} x {:,}\".format(*rec_n_grams_df.shape))\n",
    "print(\"model_df: {:,} x {:,}\".format(*model_df.shape), \"(added n-gram features)\")"
   ]
  },
  {
   "cell_type": "code",
   "execution_count": 133,
   "metadata": {},
   "outputs": [],
   "source": [
    "model_df = model_df.drop([\"rec_seq\"],axis=1)\n",
    "model_df.drop(model_df.tail(4).index, inplace = True)\n",
    "resp_col = model_df.pop('resp_categorical')\n",
    "model_df['resp_categorical'] = resp_col #to add to end"
   ]
  },
  {
   "cell_type": "markdown",
   "metadata": {},
   "source": [
    "Model Matrices"
   ]
  },
  {
   "cell_type": "code",
   "execution_count": 134,
   "metadata": {},
   "outputs": [
    {
     "name": "stdout",
     "output_type": "stream",
     "text": [
      "955\n",
      "236\n",
      "484\n",
      "801\n",
      "724\n",
      "605\n",
      "355\n",
      "954\n",
      "560\n",
      "529\n",
      "223\n",
      "6\n",
      "683\n",
      "486\n",
      "682\n",
      "870\n",
      "389\n",
      "928\n",
      "783\n",
      "543\n",
      "584\n",
      "732\n",
      "238\n",
      "680\n",
      "827\n",
      "267\n",
      "233\n",
      "813\n",
      "502\n",
      "613\n",
      "194\n",
      "710\n",
      "527\n",
      "133\n",
      "950\n",
      "90\n",
      "649\n",
      "969\n",
      "888\n",
      "154\n",
      "119\n",
      "597\n",
      "41\n",
      "553\n",
      "464\n",
      "824\n",
      "34\n",
      "744\n",
      "35\n",
      "935\n",
      "335\n",
      "94\n",
      "120\n",
      "823\n",
      "370\n",
      "374\n",
      "957\n",
      "78\n",
      "915\n",
      "940\n",
      "931\n",
      "805\n",
      "559\n",
      "654\n",
      "722\n",
      "17\n",
      "201\n",
      "650\n",
      "951\n",
      "632\n",
      "774\n",
      "65\n",
      "186\n",
      "268\n",
      "429\n",
      "979\n",
      "800\n",
      "148\n",
      "216\n",
      "180\n",
      "504\n",
      "845\n",
      "101\n",
      "159\n",
      "340\n",
      "404\n",
      "104\n",
      "873\n",
      "799\n",
      "599\n",
      "867\n",
      "205\n",
      "679\n",
      "697\n",
      "175\n",
      "108\n",
      "13\n",
      "156\n",
      "306\n",
      "676\n",
      "368\n",
      "981\n",
      "516\n",
      "479\n",
      "142\n",
      "446\n",
      "241\n",
      "531\n",
      "59\n",
      "856\n",
      "567\n",
      "455\n",
      "318\n",
      "600\n",
      "364\n",
      "248\n",
      "307\n",
      "3\n",
      "189\n",
      "672\n",
      "320\n",
      "686\n",
      "439\n",
      "528\n",
      "819\n",
      "862\n",
      "480\n",
      "574\n",
      "788\n",
      "388\n",
      "2\n",
      "483\n",
      "331\n",
      "430\n",
      "403\n",
      "704\n",
      "647\n",
      "73\n",
      "117\n",
      "372\n",
      "893\n",
      "111\n",
      "664\n",
      "385\n",
      "810\n",
      "759\n",
      "571\n",
      "880\n",
      "550\n",
      "8\n",
      "345\n",
      "56\n",
      "745\n",
      "457\n",
      "244\n",
      "84\n",
      "415\n",
      "200\n",
      "125\n",
      "590\n",
      "875\n",
      "874\n",
      "781\n",
      "904\n",
      "786\n",
      "848\n",
      "961\n",
      "81\n",
      "541\n",
      "435\n",
      "228\n",
      "947\n",
      "806\n",
      "563\n",
      "274\n",
      "663\n",
      "50\n",
      "191\n",
      "555\n",
      "523\n",
      "482\n",
      "195\n",
      "258\n",
      "702\n",
      "578\n",
      "982\n",
      "978\n",
      "638\n",
      "899\n",
      "347\n",
      "422\n",
      "579\n",
      "851\n",
      "700\n",
      "250\n",
      "339\n",
      "255\n",
      "314\n",
      "47\n",
      "941\n",
      "934\n",
      "19\n",
      "832\n",
      "207\n",
      "906\n",
      "912\n",
      "262\n",
      "474\n",
      "812\n",
      "242\n",
      "349\n",
      "177\n",
      "643\n",
      "60\n",
      "691\n",
      "939\n",
      "719\n",
      "902\n",
      "749\n",
      "309\n",
      "735\n",
      "975\n",
      "882\n",
      "99\n",
      "762\n",
      "298\n",
      "896\n",
      "608\n",
      "756\n",
      "181\n",
      "12\n",
      "604\n",
      "85\n",
      "496\n",
      "640\n",
      "741\n",
      "925\n",
      "878\n",
      "551\n",
      "135\n",
      "582\n",
      "592\n",
      "160\n",
      "937\n",
      "311\n",
      "983\n",
      "853\n",
      "894\n",
      "487\n",
      "107\n",
      "202\n",
      "49\n",
      "701\n",
      "787\n",
      "881\n",
      "383\n",
      "121\n",
      "720\n",
      "187\n",
      "16\n",
      "623\n",
      "443\n",
      "964\n",
      "301\n",
      "459\n",
      "106\n",
      "814\n",
      "23\n",
      "820\n",
      "69\n",
      "629\n",
      "432\n",
      "304\n",
      "970\n",
      "634\n",
      "472\n",
      "525\n",
      "861\n",
      "74\n",
      "218\n",
      "517\n",
      "265\n",
      "625\n",
      "110\n",
      "821\n",
      "967\n",
      "537\n",
      "185\n",
      "286\n",
      "573\n",
      "354\n",
      "436\n",
      "408\n",
      "61\n",
      "395\n",
      "764\n"
     ]
    }
   ],
   "source": [
    "train,test = train_test_split(model_df, random_state=1, test_size=.3)\n",
    "#preventing data leakage\n",
    "train_smis = train['Smiles'].tolist()\n",
    "drop_indices = []\n",
    "rows = []\n",
    "for index, row in test.iterrows():\n",
    "    print(index)\n",
    "    if row['Smiles'] in train_smis:\n",
    "        drop_indices.append(index)\n",
    "test.drop(drop_indices, inplace=True)"
   ]
  },
  {
   "cell_type": "code",
   "execution_count": 135,
   "metadata": {},
   "outputs": [
    {
     "name": "stdout",
     "output_type": "stream",
     "text": [
      "nfeatures: 9,078\n",
      "x train before: 689 x 9,077 (x df) \n",
      "\n"
     ]
    }
   ],
   "source": [
    "features = train.columns.tolist()[1:-1]  #dropping \"resp_categorical, resp still there\"\n",
    "print(f\"nfeatures: {len(features):,}\")\n",
    "\n",
    "X_train = train.drop([\"resp_categorical\",\"resp\",\"Smiles\"], axis=1).values\n",
    "print(\"x train before: {:,} x {:,}\".format(*X_train.shape), \"(x df) \\n\")\n",
    "y_train = train[\"resp_categorical\"].values\n",
    "y_train = np.array([int(x) for x in y_train])\n",
    "\n",
    "X_test = test.drop([\"resp_categorical\",\"resp\",\"Smiles\"], axis=1).values\n",
    "y_test = test[\"resp_categorical\"].values\n",
    "y_test = np.array([int(x) for x in y_test])"
   ]
  },
  {
   "cell_type": "code",
   "execution_count": 136,
   "metadata": {},
   "outputs": [
    {
     "name": "stdout",
     "output_type": "stream",
     "text": [
      "[train] X: 689 x 9,077\n",
      "[test] X: 144 x 9,077\n"
     ]
    }
   ],
   "source": [
    "print(\"[train] X: {:,} x {:,}\".format(*X_train.shape,y_train.shape))\n",
    "print(\"[test] X: {:,} x {:,}\".format(*X_test.shape,y_train.shape))"
   ]
  },
  {
   "cell_type": "markdown",
   "metadata": {},
   "source": [
    "Hyperparameter Optimization"
   ]
  },
  {
   "cell_type": "code",
   "execution_count": 137,
   "metadata": {},
   "outputs": [
    {
     "name": "stdout",
     "output_type": "stream",
     "text": [
      "best trial (20): 0 (0.730) 1 (0.733) 5 (0.753) 10 (0.826) 14 (0.832) "
     ]
    }
   ],
   "source": [
    "class LightGBM:\n",
    "  \n",
    "  def __init__(self):\n",
    "    self.best_booster = None\n",
    "    self._booster = None\n",
    "    \n",
    "    self.X = X_train\n",
    "    self.y = y_train\n",
    "    self.nclass = 2\n",
    "    #self.wts = class_weight.compute_sample_weight(class_weight=\"balanced\", y=self.y)\n",
    "    self.prm_lgb = {      \n",
    "      \"objective\": \"multiclass\" if self.nclass>2 else \"binary\",\n",
    "      \"metric\": None, \n",
    "      \"verbosity\": -1,\n",
    "      #\"num_class\": self.nclass,\n",
    "      \"boosting_type\": \"gbdt\",\n",
    "      \"force_row_wise\": True,\n",
    "      \"min_gain_to_split\": .5,\n",
    "    }\n",
    "  \n",
    "  def __call__(self, trial):    \n",
    "    dtrain = lgb.Dataset(self.X, self.y)\n",
    "    prm_lgb = {\n",
    "      **self.prm_lgb\n",
    "      , **{\n",
    "        \"learning_rate\": trial.suggest_loguniform(\"learning_rate\", .01, .3),\n",
    "        \"lambda_l1\": trial.suggest_loguniform(\"lambda_l1\", 1E-3, 1.),\n",
    "        \"lambda_l2\": trial.suggest_loguniform(\"lambda_l2\", .5, 3.),\n",
    "        \"num_leaves\": trial.suggest_int(\"num_leaves\", 8, 32),\n",
    "        \"min_data_in_leaf\": trial.suggest_int(\"min_data_in_leaf\", 50, 100),\n",
    "        \"feature_fraction\": trial.suggest_uniform(\"feature_fraction\", .3, .6),\n",
    "        \"bagging_fraction\": trial.suggest_uniform(\"bagging_fraction\", .4, 1.),\n",
    "        \"bagging_freq\": trial.suggest_int(\"bagging_freq\", 2, 6),\n",
    "        \"boosting_type\":trial.suggest_categorical(\"boosting_type\",[\"gbdt\",\"rf\"])\n",
    "      }\n",
    "    }\n",
    "    \n",
    "    if self.nclass>2:\n",
    "      def f1_eval(preds,dataset):\n",
    "        f_score = f1_score(dataset.get_label(),preds.reshape(-1,self.nclass).argmax(axis=1),average=\"micro\")\n",
    "        return \"f1_score\",f_score,True\n",
    "    else:\n",
    "      def f1_eval(preds,dataset):\n",
    "        pred1 = np.zeros(dataset.get_label().shape[0],dtype=int); pred1[-dataset.get_label().sum().astype(int):] = 1\n",
    "        f_score = f1_score(dataset.get_label()[preds.argsort()],pred1,average=\"micro\")\n",
    "        return \"f1_score\",f_score,True\n",
    "    \n",
    "    early_stop = lgb.early_stopping(20, first_metric_only=False, verbose=False)\n",
    "    eval_hist = lgb.cv(prm_lgb, dtrain, nfold=5, seed=12345, num_boost_round=prm[\"NBOOST\"],\n",
    "                           feval=f1_eval, callbacks=[early_stop])\n",
    "    \n",
    "    return eval_hist[\"f1_score-mean\"][-1]\n",
    "  \n",
    "  def callback(self, study, trial):\n",
    "    if study.best_trial==trial:\n",
    "      print(f\"{study.best_trial.number} ({study.best_trial.values[0]:.3f})\", end=\" \", flush=True)\n",
    "      self.best_booster = self._booster\n",
    "      return\n",
    "    if trial.number%20==0:\n",
    "      print(f\"{trial.number}\", end=\" \", flush=True)\n",
    "\n",
    "  \n",
    "objective = LightGBM()\n",
    "print(f\"best trial ({prm['NTRIALS']}):\", end=\" \")\n",
    "study = optuna.create_study(pruner=optuna.pruners.MedianPruner(n_warmup_steps=10), \n",
    "                              sampler=optuna.samplers.TPESampler(seed=1234), direction=\"maximize\")\n",
    "study.optimize(objective, n_trials=prm[\"NTRIALS\"], callbacks=[objective.callback])"
   ]
  },
  {
   "cell_type": "code",
   "execution_count": 138,
   "metadata": {},
   "outputs": [
    {
     "data": {
      "text/html": [
       "<div>\n",
       "<style scoped>\n",
       "    .dataframe tbody tr th:only-of-type {\n",
       "        vertical-align: middle;\n",
       "    }\n",
       "\n",
       "    .dataframe tbody tr th {\n",
       "        vertical-align: top;\n",
       "    }\n",
       "\n",
       "    .dataframe thead th {\n",
       "        text-align: right;\n",
       "    }\n",
       "</style>\n",
       "<table border=\"1\" class=\"dataframe\">\n",
       "  <thead>\n",
       "    <tr style=\"text-align: right;\">\n",
       "      <th></th>\n",
       "      <th>bagging_fraction</th>\n",
       "      <th>bagging_freq</th>\n",
       "      <th>boosting_type</th>\n",
       "      <th>feature_fraction</th>\n",
       "      <th>lambda_l1</th>\n",
       "      <th>lambda_l2</th>\n",
       "      <th>learning_rate</th>\n",
       "      <th>min_data_in_leaf</th>\n",
       "      <th>num_leaves</th>\n",
       "      <th>value</th>\n",
       "      <th>duration</th>\n",
       "    </tr>\n",
       "  </thead>\n",
       "  <tbody>\n",
       "    <tr>\n",
       "      <th>14</th>\n",
       "      <td>0.8876</td>\n",
       "      <td>3</td>\n",
       "      <td>gbdt</td>\n",
       "      <td>0.5412</td>\n",
       "      <td>0.2799</td>\n",
       "      <td>0.7884</td>\n",
       "      <td>0.2299</td>\n",
       "      <td>58</td>\n",
       "      <td>19</td>\n",
       "      <td>0.8316</td>\n",
       "      <td>1.7113</td>\n",
       "    </tr>\n",
       "    <tr>\n",
       "      <th>16</th>\n",
       "      <td>0.8153</td>\n",
       "      <td>3</td>\n",
       "      <td>gbdt</td>\n",
       "      <td>0.4045</td>\n",
       "      <td>0.3054</td>\n",
       "      <td>0.6487</td>\n",
       "      <td>0.2936</td>\n",
       "      <td>60</td>\n",
       "      <td>21</td>\n",
       "      <td>0.8288</td>\n",
       "      <td>2.9213</td>\n",
       "    </tr>\n",
       "    <tr>\n",
       "      <th>15</th>\n",
       "      <td>0.8784</td>\n",
       "      <td>3</td>\n",
       "      <td>gbdt</td>\n",
       "      <td>0.3990</td>\n",
       "      <td>0.2883</td>\n",
       "      <td>0.6946</td>\n",
       "      <td>0.2957</td>\n",
       "      <td>59</td>\n",
       "      <td>20</td>\n",
       "      <td>0.8287</td>\n",
       "      <td>3.0234</td>\n",
       "    </tr>\n",
       "    <tr>\n",
       "      <th>...</th>\n",
       "      <td>...</td>\n",
       "      <td>...</td>\n",
       "      <td>...</td>\n",
       "      <td>...</td>\n",
       "      <td>...</td>\n",
       "      <td>...</td>\n",
       "      <td>...</td>\n",
       "      <td>...</td>\n",
       "      <td>...</td>\n",
       "      <td>...</td>\n",
       "      <td>...</td>\n",
       "    </tr>\n",
       "    <tr>\n",
       "      <th>2</th>\n",
       "      <td>0.6383</td>\n",
       "      <td>5</td>\n",
       "      <td>rf</td>\n",
       "      <td>0.4954</td>\n",
       "      <td>0.0702</td>\n",
       "      <td>0.5723</td>\n",
       "      <td>0.0346</td>\n",
       "      <td>97</td>\n",
       "      <td>17</td>\n",
       "      <td>0.7126</td>\n",
       "      <td>1.1619</td>\n",
       "    </tr>\n",
       "    <tr>\n",
       "      <th>4</th>\n",
       "      <td>0.4260</td>\n",
       "      <td>4</td>\n",
       "      <td>rf</td>\n",
       "      <td>0.4600</td>\n",
       "      <td>0.0036</td>\n",
       "      <td>0.5443</td>\n",
       "      <td>0.0123</td>\n",
       "      <td>80</td>\n",
       "      <td>24</td>\n",
       "      <td>0.6981</td>\n",
       "      <td>1.9441</td>\n",
       "    </tr>\n",
       "    <tr>\n",
       "      <th>3</th>\n",
       "      <td>0.5313</td>\n",
       "      <td>6</td>\n",
       "      <td>rf</td>\n",
       "      <td>0.5114</td>\n",
       "      <td>0.0203</td>\n",
       "      <td>2.1046</td>\n",
       "      <td>0.1922</td>\n",
       "      <td>85</td>\n",
       "      <td>11</td>\n",
       "      <td>0.6953</td>\n",
       "      <td>1.0099</td>\n",
       "    </tr>\n",
       "  </tbody>\n",
       "</table>\n",
       "<p>20 rows × 11 columns</p>\n",
       "</div>"
      ]
     },
     "metadata": {},
     "output_type": "display_data"
    },
    {
     "name": "stdout",
     "output_type": "stream",
     "text": [
      "  duration: 0.7min\n"
     ]
    },
    {
     "data": {
      "text/html": [
       "<div>\n",
       "<style scoped>\n",
       "    .dataframe tbody tr th:only-of-type {\n",
       "        vertical-align: middle;\n",
       "    }\n",
       "\n",
       "    .dataframe tbody tr th {\n",
       "        vertical-align: top;\n",
       "    }\n",
       "\n",
       "    .dataframe thead th {\n",
       "        text-align: right;\n",
       "    }\n",
       "</style>\n",
       "<table border=\"1\" class=\"dataframe\">\n",
       "  <thead>\n",
       "    <tr style=\"text-align: right;\">\n",
       "      <th></th>\n",
       "      <th>meanv</th>\n",
       "      <th>sdv</th>\n",
       "    </tr>\n",
       "    <tr>\n",
       "      <th>boosting_type</th>\n",
       "      <th></th>\n",
       "      <th></th>\n",
       "    </tr>\n",
       "  </thead>\n",
       "  <tbody>\n",
       "    <tr>\n",
       "      <th>gbdt</th>\n",
       "      <td>0.800110</td>\n",
       "      <td>0.039404</td>\n",
       "    </tr>\n",
       "    <tr>\n",
       "      <th>rf</th>\n",
       "      <td>0.716027</td>\n",
       "      <td>0.016772</td>\n",
       "    </tr>\n",
       "  </tbody>\n",
       "</table>\n",
       "</div>"
      ],
      "text/plain": [
       "                  meanv       sdv\n",
       "boosting_type                    \n",
       "gbdt           0.800110  0.039404\n",
       "rf             0.716027  0.016772"
      ]
     },
     "execution_count": 138,
     "metadata": {},
     "output_type": "execute_result"
    }
   ],
   "source": [
    "trials_df = study.trials_dataframe(attrs=(\"params\",\"user_attrs\",\"value\",\"duration\"))\n",
    "for y in [\"params\",\"user_attrs\"]:\n",
    "  trials_df.columns = [x[1+len(y):] if x.startswith(y) else x for x in trials_df.columns]\n",
    "trials_df[\"duration\"] = trials_df[\"duration\"].apply(lambda x:x.total_seconds())\n",
    "with pd.option_context(\"display.max_rows\",6, \"display.float_format\",\"{:.4f}\".format):\n",
    "  display_html(trials_df.sort_values(\"value\", ascending=False))\n",
    "print(f\"  duration: {trials_df['duration'].sum()/60:.1f}min\")\n",
    "\n",
    "trials_df.groupby(\"boosting_type\").agg(meanv=(\"value\",\"mean\"),sdv=(\"value\",\"std\"))"
   ]
  },
  {
   "cell_type": "code",
   "execution_count": 139,
   "metadata": {},
   "outputs": [
    {
     "data": {
      "text/html": [
       "<div>\n",
       "<style scoped>\n",
       "    .dataframe tbody tr th:only-of-type {\n",
       "        vertical-align: middle;\n",
       "    }\n",
       "\n",
       "    .dataframe tbody tr th {\n",
       "        vertical-align: top;\n",
       "    }\n",
       "\n",
       "    .dataframe thead th {\n",
       "        text-align: right;\n",
       "    }\n",
       "</style>\n",
       "<table border=\"1\" class=\"dataframe\">\n",
       "  <thead>\n",
       "    <tr style=\"text-align: right;\">\n",
       "      <th></th>\n",
       "      <th>bagging_fraction</th>\n",
       "      <th>bagging_freq</th>\n",
       "      <th>boosting_type</th>\n",
       "      <th>feature_fraction</th>\n",
       "      <th>lambda_l1</th>\n",
       "      <th>lambda_l2</th>\n",
       "      <th>learning_rate</th>\n",
       "      <th>min_data_in_leaf</th>\n",
       "      <th>num_leaves</th>\n",
       "      <th>value</th>\n",
       "      <th>duration</th>\n",
       "    </tr>\n",
       "  </thead>\n",
       "  <tbody>\n",
       "    <tr>\n",
       "      <th>14</th>\n",
       "      <td>0.8876</td>\n",
       "      <td>3</td>\n",
       "      <td>gbdt</td>\n",
       "      <td>0.5412</td>\n",
       "      <td>0.2799</td>\n",
       "      <td>0.7884</td>\n",
       "      <td>0.2299</td>\n",
       "      <td>58</td>\n",
       "      <td>19</td>\n",
       "      <td>0.8316</td>\n",
       "      <td>1.7113</td>\n",
       "    </tr>\n",
       "    <tr>\n",
       "      <th>16</th>\n",
       "      <td>0.8153</td>\n",
       "      <td>3</td>\n",
       "      <td>gbdt</td>\n",
       "      <td>0.4045</td>\n",
       "      <td>0.3054</td>\n",
       "      <td>0.6487</td>\n",
       "      <td>0.2936</td>\n",
       "      <td>60</td>\n",
       "      <td>21</td>\n",
       "      <td>0.8288</td>\n",
       "      <td>2.9213</td>\n",
       "    </tr>\n",
       "    <tr>\n",
       "      <th>15</th>\n",
       "      <td>0.8784</td>\n",
       "      <td>3</td>\n",
       "      <td>gbdt</td>\n",
       "      <td>0.3990</td>\n",
       "      <td>0.2883</td>\n",
       "      <td>0.6946</td>\n",
       "      <td>0.2957</td>\n",
       "      <td>59</td>\n",
       "      <td>20</td>\n",
       "      <td>0.8287</td>\n",
       "      <td>3.0234</td>\n",
       "    </tr>\n",
       "    <tr>\n",
       "      <th>10</th>\n",
       "      <td>0.9998</td>\n",
       "      <td>2</td>\n",
       "      <td>gbdt</td>\n",
       "      <td>0.5844</td>\n",
       "      <td>0.6521</td>\n",
       "      <td>0.7608</td>\n",
       "      <td>0.0860</td>\n",
       "      <td>52</td>\n",
       "      <td>17</td>\n",
       "      <td>0.8258</td>\n",
       "      <td>1.7178</td>\n",
       "    </tr>\n",
       "    <tr>\n",
       "      <th>17</th>\n",
       "      <td>0.8147</td>\n",
       "      <td>3</td>\n",
       "      <td>gbdt</td>\n",
       "      <td>0.4066</td>\n",
       "      <td>0.2149</td>\n",
       "      <td>0.9751</td>\n",
       "      <td>0.2409</td>\n",
       "      <td>58</td>\n",
       "      <td>21</td>\n",
       "      <td>0.8258</td>\n",
       "      <td>2.9295</td>\n",
       "    </tr>\n",
       "    <tr>\n",
       "      <th>...</th>\n",
       "      <td>...</td>\n",
       "      <td>...</td>\n",
       "      <td>...</td>\n",
       "      <td>...</td>\n",
       "      <td>...</td>\n",
       "      <td>...</td>\n",
       "      <td>...</td>\n",
       "      <td>...</td>\n",
       "      <td>...</td>\n",
       "      <td>...</td>\n",
       "      <td>...</td>\n",
       "    </tr>\n",
       "    <tr>\n",
       "      <th>0</th>\n",
       "      <td>0.5659</td>\n",
       "      <td>6</td>\n",
       "      <td>gbdt</td>\n",
       "      <td>0.3818</td>\n",
       "      <td>0.0735</td>\n",
       "      <td>1.0954</td>\n",
       "      <td>0.0192</td>\n",
       "      <td>89</td>\n",
       "      <td>27</td>\n",
       "      <td>0.7300</td>\n",
       "      <td>2.0412</td>\n",
       "    </tr>\n",
       "    <tr>\n",
       "      <th>9</th>\n",
       "      <td>0.7221</td>\n",
       "      <td>6</td>\n",
       "      <td>rf</td>\n",
       "      <td>0.4508</td>\n",
       "      <td>0.0507</td>\n",
       "      <td>1.2883</td>\n",
       "      <td>0.0168</td>\n",
       "      <td>74</td>\n",
       "      <td>31</td>\n",
       "      <td>0.7243</td>\n",
       "      <td>2.0561</td>\n",
       "    </tr>\n",
       "    <tr>\n",
       "      <th>2</th>\n",
       "      <td>0.6383</td>\n",
       "      <td>5</td>\n",
       "      <td>rf</td>\n",
       "      <td>0.4954</td>\n",
       "      <td>0.0702</td>\n",
       "      <td>0.5723</td>\n",
       "      <td>0.0346</td>\n",
       "      <td>97</td>\n",
       "      <td>17</td>\n",
       "      <td>0.7126</td>\n",
       "      <td>1.1619</td>\n",
       "    </tr>\n",
       "    <tr>\n",
       "      <th>4</th>\n",
       "      <td>0.4260</td>\n",
       "      <td>4</td>\n",
       "      <td>rf</td>\n",
       "      <td>0.4600</td>\n",
       "      <td>0.0036</td>\n",
       "      <td>0.5443</td>\n",
       "      <td>0.0123</td>\n",
       "      <td>80</td>\n",
       "      <td>24</td>\n",
       "      <td>0.6981</td>\n",
       "      <td>1.9441</td>\n",
       "    </tr>\n",
       "    <tr>\n",
       "      <th>3</th>\n",
       "      <td>0.5313</td>\n",
       "      <td>6</td>\n",
       "      <td>rf</td>\n",
       "      <td>0.5114</td>\n",
       "      <td>0.0203</td>\n",
       "      <td>2.1046</td>\n",
       "      <td>0.1922</td>\n",
       "      <td>85</td>\n",
       "      <td>11</td>\n",
       "      <td>0.6953</td>\n",
       "      <td>1.0099</td>\n",
       "    </tr>\n",
       "  </tbody>\n",
       "</table>\n",
       "<p>20 rows × 11 columns</p>\n",
       "</div>"
      ]
     },
     "metadata": {},
     "output_type": "display_data"
    }
   ],
   "source": [
    "with pd.option_context(\"display.max_rows\",10, \"display.float_format\",\"{:.4f}\".format):\n",
    "  display_html(trials_df.sort_values(\"value\", ascending=False))"
   ]
  },
  {
   "cell_type": "code",
   "execution_count": 140,
   "metadata": {},
   "outputs": [],
   "source": [
    "ind = np.argmax(trials_df[\"value\"].values)\n",
    "lgb_prm = study.trials[ind].params\n",
    "lgb_prm = {**lgb_prm, \n",
    "  **{\n",
    "    \"objective\": \"multiclass\",\n",
    "    \"metric\": None,\n",
    "    \"num_class\": 2,\n",
    "    \"force_row_wise\": True, \n",
    "    \"verbosity\": -1,\n",
    "    \"min_gain_to_split\": .5,\n",
    "  }\n",
    "}\n",
    "\n",
    "def f1_eval(preds, dtrain):\n",
    "  preds = preds.reshape(prm['NCLASS'],-1).T\n",
    "  f_score = f1_score(dtrain.get_label(),preds.argmax(axis=1),average=\"micro\")\n",
    "  return \"f1_score\",f_score,True\n",
    "\n",
    "wt = class_weight.compute_sample_weight(class_weight=\"balanced\", y=y_train)\n",
    "dtrain = lgb.Dataset(X_train, y_train, weight=wt)\n",
    "#early_stop = lgb.early_stopping(20, first_metric_only=False, verbose=True)\n",
    "model = lgb.train(lgb_prm, dtrain, feval=f1_eval,\n",
    "                      num_boost_round=prm[\"NBOOST\"])\n",
    "\n",
    "del ind, lgb_prm, wt"
   ]
  },
  {
   "cell_type": "markdown",
   "metadata": {},
   "source": [
    "Metrics on Hold-Out Test Set"
   ]
  },
  {
   "cell_type": "code",
   "execution_count": 141,
   "metadata": {},
   "outputs": [
    {
     "name": "stdout",
     "output_type": "stream",
     "text": [
      "(144,) (144,)\n"
     ]
    }
   ],
   "source": [
    "y_hat = model.predict(X_test)\n",
    "y_hat = np.array([val[1] for val in y_hat])\n",
    "print(y_hat.shape, y_test.shape)\n",
    "scores_df = pd.DataFrame({'label':list(y_test),'score':list(y_hat)})"
   ]
  },
  {
   "cell_type": "code",
   "execution_count": 142,
   "metadata": {},
   "outputs": [],
   "source": [
    "blm = BinaryLabelMetrics()\n",
    "blm.add_model('binary_gbm', scores_df)"
   ]
  },
  {
   "cell_type": "code",
   "execution_count": 143,
   "metadata": {},
   "outputs": [
    {
     "data": {
      "image/png": "[encoded data removed]",
      "text/plain": [
       "<Figure size 864x432 with 1 Axes>"
      ]
     },
     "metadata": {
      "needs_background": "light"
     },
     "output_type": "display_data"
    },
    {
     "data": {
      "image/png": "[encoded data removed]",
      "text/plain": [
       "<Figure size 864x432 with 1 Axes>"
      ]
     },
     "metadata": {
      "needs_background": "light"
     },
     "output_type": "display_data"
    },
    {
     "data": {
      "image/png": "[encoded data removed]",
      "text/plain": [
       "<Figure size 864x432 with 1 Axes>"
      ]
     },
     "metadata": {
      "needs_background": "light"
     },
     "output_type": "display_data"
    },
    {
     "data": {
      "image/png": "[encoded data removed]",
      "text/plain": [
       "<Figure size 1008x432 with 1 Axes>"
      ]
     },
     "metadata": {
      "needs_background": "light"
     },
     "output_type": "display_data"
    },
    {
     "name": "stdout",
     "output_type": "stream",
     "text": [
      "correct pred pos [0, 0, 0, 0, 0, 0, 0, 0, 0, 0, -4, -2, -5, -5, -6, -8, -4, -11, -19, -9]\n",
      "incorrect pred pos [0 0 0 0 0 0 0 0 0 0 1 1 2 3 0 3 0 0 1 1]\n",
      "correct pred neg [13  2  6 12  2  0  1  3  3  0  0  0  0  0  0  0  0  0  0  0]\n",
      "incorrect pred neg [0, 0, -2, -1, -4, -1, -2, -2, -1, -4, 0, 0, 0, 0, 0, 0, 0, 0, 0, 0]\n"
     ]
    },
    {
     "data": {
      "image/png": "[encoded data removed]",
      "text/plain": [
       "<Figure size 1008x432 with 1 Axes>"
      ]
     },
     "metadata": {
      "needs_background": "light"
     },
     "output_type": "display_data"
    }
   ],
   "source": [
    "blm.plot()"
   ]
  },
  {
   "cell_type": "code",
   "execution_count": 144,
   "metadata": {},
   "outputs": [
    {
     "data": {
      "image/png": "[encoded data removed]",
      "text/plain": [
       "<Figure size 576x576 with 1 Axes>"
      ]
     },
     "metadata": {
      "needs_background": "light"
     },
     "output_type": "display_data"
    },
    {
     "data": {
      "image/png": "[encoded data removed]",
      "text/plain": [
       "<Figure size 576x576 with 1 Axes>"
      ]
     },
     "metadata": {
      "needs_background": "light"
     },
     "output_type": "display_data"
    }
   ],
   "source": [
    "blm.plot_roc()\n"
   ]
  },
  {
   "cell_type": "code",
   "execution_count": 145,
   "metadata": {},
   "outputs": [],
   "source": [
    "import math\n",
    "l = blm._f1[0]\n",
    "l = [x for x in l if math.isnan(x) == False]\n",
    "original = ['original',blm._auc,blm._prrec,max(l)]"
   ]
  },
  {
   "cell_type": "markdown",
   "metadata": {},
   "source": [
    "Feature Importances"
   ]
  },
  {
   "cell_type": "code",
   "execution_count": 146,
   "metadata": {},
   "outputs": [],
   "source": [
    "def shuffle(var, df):\n",
    "    if var == 'cellType':\n",
    "        cols = test.columns.tolist()\n",
    "        ct_cols = [c for c in cols if 'ct' in c]\n",
    "        new_df = df.copy(deep=True)\n",
    "        for col in ct_cols:\n",
    "            new_df[col] = new_df[col].sample(frac=1).values\n",
    "        return new_df\n",
    "    elif var == 'e3':\n",
    "        cols = test.columns.tolist()\n",
    "        ct_cols = [c for c in cols if 'e3' in c]\n",
    "        new_df = df.copy(deep=True)\n",
    "        for col in ct_cols:\n",
    "            new_df[col] = new_df[col].sample(frac=1).values\n",
    "        return new_df\n",
    "    elif var == 'ligand':\n",
    "        cols = test.columns.tolist()\n",
    "        ct_cols = [c for c in cols if 'sm' in c]\n",
    "        new_df = df.copy(deep=True)\n",
    "        for col in ct_cols:\n",
    "            new_df[col] = new_df[col].sample(frac=1).values\n",
    "        return new_df\n",
    "    elif var == 'receptor':\n",
    "        cols = test.columns.tolist()\n",
    "        ct_cols = [c for c in cols if (len(c)==2 or len(c)==3) and 'sm' not in c]\n",
    "        new_df = df.copy(deep=True)\n",
    "        for col in ct_cols:\n",
    "            new_df[col] = new_df[col].sample(frac=1).values\n",
    "        return new_df"
   ]
  },
  {
   "cell_type": "code",
   "execution_count": 147,
   "metadata": {},
   "outputs": [
    {
     "name": "stdout",
     "output_type": "stream",
     "text": [
      "(144,) (144,)\n",
      "(144,) (144,)\n",
      "(144,) (144,)\n",
      "(144,) (144,)\n"
     ]
    }
   ],
   "source": [
    "import math\n",
    "metrics = [['shuffled_var','auc','pr_rec','f1']]\n",
    "for var in ['cellType','e3','ligand','receptor']:\n",
    "    new_df = shuffle(var, test)\n",
    "    X_test = new_df.drop([\"resp_categorical\",\"resp\",\"Smiles\"], axis=1).values\n",
    "    y_hat = model.predict(X_test)\n",
    "    y_hat = np.array([val[1] for val in y_hat])\n",
    "    print(y_hat.shape, y_test.shape)\n",
    "    scores_df = pd.DataFrame({'label':list(y_test),'score':list(y_hat)})\n",
    "    blm = BinaryLabelMetrics()\n",
    "    blm.add_model('binary_gbm', scores_df)\n",
    "    lst = blm._f1[0]\n",
    "    newlist = [x for x in lst if math.isnan(x) == False]\n",
    "    metrics.append([var, blm._auc, blm._prrec,max(newlist)])\n",
    "metrics.append(original)"
   ]
  },
  {
   "cell_type": "code",
   "execution_count": 148,
   "metadata": {},
   "outputs": [
    {
     "data": {
      "text/plain": [
       "[['shuffled_var', 'auc', 'pr_rec', 'f1'],\n",
       " ['cellType', [0.8766460905349794], [0.8962226813923659], 0.8787878787878788],\n",
       " ['e3', [0.8775720164609053], [0.8963702921587283], 0.8743718592964823],\n",
       " ['ligand', [0.7294238683127572], [0.8085685948706341], 0.8148148148148148],\n",
       " ['receptor', [0.7150205761316872], [0.8115036868560717], 0.7713004484304933],\n",
       " ['original', [0.8766460905349794], [0.8962226813923659], 0.8787878787878788]]"
      ]
     },
     "execution_count": 148,
     "metadata": {},
     "output_type": "execute_result"
    }
   ],
   "source": [
    "metrics"
   ]
  }
 ],
 "metadata": {
  "kernelspec": {
   "display_name": "Python 3.9.12 ('my-rdkit-env')",
   "language": "python",
   "name": "python3"
  },
  "language_info": {
   "codemirror_mode": {
    "name": "ipython",
    "version": 3
   },
   "file_extension": ".py",
   "mimetype": "text/x-python",
   "name": "python",
   "nbconvert_exporter": "python",
   "pygments_lexer": "ipython3",
   "version": "3.9.12"
  },
  "orig_nbformat": 4,
  "vscode": {
   "interpreter": {
    "hash": "ca09fa392acf7f4c9c27d29d2d1f288bcf246ad350262c369089ab5d60981f3e"
   }
  }
 },
 "nbformat": 4,
 "nbformat_minor": 2
}
