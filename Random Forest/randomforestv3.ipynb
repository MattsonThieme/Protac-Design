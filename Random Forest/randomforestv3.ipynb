{
 "cells": [
  {
   "cell_type": "code",
   "execution_count": 159,
   "id": "596cf43d",
   "metadata": {},
   "outputs": [],
   "source": [
    "from IPython.core.interactiveshell import InteractiveShell\n",
    "InteractiveShell.ast_node_interactivity = \"all\""
   ]
  },
  {
   "cell_type": "code",
   "execution_count": 160,
   "id": "b88592db",
   "metadata": {},
   "outputs": [],
   "source": [
    "import numpy as np\n",
    "import pandas as pd\n",
    "pd.set_option(\"display.max_columns\",100, \"display.width\",2000, \"display.max_colwidth\",100)\n",
    "\n",
    "from rdkit import Chem\n",
    "from rdkit.Chem import AllChem, DataStructs\n",
    "\n",
    "from sklearn.ensemble import RandomForestClassifier\n",
    "from sklearn.metrics import average_precision_score, roc_auc_score\n",
    "from sklearn.model_selection import train_test_split\n",
    "import re"
   ]
  },
  {
   "cell_type": "markdown",
   "id": "4b9825c6",
   "metadata": {},
   "source": [
    "#### Read Data"
   ]
  },
  {
   "cell_type": "code",
   "execution_count": 161,
   "id": "0a5d5b6e",
   "metadata": {},
   "outputs": [
    {
     "name": "stdout",
     "output_type": "stream",
     "text": [
      "input_df: 3,939 x 84 (input df) \n",
      "\n",
      "Counts of distinct values in columns\n",
      "col:Target  (#unique:289)\n",
      "         0     1     2    3     4    5    6        7     8     9       10    11    12     13     14    15          16                17   18    19\n",
      "Target   ER  BRD4  CDK4   AR  CDK6  BTK  ALK  BCR-ABL  BRD3  BRD2  BCL-xL  MEK1  CDK2  PARP1  HDAC6  BRD9  BRAF V600E  EGFR L858R/T790M  FAK  CDK9\n",
      "size    182   164   143  141   139  106   97       96    77    77      77    76    70     63     60    53          53                52   52    52 \n",
      "\n",
      "col:E3ligase  (#unique:12)\n",
      "            0     1      2     3     4    5    6       7       8       9       10    11\n",
      "E3ligase  CRBN   VHL  cIAP1  XIAP  MDM2  AhR  IAP  DCAF15  DCAF16  RNF114  DCAF11  RNF4\n",
      "size      2571  1152    122    34    30    9    5       4       4       4       3     1 \n",
      "\n"
     ]
    }
   ],
   "source": [
    "input_df = pd.read_csv(\"protac.csv\")\n",
    "input_df = input_df.rename(columns={\"E3 ligase\":\"E3ligase\"})\n",
    "print(\"input_df: {:,} x {:,}\".format(*input_df.shape), \"(input df) \\n\")\n",
    "\n",
    "print(\"Counts of distinct values in columns\")\n",
    "for x in [\"Target\",\"E3ligase\"]:\n",
    "  tmp = input_df.groupby(x, as_index=False).size().sort_values(\"size\", ascending=False, ignore_index=True)\n",
    "  print(f\"col:{x}  (#unique:{tmp.shape[0]:,})\")\n",
    "  print(tmp.head(20).T, \"\\n\")\n",
    "\n",
    "del tmp"
   ]
  },
  {
   "cell_type": "code",
   "execution_count": 207,
   "id": "48b5c73d",
   "metadata": {},
   "outputs": [
    {
     "name": "stdout",
     "output_type": "stream",
     "text": [
      "Number of Rows with explicit DC50: 638\n",
      "Number of Rows with percent degradation: 207\n",
      "input_df: 638 x 84 (input df) \n",
      "\n"
     ]
    }
   ],
   "source": [
    "print('Number of Rows with explicit DC50: ' + str((input_df.shape[0] - input_df['DC50 (nM)'].isna().sum())))\n",
    "print('Number of Rows with percent degradation: ' + str((input_df.shape[0] - input_df[\"Percent degradation (%)\"].isna().sum())))\n",
    "#input_df = input_df.dropna(subset=['DC50 (nM)',\"Percent degradation (%)\"],how='all')\n",
    "input_df = input_df.dropna(subset=['DC50 (nM)'])\n",
    "print(\"input_df: {:,} x {:,}\".format(*input_df.shape), \"(input df) \\n\")"
   ]
  },
  {
   "cell_type": "markdown",
   "id": "ed3e905d",
   "metadata": {},
   "source": [
    "#### Features"
   ]
  },
  {
   "cell_type": "markdown",
   "id": "2a167158",
   "metadata": {},
   "source": [
    "Target and E3Ligase"
   ]
  },
  {
   "cell_type": "code",
   "execution_count": 208,
   "id": "9c036aaf",
   "metadata": {},
   "outputs": [
    {
     "name": "stdout",
     "output_type": "stream",
     "text": [
      "model_df: 638 x 91 (target and E3ligase OHE features)\n"
     ]
    }
   ],
   "source": [
    "model_df = pd.concat([\n",
    "    pd.get_dummies(input_df[\"Target\"], prefix=\"tgt\"),\n",
    "    pd.get_dummies(input_df[\"E3ligase\"], prefix=\"e3\")\n",
    "  ], axis=1).reset_index(drop=True)\n",
    "\n",
    "print(\"model_df: {:,} x {:,}\".format(*model_df.shape), \"(target and E3ligase OHE features)\")"
   ]
  },
  {
   "cell_type": "markdown",
   "id": "8f4535a3",
   "metadata": {},
   "source": [
    "Molecular Fingerprint"
   ]
  },
  {
   "cell_type": "code",
   "execution_count": 209,
   "id": "dbe1b8b3",
   "metadata": {},
   "outputs": [
    {
     "name": "stdout",
     "output_type": "stream",
     "text": [
      "model_df: 638 x 91\n",
      "smiles_df: 638 x 256\n",
      "model_df: 638 x 347 (added smiles features)\n"
     ]
    }
   ],
   "source": [
    "bits = 256\n",
    "\n",
    "def get_morgan_fp(smiles:str, nbits:int=bits):\n",
    "  m = Chem.MolFromSmiles(smiles)\n",
    "  fingerprint = AllChem.GetMorganFingerprintAsBitVect(m, 2, nBits=nbits)\n",
    "  array = np.zeros((0,), dtype=np.int8)\n",
    "  DataStructs.ConvertToNumpyArray(fingerprint, array)\n",
    "  return array\n",
    "\n",
    "smiles = [get_morgan_fp(x).tolist() for x in input_df[\"Smiles\"]]\n",
    "smiles_df = pd.DataFrame(smiles, columns=[\"sm\"+str(n) for n in range(1,bits+1)])\n",
    "print(\"model_df: {:,} x {:,}\".format(*model_df.shape))\n",
    "\n",
    "#assert model_df.columns == smiles_df.columns\n",
    "\n",
    "model_df = pd.concat([model_df,smiles_df],axis=1)\n",
    "print(\"smiles_df: {:,} x {:,}\".format(*smiles_df.shape))\n",
    "print(\"model_df: {:,} x {:,}\".format(*model_df.shape), \"(added smiles features)\")\n",
    "\n",
    "del smiles, smiles_df"
   ]
  },
  {
   "cell_type": "markdown",
   "id": "bc45f69c",
   "metadata": {},
   "source": [
    "Cell Type"
   ]
  },
  {
   "cell_type": "code",
   "execution_count": 210,
   "id": "b0519b0d",
   "metadata": {},
   "outputs": [
    {
     "name": "stdout",
     "output_type": "stream",
     "text": [
      "Cell Types: {'platelets', 'Kelly', 'germ', 'I', 'D', 'DB', 'MM', 'Mino', 'Unknown', 'hPBMC', 'PBMC', 'Jurkat', 'SR', 'VCaP', 'RKO', 't', 'HEL', 'HeLa', 'XLA', 'T', 'Ramos', 'NAMALWA', 'LNCaP', 'S'}\n",
      "\n",
      "model_df: 638 x 348 (added cell type feature)\n"
     ]
    }
   ],
   "source": [
    "#adding cell type feature\n",
    "\n",
    "#need help here - not all cell types being added. for ex - rows 295 to 303\n",
    "\n",
    "celltypes = []\n",
    "for i in range(input_df.shape[0]):\n",
    "    row = str(input_df.iloc[i].to_list())\n",
    "    cell = re.findall('([a-zA-Z]+) cells', row) \n",
    "    if len(cell)==0:\n",
    "        celltypes.append('Unknown')\n",
    "    else:\n",
    "        celltypes.append(cell[0])\n",
    "\n",
    "print('Cell Types: ' + str(set(celltypes)))  \n",
    "model_df['Cell Type'] = celltypes\n",
    "print(\"\\nmodel_df: {:,} x {:,}\".format(*model_df.shape), \"(added cell type feature)\")"
   ]
  },
  {
   "cell_type": "markdown",
   "id": "589c8ae2",
   "metadata": {},
   "source": [
    "#### Response Variable (Binary)"
   ]
  },
  {
   "cell_type": "code",
   "execution_count": 206,
   "id": "e556a08f",
   "metadata": {},
   "outputs": [],
   "source": [
    "# dfstr = input_df.select_dtypes(include=[object])\n",
    "# rows = dfstr.apply(lambda x: x.str.contains(\"degradation\",case=False)).any(axis=1)\n",
    "# model_df.insert(0, \"resp\", rows.values.astype(int))\n",
    "\n",
    "# print(\"model_df: {:,} x {:,}\".format(*model_df.shape), \"(added response variable)\")\n",
    "# del dfstr, rows"
   ]
  },
  {
   "cell_type": "markdown",
   "id": "51e5d1d8",
   "metadata": {},
   "source": [
    "#### Response Variable (DC50)"
   ]
  },
  {
   "cell_type": "code",
   "execution_count": null,
   "id": "d979797f",
   "metadata": {},
   "outputs": [],
   "source": [
    "#split by cell type (need cell type to work first)"
   ]
  },
  {
   "cell_type": "markdown",
   "id": "7456381b",
   "metadata": {},
   "source": [
    "#### Model Matrices"
   ]
  },
  {
   "cell_type": "code",
   "execution_count": null,
   "id": "3be97e10",
   "metadata": {},
   "outputs": [
    {
     "name": "stdout",
     "output_type": "stream",
     "text": [
      "nfeatures: 557\n",
      "X_train: 3,151 x 557    %pos:20.88%\n",
      "X_test: 788 x 557    %pos:20.94%\n"
     ]
    }
   ],
   "source": [
    "train,test = train_test_split(model_df, random_state=1, test_size=.2)\n",
    "\n",
    "features = train.columns.tolist()[1:]  #dropping \"resp\"\n",
    "print(f\"nfeatures: {len(features):,}\")\n",
    "\n",
    "X_train = train.drop(\"resp\", axis=1).values\n",
    "y_train = train[\"resp\"].values\n",
    "print(\"X_train: {:,} x {:,}\".format(*X_train.shape),  f\"   %pos:{y_train.sum()/y_train.shape[0]:.2%}\")\n",
    "\n",
    "X_test = test.drop(\"resp\", axis=1).values\n",
    "y_test = test[\"resp\"].values\n",
    "print(\"X_test: {:,} x {:,}\".format(*X_test.shape), f\"   %pos:{y_test.sum()/y_test.shape[0]:.2%}\")\n",
    "\n",
    "del train, test"
   ]
  },
  {
   "cell_type": "code",
   "execution_count": null,
   "id": "720a513f",
   "metadata": {},
   "outputs": [],
   "source": [
    "def eval_binary_classifier(clf):\n",
    "  y_train_pred = clf.predict(X_train)\n",
    "  y_test_pred = clf.predict(X_test)\n",
    "\n",
    "  stats = [\n",
    "    [\"train\",roc_auc_score(y_train,y_train_pred), average_precision_score(y_train,y_train_pred)],\n",
    "    [\"test\",roc_auc_score(y_test,y_test_pred), average_precision_score(y_test,y_test_pred)]\n",
    "  ]\n",
    "  \n",
    "  with pd.option_context(\"display.float_format\", \"{:,.2%}\".format):\n",
    "    print(pd.DataFrame(stats, columns=[\"\",\"AUC\",\"AP\"]))"
   ]
  },
  {
   "cell_type": "markdown",
   "id": "8e63fd8d",
   "metadata": {},
   "source": [
    "#### Model: RandomForest\n",
    "```\n",
    "min_samples_leaf  minimum number of samples required to be at a leaf node (incrementing to reduce overfitting)\n",
    "```"
   ]
  },
  {
   "cell_type": "code",
   "execution_count": null,
   "id": "ee563a63",
   "metadata": {},
   "outputs": [
    {
     "name": "stdout",
     "output_type": "stream",
     "text": [
      "min_samples_leaf:10\n",
      "            AUC     AP\n",
      "0  train 77.01% 61.70%\n",
      "1   test 70.81% 51.65%\n",
      "\n",
      "min_samples_leaf:5\n",
      "            AUC     AP\n",
      "0  train 84.71% 72.38%\n",
      "1   test 77.08% 59.56%\n",
      "\n",
      "min_samples_leaf:2\n",
      "            AUC     AP\n",
      "0  train 90.53% 81.75%\n",
      "1   test 80.23% 62.37%\n",
      "\n"
     ]
    }
   ],
   "source": [
    "for msl in [10,5,2]:\n",
    "  print(f\"min_samples_leaf:{msl}\")\n",
    "  clf = RandomForestClassifier(random_state=10, n_estimators=50, min_samples_leaf=msl).fit(X_train,y_train)\n",
    "  eval_binary_classifier(clf); print()\n",
    "  \n",
    "del clf, msl"
   ]
  }
 ],
 "metadata": {
  "interpreter": {
   "hash": "ca09fa392acf7f4c9c27d29d2d1f288bcf246ad350262c369089ab5d60981f3e"
  },
  "kernelspec": {
   "display_name": "py397ml",
   "language": "python",
   "name": "python3"
  },
  "language_info": {
   "codemirror_mode": {
    "name": "ipython",
    "version": 3
   },
   "file_extension": ".py",
   "mimetype": "text/x-python",
   "name": "python",
   "nbconvert_exporter": "python",
   "pygments_lexer": "ipython3",
   "version": "3.9.10"
  }
 },
 "nbformat": 4,
 "nbformat_minor": 5
}
